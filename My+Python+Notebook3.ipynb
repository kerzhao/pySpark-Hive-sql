{
 "cells": [
  {
   "cell_type": "code",
   "execution_count": 1,
   "metadata": {
    "collapsed": false
   },
   "outputs": [
    {
     "data": {
      "text/plain": [
       "<pyspark.context.SparkContext at 0x7f1ecaa15dd0>"
      ]
     },
     "execution_count": 1,
     "metadata": {},
     "output_type": "execute_result"
    }
   ],
   "source": [
    "sc"
   ]
  },
  {
   "cell_type": "code",
   "execution_count": 2,
   "metadata": {
    "collapsed": true
   },
   "outputs": [],
   "source": [
    "from pyspark import SparkConf\n",
    "from pyspark import SparkContext\n",
    "from pyspark.sql import SQLContext\n",
    "import time\n",
    "import sys\n",
    "from generator_images import captcha_generator as gen\n",
    "import matplotlib.pyplot as plt"
   ]
  },
  {
   "cell_type": "code",
   "execution_count": 3,
   "metadata": {
    "collapsed": true
   },
   "outputs": [],
   "source": [
    "chars = \"0123456789ABCDEFGHIJKLMNOPQRSTUVWXYZabdefghijlmnqrtuwxy\"\n",
    "width, height, n_len, n_class = 140, 44, 6, len(chars)    "
   ]
  },
  {
   "cell_type": "code",
   "execution_count": 5,
   "metadata": {
    "collapsed": false
   },
   "outputs": [
    {
     "name": "stdout",
     "output_type": "stream",
     "text": [
      "+--------+--------------------+-------------+\n",
      "|col_name|           data_type|      comment|\n",
      "+--------+--------------------+-------------+\n",
      "|      id|                 int| id of images|\n",
      "|     mat|array<array<array...|array of list|\n",
      "+--------+--------------------+-------------+\n",
      "\n"
     ]
    }
   ],
   "source": [
    "sqlContext.sql(\"CREATE EXTERNAL TABLE images6 (id INT COMMENT 'id of images', mat ARRAY<ARRAY<ARRAY<ARRAY<BIGINT>>>> \\\n",
    "COMMENT 'array of list') COMMENT \\\n",
    "'This is used to store images' ROW FORMAT DELIMITED \\\n",
    "FIELDS TERMINATED BY '\\t' STORED AS TEXTFILE LOCATION 'hdfs://master:9000/user/hive/images6'\")\n",
    "sqlContext.sql(\"DESCRIBE TABLE images5\").show()"
   ]
  },
  {
   "cell_type": "code",
   "execution_count": 6,
   "metadata": {
    "collapsed": false
   },
   "outputs": [
    {
     "name": "stdout",
     "output_type": "stream",
     "text": [
      "--------------------------1----------------------------\n",
      "the total time is 17.2170410156\n",
      "the average time is 0.269016265869\n",
      "--------------------------2----------------------------\n",
      "the total time is 22.7795240879\n",
      "the average time is 0.177965031937\n",
      "--------------------------3----------------------------\n",
      "the total time is 28.1341161728\n",
      "the average time is 0.146531855067\n",
      "--------------------------4----------------------------\n",
      "the total time is 33.0543091297\n",
      "the average time is 0.129118395038\n",
      "--------------------------5----------------------------\n",
      "the total time is 38.0547192097\n",
      "the average time is 0.11892099753\n",
      "--------------------------6----------------------------\n",
      "the total time is 44.0207960606\n",
      "the average time is 0.114637489741\n",
      "--------------------------7----------------------------\n",
      "the total time is 49.511439085\n",
      "the average time is 0.1105166051\n",
      "--------------------------8----------------------------\n",
      "the total time is 55.1986200809\n",
      "the average time is 0.107809804846\n",
      "--------------------------9----------------------------\n",
      "the total time is 61.3466601372\n",
      "the average time is 0.106504618294\n",
      "--------------------------10----------------------------\n",
      "the total time is 67.8633961678\n",
      "the average time is 0.106036556512\n"
     ]
    }
   ],
   "source": [
    "start_time = time.time()\n",
    "num = 0\n",
    "image = gen(width=width, height=height)\n",
    "while num < 10:\n",
    "    X, y = image.next()\n",
    "    newimage = sqlContext.createDataFrame([(num, X.tolist())], ['id', 'mat'])\n",
    "    newimage.write.mode('append').insertInto('images5')\n",
    "    num += 1\n",
    "    end_time = time.time()\n",
    "    print '--------------------------%d----------------------------'%num\n",
    "    print 'the total time is', end_time - start_time\n",
    "    print 'the average time is', (end_time - start_time)/64.0 /num"
   ]
  },
  {
   "cell_type": "code",
   "execution_count": null,
   "metadata": {
    "collapsed": true
   },
   "outputs": [],
   "source": []
  }
 ],
 "metadata": {
  "kernelspec": {
   "display_name": "Python 2",
   "language": "python",
   "name": "python2"
  }
 },
 "nbformat": 4,
 "nbformat_minor": 2
}
