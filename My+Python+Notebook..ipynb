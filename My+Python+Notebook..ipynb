{
 "cells": [
  {
   "cell_type": "code",
   "execution_count": 1,
   "metadata": {
    "collapsed": false
   },
   "outputs": [
    {
     "name": "stdout",
     "output_type": "stream",
     "text": [
      "Starting Spark application\n"
     ]
    },
    {
     "data": {
      "text/html": [
       "<table>\n",
       "<tr><th>ID</th><th>YARN Application ID</th><th>Kind</th><th>State</th><th>Spark UI</th><th>Driver log</th><th>Current session?</th></tr><tr><td>0</td><td>application_1481543399241_0005</td><td>pyspark</td><td>idle</td><td><a target=\"_blank\" href=\"http://hn1-mysia.4q0vnhdvcavehkveh1r0ceg34e.cx.internal.cloudapp.net:8088/proxy/application_1481543399241_0005/\">Link</a></td><td><a target=\"_blank\" href=\"http://10.0.0.11:30060/node/containerlogs/container_1481543399241_0005_01_000001/livy\">Link</a></td><td>✔</td></tr></table>"
      ],
      "text/plain": [
       "<IPython.core.display.HTML object>"
      ]
     },
     "metadata": {},
     "output_type": "display_data"
    },
    {
     "name": "stdout",
     "output_type": "stream",
     "text": [
      "SparkContext available as 'sc'.\n",
      "HiveContext available as 'sqlContext'.\n",
      "u'The Project Gutenberg EBook of Ulysses, by James Joyce'"
     ]
    }
   ],
   "source": [
    "txt = sc.textFile('wasb:///example/data/gutenberg/ulysses.txt')\n",
    "txt.first()"
   ]
  },
  {
   "cell_type": "code",
   "execution_count": 2,
   "metadata": {
    "collapsed": false
   },
   "outputs": [
    {
     "name": "stdout",
     "output_type": "stream",
     "text": [
      "33055"
     ]
    }
   ],
   "source": [
    "txt.count()"
   ]
  },
  {
   "cell_type": "code",
   "execution_count": 1,
   "metadata": {
    "collapsed": false
   },
   "outputs": [
    {
     "data": {
      "text/plain": [
       "<pyspark.context.SparkContext at 0x7f38b3c88dd0>"
      ]
     },
     "execution_count": 1,
     "metadata": {},
     "output_type": "execute_result"
    }
   ],
   "source": [
    "sc"
   ]
  },
  {
   "cell_type": "code",
   "execution_count": 2,
   "metadata": {
    "collapsed": true
   },
   "outputs": [],
   "source": [
    "from pyspark.sql import HiveContext\n",
    "from pyspark.sql.types import *\n",
    "from pyspark.sql import Row"
   ]
  },
  {
   "cell_type": "code",
   "execution_count": 3,
   "metadata": {
    "collapsed": false
   },
   "outputs": [],
   "source": [
    "csv_data = sc.textFile(\"file:///home/ubuntu/gtest/dist-keras/examples/data/atlas_higgs.csv\")"
   ]
  },
  {
   "cell_type": "code",
   "execution_count": 4,
   "metadata": {
    "collapsed": false
   },
   "outputs": [
    {
     "data": {
      "text/plain": [
       "pyspark.rdd.RDD"
      ]
     },
     "execution_count": 4,
     "metadata": {},
     "output_type": "execute_result"
    }
   ],
   "source": [
    "type(csv_data)"
   ]
  },
  {
   "cell_type": "code",
   "execution_count": 5,
   "metadata": {
    "collapsed": false
   },
   "outputs": [],
   "source": [
    "csv_data  = csv_data.map(lambda p: p.split(\",\"))"
   ]
  },
  {
   "cell_type": "code",
   "execution_count": 6,
   "metadata": {
    "collapsed": true
   },
   "outputs": [],
   "source": [
    "header = csv_data.first()"
   ]
  },
  {
   "cell_type": "code",
   "execution_count": 7,
   "metadata": {
    "collapsed": false
   },
   "outputs": [],
   "source": [
    "csv_data = csv_data.filter(lambda p:p != header)"
   ]
  },
  {
   "cell_type": "code",
   "execution_count": 8,
   "metadata": {
    "collapsed": true
   },
   "outputs": [],
   "source": [
    "df_csv = csv_data.map(lambda p: Row(EmployeeID = int(p[0]), FirstName = p[1], Title=p[2], State=p[3], Laptop=p[4])).toDF()"
   ]
  },
  {
   "cell_type": "code",
   "execution_count": 9,
   "metadata": {
    "collapsed": false
   },
   "outputs": [
    {
     "data": {
      "text/plain": [
       "pyspark.sql.dataframe.DataFrame"
      ]
     },
     "execution_count": 9,
     "metadata": {},
     "output_type": "execute_result"
    }
   ],
   "source": [
    "type(df_csv)"
   ]
  },
  {
   "cell_type": "code",
   "execution_count": 10,
   "metadata": {
    "collapsed": false
   },
   "outputs": [
    {
     "name": "stdout",
     "output_type": "stream",
     "text": [
      "+----------+---------+------+-------+-------+\n",
      "|EmployeeID|FirstName|Laptop|  State|  Title|\n",
      "+----------+---------+------+-------+-------+\n",
      "|    100000|   138.47| 27.98| 97.827| 51.655|\n",
      "|    100001|  160.937|48.146|103.235| 68.768|\n",
      "|    100002|   -999.0|35.635|125.953|162.172|\n",
      "|    100003|  143.905| 0.414| 80.943| 81.417|\n",
      "|    100004|  175.864|16.405|134.805| 16.915|\n",
      "+----------+---------+------+-------+-------+\n",
      "only showing top 5 rows\n",
      "\n"
     ]
    }
   ],
   "source": [
    "df_csv.show(5)"
   ]
  },
  {
   "cell_type": "code",
   "execution_count": 11,
   "metadata": {
    "collapsed": false
   },
   "outputs": [
    {
     "name": "stdout",
     "output_type": "stream",
     "text": [
      "root\n",
      " |-- EmployeeID: long (nullable = true)\n",
      " |-- FirstName: string (nullable = true)\n",
      " |-- Laptop: string (nullable = true)\n",
      " |-- State: string (nullable = true)\n",
      " |-- Title: string (nullable = true)\n",
      "\n"
     ]
    }
   ],
   "source": [
    "df_csv.printSchema()"
   ]
  },
  {
   "cell_type": "code",
   "execution_count": 12,
   "metadata": {
    "collapsed": true
   },
   "outputs": [],
   "source": [
    "from pyspark.sql import HiveContext"
   ]
  },
  {
   "cell_type": "code",
   "execution_count": 13,
   "metadata": {
    "collapsed": true
   },
   "outputs": [],
   "source": [
    "hc = HiveContext(sc)"
   ]
  },
  {
   "cell_type": "code",
   "execution_count": 14,
   "metadata": {
    "collapsed": false
   },
   "outputs": [
    {
     "name": "stdout",
     "output_type": "stream",
     "text": [
      "Automatic pdb calling has been turned ON\n"
     ]
    }
   ],
   "source": [
    "%pdb"
   ]
  },
  {
   "cell_type": "code",
   "execution_count": 15,
   "metadata": {
    "collapsed": false
   },
   "outputs": [
    {
     "data": {
      "text/plain": [
       "pyspark.sql.dataframe.DataFrame"
      ]
     },
     "execution_count": 15,
     "metadata": {},
     "output_type": "execute_result"
    }
   ],
   "source": [
    "type(df_csv)"
   ]
  },
  {
   "cell_type": "code",
   "execution_count": 16,
   "metadata": {
    "collapsed": false,
    "scrolled": false
   },
   "outputs": [],
   "source": [
    "df_csv.write.format('orc').options(path=\"hdfs://master:9000/user/hive/warehouse1\").saveAsTable('df3')"
   ]
  },
  {
   "cell_type": "code",
   "execution_count": 17,
   "metadata": {
    "collapsed": false
   },
   "outputs": [
    {
     "data": {
      "text/plain": [
       "<pyspark.conf.SparkConf at 0x7f38a15c81d0>"
      ]
     },
     "execution_count": 17,
     "metadata": {},
     "output_type": "execute_result"
    }
   ],
   "source": [
    "sc.getConf()"
   ]
  },
  {
   "cell_type": "code",
   "execution_count": 18,
   "metadata": {
    "collapsed": false
   },
   "outputs": [],
   "source": [
    "conf = sc.getConf()"
   ]
  },
  {
   "cell_type": "code",
   "execution_count": 19,
   "metadata": {
    "collapsed": false,
    "scrolled": false
   },
   "outputs": [
    {
     "data": {
      "text/plain": [
       "[(u'spark.executor.instances', u'7'),\n",
       " (u'spark.driver.appUIAddress', u'http://172.31.7.225:4040'),\n",
       " (u'spark.org.apache.hadoop.yarn.server.webproxy.amfilter.AmIpFilter.param.PROXY_HOSTS',\n",
       "  u'master'),\n",
       " (u'spark.ui.proxyBase', u'/proxy/application_1497490295262_0008'),\n",
       " (u'spark.executor.id', u'driver'),\n",
       " (u'spark.driver.port', u'40169'),\n",
       " (u'spark.executor.cores', u'2'),\n",
       " (u'spark.org.apache.hadoop.yarn.server.webproxy.amfilter.AmIpFilter.param.PROXY_URI_BASES',\n",
       "  u'http://master:8088/proxy/application_1497490295262_0008'),\n",
       " (u'spark.app.name', u'PySparkShell'),\n",
       " (u'spark.app.id', u'application_1497490295262_0008'),\n",
       " (u'spark.master', u'yarn'),\n",
       " (u'spark.sql.warehouse.dir', u'hdfs://master:9000/user/hive/warehouse'),\n",
       " (u'spark.sql.catalogImplementation', u'hive'),\n",
       " (u'spark.rdd.compress', u'True'),\n",
       " (u'spark.driver.host', u'172.31.7.225'),\n",
       " (u'spark.executorEnv.PYTHONPATH',\n",
       "  u'/home/ubuntu/Download/spark-2.1.1/python/lib/py4j-0.10.4-src.zip:/home/ubuntu/Download/spark-2.1.1/python/:/home/ubuntu/Download/spark-2.1.1/python:/home/ubuntu/anaconda2:/home/ubuntu/anaconda2/lib/python2.7/site-packages<CPS>{{PWD}}/pyspark.zip<CPS>{{PWD}}/py4j-0.10.4-src.zip'),\n",
       " (u'spark.serializer.objectStreamReset', u'100'),\n",
       " (u'spark.yarn.isPython', u'true'),\n",
       " (u'spark.submit.deployMode', u'client'),\n",
       " (u'spark.ui.filters',\n",
       "  u'org.apache.hadoop.yarn.server.webproxy.amfilter.AmIpFilter'),\n",
       " (u'hive.metastore.warehouse.dir', u'hdfs://master:9000/user/hive/warehouse')]"
      ]
     },
     "execution_count": 19,
     "metadata": {},
     "output_type": "execute_result"
    }
   ],
   "source": [
    "conf.getAll()"
   ]
  },
  {
   "cell_type": "code",
   "execution_count": 20,
   "metadata": {
    "collapsed": false
   },
   "outputs": [
    {
     "data": {
      "text/plain": [
       "<pyspark.conf.SparkConf at 0x7f38b39e32d0>"
      ]
     },
     "execution_count": 20,
     "metadata": {},
     "output_type": "execute_result"
    }
   ],
   "source": [
    "conf.set(u'hive.metastore.warehouse.dir',u'hdfs://user/hive/warehouse')"
   ]
  },
  {
   "cell_type": "code",
   "execution_count": 21,
   "metadata": {
    "collapsed": true
   },
   "outputs": [],
   "source": [
    "import sys"
   ]
  },
  {
   "cell_type": "code",
   "execution_count": 22,
   "metadata": {
    "collapsed": false
   },
   "outputs": [
    {
     "data": {
      "text/plain": [
       "['/home/ubuntu/anaconda2/lib/python2.7/site-packages/ipykernel/__main__.py',\n",
       " '-f',\n",
       " '/run/user/1000/jupyter/kernel-d74ca269-e32f-435f-9be3-f90a49fb63bb.json']"
      ]
     },
     "execution_count": 22,
     "metadata": {},
     "output_type": "execute_result"
    }
   ],
   "source": [
    "sys.argv"
   ]
  },
  {
   "cell_type": "code",
   "execution_count": 23,
   "metadata": {
    "collapsed": true
   },
   "outputs": [],
   "source": [
    "import os"
   ]
  },
  {
   "cell_type": "code",
   "execution_count": 24,
   "metadata": {
    "collapsed": false
   },
   "outputs": [
    {
     "data": {
      "text/plain": [
       "'/home/ubuntu/Download/hadoop-2.8.0'"
      ]
     },
     "execution_count": 24,
     "metadata": {},
     "output_type": "execute_result"
    }
   ],
   "source": [
    "os.getenv('HADOOP_HOME')"
   ]
  },
  {
   "cell_type": "code",
   "execution_count": 25,
   "metadata": {
    "collapsed": false
   },
   "outputs": [
    {
     "data": {
      "text/plain": [
       "<pyspark.context.SparkContext at 0x7f38b3c88dd0>"
      ]
     },
     "execution_count": 25,
     "metadata": {},
     "output_type": "execute_result"
    }
   ],
   "source": [
    "sc"
   ]
  },
  {
   "cell_type": "code",
   "execution_count": 26,
   "metadata": {
    "collapsed": true
   },
   "outputs": [],
   "source": [
    "from pyspark.sql import SQLContext"
   ]
  },
  {
   "cell_type": "code",
   "execution_count": 27,
   "metadata": {
    "collapsed": true
   },
   "outputs": [],
   "source": [
    "sqlContext = SQLContext(sc)"
   ]
  },
  {
   "cell_type": "code",
   "execution_count": 29,
   "metadata": {
    "collapsed": false
   },
   "outputs": [
    {
     "name": "stdout",
     "output_type": "stream",
     "text": [
      "+----------+---------+-------+-------+-------+\n",
      "|EmployeeID|FirstName| Laptop|  State|  Title|\n",
      "+----------+---------+-------+-------+-------+\n",
      "|    100000|   138.47|  27.98| 97.827| 51.655|\n",
      "|    100001|  160.937| 48.146|103.235| 68.768|\n",
      "|    100002|   -999.0| 35.635|125.953|162.172|\n",
      "|    100003|  143.905|  0.414| 80.943| 81.417|\n",
      "|    100004|  175.864| 16.405|134.805| 16.915|\n",
      "|    100005|   89.744|116.344| 59.149|  13.55|\n",
      "|    100006|  148.754| 106.13|107.782| 28.862|\n",
      "|    100007|  154.916| 29.169| 94.714| 10.418|\n",
      "|    100008|  105.594|  4.288|100.989| 50.559|\n",
      "|    100009|  128.053|193.392| 69.272| 88.941|\n",
      "|    100010|   -999.0| 27.201| 79.692|  86.24|\n",
      "|    100011|  114.744| 30.816| 75.712| 10.286|\n",
      "|    100012|  145.297|106.999|103.565| 64.234|\n",
      "|    100013|   82.488|  8.232| 64.128| 31.663|\n",
      "|    100014|   -999.0| 17.323| 14.398|109.412|\n",
      "|    100015|  111.026| 23.067| 75.271| 32.096|\n",
      "|    100016|  114.256| 47.221| 67.963|  4.351|\n",
      "|    100017|  127.861| 26.967| 77.267| 50.953|\n",
      "|    100018|   -999.0|  5.042| 68.827| 85.186|\n",
      "|    100019|   -999.0| 15.337|115.058| 88.767|\n",
      "+----------+---------+-------+-------+-------+\n",
      "only showing top 20 rows\n",
      "\n"
     ]
    }
   ],
   "source": [
    "sqlContext.sql(\"SELECT * FROM df3\").show()"
   ]
  },
  {
   "cell_type": "code",
   "execution_count": 30,
   "metadata": {
    "collapsed": false
   },
   "outputs": [
    {
     "name": "stdout",
     "output_type": "stream",
     "text": [
      "+----------+---------+-------+-------+-------+\n",
      "|EmployeeID|FirstName| Laptop|  State|  Title|\n",
      "+----------+---------+-------+-------+-------+\n",
      "|    100001|  160.937| 48.146|103.235| 68.768|\n",
      "|    100002|   -999.0| 35.635|125.953|162.172|\n",
      "|    100004|  175.864| 16.405|134.805| 16.915|\n",
      "|    100006|  148.754| 106.13|107.782| 28.862|\n",
      "|    100008|  105.594|  4.288|100.989| 50.559|\n",
      "|    100012|  145.297|106.999|103.565| 64.234|\n",
      "|    100019|   -999.0| 15.337|115.058| 88.767|\n",
      "|    100023|  141.481|174.075|111.581|  0.736|\n",
      "|    100034|  156.894| 71.682|122.894| 39.256|\n",
      "|    100036|  134.153|  9.377| 100.96| 23.856|\n",
      "|    100037|  155.487|  2.768|125.013| 61.072|\n",
      "|    100046|  201.473|  60.49|104.041| 23.002|\n",
      "|    100048|  167.534|  9.909|123.308| 41.277|\n",
      "|    100050|  219.057|  5.506|124.835| 72.461|\n",
      "|    100052|   -999.0| 40.286|136.152| 83.924|\n",
      "|    100054|  219.292|  2.423|177.143|   74.6|\n",
      "|    100076|  239.551|  6.549|193.111|118.683|\n",
      "|    100078|   132.35| 124.84| 106.57| 65.858|\n",
      "|    100086|    199.9| 77.236|167.085| 78.686|\n",
      "|    100089|  235.976| 39.662|175.744| 55.918|\n",
      "+----------+---------+-------+-------+-------+\n",
      "only showing top 20 rows\n",
      "\n"
     ]
    }
   ],
   "source": [
    "sqlContext.sql(\"SELECT * FROM df3 WHERE State>100\").show()"
   ]
  },
  {
   "cell_type": "code",
   "execution_count": 31,
   "metadata": {
    "collapsed": false
   },
   "outputs": [
    {
     "name": "stdout",
     "output_type": "stream",
     "text": [
      "+--------+---------+-----------+\n",
      "|database|tableName|isTemporary|\n",
      "+--------+---------+-----------+\n",
      "| default|      df3|      false|\n",
      "+--------+---------+-----------+\n",
      "\n"
     ]
    }
   ],
   "source": [
    "sqlContext.sql(\"SHOW TABLES\").show()"
   ]
  },
  {
   "cell_type": "code",
   "execution_count": 32,
   "metadata": {
    "collapsed": false
   },
   "outputs": [
    {
     "name": "stdout",
     "output_type": "stream",
     "text": [
      "+------------+\n",
      "|databaseName|\n",
      "+------------+\n",
      "|     default|\n",
      "+------------+\n",
      "\n"
     ]
    }
   ],
   "source": [
    "sqlContext.sql(\"SHOW DATABASES\").show()"
   ]
  },
  {
   "cell_type": "code",
   "execution_count": 33,
   "metadata": {
    "collapsed": false
   },
   "outputs": [
    {
     "name": "stdout",
     "output_type": "stream",
     "text": [
      "+--------------------+\n",
      "|            function|\n",
      "+--------------------+\n",
      "|                   !|\n",
      "|                   %|\n",
      "|                   &|\n",
      "|                   *|\n",
      "|                   +|\n",
      "|                   -|\n",
      "|                   /|\n",
      "|                   <|\n",
      "|                  <=|\n",
      "|                 <=>|\n",
      "|                   =|\n",
      "|                  ==|\n",
      "|                   >|\n",
      "|                  >=|\n",
      "|                   ^|\n",
      "|                 abs|\n",
      "|                acos|\n",
      "|          add_months|\n",
      "|                 and|\n",
      "|approx_count_dist...|\n",
      "+--------------------+\n",
      "only showing top 20 rows\n",
      "\n"
     ]
    }
   ],
   "source": [
    "sqlContext.sql(\"SHOW FUNCTIONS\").show()"
   ]
  },
  {
   "cell_type": "code",
   "execution_count": 35,
   "metadata": {
    "collapsed": false
   },
   "outputs": [
    {
     "name": "stdout",
     "output_type": "stream",
     "text": [
      "Automatic pdb calling has been turned OFF\n"
     ]
    }
   ],
   "source": [
    "%pdb"
   ]
  },
  {
   "cell_type": "code",
   "execution_count": 36,
   "metadata": {
    "collapsed": false
   },
   "outputs": [
    {
     "data": {
      "text/plain": [
       "DataFrame[]"
      ]
     },
     "execution_count": 36,
     "metadata": {},
     "output_type": "execute_result"
    }
   ],
   "source": [
    "sqlContext.sql(\"CREATE TABLE df2 (foo INT, bar STRING)\")"
   ]
  },
  {
   "cell_type": "code",
   "execution_count": 37,
   "metadata": {
    "collapsed": false
   },
   "outputs": [
    {
     "name": "stdout",
     "output_type": "stream",
     "text": [
      "+--------+---------+-----------+\n",
      "|database|tableName|isTemporary|\n",
      "+--------+---------+-----------+\n",
      "| default|      df2|      false|\n",
      "| default|      df3|      false|\n",
      "+--------+---------+-----------+\n",
      "\n"
     ]
    }
   ],
   "source": [
    "sqlContext.sql(\"SHOW TABLES\").show()"
   ]
  },
  {
   "cell_type": "code",
   "execution_count": 38,
   "metadata": {
    "collapsed": false
   },
   "outputs": [
    {
     "name": "stdout",
     "output_type": "stream",
     "text": [
      "+--------+---------+-----------+\n",
      "|database|tableName|isTemporary|\n",
      "+--------+---------+-----------+\n",
      "| default|      df2|      false|\n",
      "+--------+---------+-----------+\n",
      "\n"
     ]
    }
   ],
   "source": [
    "sqlContext.sql(\"SHOW TABLES '*2'\").show()"
   ]
  },
  {
   "cell_type": "code",
   "execution_count": 39,
   "metadata": {
    "collapsed": false,
    "scrolled": true
   },
   "outputs": [
    {
     "data": {
      "text/plain": [
       "DataFrame[]"
      ]
     },
     "execution_count": 39,
     "metadata": {},
     "output_type": "execute_result"
    }
   ],
   "source": [
    "sqlContext.sql(\"CREATE EXTERNAL TABLE page_view (viewTime INT, userid BIGINT, page_url STRING, referrer_url STRING,\\\n",
    "              ip STRING COMMENT 'country of origination') COMMENT 'This is the staging page view table' ROW FORMAT DELIMITED \\\n",
    "              FIELDS TERMINATED BY '\\054' STORED AS TEXTFILE LOCATION 'hdfs://master:9000/user/hive/countries'\")"
   ]
  },
  {
   "cell_type": "code",
   "execution_count": 40,
   "metadata": {
    "collapsed": false
   },
   "outputs": [
    {
     "name": "stdout",
     "output_type": "stream",
     "text": [
      "+------------+\n",
      "|    col_name|\n",
      "+------------+\n",
      "|    viewTime|\n",
      "|      userid|\n",
      "|    page_url|\n",
      "|referrer_url|\n",
      "|          ip|\n",
      "+------------+\n",
      "\n"
     ]
    }
   ],
   "source": [
    "sqlContext.sql(\"SHOW COLUMNS FROM page_view\").show()"
   ]
  },
  {
   "cell_type": "code",
   "execution_count": 41,
   "metadata": {
    "collapsed": false
   },
   "outputs": [
    {
     "name": "stdout",
     "output_type": "stream",
     "text": [
      "+------------+---------+--------------------+\n",
      "|    col_name|data_type|             comment|\n",
      "+------------+---------+--------------------+\n",
      "|    viewTime|      int|                null|\n",
      "|      userid|   bigint|                null|\n",
      "|    page_url|   string|                null|\n",
      "|referrer_url|   string|                null|\n",
      "|          ip|   string|country of origin...|\n",
      "+------------+---------+--------------------+\n",
      "\n"
     ]
    }
   ],
   "source": [
    "sqlContext.sql(\"DESCRIBE page_view\").show()"
   ]
  },
  {
   "cell_type": "code",
   "execution_count": 43,
   "metadata": {
    "collapsed": false
   },
   "outputs": [
    {
     "name": "stdout",
     "output_type": "stream",
     "text": [
      "+------------+\n",
      "|databaseName|\n",
      "+------------+\n",
      "|     default|\n",
      "+------------+\n",
      "\n",
      "+--------+---------+-----------+\n",
      "|database|tableName|isTemporary|\n",
      "+--------+---------+-----------+\n",
      "| default|      df2|      false|\n",
      "| default|      df3|      false|\n",
      "| default|page_view|      false|\n",
      "+--------+---------+-----------+\n",
      "\n"
     ]
    }
   ],
   "source": [
    "sqlContext.sql(\"SHOW DATABASES\").show()\n",
    "sqlContext.sql(\"SHOW TABLES\").show()"
   ]
  },
  {
   "cell_type": "code",
   "execution_count": 44,
   "metadata": {
    "collapsed": false
   },
   "outputs": [
    {
     "data": {
      "text/plain": [
       "DataFrame[]"
      ]
     },
     "execution_count": 44,
     "metadata": {},
     "output_type": "execute_result"
    }
   ],
   "source": [
    "sqlContext.sql(\"ALTER DATABASE default SET DBPROPERTIES (key1=12)\")"
   ]
  },
  {
   "cell_type": "code",
   "execution_count": 45,
   "metadata": {
    "collapsed": false
   },
   "outputs": [
    {
     "name": "stdout",
     "output_type": "stream",
     "text": [
      "+-------------------------+--------------------------+\n",
      "|database_description_item|database_description_value|\n",
      "+-------------------------+--------------------------+\n",
      "|            Database Name|                   default|\n",
      "|              Description|      Default Hive data...|\n",
      "|                 Location|      hdfs://master:900...|\n",
      "+-------------------------+--------------------------+\n",
      "\n"
     ]
    }
   ],
   "source": [
    "sqlContext.sql(\"DESCRIBE DATABASE default\").show()"
   ]
  },
  {
   "cell_type": "code",
   "execution_count": 46,
   "metadata": {
    "collapsed": false
   },
   "outputs": [
    {
     "data": {
      "text/plain": [
       "pyspark.sql.dataframe.DataFrame"
      ]
     },
     "execution_count": 46,
     "metadata": {},
     "output_type": "execute_result"
    }
   ],
   "source": [
    "type(sqlContext.sql(\"DESCRIBE DATABASE default\"))"
   ]
  },
  {
   "cell_type": "code",
   "execution_count": 47,
   "metadata": {
    "collapsed": true
   },
   "outputs": [],
   "source": [
    "df = sqlContext.sql(\"DESCRIBE DATABASE default\")"
   ]
  },
  {
   "cell_type": "code",
   "execution_count": 48,
   "metadata": {
    "collapsed": false,
    "scrolled": true
   },
   "outputs": [
    {
     "data": {
      "text/plain": [
       "['__class__',\n",
       " '__delattr__',\n",
       " '__dict__',\n",
       " '__doc__',\n",
       " '__format__',\n",
       " '__getattr__',\n",
       " '__getattribute__',\n",
       " '__getitem__',\n",
       " '__hash__',\n",
       " '__init__',\n",
       " '__module__',\n",
       " '__new__',\n",
       " '__reduce__',\n",
       " '__reduce_ex__',\n",
       " '__repr__',\n",
       " '__setattr__',\n",
       " '__sizeof__',\n",
       " '__str__',\n",
       " '__subclasshook__',\n",
       " '__weakref__',\n",
       " '_jcols',\n",
       " '_jdf',\n",
       " '_jmap',\n",
       " '_jseq',\n",
       " '_lazy_rdd',\n",
       " '_sc',\n",
       " '_schema',\n",
       " '_sort_cols',\n",
       " 'agg',\n",
       " 'alias',\n",
       " 'approxQuantile',\n",
       " 'cache',\n",
       " 'checkpoint',\n",
       " 'coalesce',\n",
       " 'collect',\n",
       " 'columns',\n",
       " 'corr',\n",
       " 'count',\n",
       " 'cov',\n",
       " 'createGlobalTempView',\n",
       " 'createOrReplaceTempView',\n",
       " 'createTempView',\n",
       " 'crossJoin',\n",
       " 'crosstab',\n",
       " 'cube',\n",
       " 'describe',\n",
       " 'distinct',\n",
       " 'drop',\n",
       " 'dropDuplicates',\n",
       " 'drop_duplicates',\n",
       " 'dropna',\n",
       " 'dtypes',\n",
       " 'explain',\n",
       " 'fillna',\n",
       " 'filter',\n",
       " 'first',\n",
       " 'foreach',\n",
       " 'foreachPartition',\n",
       " 'freqItems',\n",
       " 'groupBy',\n",
       " 'groupby',\n",
       " 'head',\n",
       " 'intersect',\n",
       " 'isLocal',\n",
       " 'isStreaming',\n",
       " 'is_cached',\n",
       " 'join',\n",
       " 'limit',\n",
       " 'na',\n",
       " 'orderBy',\n",
       " 'persist',\n",
       " 'printSchema',\n",
       " 'randomSplit',\n",
       " 'rdd',\n",
       " 'registerTempTable',\n",
       " 'repartition',\n",
       " 'replace',\n",
       " 'rollup',\n",
       " 'sample',\n",
       " 'sampleBy',\n",
       " 'schema',\n",
       " 'select',\n",
       " 'selectExpr',\n",
       " 'show',\n",
       " 'sort',\n",
       " 'sortWithinPartitions',\n",
       " 'sql_ctx',\n",
       " 'stat',\n",
       " 'storageLevel',\n",
       " 'subtract',\n",
       " 'take',\n",
       " 'toDF',\n",
       " 'toJSON',\n",
       " 'toLocalIterator',\n",
       " 'toPandas',\n",
       " 'union',\n",
       " 'unionAll',\n",
       " 'unpersist',\n",
       " 'where',\n",
       " 'withColumn',\n",
       " 'withColumnRenamed',\n",
       " 'withWatermark',\n",
       " 'write',\n",
       " 'writeStream']"
      ]
     },
     "execution_count": 48,
     "metadata": {},
     "output_type": "execute_result"
    }
   ],
   "source": [
    "dir(df)"
   ]
  },
  {
   "cell_type": "code",
   "execution_count": 103,
   "metadata": {
    "collapsed": false
   },
   "outputs": [
    {
     "data": {
      "text/plain": [
       "[Row(database_description_item=u'Database Name', database_description_value=u'default'),\n",
       " Row(database_description_item=u'Description', database_description_value=u'Default Hive database'),\n",
       " Row(database_description_item=u'Location', database_description_value=u'file:/home/ubuntu/gtest/pySpark-Hive-sql/spark-warehouse')]"
      ]
     },
     "execution_count": 103,
     "metadata": {},
     "output_type": "execute_result"
    }
   ],
   "source": [
    "df.take(10)"
   ]
  },
  {
   "cell_type": "code",
   "execution_count": 105,
   "metadata": {
    "collapsed": false
   },
   "outputs": [
    {
     "name": "stdout",
     "output_type": "stream",
     "text": [
      "+--------+---------+-----------+\n",
      "|database|tableName|isTemporary|\n",
      "+--------+---------+-----------+\n",
      "| default|       df|      false|\n",
      "| default|      df1|      false|\n",
      "| default|      df2|      false|\n",
      "| default|page_view|      false|\n",
      "+--------+---------+-----------+\n",
      "\n"
     ]
    }
   ],
   "source": [
    "sqlContext.sql(\"SHOW TABLES\").show()"
   ]
  },
  {
   "cell_type": "code",
   "execution_count": 107,
   "metadata": {
    "collapsed": false
   },
   "outputs": [
    {
     "name": "stdout",
     "output_type": "stream",
     "text": [
      "+--------+---------+-----------+\n",
      "|database|tableName|isTemporary|\n",
      "+--------+---------+-----------+\n",
      "| default|       df|      false|\n",
      "| default|      df1|      false|\n",
      "| default|      df2|      false|\n",
      "| default|page_view|      false|\n",
      "+--------+---------+-----------+\n",
      "\n"
     ]
    }
   ],
   "source": [
    "sqlContext.sql(\"SHOW TABLES\").show()"
   ]
  },
  {
   "cell_type": "code",
   "execution_count": 49,
   "metadata": {
    "collapsed": true
   },
   "outputs": [],
   "source": [
    "a = [1, 2, 3]"
   ]
  },
  {
   "cell_type": "code",
   "execution_count": 50,
   "metadata": {
    "collapsed": false
   },
   "outputs": [
    {
     "data": {
      "text/plain": [
       "'[1, 2, 3]'"
      ]
     },
     "execution_count": 50,
     "metadata": {},
     "output_type": "execute_result"
    }
   ],
   "source": [
    "b = `a`\n",
    "b"
   ]
  },
  {
   "cell_type": "code",
   "execution_count": 51,
   "metadata": {
    "collapsed": false
   },
   "outputs": [
    {
     "data": {
      "text/plain": [
       "[1, 2, 3]"
      ]
     },
     "execution_count": 51,
     "metadata": {},
     "output_type": "execute_result"
    }
   ],
   "source": [
    "eval(b)"
   ]
  },
  {
   "cell_type": "code",
   "execution_count": 53,
   "metadata": {
    "collapsed": false
   },
   "outputs": [
    {
     "data": {
      "text/plain": [
       "DataFrame[]"
      ]
     },
     "execution_count": 53,
     "metadata": {},
     "output_type": "execute_result"
    }
   ],
   "source": [
    "sqlContext.sql(\"DROP TABLE page_view\")"
   ]
  },
  {
   "cell_type": "code",
   "execution_count": 54,
   "metadata": {
    "collapsed": false
   },
   "outputs": [
    {
     "data": {
      "text/plain": [
       "DataFrame[]"
      ]
     },
     "execution_count": 54,
     "metadata": {},
     "output_type": "execute_result"
    }
   ],
   "source": [
    "sqlContext.sql(\"CREATE EXTERNAL TABLE page_view (viewTime INT, userid BIGINT, page_url STRING, referrer_url STRING,\\\n",
    "              ip STRING COMMENT 'country of origination') COMMENT 'This is the staging page view table' ROW FORMAT DELIMITED \\\n",
    "              FIELDS TERMINATED BY '\\054' STORED AS TEXTFILE LOCATION 'hdfs://master:9000/user/hive/countries'\")"
   ]
  },
  {
   "cell_type": "code",
   "execution_count": 120,
   "metadata": {
    "collapsed": false
   },
   "outputs": [
    {
     "data": {
      "text/plain": [
       "DataFrame[]"
      ]
     },
     "execution_count": 120,
     "metadata": {},
     "output_type": "execute_result"
    }
   ],
   "source": [
    "sqlContext.sql(\"DROP TABLE images\")"
   ]
  },
  {
   "cell_type": "code",
   "execution_count": 121,
   "metadata": {
    "collapsed": false
   },
   "outputs": [
    {
     "data": {
      "text/plain": [
       "DataFrame[]"
      ]
     },
     "execution_count": 121,
     "metadata": {},
     "output_type": "execute_result"
    }
   ],
   "source": [
    "sqlContext.sql(\"CREATE EXTERNAL TABLE images (id STRING COMMENT 'id of images', mat STRING COMMENT 'string of list') COMMENT \\\n",
    "'This is used to store images' ROW FORMAT DELIMITED \\\n",
    "FIELDS TERMINATED BY '\\t' STORED AS TEXTFILE LOCATION 'hdfs://master:9000/user/hive/images'\")"
   ]
  },
  {
   "cell_type": "code",
   "execution_count": 112,
   "metadata": {
    "collapsed": false
   },
   "outputs": [
    {
     "name": "stdout",
     "output_type": "stream",
     "text": [
      "+--------+---------+-----------+\n",
      "|database|tableName|isTemporary|\n",
      "+--------+---------+-----------+\n",
      "| default|      df2|      false|\n",
      "| default|      df3|      false|\n",
      "| default|   images|      false|\n",
      "| default| my_table|      false|\n",
      "| default|page_view|      false|\n",
      "+--------+---------+-----------+\n",
      "\n"
     ]
    }
   ],
   "source": [
    "sqlContext.sql(\"SHOW TABLES\").show()"
   ]
  },
  {
   "cell_type": "code",
   "execution_count": 58,
   "metadata": {
    "collapsed": false
   },
   "outputs": [
    {
     "data": {
      "text/plain": [
       "'[1, 2, 3]'"
      ]
     },
     "execution_count": 58,
     "metadata": {},
     "output_type": "execute_result"
    }
   ],
   "source": [
    "b"
   ]
  },
  {
   "cell_type": "code",
   "execution_count": 122,
   "metadata": {
    "collapsed": true
   },
   "outputs": [],
   "source": [
    "data = sqlContext.createDataFrame([('1', '[1, 2, 3]'), ('2', '[4, 5, 6]'), ('3', '[7, 8, 9]')], ['id', 'mat'])"
   ]
  },
  {
   "cell_type": "code",
   "execution_count": 123,
   "metadata": {
    "collapsed": false
   },
   "outputs": [
    {
     "name": "stdout",
     "output_type": "stream",
     "text": [
      "+---+---------+\n",
      "| id|      mat|\n",
      "+---+---------+\n",
      "|  1|[1, 2, 3]|\n",
      "|  2|[4, 5, 6]|\n",
      "|  3|[7, 8, 9]|\n",
      "+---+---------+\n",
      "\n"
     ]
    }
   ],
   "source": [
    "data.show()"
   ]
  },
  {
   "cell_type": "code",
   "execution_count": 124,
   "metadata": {
    "collapsed": false
   },
   "outputs": [
    {
     "data": {
      "text/plain": [
       "DataFrame[id: string, mat: string]"
      ]
     },
     "execution_count": 124,
     "metadata": {},
     "output_type": "execute_result"
    }
   ],
   "source": [
    "data.toDF('id', 'mat')"
   ]
  },
  {
   "cell_type": "code",
   "execution_count": 125,
   "metadata": {
    "collapsed": false
   },
   "outputs": [
    {
     "name": "stdout",
     "output_type": "stream",
     "text": [
      "+---+---------+\n",
      "| id|      mat|\n",
      "+---+---------+\n",
      "|  1|[1, 2, 3]|\n",
      "|  2|[4, 5, 6]|\n",
      "|  3|[7, 8, 9]|\n",
      "+---+---------+\n",
      "\n"
     ]
    }
   ],
   "source": [
    "data.show()"
   ]
  },
  {
   "cell_type": "code",
   "execution_count": 126,
   "metadata": {
    "collapsed": false
   },
   "outputs": [],
   "source": [
    "data.write.mode(\"append\").insertInto('images')"
   ]
  },
  {
   "cell_type": "code",
   "execution_count": 127,
   "metadata": {
    "collapsed": false
   },
   "outputs": [
    {
     "name": "stdout",
     "output_type": "stream",
     "text": [
      "+---+---------+\n",
      "| id|      mat|\n",
      "+---+---------+\n",
      "|  1|[1, 2, 3]|\n",
      "|  2|[4, 5, 6]|\n",
      "|  3|[7, 8, 9]|\n",
      "+---+---------+\n",
      "\n"
     ]
    }
   ],
   "source": [
    "sqlContext.sql(\"SELECT * FROM images\").show()"
   ]
  },
  {
   "cell_type": "code",
   "execution_count": 65,
   "metadata": {
    "collapsed": false
   },
   "outputs": [
    {
     "name": "stdout",
     "output_type": "stream",
     "text": [
      "+----------+---------+-------+-------+-------+\n",
      "|EmployeeID|FirstName| Laptop|  State|  Title|\n",
      "+----------+---------+-------+-------+-------+\n",
      "|    100000|   138.47|  27.98| 97.827| 51.655|\n",
      "|    100001|  160.937| 48.146|103.235| 68.768|\n",
      "|    100002|   -999.0| 35.635|125.953|162.172|\n",
      "|    100003|  143.905|  0.414| 80.943| 81.417|\n",
      "|    100004|  175.864| 16.405|134.805| 16.915|\n",
      "|    100005|   89.744|116.344| 59.149|  13.55|\n",
      "|    100006|  148.754| 106.13|107.782| 28.862|\n",
      "|    100007|  154.916| 29.169| 94.714| 10.418|\n",
      "|    100008|  105.594|  4.288|100.989| 50.559|\n",
      "|    100009|  128.053|193.392| 69.272| 88.941|\n",
      "|    100010|   -999.0| 27.201| 79.692|  86.24|\n",
      "|    100011|  114.744| 30.816| 75.712| 10.286|\n",
      "|    100012|  145.297|106.999|103.565| 64.234|\n",
      "|    100013|   82.488|  8.232| 64.128| 31.663|\n",
      "|    100014|   -999.0| 17.323| 14.398|109.412|\n",
      "|    100015|  111.026| 23.067| 75.271| 32.096|\n",
      "|    100016|  114.256| 47.221| 67.963|  4.351|\n",
      "|    100017|  127.861| 26.967| 77.267| 50.953|\n",
      "|    100018|   -999.0|  5.042| 68.827| 85.186|\n",
      "|    100019|   -999.0| 15.337|115.058| 88.767|\n",
      "+----------+---------+-------+-------+-------+\n",
      "only showing top 20 rows\n",
      "\n"
     ]
    }
   ],
   "source": [
    "sqlContext.sql(\"SELECT * FROM df3\").show()"
   ]
  },
  {
   "cell_type": "code",
   "execution_count": 67,
   "metadata": {
    "collapsed": false
   },
   "outputs": [
    {
     "name": "stdout",
     "output_type": "stream",
     "text": [
      "+----------+---------+-------+\n",
      "|  col_name|data_type|comment|\n",
      "+----------+---------+-------+\n",
      "|EmployeeID|   bigint|   null|\n",
      "| FirstName|   string|   null|\n",
      "|    Laptop|   string|   null|\n",
      "|     State|   string|   null|\n",
      "|     Title|   string|   null|\n",
      "+----------+---------+-------+\n",
      "\n"
     ]
    }
   ],
   "source": [
    "sqlContext.sql(\"DESCRIBE TABLE df3\").show()"
   ]
  },
  {
   "cell_type": "code",
   "execution_count": 68,
   "metadata": {
    "collapsed": false
   },
   "outputs": [
    {
     "data": {
      "text/plain": [
       "DataFrame[]"
      ]
     },
     "execution_count": 68,
     "metadata": {},
     "output_type": "execute_result"
    }
   ],
   "source": [
    "sqlContext.sql(\"CREATE TABLE my_table (EmployeeID BIGINT, FirstName STRING, Laptop STRING, State STRING, Title STRING)\")"
   ]
  },
  {
   "cell_type": "code",
   "execution_count": 69,
   "metadata": {
    "collapsed": false
   },
   "outputs": [
    {
     "name": "stdout",
     "output_type": "stream",
     "text": [
      "+--------+---------+-----------+\n",
      "|database|tableName|isTemporary|\n",
      "+--------+---------+-----------+\n",
      "| default|      df2|      false|\n",
      "| default|      df3|      false|\n",
      "| default|   images|      false|\n",
      "| default| my_table|      false|\n",
      "| default|page_view|      false|\n",
      "+--------+---------+-----------+\n",
      "\n"
     ]
    }
   ],
   "source": [
    "sqlContext.sql(\"SHOW TABLES\").show()"
   ]
  },
  {
   "cell_type": "code",
   "execution_count": 70,
   "metadata": {
    "collapsed": false
   },
   "outputs": [
    {
     "name": "stdout",
     "output_type": "stream",
     "text": [
      "+----------+---------+-------+\n",
      "|  col_name|data_type|comment|\n",
      "+----------+---------+-------+\n",
      "|EmployeeID|   bigint|   null|\n",
      "| FirstName|   string|   null|\n",
      "|    Laptop|   string|   null|\n",
      "|     State|   string|   null|\n",
      "|     Title|   string|   null|\n",
      "+----------+---------+-------+\n",
      "\n"
     ]
    }
   ],
   "source": [
    "sqlContext.sql(\"DESCRIBE TABLE my_table\").show()"
   ]
  },
  {
   "cell_type": "code",
   "execution_count": 71,
   "metadata": {
    "collapsed": true
   },
   "outputs": [],
   "source": [
    "data = sqlContext.sql(\"SELECT * FROM df3\")"
   ]
  },
  {
   "cell_type": "code",
   "execution_count": 72,
   "metadata": {
    "collapsed": true
   },
   "outputs": [],
   "source": [
    "data.write.mode(\"append\").insertInto(\"my_table\")"
   ]
  },
  {
   "cell_type": "code",
   "execution_count": 181,
   "metadata": {
    "collapsed": false
   },
   "outputs": [
    {
     "data": {
      "text/plain": [
       "DataFrame[]"
      ]
     },
     "execution_count": 181,
     "metadata": {},
     "output_type": "execute_result"
    }
   ],
   "source": [
    "sqlContext.sql(\"INSERT INTO TABLE images VALUES ('image1', '[1, 2, 3, 4, 5, 6, 7]')\")"
   ]
  },
  {
   "cell_type": "code",
   "execution_count": 182,
   "metadata": {
    "collapsed": false
   },
   "outputs": [
    {
     "name": "stdout",
     "output_type": "stream",
     "text": [
      "+--------------------+--------------------+\n",
      "|                  id|                 mat|\n",
      "+--------------------+--------------------+\n",
      "|[1,2,3],[[1, 2, 3...|                null|\n",
      "|[1,2,3],[[1, 2, 3...|                null|\n",
      "|              image1|[1, 2, 3, 4, 5, 6...|\n",
      "|         1,[1, 2, 3]|                null|\n",
      "|                   1|                null|\n",
      "|           [1, 2, 3]|                null|\n",
      "|                   1|                null|\n",
      "|           [1, 2, 3]|                null|\n",
      "|                   1|                null|\n",
      "|                    |                null|\n",
      "|           [1, 2, 3]|                null|\n",
      "|                   1|                null|\n",
      "|           [1, 2, 3]|                null|\n",
      "|                   1|           [1, 2, 3]|\n",
      "|             [1,2,3]|[[1, 2, 3],[4, 5,...|\n",
      "|             [1,2,3]|[[1, 2, 3],[4, 5,...|\n",
      "+--------------------+--------------------+\n",
      "\n"
     ]
    }
   ],
   "source": [
    "sqlContext.sql('SELECT * FROM images').show()"
   ]
  },
  {
   "cell_type": "code",
   "execution_count": 85,
   "metadata": {
    "collapsed": true
   },
   "outputs": [],
   "source": [
    "from generator_images import captcha_generator as gen\n",
    "import matplotlib.pyplot as plt"
   ]
  },
  {
   "cell_type": "code",
   "execution_count": 83,
   "metadata": {
    "collapsed": true
   },
   "outputs": [],
   "source": [
    "chars = \"0123456789ABCDEFGHIJKLMNOPQRSTUVWXYZabdefghijlmnqrtuwxy\"\n",
    "width, height, n_len, n_class = 140, 44, 6, len(chars)"
   ]
  },
  {
   "cell_type": "code",
   "execution_count": 84,
   "metadata": {
    "collapsed": true
   },
   "outputs": [],
   "source": [
    "image = gen(width=width, height=height)"
   ]
  },
  {
   "cell_type": "code",
   "execution_count": 90,
   "metadata": {
    "collapsed": false
   },
   "outputs": [],
   "source": [
    "X, y = image.next()"
   ]
  },
  {
   "cell_type": "code",
   "execution_count": 91,
   "metadata": {
    "collapsed": false
   },
   "outputs": [
    {
     "data": {
      "text/plain": [
       "(64, 44, 140, 3)"
      ]
     },
     "execution_count": 91,
     "metadata": {},
     "output_type": "execute_result"
    }
   ],
   "source": [
    "X.shape"
   ]
  },
  {
   "cell_type": "code",
   "execution_count": 92,
   "metadata": {
    "collapsed": true
   },
   "outputs": [],
   "source": [
    "x = X[0]"
   ]
  },
  {
   "cell_type": "code",
   "execution_count": 93,
   "metadata": {
    "collapsed": false
   },
   "outputs": [
    {
     "data": {
      "text/plain": [
       "(44, 140, 3)"
      ]
     },
     "execution_count": 93,
     "metadata": {},
     "output_type": "execute_result"
    }
   ],
   "source": [
    "x.shape"
   ]
  },
  {
   "cell_type": "code",
   "execution_count": 94,
   "metadata": {
    "collapsed": false
   },
   "outputs": [
    {
     "data": {
      "image/png": "[encoded data removed]",
      "text/plain": [
       "<matplotlib.figure.Figure at 0x7f389ce58350>"
      ]
     },
     "metadata": {},
     "output_type": "display_data"
    }
   ],
   "source": [
    "plt.imshow(x)\n",
    "plt.show()"
   ]
  },
  {
   "cell_type": "code",
   "execution_count": 113,
   "metadata": {
    "collapsed": false,
    "scrolled": true
   },
   "outputs": [
    {
     "data": {
      "text/plain": [
       "'[[[176, 171, 175], [176, 171, 175], [176, 171, 175], [176, 171, 175], [176, 171, 175], [176, 171, 175], [176, 171, 175], [176, 171, 175], [176, 171, 175], [176, 171, 175], [87, 76, 104], [176, 171, 175], [176, 171, 175], [176, 171, 175], [176, 171, 175], [176, 171, 175], [176, 171, 175], [176, 171, 175], [176, 171, 175], [176, 171, 175], [176, 171, 175], [176, 171, 175], [176, 171, 175], [176, 171, 175], [176, 171, 175], [176, 171, 175], [176, 171, 175], [176, 171, 175], [176, 171, 175], [176, 171, 175], [176, 171, 175], [176, 171, 175], [176, 171, 175], [176, 171, 175], [176, 171, 175], [176, 171, 175], [176, 171, 175], [176, 171, 175], [176, 171, 175], [176, 171, 175], [176, 171, 175], [176, 171, 175], [176, 171, 175], [176, 171, 175], [176, 171, 175], [176, 171, 175], [176, 171, 175], [176, 171, 175], [176, 171, 175], [176, 171, 175], [176, 171, 175], [176, 171, 175], [176, 171, 175], [136, 129, 134], [149, 144, 148], [176, 171, 175], [176, 171, 175], [176, 171, 175], [176, 171, 175], [176, 171, 175], [176, 171, 175], [176, 171, 175], [176, 171, 175], [176, 171, 175], [176, 171, 175], [176, 171, 175], [176, 171, 175], [176, 171, 175], [176, 171, 175], [176, 171, 175], [176, 171, 175], [176, 171, 175], [176, 171, 175], [176, 171, 175], [176, 171, 175], [176, 171, 175], [176, 171, 175], [176, 171, 175], [176, 171, 175], [176, 171, 175], [176, 171, 175], [176, 171, 175], [176, 171, 175], [176, 171, 175], [176, 171, 175], [176, 171, 175], [176, 171, 175], [176, 171, 175], [176, 171, 175], [176, 171, 175], [176, 171, 175], [176, 171, 175], [176, 171, 175], [176, 171, 175], [176, 171, 175], [176, 171, 175], [176, 171, 175], [176, 171, 175], [176, 171, 175], [176, 171, 175], [176, 171, 175], [176, 171, 175], [176, 171, 175], [176, 171, 175], [176, 171, 175], [176, 171, 175], [176, 171, 175], [176, 171, 175], [176, 171, 175], [176, 171, 175], [176, 171, 175], [176, 171, 175], [176, 171, 175], [176, 171, 175], [176, 171, 175], [176, 171, 175], [176, 171, 175], [176, 171, 175], [176, 171, 175], [176, 171, 175], [176, 171, 175], [176, 171, 175], [176, 171, 175], [176, 171, 175], [176, 171, 175], [176, 171, 175], [176, 171, 175], [176, 171, 175], [176, 171, 175], [176, 171, 175], [176, 171, 175], [176, 171, 175], [176, 171, 175], [176, 171, 175], [47, 73, 103], [47, 73, 103], [47, 73, 103], [176, 171, 175], [176, 171, 175], [176, 171, 175]], [[176, 171, 175], [176, 171, 175], [176, 171, 175], [176, 171, 175], [176, 171, 175], [176, 171, 175], [176, 171, 175], [176, 171, 175], [176, 171, 175], [176, 171, 175], [176, 171, 175], [176, 171, 175], [176, 171, 175], [176, 171, 175], [176, 171, 175], [176, 171, 175], [176, 171, 175], [176, 171, 175], [176, 171, 175], [176, 171, 175], [176, 171, 175], [176, 171, 175], [176, 171, 175], [176, 171, 175], [176, 171, 175], [176, 171, 175], [176, 171, 175], [176, 171, 175], [176, 171, 175], [176, 171, 175], [176, 171, 175], [176, 171, 175], [176, 171, 175], [176, 171, 175], [176, 171, 175], [176, 171, 175], [176, 171, 175], [176, 171, 175], [176, 171, 175], [176, 171, 175], [176, 171, 175], [176, 171, 175], [176, 171, 175], [176, 171, 175], [176, 171, 175], [176, 171, 175], [176, 171, 175], [176, 171, 175], [176, 171, 175], [176, 171, 175], [176, 171, 175], [176, 171, 175], [124, 115, 121], [124, 117, 122], [176, 171, 175], [176, 171, 175], [176, 171, 175], [176, 171, 175], [176, 171, 175], [176, 171, 175], [176, 171, 175], [176, 171, 175], [176, 171, 175], [176, 171, 175], [176, 171, 175], [176, 171, 175], [176, 171, 175], [176, 171, 175], [176, 171, 175], [87, 76, 104], [176, 171, 175], [176, 171, 175], [87, 76, 104], [176, 171, 175], [176, 171, 175], [176, 171, 175], [176, 171, 175], [176, 171, 175], [176, 171, 175], [176, 171, 175], [176, 171, 175], [176, 171, 175], [176, 171, 175], [176, 171, 175], [176, 171, 175], [176, 171, 175], [176, 171, 175], [176, 171, 175], [176, 171, 175], [176, 171, 175], [176, 171, 175], [176, 171, 175], [176, 171, 175], [176, 171, 175], [176, 171, 175], [176, 171, 175], [176, 171, 175], [176, 171, 175], [176, 171, 175], [176, 171, 175], [176, 171, 175], [176, 171, 175], [176, 171, 175], [176, 171, 175], [87, 76, 104], [176, 171, 175], [176, 171, 175], [176, 171, 175], [176, 171, 175], [176, 171, 175], [176, 171, 175], [176, 171, 175], [176, 171, 175], [176, 171, 175], [176, 171, 175], [176, 171, 175], [176, 171, 175], [176, 171, 175], [176, 171, 175], [176, 171, 175], [176, 171, 175], [176, 171, 175], [176, 171, 175], [176, 171, 175], [176, 171, 175], [176, 171, 175], [176, 171, 175], [176, 171, 175], [176, 171, 175], [176, 171, 175], [47, 73, 103], [47, 73, 103], [47, 73, 103], [47, 73, 103], [176, 171, 175], [176, 171, 175], [176, 171, 175], [176, 171, 175], [176, 171, 175], [176, 171, 175]], [[176, 171, 175], [176, 171, 175], [176, 171, 175], [176, 171, 175], [176, 171, 175], [176, 171, 175], [176, 171, 175], [176, 171, 175], [176, 171, 175], [176, 171, 175], [176, 171, 175], [176, 171, 175], [87, 76, 104], [176, 171, 175], [176, 171, 175], [176, 171, 175], [176, 171, 175], [176, 171, 175], [176, 171, 175], [176, 171, 175], [176, 171, 175], [176, 171, 175], [176, 171, 175], [176, 171, 175], [176, 171, 175], [176, 171, 175], [176, 171, 175], [176, 171, 175], [176, 171, 175], [176, 171, 175], [176, 171, 175], [176, 171, 175], [176, 171, 175], [176, 171, 175], [176, 171, 175], [176, 171, 175], [176, 171, 175], [176, 171, 175], [176, 171, 175], [176, 171, 175], [176, 171, 175], [176, 171, 175], [176, 171, 175], [176, 171, 175], [176, 171, 175], [176, 171, 175], [176, 171, 175], [176, 171, 175], [176, 171, 175], [176, 171, 175], [169, 165, 168], [117, 109, 115], [130, 123, 128], [176, 171, 175], [176, 171, 175], [176, 171, 175], [176, 171, 175], [176, 171, 175], [176, 171, 175], [176, 171, 175], [176, 171, 175], [176, 171, 175], [176, 171, 175], [176, 171, 175], [176, 171, 175], [176, 171, 175], [176, 171, 175], [176, 171, 175], [176, 171, 175], [176, 171, 175], [176, 171, 175], [176, 171, 175], [176, 171, 175], [176, 171, 175], [176, 171, 175], [176, 171, 175], [176, 171, 175], [176, 171, 175], [176, 171, 175], [176, 171, 175], [176, 171, 175], [176, 171, 175], [176, 171, 175], [176, 171, 175], [176, 171, 175], [176, 171, 175], [176, 171, 175], [176, 171, 175], [176, 171, 175], [176, 171, 175], [176, 171, 175], [176, 171, 175], [176, 171, 175], [176, 171, 175], [176, 171, 175], [176, 171, 175], [176, 171, 175], [176, 171, 175], [176, 171, 175], [176, 171, 175], [176, 171, 175], [176, 171, 175], [176, 171, 175], [176, 171, 175], [176, 171, 175], [176, 171, 175], [176, 171, 175], [176, 171, 175], [176, 171, 175], [176, 171, 175], [176, 171, 175], [176, 171, 175], [176, 171, 175], [176, 171, 175], [176, 171, 175], [176, 171, 175], [176, 171, 175], [176, 171, 175], [176, 171, 175], [176, 171, 175], [176, 171, 175], [176, 171, 175], [176, 171, 175], [176, 171, 175], [176, 171, 175], [47, 73, 103], [47, 73, 103], [47, 73, 103], [47, 73, 103], [47, 73, 103], [176, 171, 175], [165, 160, 164], [176, 171, 175], [176, 171, 175], [176, 171, 175], [176, 171, 175], [176, 171, 175], [176, 171, 175], [176, 171, 175], [176, 171, 175]], [[176, 171, 175], [176, 171, 175], [176, 171, 175], [176, 171, 175], [176, 171, 175], [176, 171, 175], [176, 171, 175], [176, 171, 175], [176, 171, 175], [176, 171, 175], [176, 171, 175], [176, 171, 175], [176, 171, 175], [176, 171, 175], [176, 171, 175], [176, 171, 175], [176, 171, 175], [176, 171, 175], [176, 171, 175], [176, 171, 175], [176, 171, 175], [176, 171, 175], [176, 171, 175], [176, 171, 175], [176, 171, 175], [176, 171, 175], [176, 171, 175], [176, 171, 175], [176, 171, 175], [176, 171, 175], [176, 171, 175], [176, 171, 175], [176, 171, 175], [176, 171, 175], [176, 171, 175], [176, 171, 175], [176, 171, 175], [176, 171, 175], [176, 171, 175], [176, 171, 175], [176, 171, 175], [176, 171, 175], [176, 171, 175], [176, 171, 175], [176, 171, 175], [176, 171, 175], [176, 171, 175], [176, 171, 175], [176, 171, 175], [162, 157, 161], [106, 96, 103], [135, 129, 134], [176, 171, 175], [176, 171, 175], [176, 171, 175], [176, 171, 175], [176, 171, 175], [176, 171, 175], [176, 171, 175], [176, 171, 175], [176, 171, 175], [176, 171, 175], [176, 171, 175], [176, 171, 175], [176, 171, 175], [176, 171, 175], [176, 171, 175], [176, 171, 175], [176, 171, 175], [176, 171, 175], [176, 171, 175], [176, 171, 175], [176, 171, 175], [176, 171, 175], [176, 171, 175], [176, 171, 175], [176, 171, 175], [176, 171, 175], [176, 171, 175], [176, 171, 175], [176, 171, 175], [176, 171, 175], [176, 171, 175], [176, 171, 175], [176, 171, 175], [176, 171, 175], [176, 171, 175], [176, 171, 175], [176, 171, 175], [176, 171, 175], [176, 171, 175], [176, 171, 175], [176, 171, 175], [176, 171, 175], [176, 171, 175], [176, 171, 175], [176, 171, 175], [176, 171, 175], [176, 171, 175], [176, 171, 175], [176, 171, 175], [176, 171, 175], [176, 171, 175], [176, 171, 175], [176, 171, 175], [176, 171, 175], [176, 171, 175], [176, 171, 175], [163, 159, 161], [141, 139, 138], [162, 158, 159], [176, 171, 175], [176, 171, 175], [176, 171, 175], [176, 171, 175], [176, 171, 175], [176, 171, 175], [176, 171, 175], [176, 171, 175], [176, 171, 175], [176, 171, 175], [47, 73, 103], [47, 73, 103], [47, 73, 103], [47, 73, 103], [176, 171, 175], [176, 171, 175], [176, 171, 175], [176, 171, 175], [176, 171, 175], [175, 170, 174], [144, 142, 144], [126, 127, 125], [170, 165, 169], [176, 171, 175], [176, 171, 175], [176, 171, 175], [176, 171, 175], [176, 171, 175], [176, 171, 175]], [[176, 171, 175], [176, 171, 175], [176, 171, 175], [176, 171, 175], [176, 171, 175], [176, 171, 175], [176, 171, 175], [176, 171, 175], [176, 171, 175], [176, 171, 175], [176, 171, 175], [176, 171, 175], [176, 171, 175], [176, 171, 175], [176, 171, 175], [176, 171, 175], [141, 145, 139], [138, 143, 136], [176, 171, 175], [176, 171, 175], [176, 171, 175], [176, 171, 175], [176, 171, 175], [176, 171, 175], [176, 171, 175], [176, 171, 175], [176, 171, 175], [176, 171, 175], [176, 171, 175], [176, 171, 175], [176, 171, 175], [176, 171, 175], [176, 171, 175], [176, 171, 175], [176, 171, 175], [176, 171, 175], [176, 171, 175], [176, 171, 175], [176, 171, 175], [176, 171, 175], [176, 171, 175], [176, 171, 175], [176, 171, 175], [176, 171, 175], [176, 171, 175], [176, 171, 175], [176, 171, 175], [176, 171, 175], [157, 150, 156], [92, 79, 88], [118, 109, 115], [168, 163, 167], [176, 171, 175], [176, 171, 175], [176, 171, 175], [176, 171, 175], [176, 171, 175], [176, 171, 175], [176, 171, 175], [176, 171, 175], [176, 171, 175], [176, 171, 175], [176, 171, 175], [176, 171, 175], [176, 171, 175], [176, 171, 175], [176, 171, 175], [176, 171, 175], [176, 171, 175], [176, 171, 175], [176, 171, 175], [87, 76, 104], [176, 171, 175], [176, 171, 175], [176, 171, 175], [176, 171, 175], [176, 171, 175], [176, 171, 175], [176, 171, 175], [176, 171, 175], [176, 171, 175], [176, 171, 175], [176, 171, 175], [176, 171, 175], [176, 171, 175], [176, 171, 175], [176, 171, 175], [176, 171, 175], [176, 171, 175], [87, 76, 104], [176, 171, 175], [176, 171, 175], [176, 171, 175], [176, 171, 175], [176, 171, 175], [176, 171, 175], [176, 171, 175], [176, 171, 175], [176, 171, 175], [176, 171, 175], [176, 171, 175], [176, 171, 175], [176, 171, 175], [176, 171, 175], [176, 171, 175], [176, 171, 175], [176, 171, 175], [176, 171, 175], [176, 171, 175], [150, 146, 145], [115, 113, 106], [134, 132, 128], [166, 162, 164], [176, 171, 175], [176, 171, 175], [176, 171, 175], [47, 73, 103], [47, 73, 103], [47, 73, 103], [47, 73, 103], [47, 73, 103], [176, 171, 175], [176, 171, 175], [176, 171, 175], [176, 171, 175], [176, 171, 175], [176, 171, 175], [176, 171, 175], [176, 171, 175], [176, 171, 175], [176, 171, 175], [176, 171, 175], [137, 138, 137], [110, 115, 110], [156, 154, 155], [176, 171, 175], [176, 171, 175], [176, 171, 175], [176, 171, 175], [176, 171, 175]], [[176, 171, 175], [176, 171, 175], [176, 171, 175], [176, 171, 175], [176, 171, 175], [176, 171, 175], [176, 171, 175], [176, 171, 175], [176, 171, 175], [176, 171, 175], [176, 171, 175], [176, 171, 175], [176, 171, 175], [176, 171, 175], [176, 171, 175], [87, 76, 104], [99, 113, 97], [149, 151, 147], [176, 171, 175], [176, 171, 175], [176, 171, 175], [176, 171, 175], [176, 171, 175], [176, 171, 175], [176, 171, 175], [176, 171, 175], [176, 171, 175], [176, 171, 175], [176, 171, 175], [176, 171, 175], [176, 171, 175], [176, 171, 175], [176, 171, 175], [176, 171, 175], [176, 171, 175], [176, 171, 175], [176, 171, 175], [176, 171, 175], [176, 171, 175], [176, 171, 175], [176, 171, 175], [176, 171, 175], [176, 171, 175], [176, 171, 175], [176, 171, 175], [176, 171, 175], [176, 171, 175], [152, 146, 150], [100, 90, 98], [129, 121, 127], [104, 95, 102], [162, 156, 160], [176, 171, 175], [176, 171, 175], [176, 171, 175], [176, 171, 175], [176, 171, 175], [176, 171, 175], [176, 171, 175], [176, 171, 175], [176, 171, 175], [176, 171, 175], [176, 171, 175], [176, 171, 175], [176, 171, 175], [176, 171, 175], [176, 171, 175], [176, 171, 175], [176, 171, 175], [176, 171, 175], [176, 171, 175], [176, 171, 175], [176, 171, 175], [176, 171, 175], [176, 171, 175], [176, 171, 175], [176, 171, 175], [176, 171, 175], [176, 171, 175], [176, 171, 175], [176, 171, 175], [176, 171, 175], [176, 171, 175], [176, 171, 175], [176, 171, 175], [176, 171, 175], [176, 171, 175], [176, 171, 175], [176, 171, 175], [176, 171, 175], [176, 171, 175], [176, 171, 175], [176, 171, 175], [176, 171, 175], [176, 171, 175], [176, 171, 175], [176, 171, 175], [176, 171, 175], [176, 171, 175], [176, 171, 175], [176, 171, 175], [176, 171, 175], [176, 171, 175], [176, 171, 175], [176, 171, 175], [176, 171, 175], [176, 171, 175], [176, 171, 175], [176, 171, 175], [176, 171, 175], [174, 169, 173], [143, 139, 137], [47, 73, 103], [47, 73, 103], [47, 73, 103], [47, 73, 103], [176, 171, 175], [176, 171, 175], [69, 56, 108], [176, 171, 175], [176, 171, 175], [176, 171, 175], [176, 171, 175], [176, 171, 175], [176, 171, 175], [176, 171, 175], [176, 171, 175], [176, 171, 175], [176, 171, 175], [176, 171, 175], [176, 171, 175], [176, 171, 175], [176, 171, 175], [151, 150, 150], [94, 104, 93], [139, 142, 139], [176, 171, 175], [176, 171, 175], [176, 171, 175], [176, 171, 175]], [[176, 171, 175], [176, 171, 175], [176, 171, 175], [176, 171, 175], [176, 171, 175], [176, 171, 175], [176, 171, 175], [176, 171, 175], [176, 171, 175], [176, 171, 175], [176, 171, 175], [176, 171, 175], [176, 171, 175], [176, 171, 175], [176, 171, 175], [141, 144, 139], [108, 119, 105], [176, 171, 175], [176, 171, 175], [176, 171, 175], [176, 171, 175], [176, 171, 175], [176, 171, 175], [176, 171, 175], [176, 171, 175], [176, 171, 175], [176, 171, 175], [176, 171, 175], [176, 171, 175], [176, 171, 175], [176, 171, 175], [176, 171, 175], [176, 171, 175], [176, 171, 175], [176, 171, 175], [176, 171, 175], [176, 171, 175], [176, 171, 175], [176, 171, 175], [176, 171, 175], [176, 171, 175], [176, 171, 175], [176, 171, 175], [176, 171, 175], [176, 171, 175], [176, 171, 175], [146, 140, 145], [101, 92, 99], [154, 147, 152], [176, 171, 175], [139, 131, 137], [104, 94, 100], [169, 163, 167], [176, 171, 175], [176, 171, 175], [176, 171, 175], [176, 171, 175], [176, 171, 175], [176, 171, 175], [176, 171, 175], [176, 171, 175], [176, 171, 175], [176, 171, 175], [176, 171, 175], [176, 171, 175], [176, 171, 175], [176, 171, 175], [176, 171, 175], [176, 171, 175], [176, 171, 175], [176, 171, 175], [176, 171, 175], [176, 171, 175], [176, 171, 175], [176, 171, 175], [176, 171, 175], [176, 171, 175], [176, 171, 175], [176, 171, 175], [176, 171, 175], [176, 171, 175], [176, 171, 175], [176, 171, 175], [176, 171, 175], [176, 171, 175], [176, 171, 175], [176, 171, 175], [176, 171, 175], [176, 171, 175], [176, 171, 175], [176, 171, 175], [176, 171, 175], [176, 171, 175], [176, 171, 175], [176, 171, 175], [176, 171, 175], [176, 171, 175], [176, 171, 175], [176, 171, 175], [176, 171, 175], [176, 171, 175], [176, 171, 175], [176, 171, 175], [176, 171, 175], [176, 171, 175], [176, 171, 175], [176, 171, 175], [47, 73, 103], [47, 73, 103], [47, 73, 103], [47, 73, 103], [47, 73, 103], [155, 151, 151], [110, 111, 98], [130, 127, 126], [174, 169, 173], [176, 171, 175], [176, 171, 175], [69, 56, 108], [176, 171, 175], [176, 171, 175], [176, 171, 175], [176, 171, 175], [176, 171, 175], [176, 171, 175], [176, 171, 175], [176, 171, 175], [176, 171, 175], [176, 171, 175], [176, 171, 175], [176, 171, 175], [176, 171, 175], [176, 171, 175], [134, 134, 133], [117, 121, 117], [108, 114, 108], [131, 132, 130], [176, 171, 175], [176, 171, 175], [176, 171, 175]], [[176, 171, 175], [176, 171, 175], [176, 171, 175], [176, 171, 175], [176, 171, 175], [176, 171, 175], [176, 171, 175], [176, 171, 175], [176, 171, 175], [176, 171, 175], [176, 171, 175], [176, 171, 175], [176, 171, 175], [176, 171, 175], [176, 171, 175], [100, 114, 98], [147, 149, 146], [176, 171, 175], [176, 171, 175], [176, 171, 175], [176, 171, 175], [176, 171, 175], [176, 171, 175], [176, 171, 175], [176, 171, 175], [176, 171, 175], [176, 171, 175], [176, 171, 175], [176, 171, 175], [176, 171, 175], [176, 171, 175], [176, 171, 175], [176, 171, 175], [176, 171, 175], [176, 171, 175], [176, 171, 175], [176, 171, 175], [176, 171, 175], [176, 171, 175], [176, 171, 175], [176, 171, 175], [176, 171, 175], [176, 171, 175], [176, 171, 175], [176, 171, 175], [150, 144, 148], [111, 102, 108], [159, 153, 158], [176, 171, 175], [176, 171, 175], [176, 171, 175], [132, 125, 130], [117, 108, 115], [175, 170, 174], [176, 171, 175], [176, 171, 175], [176, 171, 175], [176, 171, 175], [176, 171, 175], [176, 171, 175], [176, 171, 175], [176, 171, 175], [176, 171, 175], [176, 171, 175], [176, 171, 175], [176, 171, 175], [176, 171, 175], [176, 171, 175], [176, 171, 175], [176, 171, 175], [176, 171, 175], [176, 171, 175], [176, 171, 175], [176, 171, 175], [176, 171, 175], [176, 171, 175], [176, 171, 175], [176, 171, 175], [176, 171, 175], [176, 171, 175], [176, 171, 175], [176, 171, 175], [176, 171, 175], [176, 171, 175], [176, 171, 175], [176, 171, 175], [176, 171, 175], [176, 171, 175], [176, 171, 175], [176, 171, 175], [176, 171, 175], [176, 171, 175], [176, 171, 175], [176, 171, 175], [87, 76, 104], [176, 171, 175], [176, 171, 175], [176, 171, 175], [176, 171, 175], [176, 171, 175], [176, 171, 175], [176, 171, 175], [176, 171, 175], [47, 73, 103], [47, 73, 103], [47, 73, 103], [47, 73, 103], [176, 171, 175], [176, 171, 175], [176, 171, 175], [50, 102, 93], [50, 102, 93], [50, 102, 93], [50, 102, 93], [50, 102, 93], [50, 102, 93], [50, 102, 93], [50, 102, 93], [50, 102, 93], [50, 102, 93], [50, 102, 93], [176, 171, 175], [176, 171, 175], [176, 171, 175], [176, 171, 175], [176, 171, 175], [176, 171, 175], [176, 171, 175], [176, 171, 175], [176, 171, 175], [176, 171, 175], [174, 169, 173], [144, 145, 144], [109, 115, 110], [165, 162, 164], [171, 166, 170], [131, 132, 130], [118, 121, 118], [164, 161, 164], [176, 171, 175]], [[176, 171, 175], [176, 171, 175], [176, 171, 175], [176, 171, 175], [176, 171, 175], [176, 171, 175], [176, 171, 175], [176, 171, 175], [176, 171, 175], [176, 171, 175], [176, 171, 175], [176, 171, 175], [176, 171, 175], [176, 171, 175], [144, 147, 142], [103, 117, 101], [176, 171, 175], [176, 171, 175], [176, 171, 175], [176, 171, 175], [176, 171, 175], [176, 171, 175], [176, 171, 175], [176, 171, 175], [176, 171, 175], [174, 169, 173], [170, 166, 170], [176, 171, 175], [176, 171, 175], [176, 171, 175], [176, 171, 175], [176, 171, 175], [176, 171, 175], [176, 171, 175], [176, 171, 175], [176, 171, 175], [176, 171, 175], [176, 171, 175], [176, 171, 175], [176, 171, 175], [176, 171, 175], [176, 171, 175], [176, 171, 175], [176, 171, 175], [176, 171, 175], [159, 153, 158], [167, 162, 166], [176, 171, 175], [176, 171, 175], [176, 171, 175], [176, 171, 175], [163, 158, 162], [124, 118, 123], [143, 137, 143], [176, 171, 175], [176, 171, 175], [176, 171, 175], [176, 171, 175], [176, 171, 175], [176, 171, 175], [176, 171, 175], [176, 171, 175], [176, 171, 175], [176, 171, 175], [176, 171, 175], [176, 171, 175], [176, 171, 175], [176, 171, 175], [176, 171, 175], [176, 171, 175], [176, 171, 175], [176, 171, 175], [176, 171, 175], [176, 171, 175], [176, 171, 175], [176, 171, 175], [176, 171, 175], [176, 171, 175], [176, 171, 175], [176, 171, 175], [176, 171, 175], [176, 171, 175], [176, 171, 175], [176, 171, 175], [176, 171, 175], [176, 171, 175], [176, 171, 175], [176, 171, 175], [176, 171, 175], [176, 171, 175], [50, 102, 93], [50, 102, 93], [50, 102, 93], [50, 102, 93], [50, 102, 93], [50, 102, 93], [50, 102, 93], [50, 102, 93], [50, 102, 93], [50, 102, 93], [50, 102, 93], [50, 102, 93], [50, 102, 93], [50, 102, 93], [50, 102, 93], [50, 102, 93], [50, 102, 93], [50, 102, 93], [50, 102, 93], [50, 102, 93], [173, 168, 172], [152, 148, 146], [119, 118, 107], [175, 170, 174], [176, 171, 175], [176, 171, 175], [176, 171, 175], [176, 171, 175], [176, 171, 175], [176, 171, 175], [69, 56, 108], [176, 171, 175], [176, 171, 175], [176, 171, 175], [176, 171, 175], [176, 171, 175], [176, 171, 175], [176, 171, 175], [87, 76, 104], [51, 75, 107], [162, 158, 161], [147, 145, 146], [99, 105, 99], [159, 156, 158], [176, 171, 175], [176, 171, 175], [176, 171, 175], [142, 143, 142], [126, 126, 126], [168, 165, 167]], [[176, 171, 175], [176, 171, 175], [176, 171, 175], [176, 171, 175], [176, 171, 175], [176, 171, 175], [176, 171, 175], [176, 171, 175], [176, 171, 175], [176, 171, 175], [176, 171, 175], [176, 171, 175], [176, 171, 175], [176, 171, 175], [109, 120, 107], [142, 145, 141], [175, 170, 174], [176, 171, 175], [176, 171, 175], [176, 171, 175], [176, 171, 175], [176, 171, 175], [176, 171, 175], [176, 171, 175], [176, 171, 175], [152, 148, 150], [122, 126, 120], [146, 147, 145], [176, 171, 175], [176, 171, 175], [176, 171, 175], [176, 171, 175], [176, 171, 175], [176, 171, 175], [176, 171, 175], [176, 171, 175], [176, 171, 175], [176, 171, 175], [176, 171, 175], [176, 171, 175], [176, 171, 175], [176, 171, 175], [176, 171, 175], [176, 171, 175], [176, 171, 175], [176, 171, 175], [176, 171, 175], [176, 171, 175], [176, 171, 175], [176, 171, 175], [176, 171, 175], [170, 165, 169], [128, 122, 127], [133, 128, 132], [170, 165, 169], [176, 171, 175], [176, 171, 175], [176, 171, 175], [176, 171, 175], [176, 171, 175], [176, 171, 175], [176, 171, 175], [176, 171, 175], [176, 171, 175], [176, 171, 175], [176, 171, 175], [176, 171, 175], [176, 171, 175], [176, 171, 175], [176, 171, 175], [50, 102, 93], [50, 102, 93], [50, 102, 93], [50, 102, 93], [50, 102, 93], [50, 102, 93], [50, 102, 93], [50, 102, 93], [50, 102, 93], [50, 102, 93], [50, 102, 93], [50, 102, 93], [50, 102, 93], [50, 102, 93], [50, 102, 93], [50, 102, 93], [50, 102, 93], [50, 102, 93], [50, 102, 93], [50, 102, 93], [176, 171, 175], [176, 171, 175], [176, 171, 175], [176, 171, 175], [47, 73, 103], [47, 73, 103], [47, 73, 103], [47, 73, 103], [47, 73, 103], [176, 171, 175], [176, 171, 175], [176, 171, 175], [176, 171, 175], [176, 171, 175], [176, 171, 175], [176, 171, 175], [176, 171, 175], [176, 171, 175], [176, 171, 175], [175, 170, 174], [155, 150, 153], [119, 118, 110], [152, 149, 148], [176, 171, 175], [176, 171, 175], [176, 171, 175], [176, 171, 175], [176, 171, 175], [176, 171, 175], [176, 171, 175], [69, 56, 108], [176, 171, 175], [176, 171, 175], [176, 171, 175], [176, 171, 175], [176, 171, 175], [176, 171, 175], [176, 171, 175], [176, 171, 175], [51, 75, 107], [125, 125, 124], [122, 121, 122], [150, 148, 149], [176, 171, 175], [176, 171, 175], [176, 171, 175], [176, 171, 175], [176, 171, 175], [169, 164, 168], [176, 171, 175]], [[176, 171, 175], [176, 171, 175], [176, 171, 175], [176, 171, 175], [176, 171, 175], [176, 171, 175], [176, 171, 175], [176, 171, 175], [176, 171, 175], [176, 171, 175], [176, 171, 175], [176, 171, 175], [176, 171, 175], [159, 157, 158], [116, 121, 114], [151, 148, 150], [176, 171, 175], [176, 171, 175], [176, 171, 175], [176, 171, 175], [176, 171, 175], [176, 171, 175], [176, 171, 175], [174, 169, 173], [158, 158, 157], [109, 117, 108], [120, 123, 118], [168, 165, 167], [176, 171, 175], [176, 171, 175], [176, 171, 175], [176, 171, 175], [176, 171, 175], [176, 171, 175], [176, 171, 175], [176, 171, 175], [176, 171, 175], [176, 171, 175], [176, 171, 175], [176, 171, 175], [176, 171, 175], [176, 171, 175], [176, 171, 175], [176, 171, 175], [176, 171, 175], [176, 171, 175], [176, 171, 175], [176, 171, 175], [176, 171, 175], [176, 171, 175], [50, 102, 93], [50, 102, 93], [50, 102, 93], [50, 102, 93], [50, 102, 93], [50, 102, 93], [50, 102, 93], [50, 102, 93], [50, 102, 93], [50, 102, 93], [50, 102, 93], [50, 102, 93], [50, 102, 93], [50, 102, 93], [50, 102, 93], [50, 102, 93], [50, 102, 93], [50, 102, 93], [50, 102, 93], [50, 102, 93], [176, 171, 175], [176, 171, 175], [176, 171, 175], [176, 171, 175], [176, 171, 175], [176, 171, 175], [176, 171, 175], [176, 171, 175], [176, 171, 175], [176, 171, 175], [176, 171, 175], [176, 171, 175], [176, 171, 175], [176, 171, 175], [176, 171, 175], [176, 171, 175], [176, 171, 175], [176, 171, 175], [176, 171, 175], [176, 171, 175], [47, 73, 103], [47, 73, 103], [47, 73, 103], [47, 73, 103], [176, 171, 175], [176, 171, 175], [176, 171, 175], [176, 171, 175], [176, 171, 175], [176, 171, 175], [176, 171, 175], [176, 171, 175], [176, 171, 175], [176, 171, 175], [176, 171, 175], [176, 171, 175], [176, 171, 175], [176, 171, 175], [176, 171, 175], [150, 146, 146], [129, 127, 126], [134, 131, 128], [176, 171, 175], [176, 171, 175], [176, 171, 175], [176, 171, 175], [176, 171, 175], [176, 171, 175], [176, 171, 175], [176, 171, 175], [176, 171, 175], [69, 56, 108], [176, 171, 175], [176, 171, 175], [176, 171, 175], [176, 171, 175], [176, 171, 175], [176, 171, 175], [51, 75, 107], [109, 113, 109], [137, 135, 136], [154, 151, 153], [176, 171, 175], [176, 171, 175], [176, 171, 175], [176, 171, 175], [176, 171, 175], [176, 171, 175], [176, 171, 175], [176, 171, 175]], [[176, 171, 175], [176, 171, 175], [176, 171, 175], [176, 171, 175], [176, 171, 175], [176, 171, 175], [176, 171, 175], [176, 171, 175], [176, 171, 175], [176, 171, 175], [176, 171, 175], [176, 171, 175], [176, 171, 175], [156, 153, 154], [119, 123, 118], [152, 150, 151], [176, 171, 175], [176, 171, 175], [176, 171, 175], [176, 171, 175], [176, 171, 175], [176, 171, 175], [176, 171, 175], [149, 148, 147], [114, 122, 113], [130, 135, 129], [168, 163, 167], [176, 171, 175], [176, 171, 175], [176, 171, 175], [50, 102, 93], [50, 102, 93], [50, 102, 93], [50, 102, 93], [50, 102, 93], [50, 102, 93], [50, 102, 93], [50, 102, 93], [50, 102, 93], [50, 102, 93], [50, 102, 93], [50, 102, 93], [50, 102, 93], [50, 102, 93], [50, 102, 93], [50, 102, 93], [50, 102, 93], [50, 102, 93], [50, 102, 93], [50, 102, 93], [176, 171, 175], [176, 171, 175], [157, 152, 156], [123, 116, 121], [81, 70, 77], [159, 152, 157], [176, 171, 175], [176, 171, 175], [176, 171, 175], [176, 171, 175], [176, 171, 175], [176, 171, 175], [176, 171, 175], [176, 171, 175], [176, 171, 175], [176, 171, 175], [176, 171, 175], [176, 171, 175], [176, 171, 175], [176, 171, 175], [176, 171, 175], [176, 171, 175], [176, 171, 175], [176, 171, 175], [176, 171, 175], [176, 171, 175], [176, 171, 175], [176, 171, 175], [176, 171, 175], [176, 171, 175], [176, 171, 175], [176, 171, 175], [176, 171, 175], [176, 171, 175], [176, 171, 175], [47, 73, 103], [47, 73, 103], [47, 73, 103], [47, 73, 103], [47, 73, 103], [176, 171, 175], [176, 171, 175], [176, 171, 175], [176, 171, 175], [176, 171, 175], [176, 171, 175], [176, 171, 175], [176, 171, 175], [176, 171, 175], [176, 171, 175], [176, 171, 175], [176, 171, 175], [176, 171, 175], [176, 171, 175], [176, 171, 175], [176, 171, 175], [176, 171, 175], [176, 171, 175], [171, 166, 169], [112, 112, 103], [141, 138, 138], [165, 160, 163], [176, 171, 175], [176, 171, 175], [176, 171, 175], [176, 171, 175], [176, 171, 175], [176, 171, 175], [176, 171, 175], [176, 171, 175], [176, 171, 175], [176, 171, 175], [69, 56, 108], [176, 171, 175], [176, 171, 175], [176, 171, 175], [175, 170, 174], [174, 169, 173], [51, 75, 107], [134, 135, 133], [171, 166, 170], [176, 171, 175], [176, 171, 175], [176, 171, 175], [176, 171, 175], [176, 171, 175], [176, 171, 175], [176, 171, 175], [176, 171, 175], [176, 171, 175]], [[176, 171, 175], [176, 171, 175], [176, 171, 175], [108, 109, 83], [108, 109, 83], [176, 171, 175], [176, 171, 175], [176, 171, 175], [176, 171, 175], [176, 171, 175], [176, 171, 175], [176, 171, 175], [176, 171, 175], [153, 152, 152], [96, 110, 93], [175, 170, 174], [176, 171, 175], [176, 171, 175], [176, 171, 175], [50, 102, 93], [50, 102, 93], [50, 102, 93], [50, 102, 93], [50, 102, 93], [50, 102, 93], [50, 102, 93], [50, 102, 93], [50, 102, 93], [50, 102, 93], [50, 102, 93], [176, 171, 175], [176, 171, 175], [176, 171, 175], [176, 171, 175], [176, 171, 175], [176, 171, 175], [176, 171, 175], [176, 171, 175], [176, 171, 175], [176, 171, 175], [176, 171, 175], [176, 171, 175], [176, 171, 175], [176, 171, 175], [176, 171, 175], [176, 171, 175], [176, 171, 175], [176, 171, 175], [176, 171, 175], [176, 171, 175], [176, 171, 175], [176, 171, 175], [176, 171, 175], [170, 165, 169], [114, 108, 111], [101, 93, 99], [164, 159, 163], [176, 171, 175], [176, 171, 175], [176, 171, 175], [176, 171, 175], [176, 171, 175], [176, 171, 175], [176, 171, 175], [176, 171, 175], [176, 171, 175], [176, 171, 175], [176, 171, 175], [176, 171, 175], [176, 171, 175], [176, 171, 175], [176, 171, 175], [176, 171, 175], [176, 171, 175], [176, 171, 175], [176, 171, 175], [176, 171, 175], [176, 171, 175], [176, 171, 175], [176, 171, 175], [176, 171, 175], [47, 73, 103], [47, 73, 103], [47, 73, 103], [47, 73, 103], [176, 171, 175], [176, 171, 175], [176, 171, 175], [176, 171, 175], [176, 171, 175], [176, 171, 175], [176, 171, 175], [176, 171, 175], [176, 171, 175], [176, 171, 175], [176, 171, 175], [176, 171, 175], [176, 171, 175], [176, 171, 175], [176, 171, 175], [176, 171, 175], [176, 171, 175], [176, 171, 175], [168, 163, 167], [176, 171, 175], [176, 171, 175], [176, 171, 175], [176, 171, 175], [136, 135, 127], [133, 132, 125], [170, 165, 169], [176, 171, 175], [176, 171, 175], [176, 171, 175], [176, 171, 175], [176, 171, 175], [176, 171, 175], [176, 171, 175], [176, 171, 175], [176, 171, 175], [176, 171, 175], [176, 171, 175], [69, 56, 108], [176, 171, 175], [176, 171, 175], [176, 171, 175], [150, 148, 151], [51, 75, 107], [123, 125, 122], [165, 160, 164], [154, 149, 153], [155, 149, 153], [176, 171, 175], [176, 171, 175], [176, 171, 175], [176, 171, 175], [176, 171, 175], [176, 171, 175], [176, 171, 175], [176, 171, 175]], [[176, 171, 175], [176, 171, 175], [176, 171, 175], [176, 171, 175], [176, 171, 175], [108, 109, 83], [108, 109, 83], [176, 171, 175], [176, 171, 175], [176, 171, 175], [176, 171, 175], [176, 171, 175], [176, 171, 175], [115, 125, 114], [130, 137, 129], [176, 171, 175], [176, 171, 175], [176, 171, 175], [176, 171, 175], [176, 171, 175], [163, 159, 162], [105, 117, 103], [122, 128, 121], [141, 142, 140], [152, 146, 149], [143, 136, 138], [132, 125, 127], [120, 112, 112], [115, 106, 105], [144, 138, 141], [170, 165, 169], [176, 171, 175], [176, 171, 175], [176, 171, 175], [176, 171, 175], [176, 171, 175], [176, 171, 175], [176, 171, 175], [176, 171, 175], [176, 171, 175], [176, 171, 175], [176, 171, 175], [176, 171, 175], [176, 171, 175], [176, 171, 175], [176, 171, 175], [176, 171, 175], [176, 171, 175], [176, 171, 175], [176, 171, 175], [174, 169, 173], [166, 161, 165], [173, 168, 172], [161, 157, 161], [138, 134, 137], [109, 103, 108], [118, 114, 116], [172, 167, 171], [176, 171, 175], [176, 171, 175], [176, 171, 175], [176, 171, 175], [176, 171, 175], [176, 171, 175], [176, 171, 175], [176, 171, 175], [176, 171, 175], [176, 171, 175], [176, 171, 175], [175, 170, 174], [158, 156, 158], [175, 170, 174], [176, 171, 175], [176, 171, 175], [176, 171, 175], [176, 171, 175], [47, 73, 103], [47, 73, 103], [47, 73, 103], [47, 73, 103], [47, 73, 103], [176, 171, 175], [176, 171, 175], [176, 171, 175], [176, 171, 175], [176, 171, 175], [176, 171, 175], [176, 171, 175], [176, 171, 175], [176, 171, 175], [176, 171, 175], [176, 171, 175], [176, 171, 175], [176, 171, 175], [176, 171, 175], [176, 171, 175], [176, 171, 175], [176, 171, 175], [176, 171, 175], [176, 171, 175], [176, 171, 175], [43, 75, 82], [157, 151, 155], [153, 149, 152], [149, 145, 149], [176, 171, 175], [170, 166, 170], [157, 152, 154], [105, 105, 91], [169, 164, 167], [176, 171, 175], [176, 171, 175], [176, 171, 175], [176, 171, 175], [176, 171, 175], [176, 171, 175], [176, 171, 175], [176, 171, 175], [176, 171, 175], [176, 171, 175], [176, 171, 175], [176, 171, 175], [176, 171, 175], [69, 56, 108], [176, 171, 175], [139, 138, 138], [119, 119, 118], [51, 75, 107], [140, 136, 139], [152, 147, 151], [162, 158, 161], [173, 168, 172], [176, 171, 175], [176, 171, 175], [176, 171, 175], [176, 171, 175], [176, 171, 175], [176, 171, 175], [176, 171, 175], [176, 171, 175]], [[176, 171, 175], [176, 171, 175], [176, 171, 175], [176, 171, 175], [176, 171, 175], [176, 171, 175], [176, 171, 175], [108, 109, 83], [108, 109, 83], [176, 171, 175], [176, 171, 175], [176, 171, 175], [163, 160, 162], [92, 106, 89], [171, 167, 170], [176, 171, 175], [176, 171, 175], [176, 171, 175], [173, 168, 172], [139, 143, 138], [115, 117, 111], [88, 84, 78], [168, 163, 167], [154, 147, 151], [127, 119, 122], [136, 128, 130], [145, 139, 142], [154, 148, 151], [155, 149, 152], [103, 95, 94], [129, 123, 125], [176, 171, 175], [176, 171, 175], [176, 171, 175], [176, 171, 175], [176, 171, 175], [176, 171, 175], [176, 171, 175], [176, 171, 175], [176, 171, 175], [176, 171, 175], [176, 171, 175], [176, 171, 175], [176, 171, 175], [176, 171, 175], [176, 171, 175], [176, 171, 175], [176, 171, 175], [176, 171, 175], [173, 168, 172], [154, 150, 153], [159, 154, 158], [167, 162, 166], [152, 148, 151], [163, 158, 162], [127, 120, 125], [113, 107, 111], [144, 140, 144], [168, 163, 167], [176, 171, 175], [176, 171, 175], [176, 171, 175], [176, 171, 175], [176, 171, 175], [176, 171, 175], [176, 171, 175], [167, 164, 166], [143, 143, 144], [117, 121, 120], [88, 97, 93], [113, 115, 116], [119, 123, 121], [47, 73, 103], [47, 73, 103], [47, 73, 103], [47, 73, 103], [176, 171, 175], [176, 171, 175], [176, 171, 175], [176, 171, 175], [176, 171, 175], [176, 171, 175], [176, 171, 175], [176, 171, 175], [176, 171, 175], [176, 171, 175], [176, 171, 175], [176, 171, 175], [176, 171, 175], [176, 171, 175], [176, 171, 175], [176, 171, 175], [176, 171, 175], [173, 168, 172], [176, 171, 175], [176, 171, 175], [176, 171, 175], [176, 171, 175], [176, 171, 175], [176, 171, 175], [147, 143, 147], [160, 154, 158], [43, 75, 82], [176, 171, 175], [156, 152, 155], [150, 145, 149], [145, 141, 143], [128, 126, 123], [143, 140, 137], [176, 171, 175], [176, 171, 175], [176, 171, 175], [176, 171, 175], [176, 171, 175], [176, 171, 175], [176, 171, 175], [176, 171, 175], [176, 171, 175], [176, 171, 175], [176, 171, 175], [176, 171, 175], [176, 171, 175], [176, 171, 175], [175, 170, 174], [69, 56, 108], [95, 100, 95], [132, 128, 131], [51, 75, 107], [173, 168, 172], [176, 171, 175], [176, 171, 175], [176, 171, 175], [176, 171, 175], [176, 171, 175], [176, 171, 175], [176, 171, 175], [176, 171, 175], [176, 171, 175], [176, 171, 175], [176, 171, 175]], [[176, 171, 175], [176, 171, 175], [176, 171, 175], [176, 171, 175], [176, 171, 175], [176, 171, 175], [176, 171, 175], [176, 171, 175], [176, 171, 175], [108, 109, 83], [108, 109, 83], [176, 171, 175], [139, 140, 138], [124, 127, 123], [164, 159, 163], [176, 171, 175], [175, 170, 174], [167, 164, 166], [121, 123, 119], [103, 114, 102], [145, 146, 144], [97, 87, 87], [151, 146, 149], [116, 107, 108], [160, 156, 159], [176, 171, 175], [176, 171, 175], [176, 171, 175], [176, 171, 175], [173, 168, 172], [101, 90, 89], [161, 156, 159], [175, 170, 174], [176, 171, 175], [87, 76, 104], [176, 171, 175], [176, 171, 175], [176, 171, 175], [176, 171, 175], [176, 171, 175], [176, 171, 175], [176, 171, 175], [176, 171, 175], [176, 171, 175], [176, 171, 175], [176, 171, 175], [176, 171, 175], [176, 171, 175], [176, 171, 175], [176, 171, 175], [170, 165, 169], [156, 152, 155], [145, 142, 144], [144, 140, 144], [157, 152, 156], [149, 143, 147], [89, 80, 86], [115, 108, 114], [154, 150, 152], [175, 170, 174], [176, 171, 175], [176, 171, 175], [176, 171, 175], [176, 171, 175], [169, 164, 168], [123, 125, 126], [94, 101, 98], [47, 73, 103], [47, 73, 103], [47, 73, 103], [47, 73, 103], [47, 73, 103], [117, 120, 119], [138, 139, 139], [176, 171, 175], [176, 171, 175], [176, 171, 175], [176, 171, 175], [176, 171, 175], [176, 171, 175], [176, 171, 175], [176, 171, 175], [176, 171, 175], [176, 171, 175], [176, 171, 175], [176, 171, 175], [176, 171, 175], [176, 171, 175], [176, 171, 175], [176, 171, 175], [176, 171, 175], [176, 171, 175], [109, 110, 99], [155, 151, 152], [175, 170, 174], [176, 171, 175], [176, 171, 175], [176, 171, 175], [176, 171, 175], [145, 141, 144], [163, 159, 163], [173, 168, 172], [176, 171, 175], [43, 75, 82], [167, 162, 166], [133, 131, 130], [121, 119, 115], [136, 133, 133], [173, 168, 172], [176, 171, 175], [176, 171, 175], [176, 171, 175], [176, 171, 175], [176, 171, 175], [176, 171, 175], [176, 171, 175], [176, 171, 175], [176, 171, 175], [176, 171, 175], [176, 171, 175], [176, 171, 175], [176, 171, 175], [170, 165, 169], [155, 153, 154], [69, 56, 108], [132, 131, 131], [51, 75, 107], [158, 154, 157], [87, 76, 104], [170, 165, 169], [163, 158, 162], [166, 161, 165], [173, 168, 172], [176, 171, 175], [176, 171, 175], [176, 171, 175], [176, 171, 175], [176, 171, 175], [176, 171, 175], [176, 171, 175]], [[176, 171, 175], [176, 171, 175], [176, 171, 175], [176, 171, 175], [176, 171, 175], [176, 171, 175], [176, 171, 175], [176, 171, 175], [176, 171, 175], [176, 171, 175], [176, 171, 175], [108, 109, 83], [108, 109, 83], [118, 121, 116], [168, 165, 167], [175, 170, 174], [140, 142, 139], [120, 128, 118], [119, 129, 118], [155, 152, 154], [152, 148, 151], [107, 97, 98], [109, 100, 101], [168, 162, 166], [176, 171, 175], [176, 171, 175], [176, 171, 175], [176, 171, 175], [176, 171, 175], [176, 171, 175], [130, 124, 126], [132, 126, 129], [166, 161, 165], [176, 171, 175], [176, 171, 175], [176, 171, 175], [176, 171, 175], [176, 171, 175], [176, 171, 175], [176, 171, 175], [176, 171, 175], [176, 171, 175], [176, 171, 175], [176, 171, 175], [176, 171, 175], [176, 171, 175], [176, 171, 175], [176, 171, 175], [176, 171, 175], [176, 171, 175], [170, 166, 170], [141, 138, 141], [143, 139, 142], [161, 156, 160], [164, 159, 163], [167, 162, 166], [156, 150, 154], [89, 79, 87], [125, 119, 123], [176, 171, 175], [176, 171, 175], [176, 171, 175], [176, 171, 175], [47, 73, 103], [47, 73, 103], [47, 73, 103], [47, 73, 103], [176, 171, 175], [176, 171, 175], [176, 171, 175], [176, 171, 175], [168, 164, 167], [144, 143, 144], [99, 107, 104], [176, 171, 175], [176, 171, 175], [176, 171, 175], [176, 171, 175], [176, 171, 175], [176, 171, 175], [176, 171, 175], [176, 171, 175], [176, 171, 175], [176, 171, 175], [176, 171, 175], [176, 171, 175], [176, 171, 175], [176, 171, 175], [176, 171, 175], [176, 171, 175], [176, 171, 175], [176, 171, 175], [127, 125, 121], [158, 153, 156], [176, 171, 175], [176, 171, 175], [176, 171, 175], [176, 171, 175], [145, 141, 144], [163, 159, 163], [176, 171, 175], [176, 171, 175], [176, 171, 175], [164, 159, 162], [43, 75, 82], [112, 111, 101], [142, 139, 137], [166, 161, 164], [176, 171, 175], [176, 171, 175], [176, 171, 175], [176, 171, 175], [176, 171, 175], [176, 171, 175], [176, 171, 175], [176, 171, 175], [176, 171, 175], [176, 171, 175], [176, 171, 175], [176, 171, 175], [176, 171, 175], [163, 159, 162], [139, 136, 138], [114, 117, 113], [141, 141, 141], [69, 56, 108], [51, 75, 107], [160, 156, 159], [162, 158, 162], [149, 144, 148], [158, 154, 157], [159, 154, 158], [147, 143, 146], [176, 171, 175], [176, 171, 175], [176, 171, 175], [176, 171, 175], [176, 171, 175], [176, 171, 175], [176, 171, 175]], [[176, 171, 175], [176, 171, 175], [176, 171, 175], [176, 171, 175], [176, 171, 175], [176, 171, 175], [176, 171, 175], [176, 171, 175], [176, 171, 175], [176, 171, 175], [176, 171, 175], [175, 170, 174], [128, 133, 126], [108, 109, 83], [108, 109, 83], [108, 109, 83], [94, 109, 92], [141, 140, 139], [168, 165, 167], [176, 171, 175], [139, 133, 135], [99, 87, 85], [149, 141, 143], [175, 170, 174], [176, 171, 175], [176, 171, 175], [176, 171, 175], [176, 171, 175], [176, 171, 175], [176, 171, 175], [152, 147, 150], [125, 118, 121], [154, 149, 151], [176, 171, 175], [176, 171, 175], [176, 171, 175], [176, 171, 175], [176, 171, 175], [176, 171, 175], [176, 171, 175], [176, 171, 175], [176, 171, 175], [176, 171, 175], [176, 171, 175], [176, 171, 175], [176, 171, 175], [176, 171, 175], [176, 171, 175], [176, 171, 175], [176, 171, 175], [171, 166, 170], [168, 163, 167], [167, 162, 166], [146, 142, 145], [164, 160, 163], [176, 171, 175], [175, 170, 174], [149, 143, 148], [47, 73, 103], [47, 73, 103], [47, 73, 103], [47, 73, 103], [47, 73, 103], [156, 152, 156], [116, 119, 118], [95, 103, 90], [176, 171, 175], [176, 171, 175], [176, 171, 175], [176, 171, 175], [176, 171, 175], [176, 171, 175], [176, 171, 175], [84, 95, 91], [165, 161, 164], [176, 171, 175], [176, 171, 175], [176, 171, 175], [176, 171, 175], [176, 171, 175], [176, 171, 175], [176, 171, 175], [176, 171, 175], [176, 171, 175], [176, 171, 175], [176, 171, 175], [176, 171, 175], [176, 171, 175], [176, 171, 175], [176, 171, 175], [176, 171, 175], [165, 160, 163], [119, 118, 110], [158, 155, 155], [176, 171, 175], [175, 170, 174], [176, 171, 175], [165, 160, 164], [152, 146, 150], [173, 168, 172], [176, 171, 175], [176, 171, 175], [162, 158, 161], [145, 141, 144], [142, 139, 136], [43, 75, 82], [175, 170, 174], [176, 171, 175], [176, 171, 175], [176, 171, 175], [176, 171, 175], [176, 171, 175], [176, 171, 175], [176, 171, 175], [163, 160, 162], [166, 162, 165], [176, 171, 175], [176, 171, 175], [176, 171, 175], [176, 171, 175], [170, 166, 169], [119, 122, 119], [129, 128, 128], [145, 144, 144], [176, 171, 175], [176, 171, 175], [51, 75, 107], [176, 171, 175], [175, 170, 174], [176, 171, 175], [176, 171, 175], [173, 168, 172], [176, 171, 175], [176, 171, 175], [176, 171, 175], [176, 171, 175], [176, 171, 175], [176, 171, 175], [176, 171, 175], [176, 171, 175]], [[176, 171, 175], [176, 171, 175], [176, 171, 175], [176, 171, 175], [176, 171, 175], [176, 171, 175], [176, 171, 175], [176, 171, 175], [176, 171, 175], [176, 171, 175], [176, 171, 175], [174, 169, 173], [87, 105, 85], [145, 145, 143], [112, 121, 110], [126, 128, 124], [108, 109, 83], [108, 109, 83], [176, 171, 175], [176, 171, 175], [133, 127, 128], [112, 104, 105], [153, 148, 151], [176, 171, 175], [176, 171, 175], [176, 171, 175], [176, 171, 175], [176, 171, 175], [176, 171, 175], [176, 171, 175], [162, 157, 161], [128, 123, 125], [144, 139, 141], [176, 171, 175], [176, 171, 175], [176, 171, 175], [176, 171, 175], [176, 171, 175], [176, 171, 175], [176, 171, 175], [176, 171, 175], [176, 171, 175], [176, 171, 175], [176, 171, 175], [176, 171, 175], [176, 171, 175], [176, 171, 175], [176, 171, 175], [176, 171, 175], [176, 171, 175], [176, 171, 175], [64, 91, 83], [64, 91, 83], [170, 164, 168], [47, 73, 103], [47, 73, 103], [47, 73, 103], [47, 73, 103], [129, 123, 128], [139, 134, 138], [173, 168, 172], [176, 171, 175], [173, 168, 172], [132, 131, 132], [95, 103, 90], [176, 171, 175], [176, 171, 175], [176, 171, 175], [176, 171, 175], [176, 171, 175], [176, 171, 175], [176, 171, 175], [176, 171, 175], [113, 119, 116], [136, 137, 138], [176, 171, 175], [176, 171, 175], [176, 171, 175], [176, 171, 175], [176, 171, 175], [176, 171, 175], [176, 171, 175], [176, 171, 175], [176, 171, 175], [176, 171, 175], [176, 171, 175], [176, 171, 175], [176, 171, 175], [176, 171, 175], [176, 171, 175], [176, 171, 175], [155, 150, 153], [110, 108, 103], [134, 131, 131], [151, 147, 150], [164, 159, 163], [176, 171, 175], [176, 171, 175], [160, 154, 159], [150, 145, 149], [168, 163, 167], [161, 156, 160], [146, 142, 145], [144, 141, 142], [119, 117, 109], [157, 152, 152], [43, 75, 82], [43, 75, 82], [176, 171, 175], [176, 171, 175], [176, 171, 175], [176, 171, 175], [176, 171, 175], [176, 171, 175], [160, 157, 159], [109, 114, 109], [149, 147, 148], [176, 171, 175], [176, 171, 175], [176, 171, 175], [119, 123, 119], [132, 134, 132], [160, 156, 159], [176, 171, 175], [176, 171, 175], [51, 75, 107], [69, 56, 108], [176, 171, 175], [176, 171, 175], [176, 171, 175], [176, 171, 175], [176, 171, 175], [176, 171, 175], [176, 171, 175], [176, 171, 175], [176, 171, 175], [176, 171, 175], [176, 171, 175], [176, 171, 175], [176, 171, 175]], [[89, 94, 85], [89, 94, 85], [89, 94, 85], [89, 94, 85], [89, 94, 85], [89, 94, 85], [89, 94, 85], [176, 171, 175], [176, 171, 175], [176, 171, 175], [176, 171, 175], [137, 140, 135], [85, 102, 83], [111, 119, 108], [121, 128, 120], [174, 169, 173], [175, 170, 174], [176, 171, 175], [108, 109, 83], [108, 109, 83], [137, 129, 130], [124, 115, 116], [169, 164, 168], [176, 171, 175], [176, 171, 175], [176, 171, 175], [176, 171, 175], [176, 171, 175], [176, 171, 175], [176, 171, 175], [162, 158, 161], [131, 126, 128], [140, 135, 137], [176, 171, 175], [176, 171, 175], [176, 171, 175], [176, 171, 175], [176, 171, 175], [176, 171, 175], [176, 171, 175], [176, 171, 175], [176, 171, 175], [176, 171, 175], [176, 171, 175], [176, 171, 175], [176, 171, 175], [176, 171, 175], [176, 171, 175], [176, 171, 175], [47, 73, 103], [47, 73, 103], [47, 73, 103], [47, 73, 103], [47, 73, 103], [153, 148, 152], [167, 163, 166], [176, 171, 175], [176, 171, 175], [135, 129, 134], [125, 117, 122], [170, 165, 169], [176, 171, 175], [174, 169, 173], [98, 106, 103], [95, 103, 90], [176, 171, 175], [176, 171, 175], [176, 171, 175], [171, 166, 170], [158, 154, 158], [161, 157, 160], [176, 171, 175], [175, 170, 174], [140, 141, 141], [112, 118, 116], [176, 171, 175], [176, 171, 175], [176, 171, 175], [176, 171, 175], [176, 171, 175], [176, 171, 175], [176, 171, 175], [176, 171, 175], [176, 171, 175], [176, 171, 175], [176, 171, 175], [176, 171, 175], [176, 171, 175], [176, 171, 175], [165, 161, 164], [132, 129, 132], [139, 136, 139], [125, 123, 121], [130, 128, 125], [152, 148, 152], [141, 137, 140], [176, 171, 175], [176, 171, 175], [176, 171, 175], [160, 155, 159], [157, 152, 156], [152, 147, 151], [136, 134, 131], [129, 127, 124], [139, 136, 135], [176, 171, 175], [176, 171, 175], [176, 171, 175], [43, 75, 82], [176, 171, 175], [176, 171, 175], [176, 171, 175], [176, 171, 175], [176, 171, 175], [176, 171, 175], [159, 156, 158], [112, 117, 112], [135, 136, 134], [164, 160, 163], [131, 133, 132], [120, 124, 121], [176, 171, 175], [175, 170, 174], [176, 171, 175], [176, 171, 175], [51, 75, 107], [176, 171, 175], [69, 56, 108], [176, 171, 175], [176, 171, 175], [176, 171, 175], [176, 171, 175], [176, 171, 175], [176, 171, 175], [176, 171, 175], [176, 171, 175], [176, 171, 175], [176, 171, 175], [176, 171, 175], [176, 171, 175]], [[89, 94, 85], [89, 94, 85], [89, 94, 85], [89, 94, 85], [89, 94, 85], [89, 94, 85], [89, 94, 85], [89, 94, 85], [89, 94, 85], [174, 169, 173], [89, 94, 85], [96, 110, 94], [101, 112, 100], [146, 147, 145], [170, 165, 169], [176, 171, 175], [176, 171, 175], [176, 171, 175], [176, 171, 175], [176, 171, 175], [108, 109, 83], [108, 109, 83], [176, 171, 175], [176, 171, 175], [176, 171, 175], [176, 171, 175], [176, 171, 175], [176, 171, 175], [176, 171, 175], [176, 171, 175], [163, 158, 162], [125, 120, 122], [144, 139, 142], [176, 171, 175], [176, 171, 175], [176, 171, 175], [176, 171, 175], [176, 171, 175], [176, 171, 175], [176, 171, 175], [176, 171, 175], [176, 171, 175], [176, 171, 175], [176, 171, 175], [176, 171, 175], [47, 73, 103], [47, 73, 103], [47, 73, 103], [47, 73, 103], [176, 171, 175], [176, 171, 175], [176, 171, 175], [176, 171, 175], [176, 171, 175], [165, 161, 164], [143, 139, 142], [166, 161, 165], [176, 171, 175], [176, 171, 175], [115, 105, 112], [131, 123, 130], [176, 171, 175], [154, 152, 154], [123, 123, 124], [95, 103, 90], [176, 171, 175], [176, 171, 175], [176, 171, 175], [174, 169, 173], [154, 149, 153], [157, 152, 156], [87, 76, 104], [173, 168, 172], [129, 129, 130], [124, 125, 125], [175, 170, 174], [176, 171, 175], [176, 171, 175], [176, 171, 175], [176, 171, 175], [176, 171, 175], [176, 171, 175], [176, 171, 175], [176, 171, 175], [176, 171, 175], [176, 171, 175], [176, 171, 175], [176, 171, 175], [176, 171, 175], [173, 168, 172], [144, 140, 143], [176, 171, 175], [161, 157, 158], [121, 120, 112], [126, 124, 119], [138, 134, 134], [172, 167, 171], [176, 171, 175], [176, 171, 175], [172, 167, 171], [163, 159, 161], [145, 142, 141], [104, 104, 89], [157, 153, 155], [170, 166, 170], [176, 171, 175], [176, 171, 175], [176, 171, 175], [176, 171, 175], [43, 75, 82], [176, 171, 175], [176, 171, 175], [176, 171, 175], [176, 171, 175], [176, 171, 175], [176, 171, 175], [172, 167, 171], [122, 127, 122], [105, 111, 104], [111, 116, 111], [171, 167, 170], [176, 171, 175], [176, 171, 175], [176, 171, 175], [51, 75, 107], [176, 171, 175], [176, 171, 175], [176, 171, 175], [69, 56, 108], [176, 171, 175], [176, 171, 175], [176, 171, 175], [176, 171, 175], [176, 171, 175], [176, 171, 175], [176, 171, 175], [176, 171, 175], [176, 171, 175], [176, 171, 175], [176, 171, 175]], [[89, 94, 85], [89, 94, 85], [89, 94, 85], [89, 94, 85], [89, 94, 85], [89, 94, 85], [89, 94, 85], [89, 94, 85], [89, 94, 85], [142, 144, 141], [122, 126, 122], [118, 127, 117], [168, 164, 167], [89, 94, 85], [89, 94, 85], [89, 94, 85], [89, 94, 85], [89, 94, 85], [89, 94, 85], [175, 170, 174], [153, 146, 149], [116, 107, 108], [108, 109, 83], [108, 109, 83], [176, 171, 175], [176, 171, 175], [176, 171, 175], [176, 171, 175], [176, 171, 175], [176, 171, 175], [168, 163, 166], [112, 104, 105], [159, 154, 158], [176, 171, 175], [176, 171, 175], [176, 171, 175], [176, 171, 175], [176, 171, 175], [176, 171, 175], [176, 171, 175], [176, 171, 175], [47, 73, 103], [47, 73, 103], [47, 73, 103], [47, 73, 103], [64, 91, 83], [64, 91, 83], [176, 171, 175], [176, 171, 175], [176, 171, 175], [176, 171, 175], [176, 171, 175], [176, 171, 175], [176, 171, 175], [176, 171, 175], [162, 158, 161], [158, 152, 156], [175, 170, 174], [176, 171, 175], [170, 164, 168], [106, 94, 103], [141, 134, 139], [166, 163, 165], [150, 147, 150], [95, 103, 90], [87, 76, 104], [176, 171, 175], [176, 171, 175], [176, 171, 175], [157, 152, 156], [161, 157, 161], [176, 171, 175], [175, 170, 174], [105, 112, 109], [148, 147, 148], [175, 170, 174], [176, 171, 175], [176, 171, 175], [176, 171, 175], [176, 171, 175], [176, 171, 175], [176, 171, 175], [176, 171, 175], [176, 171, 175], [176, 171, 175], [176, 171, 175], [176, 171, 175], [176, 171, 175], [176, 171, 175], [176, 171, 175], [149, 145, 148], [166, 161, 165], [174, 169, 173], [176, 171, 175], [151, 147, 146], [108, 106, 98], [125, 122, 117], [159, 155, 155], [140, 137, 135], [140, 137, 136], [121, 119, 113], [132, 129, 127], [149, 146, 146], [176, 171, 175], [176, 171, 175], [176, 171, 175], [176, 171, 175], [176, 171, 175], [176, 171, 175], [176, 171, 175], [43, 75, 82], [176, 171, 175], [176, 171, 175], [176, 171, 175], [176, 171, 175], [176, 171, 175], [176, 171, 175], [176, 171, 175], [131, 136, 132], [104, 110, 104], [155, 153, 154], [176, 171, 175], [176, 171, 175], [176, 171, 175], [51, 75, 107], [176, 171, 175], [176, 171, 175], [176, 171, 175], [176, 171, 175], [69, 56, 108], [176, 171, 175], [176, 171, 175], [176, 171, 175], [176, 171, 175], [176, 171, 175], [176, 171, 175], [176, 171, 175], [176, 171, 175], [176, 171, 175], [176, 171, 175]], [[89, 94, 85], [89, 94, 85], [89, 94, 85], [89, 94, 85], [89, 94, 85], [89, 94, 85], [89, 94, 85], [167, 163, 165], [139, 139, 138], [91, 107, 87], [150, 150, 149], [166, 162, 165], [89, 94, 85], [89, 94, 85], [89, 94, 85], [89, 94, 85], [89, 94, 85], [172, 167, 171], [173, 168, 172], [174, 169, 173], [143, 137, 140], [119, 112, 113], [157, 154, 157], [160, 155, 159], [108, 109, 83], [108, 109, 83], [108, 109, 83], [89, 94, 85], [89, 94, 85], [89, 94, 85], [89, 94, 85], [100, 89, 89], [171, 166, 170], [176, 171, 175], [176, 171, 175], [176, 171, 175], [47, 73, 103], [47, 73, 103], [47, 73, 103], [47, 73, 103], [47, 73, 103], [176, 171, 175], [64, 91, 83], [64, 91, 83], [64, 91, 83], [176, 171, 175], [176, 171, 175], [176, 171, 175], [176, 171, 175], [176, 171, 175], [176, 171, 175], [176, 171, 175], [176, 171, 175], [176, 171, 175], [171, 166, 170], [145, 141, 144], [166, 161, 164], [176, 171, 175], [176, 171, 175], [176, 171, 175], [153, 148, 153], [112, 104, 109], [156, 150, 154], [95, 103, 90], [176, 171, 175], [176, 171, 175], [176, 171, 175], [176, 171, 175], [176, 171, 175], [156, 150, 155], [164, 160, 163], [176, 171, 175], [153, 150, 153], [116, 119, 119], [157, 153, 156], [176, 171, 175], [176, 171, 175], [176, 171, 175], [176, 171, 175], [176, 171, 175], [176, 171, 175], [176, 171, 175], [176, 171, 175], [176, 171, 175], [176, 171, 175], [176, 171, 175], [176, 171, 175], [176, 171, 175], [176, 171, 175], [176, 171, 175], [160, 155, 159], [152, 148, 151], [161, 156, 160], [157, 152, 156], [150, 146, 150], [149, 145, 148], [138, 135, 132], [129, 127, 123], [140, 136, 135], [134, 133, 127], [154, 151, 150], [176, 171, 175], [175, 170, 174], [176, 171, 175], [176, 171, 175], [176, 171, 175], [176, 171, 175], [176, 171, 175], [176, 171, 175], [176, 171, 175], [176, 171, 175], [43, 75, 82], [176, 171, 175], [176, 171, 175], [176, 171, 175], [176, 171, 175], [176, 171, 175], [176, 171, 175], [176, 171, 175], [151, 150, 150], [105, 109, 104], [142, 142, 141], [176, 171, 175], [176, 171, 175], [51, 75, 107], [176, 171, 175], [176, 171, 175], [176, 171, 175], [176, 171, 175], [69, 56, 108], [176, 171, 175], [176, 171, 175], [176, 171, 175], [176, 171, 175], [176, 171, 175], [176, 171, 175], [176, 171, 175], [176, 171, 175], [176, 171, 175], [176, 171, 175]], [[176, 171, 175], [176, 171, 175], [176, 171, 175], [176, 171, 175], [176, 171, 175], [176, 171, 175], [176, 171, 175], [119, 127, 117], [126, 130, 125], [147, 146, 145], [175, 170, 174], [89, 94, 85], [89, 94, 85], [89, 94, 85], [89, 94, 85], [89, 94, 85], [173, 168, 172], [138, 134, 137], [163, 159, 163], [175, 170, 174], [125, 118, 121], [116, 112, 114], [154, 149, 153], [166, 163, 166], [89, 94, 85], [89, 94, 85], [89, 94, 85], [108, 109, 83], [108, 109, 83], [89, 94, 85], [89, 94, 85], [111, 101, 100], [47, 73, 103], [47, 73, 103], [47, 73, 103], [47, 73, 103], [89, 94, 85], [89, 94, 85], [89, 94, 85], [89, 94, 85], [64, 91, 83], [64, 91, 83], [176, 171, 175], [176, 171, 175], [176, 171, 175], [176, 171, 175], [176, 171, 175], [176, 171, 175], [176, 171, 175], [176, 171, 175], [176, 171, 175], [176, 171, 175], [176, 171, 175], [176, 171, 175], [176, 171, 175], [161, 157, 161], [176, 171, 175], [176, 171, 175], [176, 171, 175], [176, 171, 175], [162, 157, 162], [130, 125, 130], [161, 155, 159], [95, 103, 90], [176, 171, 175], [176, 171, 175], [176, 171, 175], [176, 171, 175], [166, 161, 165], [156, 151, 155], [168, 164, 167], [172, 167, 171], [131, 132, 133], [127, 127, 129], [176, 171, 175], [176, 171, 175], [176, 171, 175], [176, 171, 175], [176, 171, 175], [176, 171, 175], [176, 171, 175], [176, 171, 175], [176, 171, 175], [176, 171, 175], [176, 171, 175], [176, 171, 175], [176, 171, 175], [176, 171, 175], [176, 171, 175], [176, 171, 175], [175, 170, 174], [171, 166, 170], [155, 150, 154], [176, 171, 175], [176, 171, 175], [176, 171, 175], [176, 171, 175], [175, 170, 174], [174, 169, 173], [176, 171, 175], [175, 170, 174], [176, 171, 175], [176, 171, 175], [176, 171, 175], [176, 171, 175], [176, 171, 175], [176, 171, 175], [176, 171, 175], [176, 171, 175], [176, 171, 175], [176, 171, 175], [176, 171, 175], [43, 75, 82], [176, 171, 175], [176, 171, 175], [176, 171, 175], [176, 171, 175], [176, 171, 175], [176, 171, 175], [176, 171, 175], [165, 161, 164], [131, 132, 130], [158, 155, 157], [51, 75, 107], [176, 171, 175], [176, 171, 175], [176, 171, 175], [176, 171, 175], [176, 171, 175], [176, 171, 175], [69, 56, 108], [176, 171, 175], [176, 171, 175], [176, 171, 175], [176, 171, 175], [176, 171, 175], [176, 171, 175], [176, 171, 175], [176, 171, 175], [176, 171, 175]], [[176, 171, 175], [176, 171, 175], [176, 171, 175], [176, 171, 175], [176, 171, 175], [175, 170, 174], [162, 160, 161], [88, 105, 87], [169, 165, 168], [176, 171, 175], [176, 171, 175], [176, 171, 175], [176, 171, 175], [176, 171, 175], [176, 171, 175], [87, 76, 104], [89, 94, 85], [167, 162, 166], [147, 143, 147], [161, 158, 161], [101, 94, 94], [133, 128, 131], [174, 169, 173], [89, 94, 85], [89, 94, 85], [89, 94, 85], [89, 94, 85], [47, 73, 103], [47, 73, 103], [108, 109, 83], [108, 109, 83], [47, 73, 103], [153, 146, 149], [89, 94, 85], [89, 94, 85], [89, 94, 85], [89, 94, 85], [89, 94, 85], [64, 91, 83], [64, 91, 83], [89, 94, 85], [89, 94, 85], [89, 94, 85], [89, 94, 85], [89, 94, 85], [89, 94, 85], [89, 94, 85], [89, 94, 85], [89, 94, 85], [89, 94, 85], [89, 94, 85], [89, 94, 85], [176, 171, 175], [176, 171, 175], [176, 171, 175], [176, 171, 175], [176, 171, 175], [176, 171, 175], [175, 170, 174], [172, 167, 171], [171, 166, 170], [170, 166, 170], [176, 171, 175], [95, 103, 90], [176, 171, 175], [176, 171, 175], [176, 171, 175], [176, 171, 175], [154, 149, 154], [165, 160, 164], [175, 170, 174], [162, 159, 162], [115, 119, 118], [158, 155, 158], [176, 171, 175], [176, 171, 175], [176, 171, 175], [176, 171, 175], [176, 171, 175], [176, 171, 175], [176, 171, 175], [176, 171, 175], [176, 171, 175], [176, 171, 175], [176, 171, 175], [176, 171, 175], [176, 171, 175], [176, 171, 175], [176, 171, 175], [176, 171, 175], [176, 171, 175], [176, 171, 175], [176, 171, 175], [176, 171, 175], [176, 171, 175], [176, 171, 175], [176, 171, 175], [176, 171, 175], [176, 171, 175], [176, 171, 175], [176, 171, 175], [176, 171, 175], [176, 171, 175], [176, 171, 175], [176, 171, 175], [176, 171, 175], [176, 171, 175], [176, 171, 175], [176, 171, 175], [176, 171, 175], [176, 171, 175], [176, 171, 175], [176, 171, 175], [43, 75, 82], [176, 171, 175], [176, 171, 175], [176, 171, 175], [176, 171, 175], [176, 171, 175], [176, 171, 175], [176, 171, 175], [176, 171, 175], [175, 170, 174], [51, 75, 107], [176, 171, 175], [176, 171, 175], [176, 171, 175], [176, 171, 175], [176, 171, 175], [176, 171, 175], [176, 171, 175], [69, 56, 108], [176, 171, 175], [176, 171, 175], [176, 171, 175], [176, 171, 175], [176, 171, 175], [176, 171, 175], [176, 171, 175], [176, 171, 175]], [[176, 171, 175], [176, 171, 175], [176, 171, 175], [176, 171, 175], [176, 171, 175], [175, 170, 174], [162, 158, 161], [156, 153, 154], [176, 171, 175], [176, 171, 175], [176, 171, 175], [176, 171, 175], [176, 171, 175], [176, 171, 175], [176, 171, 175], [176, 171, 175], [176, 171, 175], [176, 171, 175], [168, 163, 167], [143, 140, 143], [113, 104, 105], [147, 140, 142], [176, 171, 175], [47, 73, 103], [47, 73, 103], [47, 73, 103], [47, 73, 103], [89, 94, 85], [89, 94, 85], [89, 94, 85], [157, 151, 155], [108, 109, 83], [108, 109, 83], [89, 94, 85], [89, 94, 85], [89, 94, 85], [64, 91, 83], [64, 91, 83], [89, 94, 85], [89, 94, 85], [89, 94, 85], [89, 94, 85], [89, 94, 85], [89, 94, 85], [89, 94, 85], [89, 94, 85], [89, 94, 85], [89, 94, 85], [89, 94, 85], [89, 94, 85], [89, 94, 85], [89, 94, 85], [89, 94, 85], [89, 94, 85], [89, 94, 85], [89, 94, 85], [147, 143, 146], [159, 155, 158], [158, 152, 156], [146, 142, 146], [151, 147, 150], [89, 94, 85], [95, 103, 90], [89, 94, 85], [176, 171, 175], [176, 171, 175], [176, 171, 175], [176, 171, 175], [148, 144, 147], [171, 166, 170], [164, 160, 163], [105, 110, 107], [140, 139, 140], [172, 167, 171], [176, 171, 175], [176, 171, 175], [176, 171, 175], [176, 171, 175], [176, 171, 175], [176, 171, 175], [176, 171, 175], [176, 171, 175], [176, 171, 175], [176, 171, 175], [176, 171, 175], [176, 171, 175], [176, 171, 175], [176, 171, 175], [176, 171, 175], [176, 171, 175], [176, 171, 175], [176, 171, 175], [176, 171, 175], [176, 171, 175], [176, 171, 175], [176, 171, 175], [176, 171, 175], [176, 171, 175], [176, 171, 175], [176, 171, 175], [176, 171, 175], [176, 171, 175], [176, 171, 175], [176, 171, 175], [176, 171, 175], [176, 171, 175], [176, 171, 175], [176, 171, 175], [176, 171, 175], [176, 171, 175], [176, 171, 175], [176, 171, 175], [176, 171, 175], [176, 171, 175], [43, 75, 82], [176, 171, 175], [176, 171, 175], [176, 171, 175], [176, 171, 175], [176, 171, 175], [176, 171, 175], [176, 171, 175], [51, 75, 107], [176, 171, 175], [176, 171, 175], [176, 171, 175], [176, 171, 175], [176, 171, 175], [176, 171, 175], [176, 171, 175], [176, 171, 175], [69, 56, 108], [176, 171, 175], [176, 171, 175], [176, 171, 175], [176, 171, 175], [176, 171, 175], [176, 171, 175], [176, 171, 175], [176, 171, 175]], [[176, 171, 175], [176, 171, 175], [176, 171, 175], [176, 171, 175], [176, 171, 175], [176, 171, 175], [176, 171, 175], [176, 171, 175], [176, 171, 175], [176, 171, 175], [176, 171, 175], [176, 171, 175], [176, 171, 175], [176, 171, 175], [176, 171, 175], [176, 171, 175], [176, 171, 175], [176, 171, 175], [47, 73, 103], [47, 73, 103], [47, 73, 103], [47, 73, 103], [47, 73, 103], [176, 171, 175], [176, 171, 175], [176, 171, 175], [176, 171, 175], [176, 171, 175], [176, 171, 175], [176, 171, 175], [151, 146, 148], [125, 119, 121], [155, 151, 153], [108, 109, 83], [108, 109, 83], [64, 91, 83], [89, 94, 85], [89, 94, 85], [89, 94, 85], [89, 94, 85], [89, 94, 85], [89, 94, 85], [89, 94, 85], [89, 94, 85], [89, 94, 85], [89, 94, 85], [89, 94, 85], [89, 94, 85], [89, 94, 85], [89, 94, 85], [89, 94, 85], [89, 94, 85], [89, 94, 85], [89, 94, 85], [145, 140, 144], [146, 141, 145], [161, 156, 160], [170, 166, 170], [163, 157, 161], [174, 169, 173], [153, 148, 152], [159, 155, 158], [95, 103, 90], [89, 94, 85], [89, 94, 85], [89, 94, 85], [89, 94, 85], [89, 94, 85], [157, 153, 156], [143, 140, 143], [108, 111, 110], [112, 113, 114], [172, 167, 171], [89, 94, 85], [89, 94, 85], [89, 94, 85], [89, 94, 85], [89, 94, 85], [89, 94, 85], [89, 94, 85], [176, 171, 175], [176, 171, 175], [176, 171, 175], [176, 171, 175], [176, 171, 175], [176, 171, 175], [176, 171, 175], [176, 171, 175], [176, 171, 175], [176, 171, 175], [176, 171, 175], [176, 171, 175], [176, 171, 175], [176, 171, 175], [176, 171, 175], [176, 171, 175], [176, 171, 175], [176, 171, 175], [176, 171, 175], [176, 171, 175], [176, 171, 175], [176, 171, 175], [176, 171, 175], [176, 171, 175], [176, 171, 175], [176, 171, 175], [176, 171, 175], [176, 171, 175], [176, 171, 175], [87, 76, 104], [176, 171, 175], [176, 171, 175], [176, 171, 175], [176, 171, 175], [176, 171, 175], [43, 75, 82], [176, 171, 175], [176, 171, 175], [176, 171, 175], [176, 171, 175], [176, 171, 175], [176, 171, 175], [51, 75, 107], [176, 171, 175], [176, 171, 175], [176, 171, 175], [176, 171, 175], [176, 171, 175], [176, 171, 175], [176, 171, 175], [176, 171, 175], [176, 171, 175], [69, 56, 108], [176, 171, 175], [176, 171, 175], [176, 171, 175], [176, 171, 175], [176, 171, 175], [176, 171, 175], [176, 171, 175]], [[176, 171, 175], [176, 171, 175], [176, 171, 175], [176, 171, 175], [176, 171, 175], [176, 171, 175], [176, 171, 175], [176, 171, 175], [176, 171, 175], [176, 171, 175], [176, 171, 175], [176, 171, 175], [176, 171, 175], [176, 171, 175], [47, 73, 103], [47, 73, 103], [47, 73, 103], [47, 73, 103], [176, 171, 175], [176, 171, 175], [141, 134, 136], [131, 124, 125], [176, 171, 175], [176, 171, 175], [176, 171, 175], [176, 171, 175], [176, 171, 175], [176, 171, 175], [176, 171, 175], [176, 171, 175], [155, 148, 152], [64, 91, 83], [64, 91, 83], [176, 171, 175], [176, 171, 175], [108, 109, 83], [108, 109, 83], [108, 109, 83], [176, 171, 175], [176, 171, 175], [176, 171, 175], [89, 94, 85], [89, 94, 85], [89, 94, 85], [89, 94, 85], [89, 94, 85], [89, 94, 85], [89, 94, 85], [89, 94, 85], [89, 94, 85], [89, 94, 85], [89, 94, 85], [174, 169, 173], [156, 151, 155], [158, 154, 157], [174, 169, 173], [89, 94, 85], [89, 94, 85], [89, 94, 85], [89, 94, 85], [165, 161, 164], [141, 137, 140], [95, 103, 90], [89, 94, 85], [89, 94, 85], [89, 94, 85], [89, 94, 85], [89, 94, 85], [166, 161, 165], [124, 126, 125], [120, 120, 122], [163, 158, 162], [89, 94, 85], [89, 94, 85], [89, 94, 85], [89, 94, 85], [89, 94, 85], [89, 94, 85], [89, 94, 85], [89, 94, 85], [89, 94, 85], [89, 94, 85], [89, 94, 85], [89, 94, 85], [89, 94, 85], [89, 94, 85], [89, 94, 85], [89, 94, 85], [89, 94, 85], [89, 94, 85], [89, 94, 85], [89, 94, 85], [89, 94, 85], [89, 94, 85], [89, 94, 85], [89, 94, 85], [89, 94, 85], [89, 94, 85], [89, 94, 85], [89, 94, 85], [89, 94, 85], [89, 94, 85], [89, 94, 85], [89, 94, 85], [89, 94, 85], [89, 94, 85], [89, 94, 85], [89, 94, 85], [89, 94, 85], [176, 171, 175], [176, 171, 175], [176, 171, 175], [176, 171, 175], [176, 171, 175], [176, 171, 175], [176, 171, 175], [43, 75, 82], [176, 171, 175], [176, 171, 175], [176, 171, 175], [176, 171, 175], [87, 76, 104], [51, 75, 107], [176, 171, 175], [176, 171, 175], [176, 171, 175], [176, 171, 175], [176, 171, 175], [176, 171, 175], [176, 171, 175], [176, 171, 175], [176, 171, 175], [89, 94, 85], [69, 56, 108], [89, 94, 85], [89, 94, 85], [89, 94, 85], [89, 94, 85], [89, 94, 85], [89, 94, 85]], [[176, 171, 175], [176, 171, 175], [176, 171, 175], [176, 171, 175], [176, 171, 175], [176, 171, 175], [176, 171, 175], [176, 171, 175], [176, 171, 175], [176, 171, 175], [176, 171, 175], [47, 73, 103], [47, 73, 103], [47, 73, 103], [176, 171, 175], [176, 171, 175], [176, 171, 175], [176, 171, 175], [176, 171, 175], [176, 171, 175], [133, 128, 130], [134, 128, 130], [176, 171, 175], [176, 171, 175], [176, 171, 175], [176, 171, 175], [176, 171, 175], [176, 171, 175], [176, 171, 175], [64, 91, 83], [64, 91, 83], [106, 96, 94], [176, 171, 175], [176, 171, 175], [176, 171, 175], [176, 171, 175], [176, 171, 175], [176, 171, 175], [108, 109, 83], [108, 109, 83], [176, 171, 175], [176, 171, 175], [176, 171, 175], [176, 171, 175], [176, 171, 175], [176, 171, 175], [176, 171, 175], [176, 171, 175], [176, 171, 175], [176, 171, 175], [176, 171, 175], [176, 171, 175], [89, 94, 85], [161, 157, 161], [158, 153, 157], [89, 94, 85], [89, 94, 85], [89, 94, 85], [169, 164, 168], [158, 153, 157], [157, 152, 156], [95, 103, 90], [89, 94, 85], [89, 94, 85], [89, 94, 85], [89, 94, 85], [89, 94, 85], [89, 94, 85], [144, 141, 143], [117, 121, 119], [159, 156, 159], [89, 94, 85], [89, 94, 85], [89, 94, 85], [89, 94, 85], [89, 94, 85], [89, 94, 85], [89, 94, 85], [89, 94, 85], [89, 94, 85], [89, 94, 85], [89, 94, 85], [89, 94, 85], [89, 94, 85], [89, 94, 85], [89, 94, 85], [89, 94, 85], [89, 94, 85], [87, 76, 104], [89, 94, 85], [89, 94, 85], [89, 94, 85], [89, 94, 85], [89, 94, 85], [89, 94, 85], [89, 94, 85], [89, 94, 85], [89, 94, 85], [89, 94, 85], [89, 94, 85], [89, 94, 85], [89, 94, 85], [89, 94, 85], [103, 57, 77], [103, 57, 77], [103, 57, 77], [103, 57, 77], [89, 94, 85], [89, 94, 85], [89, 94, 85], [89, 94, 85], [89, 94, 85], [89, 94, 85], [89, 94, 85], [89, 94, 85], [89, 94, 85], [89, 94, 85], [43, 75, 82], [43, 75, 82], [89, 94, 85], [89, 94, 85], [51, 75, 107], [89, 94, 85], [89, 94, 85], [89, 94, 85], [89, 94, 85], [89, 94, 85], [89, 94, 85], [89, 94, 85], [89, 94, 85], [89, 94, 85], [89, 94, 85], [89, 94, 85], [69, 56, 108], [89, 94, 85], [89, 94, 85], [89, 94, 85], [89, 94, 85], [89, 94, 85], [89, 94, 85]], [[176, 171, 175], [176, 171, 175], [176, 171, 175], [176, 171, 175], [176, 171, 175], [176, 171, 175], [176, 171, 175], [176, 171, 175], [176, 171, 175], [176, 171, 175], [176, 171, 175], [176, 171, 175], [176, 171, 175], [176, 171, 175], [176, 171, 175], [176, 171, 175], [176, 171, 175], [176, 171, 175], [176, 171, 175], [176, 171, 175], [120, 113, 115], [147, 142, 145], [176, 171, 175], [176, 171, 175], [176, 171, 175], [176, 171, 175], [64, 91, 83], [64, 91, 83], [64, 91, 83], [176, 171, 175], [176, 171, 175], [107, 97, 97], [175, 170, 174], [176, 171, 175], [176, 171, 175], [176, 171, 175], [176, 171, 175], [176, 171, 175], [176, 171, 175], [176, 171, 175], [108, 109, 83], [108, 109, 83], [176, 171, 175], [176, 171, 175], [176, 171, 175], [176, 171, 175], [176, 171, 175], [176, 171, 175], [176, 171, 175], [176, 171, 175], [176, 171, 175], [176, 171, 175], [170, 165, 169], [151, 146, 149], [146, 142, 146], [165, 161, 164], [169, 164, 168], [155, 150, 154], [147, 143, 146], [161, 157, 161], [164, 160, 163], [95, 103, 90], [176, 171, 175], [176, 171, 175], [165, 160, 164], [171, 167, 170], [89, 94, 85], [139, 138, 139], [103, 107, 106], [154, 152, 154], [89, 94, 85], [89, 94, 85], [89, 94, 85], [89, 94, 85], [89, 94, 85], [89, 94, 85], [89, 94, 85], [89, 94, 85], [89, 94, 85], [89, 94, 85], [89, 94, 85], [89, 94, 85], [89, 94, 85], [89, 94, 85], [89, 94, 85], [89, 94, 85], [89, 94, 85], [89, 94, 85], [89, 94, 85], [89, 94, 85], [89, 94, 85], [89, 94, 85], [89, 94, 85], [89, 94, 85], [89, 94, 85], [89, 94, 85], [103, 57, 77], [103, 57, 77], [103, 57, 77], [103, 57, 77], [103, 57, 77], [103, 57, 77], [103, 57, 77], [89, 94, 85], [89, 94, 85], [89, 94, 85], [89, 94, 85], [89, 94, 85], [89, 94, 85], [89, 94, 85], [89, 94, 85], [89, 94, 85], [89, 94, 85], [89, 94, 85], [89, 94, 85], [89, 94, 85], [89, 94, 85], [89, 94, 85], [89, 94, 85], [43, 75, 82], [89, 94, 85], [51, 75, 107], [89, 94, 85], [89, 94, 85], [89, 94, 85], [89, 94, 85], [89, 94, 85], [89, 94, 85], [89, 94, 85], [89, 94, 85], [89, 94, 85], [89, 94, 85], [89, 94, 85], [89, 94, 85], [69, 56, 108], [89, 94, 85], [89, 94, 85], [89, 94, 85], [89, 94, 85], [89, 94, 85]], [[176, 171, 175], [176, 171, 175], [176, 171, 175], [176, 171, 175], [176, 171, 175], [176, 171, 175], [176, 171, 175], [176, 171, 175], [176, 171, 175], [176, 171, 175], [176, 171, 175], [176, 171, 175], [176, 171, 175], [176, 171, 175], [176, 171, 175], [176, 171, 175], [176, 171, 175], [176, 171, 175], [176, 171, 175], [176, 171, 175], [103, 93, 94], [164, 159, 162], [176, 171, 175], [176, 171, 175], [64, 91, 83], [64, 91, 83], [176, 171, 175], [176, 171, 175], [176, 171, 175], [176, 171, 175], [176, 171, 175], [176, 171, 175], [176, 171, 175], [176, 171, 175], [176, 171, 175], [176, 171, 175], [176, 171, 175], [176, 171, 175], [176, 171, 175], [176, 171, 175], [176, 171, 175], [176, 171, 175], [108, 109, 83], [108, 109, 83], [176, 171, 175], [176, 171, 175], [176, 171, 175], [176, 171, 175], [176, 171, 175], [176, 171, 175], [176, 171, 175], [176, 171, 175], [167, 161, 165], [167, 162, 166], [162, 157, 161], [159, 155, 158], [146, 142, 145], [161, 156, 160], [176, 171, 175], [176, 171, 175], [176, 171, 175], [95, 103, 90], [167, 163, 166], [152, 148, 151], [146, 142, 145], [156, 152, 155], [150, 149, 150], [118, 122, 121], [153, 149, 152], [176, 171, 175], [176, 171, 175], [176, 171, 175], [176, 171, 175], [176, 171, 175], [176, 171, 175], [176, 171, 175], [176, 171, 175], [176, 171, 175], [176, 171, 175], [176, 171, 175], [89, 94, 85], [89, 94, 85], [89, 94, 85], [89, 94, 85], [89, 94, 85], [89, 94, 85], [89, 94, 85], [89, 94, 85], [89, 94, 85], [87, 76, 104], [103, 57, 77], [103, 57, 77], [103, 57, 77], [103, 57, 77], [103, 57, 77], [103, 57, 77], [89, 94, 85], [89, 94, 85], [89, 94, 85], [89, 94, 85], [89, 94, 85], [89, 94, 85], [89, 94, 85], [89, 94, 85], [89, 94, 85], [89, 94, 85], [89, 94, 85], [89, 94, 85], [89, 94, 85], [89, 94, 85], [89, 94, 85], [89, 94, 85], [89, 94, 85], [89, 94, 85], [89, 94, 85], [89, 94, 85], [89, 94, 85], [89, 94, 85], [89, 94, 85], [89, 94, 85], [51, 75, 107], [89, 94, 85], [89, 94, 85], [89, 94, 85], [89, 94, 85], [89, 94, 85], [89, 94, 85], [89, 94, 85], [89, 94, 85], [89, 94, 85], [89, 94, 85], [89, 94, 85], [89, 94, 85], [89, 94, 85], [89, 94, 85], [69, 56, 108], [89, 94, 85], [89, 94, 85], [89, 94, 85], [89, 94, 85]], [[176, 171, 175], [176, 171, 175], [176, 171, 175], [176, 171, 175], [176, 171, 175], [176, 171, 175], [176, 171, 175], [176, 171, 175], [176, 171, 175], [176, 171, 175], [176, 171, 175], [176, 171, 175], [176, 171, 175], [176, 171, 175], [176, 171, 175], [176, 171, 175], [176, 171, 175], [176, 171, 175], [176, 171, 175], [176, 171, 175], [144, 136, 138], [171, 166, 170], [64, 91, 83], [64, 91, 83], [176, 171, 175], [176, 171, 175], [176, 171, 175], [176, 171, 175], [176, 171, 175], [176, 171, 175], [176, 171, 175], [176, 171, 175], [176, 171, 175], [176, 171, 175], [176, 171, 175], [176, 171, 175], [176, 171, 175], [176, 171, 175], [176, 171, 175], [176, 171, 175], [176, 171, 175], [176, 171, 175], [176, 171, 175], [176, 171, 175], [108, 109, 83], [108, 109, 83], [176, 171, 175], [176, 171, 175], [176, 171, 175], [176, 171, 175], [176, 171, 175], [176, 171, 175], [176, 171, 175], [176, 171, 175], [176, 171, 175], [176, 171, 175], [175, 170, 174], [176, 171, 175], [176, 171, 175], [176, 171, 175], [176, 171, 175], [95, 103, 90], [157, 153, 156], [165, 160, 164], [175, 170, 174], [144, 140, 144], [128, 130, 130], [136, 136, 137], [174, 169, 173], [176, 171, 175], [176, 171, 175], [176, 171, 175], [176, 171, 175], [176, 171, 175], [176, 171, 175], [176, 171, 175], [176, 171, 175], [176, 171, 175], [176, 171, 175], [176, 171, 175], [176, 171, 175], [176, 171, 175], [176, 171, 175], [103, 57, 77], [103, 57, 77], [103, 57, 77], [103, 57, 77], [103, 57, 77], [103, 57, 77], [103, 57, 77], [176, 171, 175], [176, 171, 175], [176, 171, 175], [176, 171, 175], [176, 171, 175], [176, 171, 175], [176, 171, 175], [176, 171, 175], [176, 171, 175], [176, 171, 175], [176, 171, 175], [176, 171, 175], [176, 171, 175], [176, 171, 175], [176, 171, 175], [176, 171, 175], [176, 171, 175], [176, 171, 175], [176, 171, 175], [89, 94, 85], [89, 94, 85], [89, 94, 85], [89, 94, 85], [89, 94, 85], [89, 94, 85], [89, 94, 85], [89, 94, 85], [89, 94, 85], [89, 94, 85], [89, 94, 85], [102, 60, 94], [102, 60, 94], [102, 60, 94], [102, 60, 94], [102, 60, 94], [102, 60, 94], [102, 60, 94], [89, 94, 85], [89, 94, 85], [89, 94, 85], [89, 94, 85], [89, 94, 85], [176, 171, 175], [176, 171, 175], [176, 171, 175], [69, 56, 108], [176, 171, 175], [176, 171, 175], [176, 171, 175], [176, 171, 175]], [[176, 171, 175], [176, 171, 175], [176, 171, 175], [176, 171, 175], [176, 171, 175], [176, 171, 175], [176, 171, 175], [176, 171, 175], [176, 171, 175], [176, 171, 175], [176, 171, 175], [176, 171, 175], [176, 171, 175], [176, 171, 175], [176, 171, 175], [176, 171, 175], [176, 171, 175], [176, 171, 175], [176, 171, 175], [176, 171, 175], [64, 91, 83], [64, 91, 83], [176, 171, 175], [176, 171, 175], [176, 171, 175], [176, 171, 175], [176, 171, 175], [176, 171, 175], [176, 171, 175], [176, 171, 175], [176, 171, 175], [176, 171, 175], [176, 171, 175], [176, 171, 175], [176, 171, 175], [176, 171, 175], [176, 171, 175], [176, 171, 175], [176, 171, 175], [176, 171, 175], [176, 171, 175], [176, 171, 175], [176, 171, 175], [176, 171, 175], [176, 171, 175], [176, 171, 175], [108, 109, 83], [108, 109, 83], [108, 109, 83], [176, 171, 175], [176, 171, 175], [176, 171, 175], [176, 171, 175], [176, 171, 175], [176, 171, 175], [176, 171, 175], [176, 171, 175], [176, 171, 175], [176, 171, 175], [176, 171, 175], [95, 103, 90], [176, 171, 175], [159, 154, 158], [173, 168, 172], [176, 171, 175], [144, 139, 143], [106, 111, 109], [162, 158, 161], [176, 171, 175], [176, 171, 175], [176, 171, 175], [176, 171, 175], [176, 171, 175], [176, 171, 175], [176, 171, 175], [176, 171, 175], [103, 57, 77], [103, 57, 77], [103, 57, 77], [103, 57, 77], [103, 57, 77], [103, 57, 77], [103, 57, 77], [176, 171, 175], [176, 171, 175], [176, 171, 175], [176, 171, 175], [176, 171, 175], [176, 171, 175], [176, 171, 175], [176, 171, 175], [176, 171, 175], [176, 171, 175], [176, 171, 175], [176, 171, 175], [176, 171, 175], [176, 171, 175], [176, 171, 175], [176, 171, 175], [176, 171, 175], [176, 171, 175], [176, 171, 175], [176, 171, 175], [176, 171, 175], [176, 171, 175], [176, 171, 175], [176, 171, 175], [102, 60, 94], [102, 60, 94], [102, 60, 94], [102, 60, 94], [102, 60, 94], [102, 60, 94], [102, 60, 94], [102, 60, 94], [102, 60, 94], [102, 60, 94], [102, 60, 94], [102, 60, 94], [102, 60, 94], [51, 75, 107], [176, 171, 175], [43, 75, 82], [176, 171, 175], [176, 171, 175], [176, 171, 175], [176, 171, 175], [176, 171, 175], [176, 171, 175], [176, 171, 175], [176, 171, 175], [176, 171, 175], [176, 171, 175], [176, 171, 175], [176, 171, 175], [176, 171, 175], [69, 56, 108], [176, 171, 175], [176, 171, 175], [167, 162, 166]], [[176, 171, 175], [176, 171, 175], [176, 171, 175], [176, 171, 175], [176, 171, 175], [176, 171, 175], [176, 171, 175], [176, 171, 175], [176, 171, 175], [176, 171, 175], [176, 171, 175], [176, 171, 175], [176, 171, 175], [176, 171, 175], [176, 171, 175], [176, 171, 175], [176, 171, 175], [64, 91, 83], [64, 91, 83], [64, 91, 83], [176, 171, 175], [176, 171, 175], [176, 171, 175], [176, 171, 175], [176, 171, 175], [176, 171, 175], [176, 171, 175], [176, 171, 175], [176, 171, 175], [176, 171, 175], [176, 171, 175], [176, 171, 175], [176, 171, 175], [176, 171, 175], [176, 171, 175], [176, 171, 175], [176, 171, 175], [176, 171, 175], [176, 171, 175], [176, 171, 175], [176, 171, 175], [176, 171, 175], [176, 171, 175], [176, 171, 175], [176, 171, 175], [176, 171, 175], [176, 171, 175], [176, 171, 175], [176, 171, 175], [108, 109, 83], [108, 109, 83], [176, 171, 175], [176, 171, 175], [176, 171, 175], [176, 171, 175], [176, 171, 175], [176, 171, 175], [176, 171, 175], [176, 171, 175], [176, 171, 175], [95, 103, 90], [176, 171, 175], [176, 171, 175], [173, 168, 172], [148, 144, 147], [99, 105, 103], [114, 114, 114], [169, 164, 168], [176, 171, 175], [103, 57, 77], [103, 57, 77], [103, 57, 77], [103, 57, 77], [103, 57, 77], [103, 57, 77], [103, 57, 77], [176, 171, 175], [176, 171, 175], [176, 171, 175], [176, 171, 175], [176, 171, 175], [176, 171, 175], [176, 171, 175], [176, 171, 175], [176, 171, 175], [176, 171, 175], [176, 171, 175], [176, 171, 175], [176, 171, 175], [176, 171, 175], [176, 171, 175], [176, 171, 175], [176, 171, 175], [102, 60, 94], [102, 60, 94], [102, 60, 94], [102, 60, 94], [102, 60, 94], [102, 60, 94], [102, 60, 94], [102, 60, 94], [102, 60, 94], [102, 60, 94], [102, 60, 94], [102, 60, 94], [102, 60, 94], [102, 60, 94], [176, 171, 175], [176, 171, 175], [176, 171, 175], [176, 171, 175], [176, 171, 175], [176, 171, 175], [176, 171, 175], [176, 171, 175], [176, 171, 175], [176, 171, 175], [176, 171, 175], [176, 171, 175], [51, 75, 107], [176, 171, 175], [176, 171, 175], [176, 171, 175], [43, 75, 82], [176, 171, 175], [176, 171, 175], [176, 171, 175], [176, 171, 175], [176, 171, 175], [176, 171, 175], [176, 171, 175], [176, 171, 175], [176, 171, 175], [176, 171, 175], [176, 171, 175], [176, 171, 175], [176, 171, 175], [69, 56, 108], [176, 171, 175], [162, 158, 162]], [[176, 171, 175], [176, 171, 175], [176, 171, 175], [176, 171, 175], [176, 171, 175], [176, 171, 175], [176, 171, 175], [176, 171, 175], [176, 171, 175], [176, 171, 175], [176, 171, 175], [176, 171, 175], [176, 171, 175], [176, 171, 175], [176, 171, 175], [64, 91, 83], [64, 91, 83], [176, 171, 175], [176, 171, 175], [176, 171, 175], [176, 171, 175], [176, 171, 175], [176, 171, 175], [176, 171, 175], [176, 171, 175], [176, 171, 175], [176, 171, 175], [176, 171, 175], [176, 171, 175], [176, 171, 175], [176, 171, 175], [176, 171, 175], [176, 171, 175], [176, 171, 175], [176, 171, 175], [176, 171, 175], [176, 171, 175], [176, 171, 175], [176, 171, 175], [176, 171, 175], [176, 171, 175], [176, 171, 175], [176, 171, 175], [176, 171, 175], [176, 171, 175], [176, 171, 175], [176, 171, 175], [176, 171, 175], [176, 171, 175], [176, 171, 175], [176, 171, 175], [108, 109, 83], [108, 109, 83], [176, 171, 175], [176, 171, 175], [176, 171, 175], [176, 171, 175], [176, 171, 175], [176, 171, 175], [176, 171, 175], [95, 103, 90], [176, 171, 175], [176, 171, 175], [103, 57, 77], [103, 57, 77], [103, 57, 77], [103, 57, 77], [103, 57, 77], [103, 57, 77], [176, 171, 175], [176, 171, 175], [176, 171, 175], [176, 171, 175], [176, 171, 175], [176, 171, 175], [176, 171, 175], [175, 170, 174], [176, 171, 175], [176, 171, 175], [176, 171, 175], [102, 60, 94], [102, 60, 94], [102, 60, 94], [102, 60, 94], [102, 60, 94], [102, 60, 94], [102, 60, 94], [102, 60, 94], [102, 60, 94], [102, 60, 94], [102, 60, 94], [102, 60, 94], [102, 60, 94], [176, 171, 175], [176, 171, 175], [176, 171, 175], [176, 171, 175], [176, 171, 175], [176, 171, 175], [176, 171, 175], [176, 171, 175], [176, 171, 175], [176, 171, 175], [176, 171, 175], [176, 171, 175], [176, 171, 175], [176, 171, 175], [176, 171, 175], [176, 171, 175], [176, 171, 175], [176, 171, 175], [176, 171, 175], [176, 171, 175], [176, 171, 175], [176, 171, 175], [176, 171, 175], [176, 171, 175], [176, 171, 175], [176, 171, 175], [51, 75, 107], [176, 171, 175], [176, 171, 175], [176, 171, 175], [176, 171, 175], [43, 75, 82], [172, 167, 171], [176, 171, 175], [176, 171, 175], [176, 171, 175], [176, 171, 175], [176, 171, 175], [176, 171, 175], [176, 171, 175], [176, 171, 175], [176, 171, 175], [176, 171, 175], [176, 171, 175], [69, 56, 108], [166, 162, 165], [142, 137, 141]], [[176, 171, 175], [176, 171, 175], [176, 171, 175], [176, 171, 175], [176, 171, 175], [176, 171, 175], [176, 171, 175], [176, 171, 175], [176, 171, 175], [176, 171, 175], [176, 171, 175], [176, 171, 175], [176, 171, 175], [64, 91, 83], [64, 91, 83], [176, 171, 175], [176, 171, 175], [176, 171, 175], [176, 171, 175], [176, 171, 175], [176, 171, 175], [176, 171, 175], [176, 171, 175], [176, 171, 175], [176, 171, 175], [176, 171, 175], [176, 171, 175], [176, 171, 175], [176, 171, 175], [176, 171, 175], [176, 171, 175], [176, 171, 175], [176, 171, 175], [176, 171, 175], [176, 171, 175], [176, 171, 175], [176, 171, 175], [176, 171, 175], [176, 171, 175], [176, 171, 175], [176, 171, 175], [176, 171, 175], [176, 171, 175], [176, 171, 175], [176, 171, 175], [176, 171, 175], [176, 171, 175], [176, 171, 175], [176, 171, 175], [176, 171, 175], [176, 171, 175], [176, 171, 175], [176, 171, 175], [108, 109, 83], [108, 109, 83], [176, 171, 175], [103, 57, 77], [103, 57, 77], [103, 57, 77], [103, 57, 77], [103, 57, 77], [103, 57, 77], [103, 57, 77], [176, 171, 175], [171, 167, 171], [87, 97, 93], [167, 162, 166], [146, 142, 145], [175, 170, 174], [176, 171, 175], [176, 171, 175], [176, 171, 175], [176, 171, 175], [102, 60, 94], [102, 60, 94], [102, 60, 94], [102, 60, 94], [102, 60, 94], [102, 60, 94], [102, 60, 94], [176, 171, 175], [176, 171, 175], [176, 171, 175], [176, 171, 175], [176, 171, 175], [176, 171, 175], [176, 171, 175], [176, 171, 175], [176, 171, 175], [176, 171, 175], [176, 171, 175], [176, 171, 175], [176, 171, 175], [176, 171, 175], [176, 171, 175], [176, 171, 175], [176, 171, 175], [176, 171, 175], [176, 171, 175], [176, 171, 175], [176, 171, 175], [176, 171, 175], [176, 171, 175], [176, 171, 175], [176, 171, 175], [176, 171, 175], [176, 171, 175], [176, 171, 175], [176, 171, 175], [176, 171, 175], [176, 171, 175], [176, 171, 175], [176, 171, 175], [176, 171, 175], [176, 171, 175], [176, 171, 175], [176, 171, 175], [176, 171, 175], [176, 171, 175], [51, 75, 107], [176, 171, 175], [176, 171, 175], [176, 171, 175], [159, 154, 159], [150, 145, 150], [43, 75, 82], [175, 170, 174], [176, 171, 175], [176, 171, 175], [176, 171, 175], [176, 171, 175], [176, 171, 175], [176, 171, 175], [176, 171, 175], [176, 171, 175], [176, 171, 175], [176, 171, 175], [173, 168, 172], [69, 56, 108], [140, 135, 139]], [[176, 171, 175], [176, 171, 175], [176, 171, 175], [176, 171, 175], [176, 171, 175], [176, 171, 175], [176, 171, 175], [176, 171, 175], [176, 171, 175], [176, 171, 175], [176, 171, 175], [64, 91, 83], [64, 91, 83], [176, 171, 175], [176, 171, 175], [176, 171, 175], [176, 171, 175], [176, 171, 175], [176, 171, 175], [176, 171, 175], [176, 171, 175], [176, 171, 175], [176, 171, 175], [176, 171, 175], [176, 171, 175], [176, 171, 175], [176, 171, 175], [176, 171, 175], [176, 171, 175], [176, 171, 175], [176, 171, 175], [176, 171, 175], [176, 171, 175], [176, 171, 175], [176, 171, 175], [176, 171, 175], [176, 171, 175], [176, 171, 175], [176, 171, 175], [176, 171, 175], [176, 171, 175], [176, 171, 175], [176, 171, 175], [176, 171, 175], [176, 171, 175], [176, 171, 175], [176, 171, 175], [176, 171, 175], [176, 171, 175], [176, 171, 175], [176, 171, 175], [176, 171, 175], [103, 57, 77], [103, 57, 77], [103, 57, 77], [108, 109, 83], [108, 109, 83], [176, 171, 175], [176, 171, 175], [95, 103, 90], [176, 171, 175], [176, 171, 175], [176, 171, 175], [172, 167, 171], [162, 157, 161], [112, 115, 115], [138, 137, 138], [161, 157, 160], [176, 171, 175], [175, 170, 174], [149, 148, 150], [123, 126, 125], [98, 105, 102], [104, 110, 108], [130, 132, 132], [157, 154, 157], [176, 171, 175], [176, 171, 175], [176, 171, 175], [176, 171, 175], [176, 171, 175], [176, 171, 175], [176, 171, 175], [176, 171, 175], [176, 171, 175], [176, 171, 175], [176, 171, 175], [176, 171, 175], [176, 171, 175], [176, 171, 175], [176, 171, 175], [176, 171, 175], [176, 171, 175], [176, 171, 175], [176, 171, 175], [176, 171, 175], [176, 171, 175], [176, 171, 175], [176, 171, 175], [176, 171, 175], [176, 171, 175], [176, 171, 175], [176, 171, 175], [176, 171, 175], [176, 171, 175], [176, 171, 175], [176, 171, 175], [176, 171, 175], [176, 171, 175], [176, 171, 175], [176, 171, 175], [176, 171, 175], [176, 171, 175], [176, 171, 175], [176, 171, 175], [176, 171, 175], [176, 171, 175], [176, 171, 175], [51, 75, 107], [176, 171, 175], [176, 171, 175], [173, 168, 172], [158, 153, 157], [142, 137, 142], [151, 146, 150], [176, 171, 175], [43, 75, 82], [176, 171, 175], [176, 171, 175], [176, 171, 175], [176, 171, 175], [176, 171, 175], [176, 171, 175], [176, 171, 175], [176, 171, 175], [176, 171, 175], [176, 171, 175], [176, 171, 175], [168, 163, 167], [69, 56, 108]], [[176, 171, 175], [176, 171, 175], [176, 171, 175], [176, 171, 175], [176, 171, 175], [176, 171, 175], [176, 171, 175], [176, 171, 175], [64, 91, 83], [64, 91, 83], [64, 91, 83], [176, 171, 175], [176, 171, 175], [176, 171, 175], [87, 76, 104], [176, 171, 175], [176, 171, 175], [176, 171, 175], [176, 171, 175], [176, 171, 175], [176, 171, 175], [176, 171, 175], [176, 171, 175], [176, 171, 175], [176, 171, 175], [176, 171, 175], [176, 171, 175], [176, 171, 175], [176, 171, 175], [176, 171, 175], [176, 171, 175], [176, 171, 175], [176, 171, 175], [176, 171, 175], [176, 171, 175], [176, 171, 175], [176, 171, 175], [176, 171, 175], [176, 171, 175], [176, 171, 175], [176, 171, 175], [176, 171, 175], [176, 171, 175], [176, 171, 175], [176, 171, 175], [176, 171, 175], [176, 171, 175], [176, 171, 175], [176, 171, 175], [176, 171, 175], [176, 171, 175], [176, 171, 175], [176, 171, 175], [176, 171, 175], [176, 171, 175], [176, 171, 175], [176, 171, 175], [108, 109, 83], [108, 109, 83], [95, 103, 90], [176, 171, 175], [176, 171, 175], [176, 171, 175], [148, 144, 147], [154, 150, 153], [106, 106, 107], [132, 129, 133], [137, 138, 139], [117, 120, 119], [91, 99, 95], [111, 116, 114], [136, 138, 137], [163, 159, 163], [176, 171, 175], [176, 171, 175], [176, 171, 175], [176, 171, 175], [176, 171, 175], [176, 171, 175], [176, 171, 175], [176, 171, 175], [176, 171, 175], [176, 171, 175], [176, 171, 175], [176, 171, 175], [176, 171, 175], [176, 171, 175], [176, 171, 175], [176, 171, 175], [176, 171, 175], [176, 171, 175], [176, 171, 175], [176, 171, 175], [176, 171, 175], [176, 171, 175], [176, 171, 175], [176, 171, 175], [176, 171, 175], [176, 171, 175], [176, 171, 175], [176, 171, 175], [176, 171, 175], [176, 171, 175], [176, 171, 175], [176, 171, 175], [176, 171, 175], [176, 171, 175], [176, 171, 175], [176, 171, 175], [176, 171, 175], [176, 171, 175], [176, 171, 175], [176, 171, 175], [176, 171, 175], [176, 171, 175], [176, 171, 175], [176, 171, 175], [176, 171, 175], [51, 75, 107], [176, 171, 175], [176, 171, 175], [172, 167, 171], [169, 164, 168], [173, 168, 172], [151, 147, 151], [172, 167, 171], [176, 171, 175], [43, 75, 82], [176, 171, 175], [176, 171, 175], [176, 171, 175], [176, 171, 175], [176, 171, 175], [176, 171, 175], [176, 171, 175], [176, 171, 175], [176, 171, 175], [176, 171, 175], [176, 171, 175], [69, 56, 108]], [[176, 171, 175], [176, 171, 175], [176, 171, 175], [176, 171, 175], [176, 171, 175], [176, 171, 175], [64, 91, 83], [64, 91, 83], [176, 171, 175], [176, 171, 175], [176, 171, 175], [176, 171, 175], [176, 171, 175], [176, 171, 175], [176, 171, 175], [176, 171, 175], [176, 171, 175], [176, 171, 175], [176, 171, 175], [176, 171, 175], [176, 171, 175], [176, 171, 175], [176, 171, 175], [176, 171, 175], [176, 171, 175], [176, 171, 175], [176, 171, 175], [176, 171, 175], [176, 171, 175], [176, 171, 175], [176, 171, 175], [176, 171, 175], [176, 171, 175], [176, 171, 175], [176, 171, 175], [176, 171, 175], [176, 171, 175], [176, 171, 175], [176, 171, 175], [176, 171, 175], [176, 171, 175], [176, 171, 175], [176, 171, 175], [160, 156, 159], [176, 171, 175], [176, 171, 175], [176, 171, 175], [176, 171, 175], [176, 171, 175], [176, 171, 175], [176, 171, 175], [176, 171, 175], [176, 171, 175], [176, 171, 175], [176, 171, 175], [176, 171, 175], [176, 171, 175], [176, 171, 175], [176, 171, 175], [95, 103, 90], [176, 171, 175], [176, 171, 175], [176, 171, 175], [176, 171, 175], [160, 156, 159], [87, 95, 92], [91, 99, 95], [118, 122, 121], [144, 144, 145], [169, 165, 168], [176, 171, 175], [176, 171, 175], [176, 171, 175], [176, 171, 175], [176, 171, 175], [176, 171, 175], [176, 171, 175], [176, 171, 175], [176, 171, 175], [176, 171, 175], [176, 171, 175], [176, 171, 175], [176, 171, 175], [176, 171, 175], [176, 171, 175], [176, 171, 175], [176, 171, 175], [176, 171, 175], [176, 171, 175], [176, 171, 175], [176, 171, 175], [176, 171, 175], [176, 171, 175], [176, 171, 175], [176, 171, 175], [176, 171, 175], [176, 171, 175], [176, 171, 175], [176, 171, 175], [176, 171, 175], [176, 171, 175], [176, 171, 175], [176, 171, 175], [176, 171, 175], [176, 171, 175], [176, 171, 175], [176, 171, 175], [176, 171, 175], [176, 171, 175], [176, 171, 175], [176, 171, 175], [176, 171, 175], [176, 171, 175], [176, 171, 175], [176, 171, 175], [176, 171, 175], [176, 171, 175], [51, 75, 107], [176, 171, 175], [176, 171, 175], [176, 171, 175], [176, 171, 175], [176, 171, 175], [168, 164, 167], [159, 154, 158], [175, 170, 174], [176, 171, 175], [176, 171, 175], [43, 75, 82], [176, 171, 175], [176, 171, 175], [176, 171, 175], [176, 171, 175], [176, 171, 175], [176, 171, 175], [176, 171, 175], [176, 171, 175], [176, 171, 175], [176, 171, 175], [176, 171, 175]], [[176, 171, 175], [176, 171, 175], [176, 171, 175], [176, 171, 175], [64, 91, 83], [64, 91, 83], [176, 171, 175], [176, 171, 175], [176, 171, 175], [176, 171, 175], [176, 171, 175], [176, 171, 175], [176, 171, 175], [176, 171, 175], [176, 171, 175], [176, 171, 175], [176, 171, 175], [176, 171, 175], [176, 171, 175], [176, 171, 175], [176, 171, 175], [176, 171, 175], [176, 171, 175], [176, 171, 175], [176, 171, 175], [176, 171, 175], [176, 171, 175], [176, 171, 175], [176, 171, 175], [176, 171, 175], [176, 171, 175], [176, 171, 175], [176, 171, 175], [176, 171, 175], [176, 171, 175], [176, 171, 175], [176, 171, 175], [176, 171, 175], [176, 171, 175], [176, 171, 175], [87, 76, 104], [176, 171, 175], [166, 161, 165], [145, 141, 143], [163, 159, 162], [176, 171, 175], [176, 171, 175], [176, 171, 175], [176, 171, 175], [176, 171, 175], [176, 171, 175], [176, 171, 175], [176, 171, 175], [176, 171, 175], [176, 171, 175], [176, 171, 175], [176, 171, 175], [176, 171, 175], [95, 103, 90], [176, 171, 175], [176, 171, 175], [176, 171, 175], [176, 171, 175], [176, 171, 175], [176, 171, 175], [149, 147, 150], [176, 171, 175], [176, 171, 175], [176, 171, 175], [176, 171, 175], [176, 171, 175], [176, 171, 175], [176, 171, 175], [176, 171, 175], [176, 171, 175], [176, 171, 175], [87, 76, 104], [176, 171, 175], [176, 171, 175], [176, 171, 175], [176, 171, 175], [176, 171, 175], [176, 171, 175], [176, 171, 175], [176, 171, 175], [176, 171, 175], [176, 171, 175], [176, 171, 175], [176, 171, 175], [176, 171, 175], [176, 171, 175], [176, 171, 175], [176, 171, 175], [176, 171, 175], [176, 171, 175], [176, 171, 175], [176, 171, 175], [176, 171, 175], [176, 171, 175], [176, 171, 175], [176, 171, 175], [176, 171, 175], [176, 171, 175], [176, 171, 175], [176, 171, 175], [176, 171, 175], [176, 171, 175], [176, 171, 175], [176, 171, 175], [176, 171, 175], [176, 171, 175], [176, 171, 175], [176, 171, 175], [176, 171, 175], [176, 171, 175], [176, 171, 175], [176, 171, 175], [51, 75, 107], [176, 171, 175], [176, 171, 175], [176, 171, 175], [176, 171, 175], [176, 171, 175], [174, 169, 173], [146, 142, 146], [171, 166, 170], [176, 171, 175], [176, 171, 175], [176, 171, 175], [43, 75, 82], [43, 75, 82], [176, 171, 175], [176, 171, 175], [176, 171, 175], [176, 171, 175], [176, 171, 175], [176, 171, 175], [176, 171, 175], [176, 171, 175], [176, 171, 175]], [[176, 171, 175], [176, 171, 175], [64, 91, 83], [64, 91, 83], [176, 171, 175], [176, 171, 175], [176, 171, 175], [176, 171, 175], [176, 171, 175], [176, 171, 175], [176, 171, 175], [176, 171, 175], [176, 171, 175], [176, 171, 175], [176, 171, 175], [176, 171, 175], [176, 171, 175], [176, 171, 175], [176, 171, 175], [176, 171, 175], [176, 171, 175], [176, 171, 175], [176, 171, 175], [176, 171, 175], [176, 171, 175], [176, 171, 175], [176, 171, 175], [176, 171, 175], [176, 171, 175], [176, 171, 175], [176, 171, 175], [176, 171, 175], [176, 171, 175], [176, 171, 175], [176, 171, 175], [176, 171, 175], [176, 171, 175], [176, 171, 175], [176, 171, 175], [176, 171, 175], [176, 171, 175], [169, 165, 168], [144, 140, 144], [167, 163, 166], [168, 164, 167], [148, 144, 147], [176, 171, 175], [176, 171, 175], [176, 171, 175], [176, 171, 175], [176, 171, 175], [176, 171, 175], [176, 171, 175], [176, 171, 175], [176, 171, 175], [176, 171, 175], [176, 171, 175], [176, 171, 175], [95, 103, 90], [176, 171, 175], [176, 171, 175], [176, 171, 175], [176, 171, 175], [176, 171, 175], [176, 171, 175], [176, 171, 175], [176, 171, 175], [176, 171, 175], [176, 171, 175], [176, 171, 175], [176, 171, 175], [176, 171, 175], [176, 171, 175], [176, 171, 175], [176, 171, 175], [176, 171, 175], [176, 171, 175], [176, 171, 175], [176, 171, 175], [176, 171, 175], [176, 171, 175], [176, 171, 175], [176, 171, 175], [87, 76, 104], [176, 171, 175], [176, 171, 175], [176, 171, 175], [176, 171, 175], [176, 171, 175], [176, 171, 175], [176, 171, 175], [176, 171, 175], [176, 171, 175], [176, 171, 175], [176, 171, 175], [176, 171, 175], [176, 171, 175], [176, 171, 175], [176, 171, 175], [176, 171, 175], [176, 171, 175], [176, 171, 175], [176, 171, 175], [176, 171, 175], [176, 171, 175], [176, 171, 175], [176, 171, 175], [176, 171, 175], [176, 171, 175], [176, 171, 175], [176, 171, 175], [176, 171, 175], [176, 171, 175], [176, 171, 175], [176, 171, 175], [176, 171, 175], [176, 171, 175], [51, 75, 107], [176, 171, 175], [176, 171, 175], [176, 171, 175], [176, 171, 175], [176, 171, 175], [176, 171, 175], [161, 156, 161], [153, 149, 154], [176, 171, 175], [176, 171, 175], [176, 171, 175], [176, 171, 175], [176, 171, 175], [43, 75, 82], [176, 171, 175], [176, 171, 175], [176, 171, 175], [176, 171, 175], [176, 171, 175], [176, 171, 175], [176, 171, 175], [176, 171, 175]], [[64, 91, 83], [64, 91, 83], [176, 171, 175], [176, 171, 175], [176, 171, 175], [176, 171, 175], [176, 171, 175], [176, 171, 175], [176, 171, 175], [176, 171, 175], [176, 171, 175], [176, 171, 175], [176, 171, 175], [176, 171, 175], [176, 171, 175], [176, 171, 175], [176, 171, 175], [176, 171, 175], [176, 171, 175], [176, 171, 175], [176, 171, 175], [176, 171, 175], [176, 171, 175], [176, 171, 175], [176, 171, 175], [176, 171, 175], [176, 171, 175], [176, 171, 175], [176, 171, 175], [176, 171, 175], [176, 171, 175], [176, 171, 175], [176, 171, 175], [176, 171, 175], [176, 171, 175], [176, 171, 175], [176, 171, 175], [176, 171, 175], [176, 171, 175], [176, 171, 175], [176, 171, 175], [159, 154, 158], [153, 149, 153], [176, 171, 175], [171, 166, 170], [142, 138, 140], [154, 150, 152], [176, 171, 175], [176, 171, 175], [176, 171, 175], [176, 171, 175], [176, 171, 175], [176, 171, 175], [176, 171, 175], [176, 171, 175], [176, 171, 175], [176, 171, 175], [176, 171, 175], [176, 171, 175], [176, 171, 175], [176, 171, 175], [176, 171, 175], [176, 171, 175], [176, 171, 175], [176, 171, 175], [176, 171, 175], [176, 171, 175], [176, 171, 175], [176, 171, 175], [176, 171, 175], [176, 171, 175], [176, 171, 175], [176, 171, 175], [176, 171, 175], [176, 171, 175], [176, 171, 175], [176, 171, 175], [176, 171, 175], [176, 171, 175], [176, 171, 175], [176, 171, 175], [176, 171, 175], [176, 171, 175], [176, 171, 175], [176, 171, 175], [176, 171, 175], [176, 171, 175], [176, 171, 175], [176, 171, 175], [176, 171, 175], [176, 171, 175], [176, 171, 175], [176, 171, 175], [176, 171, 175], [176, 171, 175], [176, 171, 175], [176, 171, 175], [176, 171, 175], [176, 171, 175], [176, 171, 175], [176, 171, 175], [176, 171, 175], [176, 171, 175], [176, 171, 175], [176, 171, 175], [176, 171, 175], [176, 171, 175], [176, 171, 175], [176, 171, 175], [176, 171, 175], [176, 171, 175], [176, 171, 175], [176, 171, 175], [176, 171, 175], [176, 171, 175], [176, 171, 175], [51, 75, 107], [176, 171, 175], [176, 171, 175], [176, 171, 175], [176, 171, 175], [176, 171, 175], [176, 171, 175], [176, 171, 175], [176, 171, 175], [149, 144, 148], [167, 162, 166], [176, 171, 175], [176, 171, 175], [176, 171, 175], [176, 171, 175], [176, 171, 175], [43, 75, 82], [176, 171, 175], [176, 171, 175], [176, 171, 175], [176, 171, 175], [176, 171, 175], [176, 171, 175], [176, 171, 175]], [[176, 171, 175], [176, 171, 175], [176, 171, 175], [176, 171, 175], [176, 171, 175], [176, 171, 175], [176, 171, 175], [176, 171, 175], [176, 171, 175], [176, 171, 175], [176, 171, 175], [176, 171, 175], [176, 171, 175], [176, 171, 175], [176, 171, 175], [176, 171, 175], [176, 171, 175], [176, 171, 175], [176, 171, 175], [176, 171, 175], [176, 171, 175], [176, 171, 175], [176, 171, 175], [176, 171, 175], [176, 171, 175], [176, 171, 175], [176, 171, 175], [176, 171, 175], [176, 171, 175], [176, 171, 175], [176, 171, 175], [176, 171, 175], [176, 171, 175], [176, 171, 175], [176, 171, 175], [176, 171, 175], [176, 171, 175], [176, 171, 175], [176, 171, 175], [176, 171, 175], [176, 171, 175], [173, 168, 172], [157, 152, 155], [153, 148, 152], [152, 147, 151], [136, 133, 135], [143, 139, 142], [152, 147, 151], [176, 171, 175], [176, 171, 175], [176, 171, 175], [176, 171, 175], [176, 171, 175], [176, 171, 175], [176, 171, 175], [176, 171, 175], [176, 171, 175], [176, 171, 175], [87, 76, 104], [176, 171, 175], [176, 171, 175], [176, 171, 175], [176, 171, 175], [176, 171, 175], [176, 171, 175], [176, 171, 175], [87, 76, 104], [176, 171, 175], [176, 171, 175], [176, 171, 175], [176, 171, 175], [176, 171, 175], [176, 171, 175], [176, 171, 175], [176, 171, 175], [176, 171, 175], [176, 171, 175], [176, 171, 175], [176, 171, 175], [176, 171, 175], [176, 171, 175], [176, 171, 175], [176, 171, 175], [87, 76, 104], [176, 171, 175], [176, 171, 175], [176, 171, 175], [176, 171, 175], [176, 171, 175], [176, 171, 175], [176, 171, 175], [176, 171, 175], [176, 171, 175], [176, 171, 175], [176, 171, 175], [176, 171, 175], [176, 171, 175], [176, 171, 175], [176, 171, 175], [176, 171, 175], [176, 171, 175], [176, 171, 175], [176, 171, 175], [176, 171, 175], [176, 171, 175], [176, 171, 175], [176, 171, 175], [176, 171, 175], [176, 171, 175], [176, 171, 175], [176, 171, 175], [176, 171, 175], [176, 171, 175], [176, 171, 175], [87, 76, 104], [176, 171, 175], [51, 75, 107], [176, 171, 175], [176, 171, 175], [176, 171, 175], [176, 171, 175], [176, 171, 175], [176, 171, 175], [176, 171, 175], [176, 171, 175], [164, 160, 163], [151, 147, 151], [176, 171, 175], [176, 171, 175], [176, 171, 175], [176, 171, 175], [176, 171, 175], [176, 171, 175], [43, 75, 82], [176, 171, 175], [176, 171, 175], [176, 171, 175], [176, 171, 175], [176, 171, 175], [176, 171, 175]], [[176, 171, 175], [176, 171, 175], [176, 171, 175], [176, 171, 175], [176, 171, 175], [176, 171, 175], [176, 171, 175], [176, 171, 175], [176, 171, 175], [176, 171, 175], [176, 171, 175], [176, 171, 175], [176, 171, 175], [176, 171, 175], [176, 171, 175], [176, 171, 175], [176, 171, 175], [176, 171, 175], [176, 171, 175], [176, 171, 175], [176, 171, 175], [176, 171, 175], [176, 171, 175], [176, 171, 175], [176, 171, 175], [176, 171, 175], [176, 171, 175], [176, 171, 175], [176, 171, 175], [176, 171, 175], [176, 171, 175], [176, 171, 175], [176, 171, 175], [176, 171, 175], [176, 171, 175], [176, 171, 175], [176, 171, 175], [176, 171, 175], [176, 171, 175], [176, 171, 175], [176, 171, 175], [175, 170, 174], [171, 166, 170], [161, 157, 161], [147, 143, 147], [149, 144, 148], [168, 164, 167], [163, 159, 162], [161, 157, 161], [176, 171, 175], [176, 171, 175], [176, 171, 175], [176, 171, 175], [176, 171, 175], [176, 171, 175], [176, 171, 175], [176, 171, 175], [87, 76, 104], [176, 171, 175], [176, 171, 175], [176, 171, 175], [176, 171, 175], [176, 171, 175], [176, 171, 175], [176, 171, 175], [176, 171, 175], [176, 171, 175], [176, 171, 175], [176, 171, 175], [176, 171, 175], [176, 171, 175], [176, 171, 175], [176, 171, 175], [176, 171, 175], [176, 171, 175], [176, 171, 175], [176, 171, 175], [176, 171, 175], [176, 171, 175], [176, 171, 175], [176, 171, 175], [176, 171, 175], [176, 171, 175], [176, 171, 175], [176, 171, 175], [176, 171, 175], [176, 171, 175], [176, 171, 175], [176, 171, 175], [176, 171, 175], [176, 171, 175], [176, 171, 175], [176, 171, 175], [176, 171, 175], [176, 171, 175], [176, 171, 175], [176, 171, 175], [176, 171, 175], [176, 171, 175], [176, 171, 175], [176, 171, 175], [176, 171, 175], [176, 171, 175], [176, 171, 175], [176, 171, 175], [176, 171, 175], [176, 171, 175], [176, 171, 175], [176, 171, 175], [176, 171, 175], [176, 171, 175], [176, 171, 175], [176, 171, 175], [176, 171, 175], [176, 171, 175], [51, 75, 107], [176, 171, 175], [176, 171, 175], [176, 171, 175], [176, 171, 175], [176, 171, 175], [176, 171, 175], [176, 171, 175], [176, 171, 175], [176, 171, 175], [175, 170, 174], [170, 166, 170], [176, 171, 175], [176, 171, 175], [176, 171, 175], [176, 171, 175], [176, 171, 175], [176, 171, 175], [176, 171, 175], [43, 75, 82], [176, 171, 175], [176, 171, 175], [176, 171, 175], [176, 171, 175], [176, 171, 175]]]'"
      ]
     },
     "execution_count": 113,
     "metadata": {},
     "output_type": "execute_result"
    }
   ],
   "source": [
    "str(x.tolist())"
   ]
  },
  {
   "cell_type": "code",
   "execution_count": 128,
   "metadata": {
    "collapsed": true
   },
   "outputs": [],
   "source": [
    "newiamge = sqlContext.createDataFrame([('1', str(x.tolist()))], ['id', 'mat'])"
   ]
  },
  {
   "cell_type": "code",
   "execution_count": 129,
   "metadata": {
    "collapsed": true
   },
   "outputs": [],
   "source": [
    "newiamge.write.mode(\"append\").insertInto('images')"
   ]
  },
  {
   "cell_type": "code",
   "execution_count": 130,
   "metadata": {
    "collapsed": false
   },
   "outputs": [
    {
     "name": "stdout",
     "output_type": "stream",
     "text": [
      "+---+--------------------+\n",
      "| id|                 mat|\n",
      "+---+--------------------+\n",
      "|  1|           [1, 2, 3]|\n",
      "|  2|           [4, 5, 6]|\n",
      "|  3|           [7, 8, 9]|\n",
      "|  1|[[[176, 171, 175]...|\n",
      "+---+--------------------+\n",
      "\n"
     ]
    }
   ],
   "source": [
    "sqlContext.sql(\"SELECT * FROM images\").show()"
   ]
  },
  {
   "cell_type": "code",
   "execution_count": null,
   "metadata": {
    "collapsed": true
   },
   "outputs": [],
   "source": [
    "sqlContext.sql(\"CREATE EXTERNAL TABLE images (id STRING COMMENT 'id of images', mat STRING COMMENT 'string of list') COMMENT \\\n",
    "'This is used to store images' ROW FORMAT DELIMITED \\\n",
    "FIELDS TERMINATED BY '\\t' STORED AS TEXTFILE LOCATION 'hdfs://master:9000/user/hive/images'\")"
   ]
  },
  {
   "cell_type": "code",
   "execution_count": 214,
   "metadata": {
    "collapsed": false
   },
   "outputs": [
    {
     "data": {
      "text/plain": [
       "DataFrame[]"
      ]
     },
     "execution_count": 214,
     "metadata": {},
     "output_type": "execute_result"
    }
   ],
   "source": [
    "sqlContext.sql(\"CREATE EXTERNAL TABLE images2 (id STRING COMMENT 'id of images', mat ARRAY<ARRAY<INT>> COMMENT 'array of list') COMMENT \\\n",
    "'This is used to store images' ROW FORMAT DELIMITED \\\n",
    "FIELDS TERMINATED BY '\\t' STORED AS TEXTFILE LOCATION 'hdfs://master:9000/user/hive/images'\")"
   ]
  },
  {
   "cell_type": "code",
   "execution_count": 215,
   "metadata": {
    "collapsed": false
   },
   "outputs": [
    {
     "name": "stdout",
     "output_type": "stream",
     "text": [
      "+--------+-----------------+-------------+\n",
      "|col_name|        data_type|      comment|\n",
      "+--------+-----------------+-------------+\n",
      "|      id|           string| id of images|\n",
      "|     mat|array<array<int>>|array of list|\n",
      "+--------+-----------------+-------------+\n",
      "\n"
     ]
    }
   ],
   "source": [
    "sqlContext.sql(\"DESCRIBE TABLE images2\").show()"
   ]
  },
  {
   "cell_type": "code",
   "execution_count": 213,
   "metadata": {
    "collapsed": false
   },
   "outputs": [
    {
     "data": {
      "text/plain": [
       "DataFrame[]"
      ]
     },
     "execution_count": 213,
     "metadata": {},
     "output_type": "execute_result"
    }
   ],
   "source": [
    "sqlContext.sql(\"DROP TABLE images2\")"
   ]
  },
  {
   "cell_type": "code",
   "execution_count": 216,
   "metadata": {
    "collapsed": false
   },
   "outputs": [],
   "source": [
    "newimage2 = sqlContext.createDataFrame([(1, [[1]])], ['id', 'mat'])"
   ]
  },
  {
   "cell_type": "code",
   "execution_count": 217,
   "metadata": {
    "collapsed": false
   },
   "outputs": [
    {
     "name": "stdout",
     "output_type": "stream",
     "text": [
      "+---+-----------------+\n",
      "| id|              mat|\n",
      "+---+-----------------+\n",
      "|  1|[WrappedArray(1)]|\n",
      "+---+-----------------+\n",
      "\n"
     ]
    }
   ],
   "source": [
    "newimage2.show()"
   ]
  },
  {
   "cell_type": "code",
   "execution_count": 218,
   "metadata": {
    "collapsed": false
   },
   "outputs": [],
   "source": [
    "newimage2.write.mode(\"append\").insertInto('images2')"
   ]
  },
  {
   "cell_type": "code",
   "execution_count": 219,
   "metadata": {
    "collapsed": false
   },
   "outputs": [
    {
     "name": "stdout",
     "output_type": "stream",
     "text": [
      "+---+-----------------+\n",
      "| id|              mat|\n",
      "+---+-----------------+\n",
      "|  1|[WrappedArray(1)]|\n",
      "+---+-----------------+\n",
      "\n"
     ]
    }
   ],
   "source": [
    "sqlContext.sql(\"SELECT * FROM images2\").show()"
   ]
  },
  {
   "cell_type": "code",
   "execution_count": 252,
   "metadata": {
    "collapsed": false
   },
   "outputs": [
    {
     "data": {
      "text/plain": [
       "DataFrame[]"
      ]
     },
     "execution_count": 252,
     "metadata": {},
     "output_type": "execute_result"
    }
   ],
   "source": [
    "sqlContext.sql(\"CREATE EXTERNAL TABLE images3 (id STRING COMMENT 'id of images', mat ARRAY<ARRAY<ARRAY<BIGINT>>> \\\n",
    "COMMENT 'array of list') COMMENT \\\n",
    "'This is used to store images' ROW FORMAT DELIMITED \\\n",
    "FIELDS TERMINATED BY '\\t' STORED AS TEXTFILE LOCATION 'hdfs://master:9000/user/hive/images'\")"
   ]
  },
  {
   "cell_type": "code",
   "execution_count": 253,
   "metadata": {
    "collapsed": false
   },
   "outputs": [
    {
     "name": "stdout",
     "output_type": "stream",
     "text": [
      "+--------+--------------------+-------------+\n",
      "|col_name|           data_type|      comment|\n",
      "+--------+--------------------+-------------+\n",
      "|      id|              string| id of images|\n",
      "|     mat|array<array<array...|array of list|\n",
      "+--------+--------------------+-------------+\n",
      "\n"
     ]
    }
   ],
   "source": [
    "sqlContext.sql(\"DESCRIBE TABLE images3\").show()"
   ]
  },
  {
   "cell_type": "code",
   "execution_count": 254,
   "metadata": {
    "collapsed": false
   },
   "outputs": [
    {
     "data": {
      "text/plain": [
       "DataFrame[]"
      ]
     },
     "execution_count": 254,
     "metadata": {},
     "output_type": "execute_result"
    }
   ],
   "source": [
    "sqlContext.sql(\"DROP TABLE images3\")"
   ]
  },
  {
   "cell_type": "code",
   "execution_count": 235,
   "metadata": {
    "collapsed": true
   },
   "outputs": [],
   "source": [
    "newimage3 = sqlContext.createDataFrame([(1, x.tolist())], ['id', 'mat'])"
   ]
  },
  {
   "cell_type": "code",
   "execution_count": 236,
   "metadata": {
    "collapsed": false
   },
   "outputs": [
    {
     "name": "stdout",
     "output_type": "stream",
     "text": [
      "+---+--------------------+\n",
      "| id|                 mat|\n",
      "+---+--------------------+\n",
      "|  1|[WrappedArray(Wra...|\n",
      "+---+--------------------+\n",
      "\n"
     ]
    }
   ],
   "source": [
    "newimage3.show()"
   ]
  },
  {
   "cell_type": "code",
   "execution_count": 237,
   "metadata": {
    "collapsed": false
   },
   "outputs": [],
   "source": [
    "newimage3.write.mode(\"append\").insertInto('images3')"
   ]
  },
  {
   "cell_type": "code",
   "execution_count": 238,
   "metadata": {
    "collapsed": false
   },
   "outputs": [
    {
     "name": "stdout",
     "output_type": "stream",
     "text": [
      "+---+--------------------+\n",
      "| id|                 mat|\n",
      "+---+--------------------+\n",
      "|  1|[WrappedArray(Wra...|\n",
      "|  1|[WrappedArray(Wra...|\n",
      "+---+--------------------+\n",
      "\n"
     ]
    }
   ],
   "source": [
    "sqlContext.sql(\"SELECT * FROM images3\").show()"
   ]
  },
  {
   "cell_type": "code",
   "execution_count": 239,
   "metadata": {
    "collapsed": false
   },
   "outputs": [
    {
     "data": {
      "text/plain": [
       "[Row(id=u'1', mat=[[[1]]]),\n",
       " Row(id=u'1', mat=[[[176, 171, 175], [176, 171, 175], [176, 171, 175], [176, 171, 175], [176, 171, 175], [176, 171, 175], [176, 171, 175], [176, 171, 175], [176, 171, 175], [176, 171, 175], [87, 76, 104], [176, 171, 175], [176, 171, 175], [176, 171, 175], [176, 171, 175], [176, 171, 175], [176, 171, 175], [176, 171, 175], [176, 171, 175], [176, 171, 175], [176, 171, 175], [176, 171, 175], [176, 171, 175], [176, 171, 175], [176, 171, 175], [176, 171, 175], [176, 171, 175], [176, 171, 175], [176, 171, 175], [176, 171, 175], [176, 171, 175], [176, 171, 175], [176, 171, 175], [176, 171, 175], [176, 171, 175], [176, 171, 175], [176, 171, 175], [176, 171, 175], [176, 171, 175], [176, 171, 175], [176, 171, 175], [176, 171, 175], [176, 171, 175], [176, 171, 175], [176, 171, 175], [176, 171, 175], [176, 171, 175], [176, 171, 175], [176, 171, 175], [176, 171, 175], [176, 171, 175], [176, 171, 175], [176, 171, 175], [136, 129, 134], [149, 144, 148], [176, 171, 175], [176, 171, 175], [176, 171, 175], [176, 171, 175], [176, 171, 175], [176, 171, 175], [176, 171, 175], [176, 171, 175], [176, 171, 175], [176, 171, 175], [176, 171, 175], [176, 171, 175], [176, 171, 175], [176, 171, 175], [176, 171, 175], [176, 171, 175], [176, 171, 175], [176, 171, 175], [176, 171, 175], [176, 171, 175], [176, 171, 175], [176, 171, 175], [176, 171, 175], [176, 171, 175], [176, 171, 175], [176, 171, 175], [176, 171, 175], [176, 171, 175], [176, 171, 175], [176, 171, 175], [176, 171, 175], [176, 171, 175], [176, 171, 175], [176, 171, 175], [176, 171, 175], [176, 171, 175], [176, 171, 175], [176, 171, 175], [176, 171, 175], [176, 171, 175], [176, 171, 175], [176, 171, 175], [176, 171, 175], [176, 171, 175], [176, 171, 175], [176, 171, 175], [176, 171, 175], [176, 171, 175], [176, 171, 175], [176, 171, 175], [176, 171, 175], [176, 171, 175], [176, 171, 175], [176, 171, 175], [176, 171, 175], [176, 171, 175], [176, 171, 175], [176, 171, 175], [176, 171, 175], [176, 171, 175], [176, 171, 175], [176, 171, 175], [176, 171, 175], [176, 171, 175], [176, 171, 175], [176, 171, 175], [176, 171, 175], [176, 171, 175], [176, 171, 175], [176, 171, 175], [176, 171, 175], [176, 171, 175], [176, 171, 175], [176, 171, 175], [176, 171, 175], [176, 171, 175], [176, 171, 175], [176, 171, 175], [176, 171, 175], [47, 73, 103], [47, 73, 103], [47, 73, 103], [176, 171, 175], [176, 171, 175], [176, 171, 175]], [[176, 171, 175], [176, 171, 175], [176, 171, 175], [176, 171, 175], [176, 171, 175], [176, 171, 175], [176, 171, 175], [176, 171, 175], [176, 171, 175], [176, 171, 175], [176, 171, 175], [176, 171, 175], [176, 171, 175], [176, 171, 175], [176, 171, 175], [176, 171, 175], [176, 171, 175], [176, 171, 175], [176, 171, 175], [176, 171, 175], [176, 171, 175], [176, 171, 175], [176, 171, 175], [176, 171, 175], [176, 171, 175], [176, 171, 175], [176, 171, 175], [176, 171, 175], [176, 171, 175], [176, 171, 175], [176, 171, 175], [176, 171, 175], [176, 171, 175], [176, 171, 175], [176, 171, 175], [176, 171, 175], [176, 171, 175], [176, 171, 175], [176, 171, 175], [176, 171, 175], [176, 171, 175], [176, 171, 175], [176, 171, 175], [176, 171, 175], [176, 171, 175], [176, 171, 175], [176, 171, 175], [176, 171, 175], [176, 171, 175], [176, 171, 175], [176, 171, 175], [176, 171, 175], [124, 115, 121], [124, 117, 122], [176, 171, 175], [176, 171, 175], [176, 171, 175], [176, 171, 175], [176, 171, 175], [176, 171, 175], [176, 171, 175], [176, 171, 175], [176, 171, 175], [176, 171, 175], [176, 171, 175], [176, 171, 175], [176, 171, 175], [176, 171, 175], [176, 171, 175], [87, 76, 104], [176, 171, 175], [176, 171, 175], [87, 76, 104], [176, 171, 175], [176, 171, 175], [176, 171, 175], [176, 171, 175], [176, 171, 175], [176, 171, 175], [176, 171, 175], [176, 171, 175], [176, 171, 175], [176, 171, 175], [176, 171, 175], [176, 171, 175], [176, 171, 175], [176, 171, 175], [176, 171, 175], [176, 171, 175], [176, 171, 175], [176, 171, 175], [176, 171, 175], [176, 171, 175], [176, 171, 175], [176, 171, 175], [176, 171, 175], [176, 171, 175], [176, 171, 175], [176, 171, 175], [176, 171, 175], [176, 171, 175], [176, 171, 175], [176, 171, 175], [176, 171, 175], [87, 76, 104], [176, 171, 175], [176, 171, 175], [176, 171, 175], [176, 171, 175], [176, 171, 175], [176, 171, 175], [176, 171, 175], [176, 171, 175], [176, 171, 175], [176, 171, 175], [176, 171, 175], [176, 171, 175], [176, 171, 175], [176, 171, 175], [176, 171, 175], [176, 171, 175], [176, 171, 175], [176, 171, 175], [176, 171, 175], [176, 171, 175], [176, 171, 175], [176, 171, 175], [176, 171, 175], [176, 171, 175], [176, 171, 175], [47, 73, 103], [47, 73, 103], [47, 73, 103], [47, 73, 103], [176, 171, 175], [176, 171, 175], [176, 171, 175], [176, 171, 175], [176, 171, 175], [176, 171, 175]], [[176, 171, 175], [176, 171, 175], [176, 171, 175], [176, 171, 175], [176, 171, 175], [176, 171, 175], [176, 171, 175], [176, 171, 175], [176, 171, 175], [176, 171, 175], [176, 171, 175], [176, 171, 175], [87, 76, 104], [176, 171, 175], [176, 171, 175], [176, 171, 175], [176, 171, 175], [176, 171, 175], [176, 171, 175], [176, 171, 175], [176, 171, 175], [176, 171, 175], [176, 171, 175], [176, 171, 175], [176, 171, 175], [176, 171, 175], [176, 171, 175], [176, 171, 175], [176, 171, 175], [176, 171, 175], [176, 171, 175], [176, 171, 175], [176, 171, 175], [176, 171, 175], [176, 171, 175], [176, 171, 175], [176, 171, 175], [176, 171, 175], [176, 171, 175], [176, 171, 175], [176, 171, 175], [176, 171, 175], [176, 171, 175], [176, 171, 175], [176, 171, 175], [176, 171, 175], [176, 171, 175], [176, 171, 175], [176, 171, 175], [176, 171, 175], [169, 165, 168], [117, 109, 115], [130, 123, 128], [176, 171, 175], [176, 171, 175], [176, 171, 175], [176, 171, 175], [176, 171, 175], [176, 171, 175], [176, 171, 175], [176, 171, 175], [176, 171, 175], [176, 171, 175], [176, 171, 175], [176, 171, 175], [176, 171, 175], [176, 171, 175], [176, 171, 175], [176, 171, 175], [176, 171, 175], [176, 171, 175], [176, 171, 175], [176, 171, 175], [176, 171, 175], [176, 171, 175], [176, 171, 175], [176, 171, 175], [176, 171, 175], [176, 171, 175], [176, 171, 175], [176, 171, 175], [176, 171, 175], [176, 171, 175], [176, 171, 175], [176, 171, 175], [176, 171, 175], [176, 171, 175], [176, 171, 175], [176, 171, 175], [176, 171, 175], [176, 171, 175], [176, 171, 175], [176, 171, 175], [176, 171, 175], [176, 171, 175], [176, 171, 175], [176, 171, 175], [176, 171, 175], [176, 171, 175], [176, 171, 175], [176, 171, 175], [176, 171, 175], [176, 171, 175], [176, 171, 175], [176, 171, 175], [176, 171, 175], [176, 171, 175], [176, 171, 175], [176, 171, 175], [176, 171, 175], [176, 171, 175], [176, 171, 175], [176, 171, 175], [176, 171, 175], [176, 171, 175], [176, 171, 175], [176, 171, 175], [176, 171, 175], [176, 171, 175], [176, 171, 175], [176, 171, 175], [176, 171, 175], [176, 171, 175], [176, 171, 175], [176, 171, 175], [47, 73, 103], [47, 73, 103], [47, 73, 103], [47, 73, 103], [47, 73, 103], [176, 171, 175], [165, 160, 164], [176, 171, 175], [176, 171, 175], [176, 171, 175], [176, 171, 175], [176, 171, 175], [176, 171, 175], [176, 171, 175], [176, 171, 175]], [[176, 171, 175], [176, 171, 175], [176, 171, 175], [176, 171, 175], [176, 171, 175], [176, 171, 175], [176, 171, 175], [176, 171, 175], [176, 171, 175], [176, 171, 175], [176, 171, 175], [176, 171, 175], [176, 171, 175], [176, 171, 175], [176, 171, 175], [176, 171, 175], [176, 171, 175], [176, 171, 175], [176, 171, 175], [176, 171, 175], [176, 171, 175], [176, 171, 175], [176, 171, 175], [176, 171, 175], [176, 171, 175], [176, 171, 175], [176, 171, 175], [176, 171, 175], [176, 171, 175], [176, 171, 175], [176, 171, 175], [176, 171, 175], [176, 171, 175], [176, 171, 175], [176, 171, 175], [176, 171, 175], [176, 171, 175], [176, 171, 175], [176, 171, 175], [176, 171, 175], [176, 171, 175], [176, 171, 175], [176, 171, 175], [176, 171, 175], [176, 171, 175], [176, 171, 175], [176, 171, 175], [176, 171, 175], [176, 171, 175], [162, 157, 161], [106, 96, 103], [135, 129, 134], [176, 171, 175], [176, 171, 175], [176, 171, 175], [176, 171, 175], [176, 171, 175], [176, 171, 175], [176, 171, 175], [176, 171, 175], [176, 171, 175], [176, 171, 175], [176, 171, 175], [176, 171, 175], [176, 171, 175], [176, 171, 175], [176, 171, 175], [176, 171, 175], [176, 171, 175], [176, 171, 175], [176, 171, 175], [176, 171, 175], [176, 171, 175], [176, 171, 175], [176, 171, 175], [176, 171, 175], [176, 171, 175], [176, 171, 175], [176, 171, 175], [176, 171, 175], [176, 171, 175], [176, 171, 175], [176, 171, 175], [176, 171, 175], [176, 171, 175], [176, 171, 175], [176, 171, 175], [176, 171, 175], [176, 171, 175], [176, 171, 175], [176, 171, 175], [176, 171, 175], [176, 171, 175], [176, 171, 175], [176, 171, 175], [176, 171, 175], [176, 171, 175], [176, 171, 175], [176, 171, 175], [176, 171, 175], [176, 171, 175], [176, 171, 175], [176, 171, 175], [176, 171, 175], [176, 171, 175], [176, 171, 175], [176, 171, 175], [176, 171, 175], [163, 159, 161], [141, 139, 138], [162, 158, 159], [176, 171, 175], [176, 171, 175], [176, 171, 175], [176, 171, 175], [176, 171, 175], [176, 171, 175], [176, 171, 175], [176, 171, 175], [176, 171, 175], [176, 171, 175], [47, 73, 103], [47, 73, 103], [47, 73, 103], [47, 73, 103], [176, 171, 175], [176, 171, 175], [176, 171, 175], [176, 171, 175], [176, 171, 175], [175, 170, 174], [144, 142, 144], [126, 127, 125], [170, 165, 169], [176, 171, 175], [176, 171, 175], [176, 171, 175], [176, 171, 175], [176, 171, 175], [176, 171, 175]], [[176, 171, 175], [176, 171, 175], [176, 171, 175], [176, 171, 175], [176, 171, 175], [176, 171, 175], [176, 171, 175], [176, 171, 175], [176, 171, 175], [176, 171, 175], [176, 171, 175], [176, 171, 175], [176, 171, 175], [176, 171, 175], [176, 171, 175], [176, 171, 175], [141, 145, 139], [138, 143, 136], [176, 171, 175], [176, 171, 175], [176, 171, 175], [176, 171, 175], [176, 171, 175], [176, 171, 175], [176, 171, 175], [176, 171, 175], [176, 171, 175], [176, 171, 175], [176, 171, 175], [176, 171, 175], [176, 171, 175], [176, 171, 175], [176, 171, 175], [176, 171, 175], [176, 171, 175], [176, 171, 175], [176, 171, 175], [176, 171, 175], [176, 171, 175], [176, 171, 175], [176, 171, 175], [176, 171, 175], [176, 171, 175], [176, 171, 175], [176, 171, 175], [176, 171, 175], [176, 171, 175], [176, 171, 175], [157, 150, 156], [92, 79, 88], [118, 109, 115], [168, 163, 167], [176, 171, 175], [176, 171, 175], [176, 171, 175], [176, 171, 175], [176, 171, 175], [176, 171, 175], [176, 171, 175], [176, 171, 175], [176, 171, 175], [176, 171, 175], [176, 171, 175], [176, 171, 175], [176, 171, 175], [176, 171, 175], [176, 171, 175], [176, 171, 175], [176, 171, 175], [176, 171, 175], [176, 171, 175], [87, 76, 104], [176, 171, 175], [176, 171, 175], [176, 171, 175], [176, 171, 175], [176, 171, 175], [176, 171, 175], [176, 171, 175], [176, 171, 175], [176, 171, 175], [176, 171, 175], [176, 171, 175], [176, 171, 175], [176, 171, 175], [176, 171, 175], [176, 171, 175], [176, 171, 175], [176, 171, 175], [87, 76, 104], [176, 171, 175], [176, 171, 175], [176, 171, 175], [176, 171, 175], [176, 171, 175], [176, 171, 175], [176, 171, 175], [176, 171, 175], [176, 171, 175], [176, 171, 175], [176, 171, 175], [176, 171, 175], [176, 171, 175], [176, 171, 175], [176, 171, 175], [176, 171, 175], [176, 171, 175], [176, 171, 175], [176, 171, 175], [150, 146, 145], [115, 113, 106], [134, 132, 128], [166, 162, 164], [176, 171, 175], [176, 171, 175], [176, 171, 175], [47, 73, 103], [47, 73, 103], [47, 73, 103], [47, 73, 103], [47, 73, 103], [176, 171, 175], [176, 171, 175], [176, 171, 175], [176, 171, 175], [176, 171, 175], [176, 171, 175], [176, 171, 175], [176, 171, 175], [176, 171, 175], [176, 171, 175], [176, 171, 175], [137, 138, 137], [110, 115, 110], [156, 154, 155], [176, 171, 175], [176, 171, 175], [176, 171, 175], [176, 171, 175], [176, 171, 175]], [[176, 171, 175], [176, 171, 175], [176, 171, 175], [176, 171, 175], [176, 171, 175], [176, 171, 175], [176, 171, 175], [176, 171, 175], [176, 171, 175], [176, 171, 175], [176, 171, 175], [176, 171, 175], [176, 171, 175], [176, 171, 175], [176, 171, 175], [87, 76, 104], [99, 113, 97], [149, 151, 147], [176, 171, 175], [176, 171, 175], [176, 171, 175], [176, 171, 175], [176, 171, 175], [176, 171, 175], [176, 171, 175], [176, 171, 175], [176, 171, 175], [176, 171, 175], [176, 171, 175], [176, 171, 175], [176, 171, 175], [176, 171, 175], [176, 171, 175], [176, 171, 175], [176, 171, 175], [176, 171, 175], [176, 171, 175], [176, 171, 175], [176, 171, 175], [176, 171, 175], [176, 171, 175], [176, 171, 175], [176, 171, 175], [176, 171, 175], [176, 171, 175], [176, 171, 175], [176, 171, 175], [152, 146, 150], [100, 90, 98], [129, 121, 127], [104, 95, 102], [162, 156, 160], [176, 171, 175], [176, 171, 175], [176, 171, 175], [176, 171, 175], [176, 171, 175], [176, 171, 175], [176, 171, 175], [176, 171, 175], [176, 171, 175], [176, 171, 175], [176, 171, 175], [176, 171, 175], [176, 171, 175], [176, 171, 175], [176, 171, 175], [176, 171, 175], [176, 171, 175], [176, 171, 175], [176, 171, 175], [176, 171, 175], [176, 171, 175], [176, 171, 175], [176, 171, 175], [176, 171, 175], [176, 171, 175], [176, 171, 175], [176, 171, 175], [176, 171, 175], [176, 171, 175], [176, 171, 175], [176, 171, 175], [176, 171, 175], [176, 171, 175], [176, 171, 175], [176, 171, 175], [176, 171, 175], [176, 171, 175], [176, 171, 175], [176, 171, 175], [176, 171, 175], [176, 171, 175], [176, 171, 175], [176, 171, 175], [176, 171, 175], [176, 171, 175], [176, 171, 175], [176, 171, 175], [176, 171, 175], [176, 171, 175], [176, 171, 175], [176, 171, 175], [176, 171, 175], [176, 171, 175], [176, 171, 175], [176, 171, 175], [176, 171, 175], [176, 171, 175], [176, 171, 175], [174, 169, 173], [143, 139, 137], [47, 73, 103], [47, 73, 103], [47, 73, 103], [47, 73, 103], [176, 171, 175], [176, 171, 175], [69, 56, 108], [176, 171, 175], [176, 171, 175], [176, 171, 175], [176, 171, 175], [176, 171, 175], [176, 171, 175], [176, 171, 175], [176, 171, 175], [176, 171, 175], [176, 171, 175], [176, 171, 175], [176, 171, 175], [176, 171, 175], [176, 171, 175], [151, 150, 150], [94, 104, 93], [139, 142, 139], [176, 171, 175], [176, 171, 175], [176, 171, 175], [176, 171, 175]], [[176, 171, 175], [176, 171, 175], [176, 171, 175], [176, 171, 175], [176, 171, 175], [176, 171, 175], [176, 171, 175], [176, 171, 175], [176, 171, 175], [176, 171, 175], [176, 171, 175], [176, 171, 175], [176, 171, 175], [176, 171, 175], [176, 171, 175], [141, 144, 139], [108, 119, 105], [176, 171, 175], [176, 171, 175], [176, 171, 175], [176, 171, 175], [176, 171, 175], [176, 171, 175], [176, 171, 175], [176, 171, 175], [176, 171, 175], [176, 171, 175], [176, 171, 175], [176, 171, 175], [176, 171, 175], [176, 171, 175], [176, 171, 175], [176, 171, 175], [176, 171, 175], [176, 171, 175], [176, 171, 175], [176, 171, 175], [176, 171, 175], [176, 171, 175], [176, 171, 175], [176, 171, 175], [176, 171, 175], [176, 171, 175], [176, 171, 175], [176, 171, 175], [176, 171, 175], [146, 140, 145], [101, 92, 99], [154, 147, 152], [176, 171, 175], [139, 131, 137], [104, 94, 100], [169, 163, 167], [176, 171, 175], [176, 171, 175], [176, 171, 175], [176, 171, 175], [176, 171, 175], [176, 171, 175], [176, 171, 175], [176, 171, 175], [176, 171, 175], [176, 171, 175], [176, 171, 175], [176, 171, 175], [176, 171, 175], [176, 171, 175], [176, 171, 175], [176, 171, 175], [176, 171, 175], [176, 171, 175], [176, 171, 175], [176, 171, 175], [176, 171, 175], [176, 171, 175], [176, 171, 175], [176, 171, 175], [176, 171, 175], [176, 171, 175], [176, 171, 175], [176, 171, 175], [176, 171, 175], [176, 171, 175], [176, 171, 175], [176, 171, 175], [176, 171, 175], [176, 171, 175], [176, 171, 175], [176, 171, 175], [176, 171, 175], [176, 171, 175], [176, 171, 175], [176, 171, 175], [176, 171, 175], [176, 171, 175], [176, 171, 175], [176, 171, 175], [176, 171, 175], [176, 171, 175], [176, 171, 175], [176, 171, 175], [176, 171, 175], [176, 171, 175], [176, 171, 175], [176, 171, 175], [176, 171, 175], [176, 171, 175], [47, 73, 103], [47, 73, 103], [47, 73, 103], [47, 73, 103], [47, 73, 103], [155, 151, 151], [110, 111, 98], [130, 127, 126], [174, 169, 173], [176, 171, 175], [176, 171, 175], [69, 56, 108], [176, 171, 175], [176, 171, 175], [176, 171, 175], [176, 171, 175], [176, 171, 175], [176, 171, 175], [176, 171, 175], [176, 171, 175], [176, 171, 175], [176, 171, 175], [176, 171, 175], [176, 171, 175], [176, 171, 175], [176, 171, 175], [134, 134, 133], [117, 121, 117], [108, 114, 108], [131, 132, 130], [176, 171, 175], [176, 171, 175], [176, 171, 175]], [[176, 171, 175], [176, 171, 175], [176, 171, 175], [176, 171, 175], [176, 171, 175], [176, 171, 175], [176, 171, 175], [176, 171, 175], [176, 171, 175], [176, 171, 175], [176, 171, 175], [176, 171, 175], [176, 171, 175], [176, 171, 175], [176, 171, 175], [100, 114, 98], [147, 149, 146], [176, 171, 175], [176, 171, 175], [176, 171, 175], [176, 171, 175], [176, 171, 175], [176, 171, 175], [176, 171, 175], [176, 171, 175], [176, 171, 175], [176, 171, 175], [176, 171, 175], [176, 171, 175], [176, 171, 175], [176, 171, 175], [176, 171, 175], [176, 171, 175], [176, 171, 175], [176, 171, 175], [176, 171, 175], [176, 171, 175], [176, 171, 175], [176, 171, 175], [176, 171, 175], [176, 171, 175], [176, 171, 175], [176, 171, 175], [176, 171, 175], [176, 171, 175], [150, 144, 148], [111, 102, 108], [159, 153, 158], [176, 171, 175], [176, 171, 175], [176, 171, 175], [132, 125, 130], [117, 108, 115], [175, 170, 174], [176, 171, 175], [176, 171, 175], [176, 171, 175], [176, 171, 175], [176, 171, 175], [176, 171, 175], [176, 171, 175], [176, 171, 175], [176, 171, 175], [176, 171, 175], [176, 171, 175], [176, 171, 175], [176, 171, 175], [176, 171, 175], [176, 171, 175], [176, 171, 175], [176, 171, 175], [176, 171, 175], [176, 171, 175], [176, 171, 175], [176, 171, 175], [176, 171, 175], [176, 171, 175], [176, 171, 175], [176, 171, 175], [176, 171, 175], [176, 171, 175], [176, 171, 175], [176, 171, 175], [176, 171, 175], [176, 171, 175], [176, 171, 175], [176, 171, 175], [176, 171, 175], [176, 171, 175], [176, 171, 175], [176, 171, 175], [176, 171, 175], [176, 171, 175], [176, 171, 175], [87, 76, 104], [176, 171, 175], [176, 171, 175], [176, 171, 175], [176, 171, 175], [176, 171, 175], [176, 171, 175], [176, 171, 175], [176, 171, 175], [47, 73, 103], [47, 73, 103], [47, 73, 103], [47, 73, 103], [176, 171, 175], [176, 171, 175], [176, 171, 175], [50, 102, 93], [50, 102, 93], [50, 102, 93], [50, 102, 93], [50, 102, 93], [50, 102, 93], [50, 102, 93], [50, 102, 93], [50, 102, 93], [50, 102, 93], [50, 102, 93], [176, 171, 175], [176, 171, 175], [176, 171, 175], [176, 171, 175], [176, 171, 175], [176, 171, 175], [176, 171, 175], [176, 171, 175], [176, 171, 175], [176, 171, 175], [174, 169, 173], [144, 145, 144], [109, 115, 110], [165, 162, 164], [171, 166, 170], [131, 132, 130], [118, 121, 118], [164, 161, 164], [176, 171, 175]], [[176, 171, 175], [176, 171, 175], [176, 171, 175], [176, 171, 175], [176, 171, 175], [176, 171, 175], [176, 171, 175], [176, 171, 175], [176, 171, 175], [176, 171, 175], [176, 171, 175], [176, 171, 175], [176, 171, 175], [176, 171, 175], [144, 147, 142], [103, 117, 101], [176, 171, 175], [176, 171, 175], [176, 171, 175], [176, 171, 175], [176, 171, 175], [176, 171, 175], [176, 171, 175], [176, 171, 175], [176, 171, 175], [174, 169, 173], [170, 166, 170], [176, 171, 175], [176, 171, 175], [176, 171, 175], [176, 171, 175], [176, 171, 175], [176, 171, 175], [176, 171, 175], [176, 171, 175], [176, 171, 175], [176, 171, 175], [176, 171, 175], [176, 171, 175], [176, 171, 175], [176, 171, 175], [176, 171, 175], [176, 171, 175], [176, 171, 175], [176, 171, 175], [159, 153, 158], [167, 162, 166], [176, 171, 175], [176, 171, 175], [176, 171, 175], [176, 171, 175], [163, 158, 162], [124, 118, 123], [143, 137, 143], [176, 171, 175], [176, 171, 175], [176, 171, 175], [176, 171, 175], [176, 171, 175], [176, 171, 175], [176, 171, 175], [176, 171, 175], [176, 171, 175], [176, 171, 175], [176, 171, 175], [176, 171, 175], [176, 171, 175], [176, 171, 175], [176, 171, 175], [176, 171, 175], [176, 171, 175], [176, 171, 175], [176, 171, 175], [176, 171, 175], [176, 171, 175], [176, 171, 175], [176, 171, 175], [176, 171, 175], [176, 171, 175], [176, 171, 175], [176, 171, 175], [176, 171, 175], [176, 171, 175], [176, 171, 175], [176, 171, 175], [176, 171, 175], [176, 171, 175], [176, 171, 175], [176, 171, 175], [176, 171, 175], [50, 102, 93], [50, 102, 93], [50, 102, 93], [50, 102, 93], [50, 102, 93], [50, 102, 93], [50, 102, 93], [50, 102, 93], [50, 102, 93], [50, 102, 93], [50, 102, 93], [50, 102, 93], [50, 102, 93], [50, 102, 93], [50, 102, 93], [50, 102, 93], [50, 102, 93], [50, 102, 93], [50, 102, 93], [50, 102, 93], [173, 168, 172], [152, 148, 146], [119, 118, 107], [175, 170, 174], [176, 171, 175], [176, 171, 175], [176, 171, 175], [176, 171, 175], [176, 171, 175], [176, 171, 175], [69, 56, 108], [176, 171, 175], [176, 171, 175], [176, 171, 175], [176, 171, 175], [176, 171, 175], [176, 171, 175], [176, 171, 175], [87, 76, 104], [51, 75, 107], [162, 158, 161], [147, 145, 146], [99, 105, 99], [159, 156, 158], [176, 171, 175], [176, 171, 175], [176, 171, 175], [142, 143, 142], [126, 126, 126], [168, 165, 167]], [[176, 171, 175], [176, 171, 175], [176, 171, 175], [176, 171, 175], [176, 171, 175], [176, 171, 175], [176, 171, 175], [176, 171, 175], [176, 171, 175], [176, 171, 175], [176, 171, 175], [176, 171, 175], [176, 171, 175], [176, 171, 175], [109, 120, 107], [142, 145, 141], [175, 170, 174], [176, 171, 175], [176, 171, 175], [176, 171, 175], [176, 171, 175], [176, 171, 175], [176, 171, 175], [176, 171, 175], [176, 171, 175], [152, 148, 150], [122, 126, 120], [146, 147, 145], [176, 171, 175], [176, 171, 175], [176, 171, 175], [176, 171, 175], [176, 171, 175], [176, 171, 175], [176, 171, 175], [176, 171, 175], [176, 171, 175], [176, 171, 175], [176, 171, 175], [176, 171, 175], [176, 171, 175], [176, 171, 175], [176, 171, 175], [176, 171, 175], [176, 171, 175], [176, 171, 175], [176, 171, 175], [176, 171, 175], [176, 171, 175], [176, 171, 175], [176, 171, 175], [170, 165, 169], [128, 122, 127], [133, 128, 132], [170, 165, 169], [176, 171, 175], [176, 171, 175], [176, 171, 175], [176, 171, 175], [176, 171, 175], [176, 171, 175], [176, 171, 175], [176, 171, 175], [176, 171, 175], [176, 171, 175], [176, 171, 175], [176, 171, 175], [176, 171, 175], [176, 171, 175], [176, 171, 175], [50, 102, 93], [50, 102, 93], [50, 102, 93], [50, 102, 93], [50, 102, 93], [50, 102, 93], [50, 102, 93], [50, 102, 93], [50, 102, 93], [50, 102, 93], [50, 102, 93], [50, 102, 93], [50, 102, 93], [50, 102, 93], [50, 102, 93], [50, 102, 93], [50, 102, 93], [50, 102, 93], [50, 102, 93], [50, 102, 93], [176, 171, 175], [176, 171, 175], [176, 171, 175], [176, 171, 175], [47, 73, 103], [47, 73, 103], [47, 73, 103], [47, 73, 103], [47, 73, 103], [176, 171, 175], [176, 171, 175], [176, 171, 175], [176, 171, 175], [176, 171, 175], [176, 171, 175], [176, 171, 175], [176, 171, 175], [176, 171, 175], [176, 171, 175], [175, 170, 174], [155, 150, 153], [119, 118, 110], [152, 149, 148], [176, 171, 175], [176, 171, 175], [176, 171, 175], [176, 171, 175], [176, 171, 175], [176, 171, 175], [176, 171, 175], [69, 56, 108], [176, 171, 175], [176, 171, 175], [176, 171, 175], [176, 171, 175], [176, 171, 175], [176, 171, 175], [176, 171, 175], [176, 171, 175], [51, 75, 107], [125, 125, 124], [122, 121, 122], [150, 148, 149], [176, 171, 175], [176, 171, 175], [176, 171, 175], [176, 171, 175], [176, 171, 175], [169, 164, 168], [176, 171, 175]], [[176, 171, 175], [176, 171, 175], [176, 171, 175], [176, 171, 175], [176, 171, 175], [176, 171, 175], [176, 171, 175], [176, 171, 175], [176, 171, 175], [176, 171, 175], [176, 171, 175], [176, 171, 175], [176, 171, 175], [159, 157, 158], [116, 121, 114], [151, 148, 150], [176, 171, 175], [176, 171, 175], [176, 171, 175], [176, 171, 175], [176, 171, 175], [176, 171, 175], [176, 171, 175], [174, 169, 173], [158, 158, 157], [109, 117, 108], [120, 123, 118], [168, 165, 167], [176, 171, 175], [176, 171, 175], [176, 171, 175], [176, 171, 175], [176, 171, 175], [176, 171, 175], [176, 171, 175], [176, 171, 175], [176, 171, 175], [176, 171, 175], [176, 171, 175], [176, 171, 175], [176, 171, 175], [176, 171, 175], [176, 171, 175], [176, 171, 175], [176, 171, 175], [176, 171, 175], [176, 171, 175], [176, 171, 175], [176, 171, 175], [176, 171, 175], [50, 102, 93], [50, 102, 93], [50, 102, 93], [50, 102, 93], [50, 102, 93], [50, 102, 93], [50, 102, 93], [50, 102, 93], [50, 102, 93], [50, 102, 93], [50, 102, 93], [50, 102, 93], [50, 102, 93], [50, 102, 93], [50, 102, 93], [50, 102, 93], [50, 102, 93], [50, 102, 93], [50, 102, 93], [50, 102, 93], [176, 171, 175], [176, 171, 175], [176, 171, 175], [176, 171, 175], [176, 171, 175], [176, 171, 175], [176, 171, 175], [176, 171, 175], [176, 171, 175], [176, 171, 175], [176, 171, 175], [176, 171, 175], [176, 171, 175], [176, 171, 175], [176, 171, 175], [176, 171, 175], [176, 171, 175], [176, 171, 175], [176, 171, 175], [176, 171, 175], [47, 73, 103], [47, 73, 103], [47, 73, 103], [47, 73, 103], [176, 171, 175], [176, 171, 175], [176, 171, 175], [176, 171, 175], [176, 171, 175], [176, 171, 175], [176, 171, 175], [176, 171, 175], [176, 171, 175], [176, 171, 175], [176, 171, 175], [176, 171, 175], [176, 171, 175], [176, 171, 175], [176, 171, 175], [150, 146, 146], [129, 127, 126], [134, 131, 128], [176, 171, 175], [176, 171, 175], [176, 171, 175], [176, 171, 175], [176, 171, 175], [176, 171, 175], [176, 171, 175], [176, 171, 175], [176, 171, 175], [69, 56, 108], [176, 171, 175], [176, 171, 175], [176, 171, 175], [176, 171, 175], [176, 171, 175], [176, 171, 175], [51, 75, 107], [109, 113, 109], [137, 135, 136], [154, 151, 153], [176, 171, 175], [176, 171, 175], [176, 171, 175], [176, 171, 175], [176, 171, 175], [176, 171, 175], [176, 171, 175], [176, 171, 175]], [[176, 171, 175], [176, 171, 175], [176, 171, 175], [176, 171, 175], [176, 171, 175], [176, 171, 175], [176, 171, 175], [176, 171, 175], [176, 171, 175], [176, 171, 175], [176, 171, 175], [176, 171, 175], [176, 171, 175], [156, 153, 154], [119, 123, 118], [152, 150, 151], [176, 171, 175], [176, 171, 175], [176, 171, 175], [176, 171, 175], [176, 171, 175], [176, 171, 175], [176, 171, 175], [149, 148, 147], [114, 122, 113], [130, 135, 129], [168, 163, 167], [176, 171, 175], [176, 171, 175], [176, 171, 175], [50, 102, 93], [50, 102, 93], [50, 102, 93], [50, 102, 93], [50, 102, 93], [50, 102, 93], [50, 102, 93], [50, 102, 93], [50, 102, 93], [50, 102, 93], [50, 102, 93], [50, 102, 93], [50, 102, 93], [50, 102, 93], [50, 102, 93], [50, 102, 93], [50, 102, 93], [50, 102, 93], [50, 102, 93], [50, 102, 93], [176, 171, 175], [176, 171, 175], [157, 152, 156], [123, 116, 121], [81, 70, 77], [159, 152, 157], [176, 171, 175], [176, 171, 175], [176, 171, 175], [176, 171, 175], [176, 171, 175], [176, 171, 175], [176, 171, 175], [176, 171, 175], [176, 171, 175], [176, 171, 175], [176, 171, 175], [176, 171, 175], [176, 171, 175], [176, 171, 175], [176, 171, 175], [176, 171, 175], [176, 171, 175], [176, 171, 175], [176, 171, 175], [176, 171, 175], [176, 171, 175], [176, 171, 175], [176, 171, 175], [176, 171, 175], [176, 171, 175], [176, 171, 175], [176, 171, 175], [176, 171, 175], [176, 171, 175], [47, 73, 103], [47, 73, 103], [47, 73, 103], [47, 73, 103], [47, 73, 103], [176, 171, 175], [176, 171, 175], [176, 171, 175], [176, 171, 175], [176, 171, 175], [176, 171, 175], [176, 171, 175], [176, 171, 175], [176, 171, 175], [176, 171, 175], [176, 171, 175], [176, 171, 175], [176, 171, 175], [176, 171, 175], [176, 171, 175], [176, 171, 175], [176, 171, 175], [176, 171, 175], [171, 166, 169], [112, 112, 103], [141, 138, 138], [165, 160, 163], [176, 171, 175], [176, 171, 175], [176, 171, 175], [176, 171, 175], [176, 171, 175], [176, 171, 175], [176, 171, 175], [176, 171, 175], [176, 171, 175], [176, 171, 175], [69, 56, 108], [176, 171, 175], [176, 171, 175], [176, 171, 175], [175, 170, 174], [174, 169, 173], [51, 75, 107], [134, 135, 133], [171, 166, 170], [176, 171, 175], [176, 171, 175], [176, 171, 175], [176, 171, 175], [176, 171, 175], [176, 171, 175], [176, 171, 175], [176, 171, 175], [176, 171, 175]], [[176, 171, 175], [176, 171, 175], [176, 171, 175], [108, 109, 83], [108, 109, 83], [176, 171, 175], [176, 171, 175], [176, 171, 175], [176, 171, 175], [176, 171, 175], [176, 171, 175], [176, 171, 175], [176, 171, 175], [153, 152, 152], [96, 110, 93], [175, 170, 174], [176, 171, 175], [176, 171, 175], [176, 171, 175], [50, 102, 93], [50, 102, 93], [50, 102, 93], [50, 102, 93], [50, 102, 93], [50, 102, 93], [50, 102, 93], [50, 102, 93], [50, 102, 93], [50, 102, 93], [50, 102, 93], [176, 171, 175], [176, 171, 175], [176, 171, 175], [176, 171, 175], [176, 171, 175], [176, 171, 175], [176, 171, 175], [176, 171, 175], [176, 171, 175], [176, 171, 175], [176, 171, 175], [176, 171, 175], [176, 171, 175], [176, 171, 175], [176, 171, 175], [176, 171, 175], [176, 171, 175], [176, 171, 175], [176, 171, 175], [176, 171, 175], [176, 171, 175], [176, 171, 175], [176, 171, 175], [170, 165, 169], [114, 108, 111], [101, 93, 99], [164, 159, 163], [176, 171, 175], [176, 171, 175], [176, 171, 175], [176, 171, 175], [176, 171, 175], [176, 171, 175], [176, 171, 175], [176, 171, 175], [176, 171, 175], [176, 171, 175], [176, 171, 175], [176, 171, 175], [176, 171, 175], [176, 171, 175], [176, 171, 175], [176, 171, 175], [176, 171, 175], [176, 171, 175], [176, 171, 175], [176, 171, 175], [176, 171, 175], [176, 171, 175], [176, 171, 175], [176, 171, 175], [47, 73, 103], [47, 73, 103], [47, 73, 103], [47, 73, 103], [176, 171, 175], [176, 171, 175], [176, 171, 175], [176, 171, 175], [176, 171, 175], [176, 171, 175], [176, 171, 175], [176, 171, 175], [176, 171, 175], [176, 171, 175], [176, 171, 175], [176, 171, 175], [176, 171, 175], [176, 171, 175], [176, 171, 175], [176, 171, 175], [176, 171, 175], [176, 171, 175], [168, 163, 167], [176, 171, 175], [176, 171, 175], [176, 171, 175], [176, 171, 175], [136, 135, 127], [133, 132, 125], [170, 165, 169], [176, 171, 175], [176, 171, 175], [176, 171, 175], [176, 171, 175], [176, 171, 175], [176, 171, 175], [176, 171, 175], [176, 171, 175], [176, 171, 175], [176, 171, 175], [176, 171, 175], [69, 56, 108], [176, 171, 175], [176, 171, 175], [176, 171, 175], [150, 148, 151], [51, 75, 107], [123, 125, 122], [165, 160, 164], [154, 149, 153], [155, 149, 153], [176, 171, 175], [176, 171, 175], [176, 171, 175], [176, 171, 175], [176, 171, 175], [176, 171, 175], [176, 171, 175], [176, 171, 175]], [[176, 171, 175], [176, 171, 175], [176, 171, 175], [176, 171, 175], [176, 171, 175], [108, 109, 83], [108, 109, 83], [176, 171, 175], [176, 171, 175], [176, 171, 175], [176, 171, 175], [176, 171, 175], [176, 171, 175], [115, 125, 114], [130, 137, 129], [176, 171, 175], [176, 171, 175], [176, 171, 175], [176, 171, 175], [176, 171, 175], [163, 159, 162], [105, 117, 103], [122, 128, 121], [141, 142, 140], [152, 146, 149], [143, 136, 138], [132, 125, 127], [120, 112, 112], [115, 106, 105], [144, 138, 141], [170, 165, 169], [176, 171, 175], [176, 171, 175], [176, 171, 175], [176, 171, 175], [176, 171, 175], [176, 171, 175], [176, 171, 175], [176, 171, 175], [176, 171, 175], [176, 171, 175], [176, 171, 175], [176, 171, 175], [176, 171, 175], [176, 171, 175], [176, 171, 175], [176, 171, 175], [176, 171, 175], [176, 171, 175], [176, 171, 175], [174, 169, 173], [166, 161, 165], [173, 168, 172], [161, 157, 161], [138, 134, 137], [109, 103, 108], [118, 114, 116], [172, 167, 171], [176, 171, 175], [176, 171, 175], [176, 171, 175], [176, 171, 175], [176, 171, 175], [176, 171, 175], [176, 171, 175], [176, 171, 175], [176, 171, 175], [176, 171, 175], [176, 171, 175], [175, 170, 174], [158, 156, 158], [175, 170, 174], [176, 171, 175], [176, 171, 175], [176, 171, 175], [176, 171, 175], [47, 73, 103], [47, 73, 103], [47, 73, 103], [47, 73, 103], [47, 73, 103], [176, 171, 175], [176, 171, 175], [176, 171, 175], [176, 171, 175], [176, 171, 175], [176, 171, 175], [176, 171, 175], [176, 171, 175], [176, 171, 175], [176, 171, 175], [176, 171, 175], [176, 171, 175], [176, 171, 175], [176, 171, 175], [176, 171, 175], [176, 171, 175], [176, 171, 175], [176, 171, 175], [176, 171, 175], [176, 171, 175], [43, 75, 82], [157, 151, 155], [153, 149, 152], [149, 145, 149], [176, 171, 175], [170, 166, 170], [157, 152, 154], [105, 105, 91], [169, 164, 167], [176, 171, 175], [176, 171, 175], [176, 171, 175], [176, 171, 175], [176, 171, 175], [176, 171, 175], [176, 171, 175], [176, 171, 175], [176, 171, 175], [176, 171, 175], [176, 171, 175], [176, 171, 175], [176, 171, 175], [69, 56, 108], [176, 171, 175], [139, 138, 138], [119, 119, 118], [51, 75, 107], [140, 136, 139], [152, 147, 151], [162, 158, 161], [173, 168, 172], [176, 171, 175], [176, 171, 175], [176, 171, 175], [176, 171, 175], [176, 171, 175], [176, 171, 175], [176, 171, 175], [176, 171, 175]], [[176, 171, 175], [176, 171, 175], [176, 171, 175], [176, 171, 175], [176, 171, 175], [176, 171, 175], [176, 171, 175], [108, 109, 83], [108, 109, 83], [176, 171, 175], [176, 171, 175], [176, 171, 175], [163, 160, 162], [92, 106, 89], [171, 167, 170], [176, 171, 175], [176, 171, 175], [176, 171, 175], [173, 168, 172], [139, 143, 138], [115, 117, 111], [88, 84, 78], [168, 163, 167], [154, 147, 151], [127, 119, 122], [136, 128, 130], [145, 139, 142], [154, 148, 151], [155, 149, 152], [103, 95, 94], [129, 123, 125], [176, 171, 175], [176, 171, 175], [176, 171, 175], [176, 171, 175], [176, 171, 175], [176, 171, 175], [176, 171, 175], [176, 171, 175], [176, 171, 175], [176, 171, 175], [176, 171, 175], [176, 171, 175], [176, 171, 175], [176, 171, 175], [176, 171, 175], [176, 171, 175], [176, 171, 175], [176, 171, 175], [173, 168, 172], [154, 150, 153], [159, 154, 158], [167, 162, 166], [152, 148, 151], [163, 158, 162], [127, 120, 125], [113, 107, 111], [144, 140, 144], [168, 163, 167], [176, 171, 175], [176, 171, 175], [176, 171, 175], [176, 171, 175], [176, 171, 175], [176, 171, 175], [176, 171, 175], [167, 164, 166], [143, 143, 144], [117, 121, 120], [88, 97, 93], [113, 115, 116], [119, 123, 121], [47, 73, 103], [47, 73, 103], [47, 73, 103], [47, 73, 103], [176, 171, 175], [176, 171, 175], [176, 171, 175], [176, 171, 175], [176, 171, 175], [176, 171, 175], [176, 171, 175], [176, 171, 175], [176, 171, 175], [176, 171, 175], [176, 171, 175], [176, 171, 175], [176, 171, 175], [176, 171, 175], [176, 171, 175], [176, 171, 175], [176, 171, 175], [173, 168, 172], [176, 171, 175], [176, 171, 175], [176, 171, 175], [176, 171, 175], [176, 171, 175], [176, 171, 175], [147, 143, 147], [160, 154, 158], [43, 75, 82], [176, 171, 175], [156, 152, 155], [150, 145, 149], [145, 141, 143], [128, 126, 123], [143, 140, 137], [176, 171, 175], [176, 171, 175], [176, 171, 175], [176, 171, 175], [176, 171, 175], [176, 171, 175], [176, 171, 175], [176, 171, 175], [176, 171, 175], [176, 171, 175], [176, 171, 175], [176, 171, 175], [176, 171, 175], [176, 171, 175], [175, 170, 174], [69, 56, 108], [95, 100, 95], [132, 128, 131], [51, 75, 107], [173, 168, 172], [176, 171, 175], [176, 171, 175], [176, 171, 175], [176, 171, 175], [176, 171, 175], [176, 171, 175], [176, 171, 175], [176, 171, 175], [176, 171, 175], [176, 171, 175], [176, 171, 175]], [[176, 171, 175], [176, 171, 175], [176, 171, 175], [176, 171, 175], [176, 171, 175], [176, 171, 175], [176, 171, 175], [176, 171, 175], [176, 171, 175], [108, 109, 83], [108, 109, 83], [176, 171, 175], [139, 140, 138], [124, 127, 123], [164, 159, 163], [176, 171, 175], [175, 170, 174], [167, 164, 166], [121, 123, 119], [103, 114, 102], [145, 146, 144], [97, 87, 87], [151, 146, 149], [116, 107, 108], [160, 156, 159], [176, 171, 175], [176, 171, 175], [176, 171, 175], [176, 171, 175], [173, 168, 172], [101, 90, 89], [161, 156, 159], [175, 170, 174], [176, 171, 175], [87, 76, 104], [176, 171, 175], [176, 171, 175], [176, 171, 175], [176, 171, 175], [176, 171, 175], [176, 171, 175], [176, 171, 175], [176, 171, 175], [176, 171, 175], [176, 171, 175], [176, 171, 175], [176, 171, 175], [176, 171, 175], [176, 171, 175], [176, 171, 175], [170, 165, 169], [156, 152, 155], [145, 142, 144], [144, 140, 144], [157, 152, 156], [149, 143, 147], [89, 80, 86], [115, 108, 114], [154, 150, 152], [175, 170, 174], [176, 171, 175], [176, 171, 175], [176, 171, 175], [176, 171, 175], [169, 164, 168], [123, 125, 126], [94, 101, 98], [47, 73, 103], [47, 73, 103], [47, 73, 103], [47, 73, 103], [47, 73, 103], [117, 120, 119], [138, 139, 139], [176, 171, 175], [176, 171, 175], [176, 171, 175], [176, 171, 175], [176, 171, 175], [176, 171, 175], [176, 171, 175], [176, 171, 175], [176, 171, 175], [176, 171, 175], [176, 171, 175], [176, 171, 175], [176, 171, 175], [176, 171, 175], [176, 171, 175], [176, 171, 175], [176, 171, 175], [176, 171, 175], [109, 110, 99], [155, 151, 152], [175, 170, 174], [176, 171, 175], [176, 171, 175], [176, 171, 175], [176, 171, 175], [145, 141, 144], [163, 159, 163], [173, 168, 172], [176, 171, 175], [43, 75, 82], [167, 162, 166], [133, 131, 130], [121, 119, 115], [136, 133, 133], [173, 168, 172], [176, 171, 175], [176, 171, 175], [176, 171, 175], [176, 171, 175], [176, 171, 175], [176, 171, 175], [176, 171, 175], [176, 171, 175], [176, 171, 175], [176, 171, 175], [176, 171, 175], [176, 171, 175], [176, 171, 175], [170, 165, 169], [155, 153, 154], [69, 56, 108], [132, 131, 131], [51, 75, 107], [158, 154, 157], [87, 76, 104], [170, 165, 169], [163, 158, 162], [166, 161, 165], [173, 168, 172], [176, 171, 175], [176, 171, 175], [176, 171, 175], [176, 171, 175], [176, 171, 175], [176, 171, 175], [176, 171, 175]], [[176, 171, 175], [176, 171, 175], [176, 171, 175], [176, 171, 175], [176, 171, 175], [176, 171, 175], [176, 171, 175], [176, 171, 175], [176, 171, 175], [176, 171, 175], [176, 171, 175], [108, 109, 83], [108, 109, 83], [118, 121, 116], [168, 165, 167], [175, 170, 174], [140, 142, 139], [120, 128, 118], [119, 129, 118], [155, 152, 154], [152, 148, 151], [107, 97, 98], [109, 100, 101], [168, 162, 166], [176, 171, 175], [176, 171, 175], [176, 171, 175], [176, 171, 175], [176, 171, 175], [176, 171, 175], [130, 124, 126], [132, 126, 129], [166, 161, 165], [176, 171, 175], [176, 171, 175], [176, 171, 175], [176, 171, 175], [176, 171, 175], [176, 171, 175], [176, 171, 175], [176, 171, 175], [176, 171, 175], [176, 171, 175], [176, 171, 175], [176, 171, 175], [176, 171, 175], [176, 171, 175], [176, 171, 175], [176, 171, 175], [176, 171, 175], [170, 166, 170], [141, 138, 141], [143, 139, 142], [161, 156, 160], [164, 159, 163], [167, 162, 166], [156, 150, 154], [89, 79, 87], [125, 119, 123], [176, 171, 175], [176, 171, 175], [176, 171, 175], [176, 171, 175], [47, 73, 103], [47, 73, 103], [47, 73, 103], [47, 73, 103], [176, 171, 175], [176, 171, 175], [176, 171, 175], [176, 171, 175], [168, 164, 167], [144, 143, 144], [99, 107, 104], [176, 171, 175], [176, 171, 175], [176, 171, 175], [176, 171, 175], [176, 171, 175], [176, 171, 175], [176, 171, 175], [176, 171, 175], [176, 171, 175], [176, 171, 175], [176, 171, 175], [176, 171, 175], [176, 171, 175], [176, 171, 175], [176, 171, 175], [176, 171, 175], [176, 171, 175], [176, 171, 175], [127, 125, 121], [158, 153, 156], [176, 171, 175], [176, 171, 175], [176, 171, 175], [176, 171, 175], [145, 141, 144], [163, 159, 163], [176, 171, 175], [176, 171, 175], [176, 171, 175], [164, 159, 162], [43, 75, 82], [112, 111, 101], [142, 139, 137], [166, 161, 164], [176, 171, 175], [176, 171, 175], [176, 171, 175], [176, 171, 175], [176, 171, 175], [176, 171, 175], [176, 171, 175], [176, 171, 175], [176, 171, 175], [176, 171, 175], [176, 171, 175], [176, 171, 175], [176, 171, 175], [163, 159, 162], [139, 136, 138], [114, 117, 113], [141, 141, 141], [69, 56, 108], [51, 75, 107], [160, 156, 159], [162, 158, 162], [149, 144, 148], [158, 154, 157], [159, 154, 158], [147, 143, 146], [176, 171, 175], [176, 171, 175], [176, 171, 175], [176, 171, 175], [176, 171, 175], [176, 171, 175], [176, 171, 175]], [[176, 171, 175], [176, 171, 175], [176, 171, 175], [176, 171, 175], [176, 171, 175], [176, 171, 175], [176, 171, 175], [176, 171, 175], [176, 171, 175], [176, 171, 175], [176, 171, 175], [175, 170, 174], [128, 133, 126], [108, 109, 83], [108, 109, 83], [108, 109, 83], [94, 109, 92], [141, 140, 139], [168, 165, 167], [176, 171, 175], [139, 133, 135], [99, 87, 85], [149, 141, 143], [175, 170, 174], [176, 171, 175], [176, 171, 175], [176, 171, 175], [176, 171, 175], [176, 171, 175], [176, 171, 175], [152, 147, 150], [125, 118, 121], [154, 149, 151], [176, 171, 175], [176, 171, 175], [176, 171, 175], [176, 171, 175], [176, 171, 175], [176, 171, 175], [176, 171, 175], [176, 171, 175], [176, 171, 175], [176, 171, 175], [176, 171, 175], [176, 171, 175], [176, 171, 175], [176, 171, 175], [176, 171, 175], [176, 171, 175], [176, 171, 175], [171, 166, 170], [168, 163, 167], [167, 162, 166], [146, 142, 145], [164, 160, 163], [176, 171, 175], [175, 170, 174], [149, 143, 148], [47, 73, 103], [47, 73, 103], [47, 73, 103], [47, 73, 103], [47, 73, 103], [156, 152, 156], [116, 119, 118], [95, 103, 90], [176, 171, 175], [176, 171, 175], [176, 171, 175], [176, 171, 175], [176, 171, 175], [176, 171, 175], [176, 171, 175], [84, 95, 91], [165, 161, 164], [176, 171, 175], [176, 171, 175], [176, 171, 175], [176, 171, 175], [176, 171, 175], [176, 171, 175], [176, 171, 175], [176, 171, 175], [176, 171, 175], [176, 171, 175], [176, 171, 175], [176, 171, 175], [176, 171, 175], [176, 171, 175], [176, 171, 175], [176, 171, 175], [165, 160, 163], [119, 118, 110], [158, 155, 155], [176, 171, 175], [175, 170, 174], [176, 171, 175], [165, 160, 164], [152, 146, 150], [173, 168, 172], [176, 171, 175], [176, 171, 175], [162, 158, 161], [145, 141, 144], [142, 139, 136], [43, 75, 82], [175, 170, 174], [176, 171, 175], [176, 171, 175], [176, 171, 175], [176, 171, 175], [176, 171, 175], [176, 171, 175], [176, 171, 175], [163, 160, 162], [166, 162, 165], [176, 171, 175], [176, 171, 175], [176, 171, 175], [176, 171, 175], [170, 166, 169], [119, 122, 119], [129, 128, 128], [145, 144, 144], [176, 171, 175], [176, 171, 175], [51, 75, 107], [176, 171, 175], [175, 170, 174], [176, 171, 175], [176, 171, 175], [173, 168, 172], [176, 171, 175], [176, 171, 175], [176, 171, 175], [176, 171, 175], [176, 171, 175], [176, 171, 175], [176, 171, 175], [176, 171, 175]], [[176, 171, 175], [176, 171, 175], [176, 171, 175], [176, 171, 175], [176, 171, 175], [176, 171, 175], [176, 171, 175], [176, 171, 175], [176, 171, 175], [176, 171, 175], [176, 171, 175], [174, 169, 173], [87, 105, 85], [145, 145, 143], [112, 121, 110], [126, 128, 124], [108, 109, 83], [108, 109, 83], [176, 171, 175], [176, 171, 175], [133, 127, 128], [112, 104, 105], [153, 148, 151], [176, 171, 175], [176, 171, 175], [176, 171, 175], [176, 171, 175], [176, 171, 175], [176, 171, 175], [176, 171, 175], [162, 157, 161], [128, 123, 125], [144, 139, 141], [176, 171, 175], [176, 171, 175], [176, 171, 175], [176, 171, 175], [176, 171, 175], [176, 171, 175], [176, 171, 175], [176, 171, 175], [176, 171, 175], [176, 171, 175], [176, 171, 175], [176, 171, 175], [176, 171, 175], [176, 171, 175], [176, 171, 175], [176, 171, 175], [176, 171, 175], [176, 171, 175], [64, 91, 83], [64, 91, 83], [170, 164, 168], [47, 73, 103], [47, 73, 103], [47, 73, 103], [47, 73, 103], [129, 123, 128], [139, 134, 138], [173, 168, 172], [176, 171, 175], [173, 168, 172], [132, 131, 132], [95, 103, 90], [176, 171, 175], [176, 171, 175], [176, 171, 175], [176, 171, 175], [176, 171, 175], [176, 171, 175], [176, 171, 175], [176, 171, 175], [113, 119, 116], [136, 137, 138], [176, 171, 175], [176, 171, 175], [176, 171, 175], [176, 171, 175], [176, 171, 175], [176, 171, 175], [176, 171, 175], [176, 171, 175], [176, 171, 175], [176, 171, 175], [176, 171, 175], [176, 171, 175], [176, 171, 175], [176, 171, 175], [176, 171, 175], [176, 171, 175], [155, 150, 153], [110, 108, 103], [134, 131, 131], [151, 147, 150], [164, 159, 163], [176, 171, 175], [176, 171, 175], [160, 154, 159], [150, 145, 149], [168, 163, 167], [161, 156, 160], [146, 142, 145], [144, 141, 142], [119, 117, 109], [157, 152, 152], [43, 75, 82], [43, 75, 82], [176, 171, 175], [176, 171, 175], [176, 171, 175], [176, 171, 175], [176, 171, 175], [176, 171, 175], [160, 157, 159], [109, 114, 109], [149, 147, 148], [176, 171, 175], [176, 171, 175], [176, 171, 175], [119, 123, 119], [132, 134, 132], [160, 156, 159], [176, 171, 175], [176, 171, 175], [51, 75, 107], [69, 56, 108], [176, 171, 175], [176, 171, 175], [176, 171, 175], [176, 171, 175], [176, 171, 175], [176, 171, 175], [176, 171, 175], [176, 171, 175], [176, 171, 175], [176, 171, 175], [176, 171, 175], [176, 171, 175], [176, 171, 175]], [[89, 94, 85], [89, 94, 85], [89, 94, 85], [89, 94, 85], [89, 94, 85], [89, 94, 85], [89, 94, 85], [176, 171, 175], [176, 171, 175], [176, 171, 175], [176, 171, 175], [137, 140, 135], [85, 102, 83], [111, 119, 108], [121, 128, 120], [174, 169, 173], [175, 170, 174], [176, 171, 175], [108, 109, 83], [108, 109, 83], [137, 129, 130], [124, 115, 116], [169, 164, 168], [176, 171, 175], [176, 171, 175], [176, 171, 175], [176, 171, 175], [176, 171, 175], [176, 171, 175], [176, 171, 175], [162, 158, 161], [131, 126, 128], [140, 135, 137], [176, 171, 175], [176, 171, 175], [176, 171, 175], [176, 171, 175], [176, 171, 175], [176, 171, 175], [176, 171, 175], [176, 171, 175], [176, 171, 175], [176, 171, 175], [176, 171, 175], [176, 171, 175], [176, 171, 175], [176, 171, 175], [176, 171, 175], [176, 171, 175], [47, 73, 103], [47, 73, 103], [47, 73, 103], [47, 73, 103], [47, 73, 103], [153, 148, 152], [167, 163, 166], [176, 171, 175], [176, 171, 175], [135, 129, 134], [125, 117, 122], [170, 165, 169], [176, 171, 175], [174, 169, 173], [98, 106, 103], [95, 103, 90], [176, 171, 175], [176, 171, 175], [176, 171, 175], [171, 166, 170], [158, 154, 158], [161, 157, 160], [176, 171, 175], [175, 170, 174], [140, 141, 141], [112, 118, 116], [176, 171, 175], [176, 171, 175], [176, 171, 175], [176, 171, 175], [176, 171, 175], [176, 171, 175], [176, 171, 175], [176, 171, 175], [176, 171, 175], [176, 171, 175], [176, 171, 175], [176, 171, 175], [176, 171, 175], [176, 171, 175], [165, 161, 164], [132, 129, 132], [139, 136, 139], [125, 123, 121], [130, 128, 125], [152, 148, 152], [141, 137, 140], [176, 171, 175], [176, 171, 175], [176, 171, 175], [160, 155, 159], [157, 152, 156], [152, 147, 151], [136, 134, 131], [129, 127, 124], [139, 136, 135], [176, 171, 175], [176, 171, 175], [176, 171, 175], [43, 75, 82], [176, 171, 175], [176, 171, 175], [176, 171, 175], [176, 171, 175], [176, 171, 175], [176, 171, 175], [159, 156, 158], [112, 117, 112], [135, 136, 134], [164, 160, 163], [131, 133, 132], [120, 124, 121], [176, 171, 175], [175, 170, 174], [176, 171, 175], [176, 171, 175], [51, 75, 107], [176, 171, 175], [69, 56, 108], [176, 171, 175], [176, 171, 175], [176, 171, 175], [176, 171, 175], [176, 171, 175], [176, 171, 175], [176, 171, 175], [176, 171, 175], [176, 171, 175], [176, 171, 175], [176, 171, 175], [176, 171, 175]], [[89, 94, 85], [89, 94, 85], [89, 94, 85], [89, 94, 85], [89, 94, 85], [89, 94, 85], [89, 94, 85], [89, 94, 85], [89, 94, 85], [174, 169, 173], [89, 94, 85], [96, 110, 94], [101, 112, 100], [146, 147, 145], [170, 165, 169], [176, 171, 175], [176, 171, 175], [176, 171, 175], [176, 171, 175], [176, 171, 175], [108, 109, 83], [108, 109, 83], [176, 171, 175], [176, 171, 175], [176, 171, 175], [176, 171, 175], [176, 171, 175], [176, 171, 175], [176, 171, 175], [176, 171, 175], [163, 158, 162], [125, 120, 122], [144, 139, 142], [176, 171, 175], [176, 171, 175], [176, 171, 175], [176, 171, 175], [176, 171, 175], [176, 171, 175], [176, 171, 175], [176, 171, 175], [176, 171, 175], [176, 171, 175], [176, 171, 175], [176, 171, 175], [47, 73, 103], [47, 73, 103], [47, 73, 103], [47, 73, 103], [176, 171, 175], [176, 171, 175], [176, 171, 175], [176, 171, 175], [176, 171, 175], [165, 161, 164], [143, 139, 142], [166, 161, 165], [176, 171, 175], [176, 171, 175], [115, 105, 112], [131, 123, 130], [176, 171, 175], [154, 152, 154], [123, 123, 124], [95, 103, 90], [176, 171, 175], [176, 171, 175], [176, 171, 175], [174, 169, 173], [154, 149, 153], [157, 152, 156], [87, 76, 104], [173, 168, 172], [129, 129, 130], [124, 125, 125], [175, 170, 174], [176, 171, 175], [176, 171, 175], [176, 171, 175], [176, 171, 175], [176, 171, 175], [176, 171, 175], [176, 171, 175], [176, 171, 175], [176, 171, 175], [176, 171, 175], [176, 171, 175], [176, 171, 175], [176, 171, 175], [173, 168, 172], [144, 140, 143], [176, 171, 175], [161, 157, 158], [121, 120, 112], [126, 124, 119], [138, 134, 134], [172, 167, 171], [176, 171, 175], [176, 171, 175], [172, 167, 171], [163, 159, 161], [145, 142, 141], [104, 104, 89], [157, 153, 155], [170, 166, 170], [176, 171, 175], [176, 171, 175], [176, 171, 175], [176, 171, 175], [43, 75, 82], [176, 171, 175], [176, 171, 175], [176, 171, 175], [176, 171, 175], [176, 171, 175], [176, 171, 175], [172, 167, 171], [122, 127, 122], [105, 111, 104], [111, 116, 111], [171, 167, 170], [176, 171, 175], [176, 171, 175], [176, 171, 175], [51, 75, 107], [176, 171, 175], [176, 171, 175], [176, 171, 175], [69, 56, 108], [176, 171, 175], [176, 171, 175], [176, 171, 175], [176, 171, 175], [176, 171, 175], [176, 171, 175], [176, 171, 175], [176, 171, 175], [176, 171, 175], [176, 171, 175], [176, 171, 175]], [[89, 94, 85], [89, 94, 85], [89, 94, 85], [89, 94, 85], [89, 94, 85], [89, 94, 85], [89, 94, 85], [89, 94, 85], [89, 94, 85], [142, 144, 141], [122, 126, 122], [118, 127, 117], [168, 164, 167], [89, 94, 85], [89, 94, 85], [89, 94, 85], [89, 94, 85], [89, 94, 85], [89, 94, 85], [175, 170, 174], [153, 146, 149], [116, 107, 108], [108, 109, 83], [108, 109, 83], [176, 171, 175], [176, 171, 175], [176, 171, 175], [176, 171, 175], [176, 171, 175], [176, 171, 175], [168, 163, 166], [112, 104, 105], [159, 154, 158], [176, 171, 175], [176, 171, 175], [176, 171, 175], [176, 171, 175], [176, 171, 175], [176, 171, 175], [176, 171, 175], [176, 171, 175], [47, 73, 103], [47, 73, 103], [47, 73, 103], [47, 73, 103], [64, 91, 83], [64, 91, 83], [176, 171, 175], [176, 171, 175], [176, 171, 175], [176, 171, 175], [176, 171, 175], [176, 171, 175], [176, 171, 175], [176, 171, 175], [162, 158, 161], [158, 152, 156], [175, 170, 174], [176, 171, 175], [170, 164, 168], [106, 94, 103], [141, 134, 139], [166, 163, 165], [150, 147, 150], [95, 103, 90], [87, 76, 104], [176, 171, 175], [176, 171, 175], [176, 171, 175], [157, 152, 156], [161, 157, 161], [176, 171, 175], [175, 170, 174], [105, 112, 109], [148, 147, 148], [175, 170, 174], [176, 171, 175], [176, 171, 175], [176, 171, 175], [176, 171, 175], [176, 171, 175], [176, 171, 175], [176, 171, 175], [176, 171, 175], [176, 171, 175], [176, 171, 175], [176, 171, 175], [176, 171, 175], [176, 171, 175], [176, 171, 175], [149, 145, 148], [166, 161, 165], [174, 169, 173], [176, 171, 175], [151, 147, 146], [108, 106, 98], [125, 122, 117], [159, 155, 155], [140, 137, 135], [140, 137, 136], [121, 119, 113], [132, 129, 127], [149, 146, 146], [176, 171, 175], [176, 171, 175], [176, 171, 175], [176, 171, 175], [176, 171, 175], [176, 171, 175], [176, 171, 175], [43, 75, 82], [176, 171, 175], [176, 171, 175], [176, 171, 175], [176, 171, 175], [176, 171, 175], [176, 171, 175], [176, 171, 175], [131, 136, 132], [104, 110, 104], [155, 153, 154], [176, 171, 175], [176, 171, 175], [176, 171, 175], [51, 75, 107], [176, 171, 175], [176, 171, 175], [176, 171, 175], [176, 171, 175], [69, 56, 108], [176, 171, 175], [176, 171, 175], [176, 171, 175], [176, 171, 175], [176, 171, 175], [176, 171, 175], [176, 171, 175], [176, 171, 175], [176, 171, 175], [176, 171, 175]], [[89, 94, 85], [89, 94, 85], [89, 94, 85], [89, 94, 85], [89, 94, 85], [89, 94, 85], [89, 94, 85], [167, 163, 165], [139, 139, 138], [91, 107, 87], [150, 150, 149], [166, 162, 165], [89, 94, 85], [89, 94, 85], [89, 94, 85], [89, 94, 85], [89, 94, 85], [172, 167, 171], [173, 168, 172], [174, 169, 173], [143, 137, 140], [119, 112, 113], [157, 154, 157], [160, 155, 159], [108, 109, 83], [108, 109, 83], [108, 109, 83], [89, 94, 85], [89, 94, 85], [89, 94, 85], [89, 94, 85], [100, 89, 89], [171, 166, 170], [176, 171, 175], [176, 171, 175], [176, 171, 175], [47, 73, 103], [47, 73, 103], [47, 73, 103], [47, 73, 103], [47, 73, 103], [176, 171, 175], [64, 91, 83], [64, 91, 83], [64, 91, 83], [176, 171, 175], [176, 171, 175], [176, 171, 175], [176, 171, 175], [176, 171, 175], [176, 171, 175], [176, 171, 175], [176, 171, 175], [176, 171, 175], [171, 166, 170], [145, 141, 144], [166, 161, 164], [176, 171, 175], [176, 171, 175], [176, 171, 175], [153, 148, 153], [112, 104, 109], [156, 150, 154], [95, 103, 90], [176, 171, 175], [176, 171, 175], [176, 171, 175], [176, 171, 175], [176, 171, 175], [156, 150, 155], [164, 160, 163], [176, 171, 175], [153, 150, 153], [116, 119, 119], [157, 153, 156], [176, 171, 175], [176, 171, 175], [176, 171, 175], [176, 171, 175], [176, 171, 175], [176, 171, 175], [176, 171, 175], [176, 171, 175], [176, 171, 175], [176, 171, 175], [176, 171, 175], [176, 171, 175], [176, 171, 175], [176, 171, 175], [176, 171, 175], [160, 155, 159], [152, 148, 151], [161, 156, 160], [157, 152, 156], [150, 146, 150], [149, 145, 148], [138, 135, 132], [129, 127, 123], [140, 136, 135], [134, 133, 127], [154, 151, 150], [176, 171, 175], [175, 170, 174], [176, 171, 175], [176, 171, 175], [176, 171, 175], [176, 171, 175], [176, 171, 175], [176, 171, 175], [176, 171, 175], [176, 171, 175], [43, 75, 82], [176, 171, 175], [176, 171, 175], [176, 171, 175], [176, 171, 175], [176, 171, 175], [176, 171, 175], [176, 171, 175], [151, 150, 150], [105, 109, 104], [142, 142, 141], [176, 171, 175], [176, 171, 175], [51, 75, 107], [176, 171, 175], [176, 171, 175], [176, 171, 175], [176, 171, 175], [69, 56, 108], [176, 171, 175], [176, 171, 175], [176, 171, 175], [176, 171, 175], [176, 171, 175], [176, 171, 175], [176, 171, 175], [176, 171, 175], [176, 171, 175], [176, 171, 175]], [[176, 171, 175], [176, 171, 175], [176, 171, 175], [176, 171, 175], [176, 171, 175], [176, 171, 175], [176, 171, 175], [119, 127, 117], [126, 130, 125], [147, 146, 145], [175, 170, 174], [89, 94, 85], [89, 94, 85], [89, 94, 85], [89, 94, 85], [89, 94, 85], [173, 168, 172], [138, 134, 137], [163, 159, 163], [175, 170, 174], [125, 118, 121], [116, 112, 114], [154, 149, 153], [166, 163, 166], [89, 94, 85], [89, 94, 85], [89, 94, 85], [108, 109, 83], [108, 109, 83], [89, 94, 85], [89, 94, 85], [111, 101, 100], [47, 73, 103], [47, 73, 103], [47, 73, 103], [47, 73, 103], [89, 94, 85], [89, 94, 85], [89, 94, 85], [89, 94, 85], [64, 91, 83], [64, 91, 83], [176, 171, 175], [176, 171, 175], [176, 171, 175], [176, 171, 175], [176, 171, 175], [176, 171, 175], [176, 171, 175], [176, 171, 175], [176, 171, 175], [176, 171, 175], [176, 171, 175], [176, 171, 175], [176, 171, 175], [161, 157, 161], [176, 171, 175], [176, 171, 175], [176, 171, 175], [176, 171, 175], [162, 157, 162], [130, 125, 130], [161, 155, 159], [95, 103, 90], [176, 171, 175], [176, 171, 175], [176, 171, 175], [176, 171, 175], [166, 161, 165], [156, 151, 155], [168, 164, 167], [172, 167, 171], [131, 132, 133], [127, 127, 129], [176, 171, 175], [176, 171, 175], [176, 171, 175], [176, 171, 175], [176, 171, 175], [176, 171, 175], [176, 171, 175], [176, 171, 175], [176, 171, 175], [176, 171, 175], [176, 171, 175], [176, 171, 175], [176, 171, 175], [176, 171, 175], [176, 171, 175], [176, 171, 175], [175, 170, 174], [171, 166, 170], [155, 150, 154], [176, 171, 175], [176, 171, 175], [176, 171, 175], [176, 171, 175], [175, 170, 174], [174, 169, 173], [176, 171, 175], [175, 170, 174], [176, 171, 175], [176, 171, 175], [176, 171, 175], [176, 171, 175], [176, 171, 175], [176, 171, 175], [176, 171, 175], [176, 171, 175], [176, 171, 175], [176, 171, 175], [176, 171, 175], [43, 75, 82], [176, 171, 175], [176, 171, 175], [176, 171, 175], [176, 171, 175], [176, 171, 175], [176, 171, 175], [176, 171, 175], [165, 161, 164], [131, 132, 130], [158, 155, 157], [51, 75, 107], [176, 171, 175], [176, 171, 175], [176, 171, 175], [176, 171, 175], [176, 171, 175], [176, 171, 175], [69, 56, 108], [176, 171, 175], [176, 171, 175], [176, 171, 175], [176, 171, 175], [176, 171, 175], [176, 171, 175], [176, 171, 175], [176, 171, 175], [176, 171, 175]], [[176, 171, 175], [176, 171, 175], [176, 171, 175], [176, 171, 175], [176, 171, 175], [175, 170, 174], [162, 160, 161], [88, 105, 87], [169, 165, 168], [176, 171, 175], [176, 171, 175], [176, 171, 175], [176, 171, 175], [176, 171, 175], [176, 171, 175], [87, 76, 104], [89, 94, 85], [167, 162, 166], [147, 143, 147], [161, 158, 161], [101, 94, 94], [133, 128, 131], [174, 169, 173], [89, 94, 85], [89, 94, 85], [89, 94, 85], [89, 94, 85], [47, 73, 103], [47, 73, 103], [108, 109, 83], [108, 109, 83], [47, 73, 103], [153, 146, 149], [89, 94, 85], [89, 94, 85], [89, 94, 85], [89, 94, 85], [89, 94, 85], [64, 91, 83], [64, 91, 83], [89, 94, 85], [89, 94, 85], [89, 94, 85], [89, 94, 85], [89, 94, 85], [89, 94, 85], [89, 94, 85], [89, 94, 85], [89, 94, 85], [89, 94, 85], [89, 94, 85], [89, 94, 85], [176, 171, 175], [176, 171, 175], [176, 171, 175], [176, 171, 175], [176, 171, 175], [176, 171, 175], [175, 170, 174], [172, 167, 171], [171, 166, 170], [170, 166, 170], [176, 171, 175], [95, 103, 90], [176, 171, 175], [176, 171, 175], [176, 171, 175], [176, 171, 175], [154, 149, 154], [165, 160, 164], [175, 170, 174], [162, 159, 162], [115, 119, 118], [158, 155, 158], [176, 171, 175], [176, 171, 175], [176, 171, 175], [176, 171, 175], [176, 171, 175], [176, 171, 175], [176, 171, 175], [176, 171, 175], [176, 171, 175], [176, 171, 175], [176, 171, 175], [176, 171, 175], [176, 171, 175], [176, 171, 175], [176, 171, 175], [176, 171, 175], [176, 171, 175], [176, 171, 175], [176, 171, 175], [176, 171, 175], [176, 171, 175], [176, 171, 175], [176, 171, 175], [176, 171, 175], [176, 171, 175], [176, 171, 175], [176, 171, 175], [176, 171, 175], [176, 171, 175], [176, 171, 175], [176, 171, 175], [176, 171, 175], [176, 171, 175], [176, 171, 175], [176, 171, 175], [176, 171, 175], [176, 171, 175], [176, 171, 175], [176, 171, 175], [43, 75, 82], [176, 171, 175], [176, 171, 175], [176, 171, 175], [176, 171, 175], [176, 171, 175], [176, 171, 175], [176, 171, 175], [176, 171, 175], [175, 170, 174], [51, 75, 107], [176, 171, 175], [176, 171, 175], [176, 171, 175], [176, 171, 175], [176, 171, 175], [176, 171, 175], [176, 171, 175], [69, 56, 108], [176, 171, 175], [176, 171, 175], [176, 171, 175], [176, 171, 175], [176, 171, 175], [176, 171, 175], [176, 171, 175], [176, 171, 175]], [[176, 171, 175], [176, 171, 175], [176, 171, 175], [176, 171, 175], [176, 171, 175], [175, 170, 174], [162, 158, 161], [156, 153, 154], [176, 171, 175], [176, 171, 175], [176, 171, 175], [176, 171, 175], [176, 171, 175], [176, 171, 175], [176, 171, 175], [176, 171, 175], [176, 171, 175], [176, 171, 175], [168, 163, 167], [143, 140, 143], [113, 104, 105], [147, 140, 142], [176, 171, 175], [47, 73, 103], [47, 73, 103], [47, 73, 103], [47, 73, 103], [89, 94, 85], [89, 94, 85], [89, 94, 85], [157, 151, 155], [108, 109, 83], [108, 109, 83], [89, 94, 85], [89, 94, 85], [89, 94, 85], [64, 91, 83], [64, 91, 83], [89, 94, 85], [89, 94, 85], [89, 94, 85], [89, 94, 85], [89, 94, 85], [89, 94, 85], [89, 94, 85], [89, 94, 85], [89, 94, 85], [89, 94, 85], [89, 94, 85], [89, 94, 85], [89, 94, 85], [89, 94, 85], [89, 94, 85], [89, 94, 85], [89, 94, 85], [89, 94, 85], [147, 143, 146], [159, 155, 158], [158, 152, 156], [146, 142, 146], [151, 147, 150], [89, 94, 85], [95, 103, 90], [89, 94, 85], [176, 171, 175], [176, 171, 175], [176, 171, 175], [176, 171, 175], [148, 144, 147], [171, 166, 170], [164, 160, 163], [105, 110, 107], [140, 139, 140], [172, 167, 171], [176, 171, 175], [176, 171, 175], [176, 171, 175], [176, 171, 175], [176, 171, 175], [176, 171, 175], [176, 171, 175], [176, 171, 175], [176, 171, 175], [176, 171, 175], [176, 171, 175], [176, 171, 175], [176, 171, 175], [176, 171, 175], [176, 171, 175], [176, 171, 175], [176, 171, 175], [176, 171, 175], [176, 171, 175], [176, 171, 175], [176, 171, 175], [176, 171, 175], [176, 171, 175], [176, 171, 175], [176, 171, 175], [176, 171, 175], [176, 171, 175], [176, 171, 175], [176, 171, 175], [176, 171, 175], [176, 171, 175], [176, 171, 175], [176, 171, 175], [176, 171, 175], [176, 171, 175], [176, 171, 175], [176, 171, 175], [176, 171, 175], [176, 171, 175], [176, 171, 175], [43, 75, 82], [176, 171, 175], [176, 171, 175], [176, 171, 175], [176, 171, 175], [176, 171, 175], [176, 171, 175], [176, 171, 175], [51, 75, 107], [176, 171, 175], [176, 171, 175], [176, 171, 175], [176, 171, 175], [176, 171, 175], [176, 171, 175], [176, 171, 175], [176, 171, 175], [69, 56, 108], [176, 171, 175], [176, 171, 175], [176, 171, 175], [176, 171, 175], [176, 171, 175], [176, 171, 175], [176, 171, 175], [176, 171, 175]], [[176, 171, 175], [176, 171, 175], [176, 171, 175], [176, 171, 175], [176, 171, 175], [176, 171, 175], [176, 171, 175], [176, 171, 175], [176, 171, 175], [176, 171, 175], [176, 171, 175], [176, 171, 175], [176, 171, 175], [176, 171, 175], [176, 171, 175], [176, 171, 175], [176, 171, 175], [176, 171, 175], [47, 73, 103], [47, 73, 103], [47, 73, 103], [47, 73, 103], [47, 73, 103], [176, 171, 175], [176, 171, 175], [176, 171, 175], [176, 171, 175], [176, 171, 175], [176, 171, 175], [176, 171, 175], [151, 146, 148], [125, 119, 121], [155, 151, 153], [108, 109, 83], [108, 109, 83], [64, 91, 83], [89, 94, 85], [89, 94, 85], [89, 94, 85], [89, 94, 85], [89, 94, 85], [89, 94, 85], [89, 94, 85], [89, 94, 85], [89, 94, 85], [89, 94, 85], [89, 94, 85], [89, 94, 85], [89, 94, 85], [89, 94, 85], [89, 94, 85], [89, 94, 85], [89, 94, 85], [89, 94, 85], [145, 140, 144], [146, 141, 145], [161, 156, 160], [170, 166, 170], [163, 157, 161], [174, 169, 173], [153, 148, 152], [159, 155, 158], [95, 103, 90], [89, 94, 85], [89, 94, 85], [89, 94, 85], [89, 94, 85], [89, 94, 85], [157, 153, 156], [143, 140, 143], [108, 111, 110], [112, 113, 114], [172, 167, 171], [89, 94, 85], [89, 94, 85], [89, 94, 85], [89, 94, 85], [89, 94, 85], [89, 94, 85], [89, 94, 85], [176, 171, 175], [176, 171, 175], [176, 171, 175], [176, 171, 175], [176, 171, 175], [176, 171, 175], [176, 171, 175], [176, 171, 175], [176, 171, 175], [176, 171, 175], [176, 171, 175], [176, 171, 175], [176, 171, 175], [176, 171, 175], [176, 171, 175], [176, 171, 175], [176, 171, 175], [176, 171, 175], [176, 171, 175], [176, 171, 175], [176, 171, 175], [176, 171, 175], [176, 171, 175], [176, 171, 175], [176, 171, 175], [176, 171, 175], [176, 171, 175], [176, 171, 175], [176, 171, 175], [87, 76, 104], [176, 171, 175], [176, 171, 175], [176, 171, 175], [176, 171, 175], [176, 171, 175], [43, 75, 82], [176, 171, 175], [176, 171, 175], [176, 171, 175], [176, 171, 175], [176, 171, 175], [176, 171, 175], [51, 75, 107], [176, 171, 175], [176, 171, 175], [176, 171, 175], [176, 171, 175], [176, 171, 175], [176, 171, 175], [176, 171, 175], [176, 171, 175], [176, 171, 175], [69, 56, 108], [176, 171, 175], [176, 171, 175], [176, 171, 175], [176, 171, 175], [176, 171, 175], [176, 171, 175], [176, 171, 175]], [[176, 171, 175], [176, 171, 175], [176, 171, 175], [176, 171, 175], [176, 171, 175], [176, 171, 175], [176, 171, 175], [176, 171, 175], [176, 171, 175], [176, 171, 175], [176, 171, 175], [176, 171, 175], [176, 171, 175], [176, 171, 175], [47, 73, 103], [47, 73, 103], [47, 73, 103], [47, 73, 103], [176, 171, 175], [176, 171, 175], [141, 134, 136], [131, 124, 125], [176, 171, 175], [176, 171, 175], [176, 171, 175], [176, 171, 175], [176, 171, 175], [176, 171, 175], [176, 171, 175], [176, 171, 175], [155, 148, 152], [64, 91, 83], [64, 91, 83], [176, 171, 175], [176, 171, 175], [108, 109, 83], [108, 109, 83], [108, 109, 83], [176, 171, 175], [176, 171, 175], [176, 171, 175], [89, 94, 85], [89, 94, 85], [89, 94, 85], [89, 94, 85], [89, 94, 85], [89, 94, 85], [89, 94, 85], [89, 94, 85], [89, 94, 85], [89, 94, 85], [89, 94, 85], [174, 169, 173], [156, 151, 155], [158, 154, 157], [174, 169, 173], [89, 94, 85], [89, 94, 85], [89, 94, 85], [89, 94, 85], [165, 161, 164], [141, 137, 140], [95, 103, 90], [89, 94, 85], [89, 94, 85], [89, 94, 85], [89, 94, 85], [89, 94, 85], [166, 161, 165], [124, 126, 125], [120, 120, 122], [163, 158, 162], [89, 94, 85], [89, 94, 85], [89, 94, 85], [89, 94, 85], [89, 94, 85], [89, 94, 85], [89, 94, 85], [89, 94, 85], [89, 94, 85], [89, 94, 85], [89, 94, 85], [89, 94, 85], [89, 94, 85], [89, 94, 85], [89, 94, 85], [89, 94, 85], [89, 94, 85], [89, 94, 85], [89, 94, 85], [89, 94, 85], [89, 94, 85], [89, 94, 85], [89, 94, 85], [89, 94, 85], [89, 94, 85], [89, 94, 85], [89, 94, 85], [89, 94, 85], [89, 94, 85], [89, 94, 85], [89, 94, 85], [89, 94, 85], [89, 94, 85], [89, 94, 85], [89, 94, 85], [89, 94, 85], [89, 94, 85], [176, 171, 175], [176, 171, 175], [176, 171, 175], [176, 171, 175], [176, 171, 175], [176, 171, 175], [176, 171, 175], [43, 75, 82], [176, 171, 175], [176, 171, 175], [176, 171, 175], [176, 171, 175], [87, 76, 104], [51, 75, 107], [176, 171, 175], [176, 171, 175], [176, 171, 175], [176, 171, 175], [176, 171, 175], [176, 171, 175], [176, 171, 175], [176, 171, 175], [176, 171, 175], [89, 94, 85], [69, 56, 108], [89, 94, 85], [89, 94, 85], [89, 94, 85], [89, 94, 85], [89, 94, 85], [89, 94, 85]], [[176, 171, 175], [176, 171, 175], [176, 171, 175], [176, 171, 175], [176, 171, 175], [176, 171, 175], [176, 171, 175], [176, 171, 175], [176, 171, 175], [176, 171, 175], [176, 171, 175], [47, 73, 103], [47, 73, 103], [47, 73, 103], [176, 171, 175], [176, 171, 175], [176, 171, 175], [176, 171, 175], [176, 171, 175], [176, 171, 175], [133, 128, 130], [134, 128, 130], [176, 171, 175], [176, 171, 175], [176, 171, 175], [176, 171, 175], [176, 171, 175], [176, 171, 175], [176, 171, 175], [64, 91, 83], [64, 91, 83], [106, 96, 94], [176, 171, 175], [176, 171, 175], [176, 171, 175], [176, 171, 175], [176, 171, 175], [176, 171, 175], [108, 109, 83], [108, 109, 83], [176, 171, 175], [176, 171, 175], [176, 171, 175], [176, 171, 175], [176, 171, 175], [176, 171, 175], [176, 171, 175], [176, 171, 175], [176, 171, 175], [176, 171, 175], [176, 171, 175], [176, 171, 175], [89, 94, 85], [161, 157, 161], [158, 153, 157], [89, 94, 85], [89, 94, 85], [89, 94, 85], [169, 164, 168], [158, 153, 157], [157, 152, 156], [95, 103, 90], [89, 94, 85], [89, 94, 85], [89, 94, 85], [89, 94, 85], [89, 94, 85], [89, 94, 85], [144, 141, 143], [117, 121, 119], [159, 156, 159], [89, 94, 85], [89, 94, 85], [89, 94, 85], [89, 94, 85], [89, 94, 85], [89, 94, 85], [89, 94, 85], [89, 94, 85], [89, 94, 85], [89, 94, 85], [89, 94, 85], [89, 94, 85], [89, 94, 85], [89, 94, 85], [89, 94, 85], [89, 94, 85], [89, 94, 85], [87, 76, 104], [89, 94, 85], [89, 94, 85], [89, 94, 85], [89, 94, 85], [89, 94, 85], [89, 94, 85], [89, 94, 85], [89, 94, 85], [89, 94, 85], [89, 94, 85], [89, 94, 85], [89, 94, 85], [89, 94, 85], [89, 94, 85], [103, 57, 77], [103, 57, 77], [103, 57, 77], [103, 57, 77], [89, 94, 85], [89, 94, 85], [89, 94, 85], [89, 94, 85], [89, 94, 85], [89, 94, 85], [89, 94, 85], [89, 94, 85], [89, 94, 85], [89, 94, 85], [43, 75, 82], [43, 75, 82], [89, 94, 85], [89, 94, 85], [51, 75, 107], [89, 94, 85], [89, 94, 85], [89, 94, 85], [89, 94, 85], [89, 94, 85], [89, 94, 85], [89, 94, 85], [89, 94, 85], [89, 94, 85], [89, 94, 85], [89, 94, 85], [69, 56, 108], [89, 94, 85], [89, 94, 85], [89, 94, 85], [89, 94, 85], [89, 94, 85], [89, 94, 85]], [[176, 171, 175], [176, 171, 175], [176, 171, 175], [176, 171, 175], [176, 171, 175], [176, 171, 175], [176, 171, 175], [176, 171, 175], [176, 171, 175], [176, 171, 175], [176, 171, 175], [176, 171, 175], [176, 171, 175], [176, 171, 175], [176, 171, 175], [176, 171, 175], [176, 171, 175], [176, 171, 175], [176, 171, 175], [176, 171, 175], [120, 113, 115], [147, 142, 145], [176, 171, 175], [176, 171, 175], [176, 171, 175], [176, 171, 175], [64, 91, 83], [64, 91, 83], [64, 91, 83], [176, 171, 175], [176, 171, 175], [107, 97, 97], [175, 170, 174], [176, 171, 175], [176, 171, 175], [176, 171, 175], [176, 171, 175], [176, 171, 175], [176, 171, 175], [176, 171, 175], [108, 109, 83], [108, 109, 83], [176, 171, 175], [176, 171, 175], [176, 171, 175], [176, 171, 175], [176, 171, 175], [176, 171, 175], [176, 171, 175], [176, 171, 175], [176, 171, 175], [176, 171, 175], [170, 165, 169], [151, 146, 149], [146, 142, 146], [165, 161, 164], [169, 164, 168], [155, 150, 154], [147, 143, 146], [161, 157, 161], [164, 160, 163], [95, 103, 90], [176, 171, 175], [176, 171, 175], [165, 160, 164], [171, 167, 170], [89, 94, 85], [139, 138, 139], [103, 107, 106], [154, 152, 154], [89, 94, 85], [89, 94, 85], [89, 94, 85], [89, 94, 85], [89, 94, 85], [89, 94, 85], [89, 94, 85], [89, 94, 85], [89, 94, 85], [89, 94, 85], [89, 94, 85], [89, 94, 85], [89, 94, 85], [89, 94, 85], [89, 94, 85], [89, 94, 85], [89, 94, 85], [89, 94, 85], [89, 94, 85], [89, 94, 85], [89, 94, 85], [89, 94, 85], [89, 94, 85], [89, 94, 85], [89, 94, 85], [89, 94, 85], [103, 57, 77], [103, 57, 77], [103, 57, 77], [103, 57, 77], [103, 57, 77], [103, 57, 77], [103, 57, 77], [89, 94, 85], [89, 94, 85], [89, 94, 85], [89, 94, 85], [89, 94, 85], [89, 94, 85], [89, 94, 85], [89, 94, 85], [89, 94, 85], [89, 94, 85], [89, 94, 85], [89, 94, 85], [89, 94, 85], [89, 94, 85], [89, 94, 85], [89, 94, 85], [43, 75, 82], [89, 94, 85], [51, 75, 107], [89, 94, 85], [89, 94, 85], [89, 94, 85], [89, 94, 85], [89, 94, 85], [89, 94, 85], [89, 94, 85], [89, 94, 85], [89, 94, 85], [89, 94, 85], [89, 94, 85], [89, 94, 85], [69, 56, 108], [89, 94, 85], [89, 94, 85], [89, 94, 85], [89, 94, 85], [89, 94, 85]], [[176, 171, 175], [176, 171, 175], [176, 171, 175], [176, 171, 175], [176, 171, 175], [176, 171, 175], [176, 171, 175], [176, 171, 175], [176, 171, 175], [176, 171, 175], [176, 171, 175], [176, 171, 175], [176, 171, 175], [176, 171, 175], [176, 171, 175], [176, 171, 175], [176, 171, 175], [176, 171, 175], [176, 171, 175], [176, 171, 175], [103, 93, 94], [164, 159, 162], [176, 171, 175], [176, 171, 175], [64, 91, 83], [64, 91, 83], [176, 171, 175], [176, 171, 175], [176, 171, 175], [176, 171, 175], [176, 171, 175], [176, 171, 175], [176, 171, 175], [176, 171, 175], [176, 171, 175], [176, 171, 175], [176, 171, 175], [176, 171, 175], [176, 171, 175], [176, 171, 175], [176, 171, 175], [176, 171, 175], [108, 109, 83], [108, 109, 83], [176, 171, 175], [176, 171, 175], [176, 171, 175], [176, 171, 175], [176, 171, 175], [176, 171, 175], [176, 171, 175], [176, 171, 175], [167, 161, 165], [167, 162, 166], [162, 157, 161], [159, 155, 158], [146, 142, 145], [161, 156, 160], [176, 171, 175], [176, 171, 175], [176, 171, 175], [95, 103, 90], [167, 163, 166], [152, 148, 151], [146, 142, 145], [156, 152, 155], [150, 149, 150], [118, 122, 121], [153, 149, 152], [176, 171, 175], [176, 171, 175], [176, 171, 175], [176, 171, 175], [176, 171, 175], [176, 171, 175], [176, 171, 175], [176, 171, 175], [176, 171, 175], [176, 171, 175], [176, 171, 175], [89, 94, 85], [89, 94, 85], [89, 94, 85], [89, 94, 85], [89, 94, 85], [89, 94, 85], [89, 94, 85], [89, 94, 85], [89, 94, 85], [87, 76, 104], [103, 57, 77], [103, 57, 77], [103, 57, 77], [103, 57, 77], [103, 57, 77], [103, 57, 77], [89, 94, 85], [89, 94, 85], [89, 94, 85], [89, 94, 85], [89, 94, 85], [89, 94, 85], [89, 94, 85], [89, 94, 85], [89, 94, 85], [89, 94, 85], [89, 94, 85], [89, 94, 85], [89, 94, 85], [89, 94, 85], [89, 94, 85], [89, 94, 85], [89, 94, 85], [89, 94, 85], [89, 94, 85], [89, 94, 85], [89, 94, 85], [89, 94, 85], [89, 94, 85], [89, 94, 85], [51, 75, 107], [89, 94, 85], [89, 94, 85], [89, 94, 85], [89, 94, 85], [89, 94, 85], [89, 94, 85], [89, 94, 85], [89, 94, 85], [89, 94, 85], [89, 94, 85], [89, 94, 85], [89, 94, 85], [89, 94, 85], [89, 94, 85], [69, 56, 108], [89, 94, 85], [89, 94, 85], [89, 94, 85], [89, 94, 85]], [[176, 171, 175], [176, 171, 175], [176, 171, 175], [176, 171, 175], [176, 171, 175], [176, 171, 175], [176, 171, 175], [176, 171, 175], [176, 171, 175], [176, 171, 175], [176, 171, 175], [176, 171, 175], [176, 171, 175], [176, 171, 175], [176, 171, 175], [176, 171, 175], [176, 171, 175], [176, 171, 175], [176, 171, 175], [176, 171, 175], [144, 136, 138], [171, 166, 170], [64, 91, 83], [64, 91, 83], [176, 171, 175], [176, 171, 175], [176, 171, 175], [176, 171, 175], [176, 171, 175], [176, 171, 175], [176, 171, 175], [176, 171, 175], [176, 171, 175], [176, 171, 175], [176, 171, 175], [176, 171, 175], [176, 171, 175], [176, 171, 175], [176, 171, 175], [176, 171, 175], [176, 171, 175], [176, 171, 175], [176, 171, 175], [176, 171, 175], [108, 109, 83], [108, 109, 83], [176, 171, 175], [176, 171, 175], [176, 171, 175], [176, 171, 175], [176, 171, 175], [176, 171, 175], [176, 171, 175], [176, 171, 175], [176, 171, 175], [176, 171, 175], [175, 170, 174], [176, 171, 175], [176, 171, 175], [176, 171, 175], [176, 171, 175], [95, 103, 90], [157, 153, 156], [165, 160, 164], [175, 170, 174], [144, 140, 144], [128, 130, 130], [136, 136, 137], [174, 169, 173], [176, 171, 175], [176, 171, 175], [176, 171, 175], [176, 171, 175], [176, 171, 175], [176, 171, 175], [176, 171, 175], [176, 171, 175], [176, 171, 175], [176, 171, 175], [176, 171, 175], [176, 171, 175], [176, 171, 175], [176, 171, 175], [103, 57, 77], [103, 57, 77], [103, 57, 77], [103, 57, 77], [103, 57, 77], [103, 57, 77], [103, 57, 77], [176, 171, 175], [176, 171, 175], [176, 171, 175], [176, 171, 175], [176, 171, 175], [176, 171, 175], [176, 171, 175], [176, 171, 175], [176, 171, 175], [176, 171, 175], [176, 171, 175], [176, 171, 175], [176, 171, 175], [176, 171, 175], [176, 171, 175], [176, 171, 175], [176, 171, 175], [176, 171, 175], [176, 171, 175], [89, 94, 85], [89, 94, 85], [89, 94, 85], [89, 94, 85], [89, 94, 85], [89, 94, 85], [89, 94, 85], [89, 94, 85], [89, 94, 85], [89, 94, 85], [89, 94, 85], [102, 60, 94], [102, 60, 94], [102, 60, 94], [102, 60, 94], [102, 60, 94], [102, 60, 94], [102, 60, 94], [89, 94, 85], [89, 94, 85], [89, 94, 85], [89, 94, 85], [89, 94, 85], [176, 171, 175], [176, 171, 175], [176, 171, 175], [69, 56, 108], [176, 171, 175], [176, 171, 175], [176, 171, 175], [176, 171, 175]], [[176, 171, 175], [176, 171, 175], [176, 171, 175], [176, 171, 175], [176, 171, 175], [176, 171, 175], [176, 171, 175], [176, 171, 175], [176, 171, 175], [176, 171, 175], [176, 171, 175], [176, 171, 175], [176, 171, 175], [176, 171, 175], [176, 171, 175], [176, 171, 175], [176, 171, 175], [176, 171, 175], [176, 171, 175], [176, 171, 175], [64, 91, 83], [64, 91, 83], [176, 171, 175], [176, 171, 175], [176, 171, 175], [176, 171, 175], [176, 171, 175], [176, 171, 175], [176, 171, 175], [176, 171, 175], [176, 171, 175], [176, 171, 175], [176, 171, 175], [176, 171, 175], [176, 171, 175], [176, 171, 175], [176, 171, 175], [176, 171, 175], [176, 171, 175], [176, 171, 175], [176, 171, 175], [176, 171, 175], [176, 171, 175], [176, 171, 175], [176, 171, 175], [176, 171, 175], [108, 109, 83], [108, 109, 83], [108, 109, 83], [176, 171, 175], [176, 171, 175], [176, 171, 175], [176, 171, 175], [176, 171, 175], [176, 171, 175], [176, 171, 175], [176, 171, 175], [176, 171, 175], [176, 171, 175], [176, 171, 175], [95, 103, 90], [176, 171, 175], [159, 154, 158], [173, 168, 172], [176, 171, 175], [144, 139, 143], [106, 111, 109], [162, 158, 161], [176, 171, 175], [176, 171, 175], [176, 171, 175], [176, 171, 175], [176, 171, 175], [176, 171, 175], [176, 171, 175], [176, 171, 175], [103, 57, 77], [103, 57, 77], [103, 57, 77], [103, 57, 77], [103, 57, 77], [103, 57, 77], [103, 57, 77], [176, 171, 175], [176, 171, 175], [176, 171, 175], [176, 171, 175], [176, 171, 175], [176, 171, 175], [176, 171, 175], [176, 171, 175], [176, 171, 175], [176, 171, 175], [176, 171, 175], [176, 171, 175], [176, 171, 175], [176, 171, 175], [176, 171, 175], [176, 171, 175], [176, 171, 175], [176, 171, 175], [176, 171, 175], [176, 171, 175], [176, 171, 175], [176, 171, 175], [176, 171, 175], [176, 171, 175], [102, 60, 94], [102, 60, 94], [102, 60, 94], [102, 60, 94], [102, 60, 94], [102, 60, 94], [102, 60, 94], [102, 60, 94], [102, 60, 94], [102, 60, 94], [102, 60, 94], [102, 60, 94], [102, 60, 94], [51, 75, 107], [176, 171, 175], [43, 75, 82], [176, 171, 175], [176, 171, 175], [176, 171, 175], [176, 171, 175], [176, 171, 175], [176, 171, 175], [176, 171, 175], [176, 171, 175], [176, 171, 175], [176, 171, 175], [176, 171, 175], [176, 171, 175], [176, 171, 175], [69, 56, 108], [176, 171, 175], [176, 171, 175], [167, 162, 166]], [[176, 171, 175], [176, 171, 175], [176, 171, 175], [176, 171, 175], [176, 171, 175], [176, 171, 175], [176, 171, 175], [176, 171, 175], [176, 171, 175], [176, 171, 175], [176, 171, 175], [176, 171, 175], [176, 171, 175], [176, 171, 175], [176, 171, 175], [176, 171, 175], [176, 171, 175], [64, 91, 83], [64, 91, 83], [64, 91, 83], [176, 171, 175], [176, 171, 175], [176, 171, 175], [176, 171, 175], [176, 171, 175], [176, 171, 175], [176, 171, 175], [176, 171, 175], [176, 171, 175], [176, 171, 175], [176, 171, 175], [176, 171, 175], [176, 171, 175], [176, 171, 175], [176, 171, 175], [176, 171, 175], [176, 171, 175], [176, 171, 175], [176, 171, 175], [176, 171, 175], [176, 171, 175], [176, 171, 175], [176, 171, 175], [176, 171, 175], [176, 171, 175], [176, 171, 175], [176, 171, 175], [176, 171, 175], [176, 171, 175], [108, 109, 83], [108, 109, 83], [176, 171, 175], [176, 171, 175], [176, 171, 175], [176, 171, 175], [176, 171, 175], [176, 171, 175], [176, 171, 175], [176, 171, 175], [176, 171, 175], [95, 103, 90], [176, 171, 175], [176, 171, 175], [173, 168, 172], [148, 144, 147], [99, 105, 103], [114, 114, 114], [169, 164, 168], [176, 171, 175], [103, 57, 77], [103, 57, 77], [103, 57, 77], [103, 57, 77], [103, 57, 77], [103, 57, 77], [103, 57, 77], [176, 171, 175], [176, 171, 175], [176, 171, 175], [176, 171, 175], [176, 171, 175], [176, 171, 175], [176, 171, 175], [176, 171, 175], [176, 171, 175], [176, 171, 175], [176, 171, 175], [176, 171, 175], [176, 171, 175], [176, 171, 175], [176, 171, 175], [176, 171, 175], [176, 171, 175], [102, 60, 94], [102, 60, 94], [102, 60, 94], [102, 60, 94], [102, 60, 94], [102, 60, 94], [102, 60, 94], [102, 60, 94], [102, 60, 94], [102, 60, 94], [102, 60, 94], [102, 60, 94], [102, 60, 94], [102, 60, 94], [176, 171, 175], [176, 171, 175], [176, 171, 175], [176, 171, 175], [176, 171, 175], [176, 171, 175], [176, 171, 175], [176, 171, 175], [176, 171, 175], [176, 171, 175], [176, 171, 175], [176, 171, 175], [51, 75, 107], [176, 171, 175], [176, 171, 175], [176, 171, 175], [43, 75, 82], [176, 171, 175], [176, 171, 175], [176, 171, 175], [176, 171, 175], [176, 171, 175], [176, 171, 175], [176, 171, 175], [176, 171, 175], [176, 171, 175], [176, 171, 175], [176, 171, 175], [176, 171, 175], [176, 171, 175], [69, 56, 108], [176, 171, 175], [162, 158, 162]], [[176, 171, 175], [176, 171, 175], [176, 171, 175], [176, 171, 175], [176, 171, 175], [176, 171, 175], [176, 171, 175], [176, 171, 175], [176, 171, 175], [176, 171, 175], [176, 171, 175], [176, 171, 175], [176, 171, 175], [176, 171, 175], [176, 171, 175], [64, 91, 83], [64, 91, 83], [176, 171, 175], [176, 171, 175], [176, 171, 175], [176, 171, 175], [176, 171, 175], [176, 171, 175], [176, 171, 175], [176, 171, 175], [176, 171, 175], [176, 171, 175], [176, 171, 175], [176, 171, 175], [176, 171, 175], [176, 171, 175], [176, 171, 175], [176, 171, 175], [176, 171, 175], [176, 171, 175], [176, 171, 175], [176, 171, 175], [176, 171, 175], [176, 171, 175], [176, 171, 175], [176, 171, 175], [176, 171, 175], [176, 171, 175], [176, 171, 175], [176, 171, 175], [176, 171, 175], [176, 171, 175], [176, 171, 175], [176, 171, 175], [176, 171, 175], [176, 171, 175], [108, 109, 83], [108, 109, 83], [176, 171, 175], [176, 171, 175], [176, 171, 175], [176, 171, 175], [176, 171, 175], [176, 171, 175], [176, 171, 175], [95, 103, 90], [176, 171, 175], [176, 171, 175], [103, 57, 77], [103, 57, 77], [103, 57, 77], [103, 57, 77], [103, 57, 77], [103, 57, 77], [176, 171, 175], [176, 171, 175], [176, 171, 175], [176, 171, 175], [176, 171, 175], [176, 171, 175], [176, 171, 175], [175, 170, 174], [176, 171, 175], [176, 171, 175], [176, 171, 175], [102, 60, 94], [102, 60, 94], [102, 60, 94], [102, 60, 94], [102, 60, 94], [102, 60, 94], [102, 60, 94], [102, 60, 94], [102, 60, 94], [102, 60, 94], [102, 60, 94], [102, 60, 94], [102, 60, 94], [176, 171, 175], [176, 171, 175], [176, 171, 175], [176, 171, 175], [176, 171, 175], [176, 171, 175], [176, 171, 175], [176, 171, 175], [176, 171, 175], [176, 171, 175], [176, 171, 175], [176, 171, 175], [176, 171, 175], [176, 171, 175], [176, 171, 175], [176, 171, 175], [176, 171, 175], [176, 171, 175], [176, 171, 175], [176, 171, 175], [176, 171, 175], [176, 171, 175], [176, 171, 175], [176, 171, 175], [176, 171, 175], [176, 171, 175], [51, 75, 107], [176, 171, 175], [176, 171, 175], [176, 171, 175], [176, 171, 175], [43, 75, 82], [172, 167, 171], [176, 171, 175], [176, 171, 175], [176, 171, 175], [176, 171, 175], [176, 171, 175], [176, 171, 175], [176, 171, 175], [176, 171, 175], [176, 171, 175], [176, 171, 175], [176, 171, 175], [69, 56, 108], [166, 162, 165], [142, 137, 141]], [[176, 171, 175], [176, 171, 175], [176, 171, 175], [176, 171, 175], [176, 171, 175], [176, 171, 175], [176, 171, 175], [176, 171, 175], [176, 171, 175], [176, 171, 175], [176, 171, 175], [176, 171, 175], [176, 171, 175], [64, 91, 83], [64, 91, 83], [176, 171, 175], [176, 171, 175], [176, 171, 175], [176, 171, 175], [176, 171, 175], [176, 171, 175], [176, 171, 175], [176, 171, 175], [176, 171, 175], [176, 171, 175], [176, 171, 175], [176, 171, 175], [176, 171, 175], [176, 171, 175], [176, 171, 175], [176, 171, 175], [176, 171, 175], [176, 171, 175], [176, 171, 175], [176, 171, 175], [176, 171, 175], [176, 171, 175], [176, 171, 175], [176, 171, 175], [176, 171, 175], [176, 171, 175], [176, 171, 175], [176, 171, 175], [176, 171, 175], [176, 171, 175], [176, 171, 175], [176, 171, 175], [176, 171, 175], [176, 171, 175], [176, 171, 175], [176, 171, 175], [176, 171, 175], [176, 171, 175], [108, 109, 83], [108, 109, 83], [176, 171, 175], [103, 57, 77], [103, 57, 77], [103, 57, 77], [103, 57, 77], [103, 57, 77], [103, 57, 77], [103, 57, 77], [176, 171, 175], [171, 167, 171], [87, 97, 93], [167, 162, 166], [146, 142, 145], [175, 170, 174], [176, 171, 175], [176, 171, 175], [176, 171, 175], [176, 171, 175], [102, 60, 94], [102, 60, 94], [102, 60, 94], [102, 60, 94], [102, 60, 94], [102, 60, 94], [102, 60, 94], [176, 171, 175], [176, 171, 175], [176, 171, 175], [176, 171, 175], [176, 171, 175], [176, 171, 175], [176, 171, 175], [176, 171, 175], [176, 171, 175], [176, 171, 175], [176, 171, 175], [176, 171, 175], [176, 171, 175], [176, 171, 175], [176, 171, 175], [176, 171, 175], [176, 171, 175], [176, 171, 175], [176, 171, 175], [176, 171, 175], [176, 171, 175], [176, 171, 175], [176, 171, 175], [176, 171, 175], [176, 171, 175], [176, 171, 175], [176, 171, 175], [176, 171, 175], [176, 171, 175], [176, 171, 175], [176, 171, 175], [176, 171, 175], [176, 171, 175], [176, 171, 175], [176, 171, 175], [176, 171, 175], [176, 171, 175], [176, 171, 175], [176, 171, 175], [51, 75, 107], [176, 171, 175], [176, 171, 175], [176, 171, 175], [159, 154, 159], [150, 145, 150], [43, 75, 82], [175, 170, 174], [176, 171, 175], [176, 171, 175], [176, 171, 175], [176, 171, 175], [176, 171, 175], [176, 171, 175], [176, 171, 175], [176, 171, 175], [176, 171, 175], [176, 171, 175], [173, 168, 172], [69, 56, 108], [140, 135, 139]], [[176, 171, 175], [176, 171, 175], [176, 171, 175], [176, 171, 175], [176, 171, 175], [176, 171, 175], [176, 171, 175], [176, 171, 175], [176, 171, 175], [176, 171, 175], [176, 171, 175], [64, 91, 83], [64, 91, 83], [176, 171, 175], [176, 171, 175], [176, 171, 175], [176, 171, 175], [176, 171, 175], [176, 171, 175], [176, 171, 175], [176, 171, 175], [176, 171, 175], [176, 171, 175], [176, 171, 175], [176, 171, 175], [176, 171, 175], [176, 171, 175], [176, 171, 175], [176, 171, 175], [176, 171, 175], [176, 171, 175], [176, 171, 175], [176, 171, 175], [176, 171, 175], [176, 171, 175], [176, 171, 175], [176, 171, 175], [176, 171, 175], [176, 171, 175], [176, 171, 175], [176, 171, 175], [176, 171, 175], [176, 171, 175], [176, 171, 175], [176, 171, 175], [176, 171, 175], [176, 171, 175], [176, 171, 175], [176, 171, 175], [176, 171, 175], [176, 171, 175], [176, 171, 175], [103, 57, 77], [103, 57, 77], [103, 57, 77], [108, 109, 83], [108, 109, 83], [176, 171, 175], [176, 171, 175], [95, 103, 90], [176, 171, 175], [176, 171, 175], [176, 171, 175], [172, 167, 171], [162, 157, 161], [112, 115, 115], [138, 137, 138], [161, 157, 160], [176, 171, 175], [175, 170, 174], [149, 148, 150], [123, 126, 125], [98, 105, 102], [104, 110, 108], [130, 132, 132], [157, 154, 157], [176, 171, 175], [176, 171, 175], [176, 171, 175], [176, 171, 175], [176, 171, 175], [176, 171, 175], [176, 171, 175], [176, 171, 175], [176, 171, 175], [176, 171, 175], [176, 171, 175], [176, 171, 175], [176, 171, 175], [176, 171, 175], [176, 171, 175], [176, 171, 175], [176, 171, 175], [176, 171, 175], [176, 171, 175], [176, 171, 175], [176, 171, 175], [176, 171, 175], [176, 171, 175], [176, 171, 175], [176, 171, 175], [176, 171, 175], [176, 171, 175], [176, 171, 175], [176, 171, 175], [176, 171, 175], [176, 171, 175], [176, 171, 175], [176, 171, 175], [176, 171, 175], [176, 171, 175], [176, 171, 175], [176, 171, 175], [176, 171, 175], [176, 171, 175], [176, 171, 175], [176, 171, 175], [176, 171, 175], [51, 75, 107], [176, 171, 175], [176, 171, 175], [173, 168, 172], [158, 153, 157], [142, 137, 142], [151, 146, 150], [176, 171, 175], [43, 75, 82], [176, 171, 175], [176, 171, 175], [176, 171, 175], [176, 171, 175], [176, 171, 175], [176, 171, 175], [176, 171, 175], [176, 171, 175], [176, 171, 175], [176, 171, 175], [176, 171, 175], [168, 163, 167], [69, 56, 108]], [[176, 171, 175], [176, 171, 175], [176, 171, 175], [176, 171, 175], [176, 171, 175], [176, 171, 175], [176, 171, 175], [176, 171, 175], [64, 91, 83], [64, 91, 83], [64, 91, 83], [176, 171, 175], [176, 171, 175], [176, 171, 175], [87, 76, 104], [176, 171, 175], [176, 171, 175], [176, 171, 175], [176, 171, 175], [176, 171, 175], [176, 171, 175], [176, 171, 175], [176, 171, 175], [176, 171, 175], [176, 171, 175], [176, 171, 175], [176, 171, 175], [176, 171, 175], [176, 171, 175], [176, 171, 175], [176, 171, 175], [176, 171, 175], [176, 171, 175], [176, 171, 175], [176, 171, 175], [176, 171, 175], [176, 171, 175], [176, 171, 175], [176, 171, 175], [176, 171, 175], [176, 171, 175], [176, 171, 175], [176, 171, 175], [176, 171, 175], [176, 171, 175], [176, 171, 175], [176, 171, 175], [176, 171, 175], [176, 171, 175], [176, 171, 175], [176, 171, 175], [176, 171, 175], [176, 171, 175], [176, 171, 175], [176, 171, 175], [176, 171, 175], [176, 171, 175], [108, 109, 83], [108, 109, 83], [95, 103, 90], [176, 171, 175], [176, 171, 175], [176, 171, 175], [148, 144, 147], [154, 150, 153], [106, 106, 107], [132, 129, 133], [137, 138, 139], [117, 120, 119], [91, 99, 95], [111, 116, 114], [136, 138, 137], [163, 159, 163], [176, 171, 175], [176, 171, 175], [176, 171, 175], [176, 171, 175], [176, 171, 175], [176, 171, 175], [176, 171, 175], [176, 171, 175], [176, 171, 175], [176, 171, 175], [176, 171, 175], [176, 171, 175], [176, 171, 175], [176, 171, 175], [176, 171, 175], [176, 171, 175], [176, 171, 175], [176, 171, 175], [176, 171, 175], [176, 171, 175], [176, 171, 175], [176, 171, 175], [176, 171, 175], [176, 171, 175], [176, 171, 175], [176, 171, 175], [176, 171, 175], [176, 171, 175], [176, 171, 175], [176, 171, 175], [176, 171, 175], [176, 171, 175], [176, 171, 175], [176, 171, 175], [176, 171, 175], [176, 171, 175], [176, 171, 175], [176, 171, 175], [176, 171, 175], [176, 171, 175], [176, 171, 175], [176, 171, 175], [176, 171, 175], [176, 171, 175], [176, 171, 175], [51, 75, 107], [176, 171, 175], [176, 171, 175], [172, 167, 171], [169, 164, 168], [173, 168, 172], [151, 147, 151], [172, 167, 171], [176, 171, 175], [43, 75, 82], [176, 171, 175], [176, 171, 175], [176, 171, 175], [176, 171, 175], [176, 171, 175], [176, 171, 175], [176, 171, 175], [176, 171, 175], [176, 171, 175], [176, 171, 175], [176, 171, 175], [69, 56, 108]], [[176, 171, 175], [176, 171, 175], [176, 171, 175], [176, 171, 175], [176, 171, 175], [176, 171, 175], [64, 91, 83], [64, 91, 83], [176, 171, 175], [176, 171, 175], [176, 171, 175], [176, 171, 175], [176, 171, 175], [176, 171, 175], [176, 171, 175], [176, 171, 175], [176, 171, 175], [176, 171, 175], [176, 171, 175], [176, 171, 175], [176, 171, 175], [176, 171, 175], [176, 171, 175], [176, 171, 175], [176, 171, 175], [176, 171, 175], [176, 171, 175], [176, 171, 175], [176, 171, 175], [176, 171, 175], [176, 171, 175], [176, 171, 175], [176, 171, 175], [176, 171, 175], [176, 171, 175], [176, 171, 175], [176, 171, 175], [176, 171, 175], [176, 171, 175], [176, 171, 175], [176, 171, 175], [176, 171, 175], [176, 171, 175], [160, 156, 159], [176, 171, 175], [176, 171, 175], [176, 171, 175], [176, 171, 175], [176, 171, 175], [176, 171, 175], [176, 171, 175], [176, 171, 175], [176, 171, 175], [176, 171, 175], [176, 171, 175], [176, 171, 175], [176, 171, 175], [176, 171, 175], [176, 171, 175], [95, 103, 90], [176, 171, 175], [176, 171, 175], [176, 171, 175], [176, 171, 175], [160, 156, 159], [87, 95, 92], [91, 99, 95], [118, 122, 121], [144, 144, 145], [169, 165, 168], [176, 171, 175], [176, 171, 175], [176, 171, 175], [176, 171, 175], [176, 171, 175], [176, 171, 175], [176, 171, 175], [176, 171, 175], [176, 171, 175], [176, 171, 175], [176, 171, 175], [176, 171, 175], [176, 171, 175], [176, 171, 175], [176, 171, 175], [176, 171, 175], [176, 171, 175], [176, 171, 175], [176, 171, 175], [176, 171, 175], [176, 171, 175], [176, 171, 175], [176, 171, 175], [176, 171, 175], [176, 171, 175], [176, 171, 175], [176, 171, 175], [176, 171, 175], [176, 171, 175], [176, 171, 175], [176, 171, 175], [176, 171, 175], [176, 171, 175], [176, 171, 175], [176, 171, 175], [176, 171, 175], [176, 171, 175], [176, 171, 175], [176, 171, 175], [176, 171, 175], [176, 171, 175], [176, 171, 175], [176, 171, 175], [176, 171, 175], [176, 171, 175], [176, 171, 175], [176, 171, 175], [51, 75, 107], [176, 171, 175], [176, 171, 175], [176, 171, 175], [176, 171, 175], [176, 171, 175], [168, 164, 167], [159, 154, 158], [175, 170, 174], [176, 171, 175], [176, 171, 175], [43, 75, 82], [176, 171, 175], [176, 171, 175], [176, 171, 175], [176, 171, 175], [176, 171, 175], [176, 171, 175], [176, 171, 175], [176, 171, 175], [176, 171, 175], [176, 171, 175], [176, 171, 175]], [[176, 171, 175], [176, 171, 175], [176, 171, 175], [176, 171, 175], [64, 91, 83], [64, 91, 83], [176, 171, 175], [176, 171, 175], [176, 171, 175], [176, 171, 175], [176, 171, 175], [176, 171, 175], [176, 171, 175], [176, 171, 175], [176, 171, 175], [176, 171, 175], [176, 171, 175], [176, 171, 175], [176, 171, 175], [176, 171, 175], [176, 171, 175], [176, 171, 175], [176, 171, 175], [176, 171, 175], [176, 171, 175], [176, 171, 175], [176, 171, 175], [176, 171, 175], [176, 171, 175], [176, 171, 175], [176, 171, 175], [176, 171, 175], [176, 171, 175], [176, 171, 175], [176, 171, 175], [176, 171, 175], [176, 171, 175], [176, 171, 175], [176, 171, 175], [176, 171, 175], [87, 76, 104], [176, 171, 175], [166, 161, 165], [145, 141, 143], [163, 159, 162], [176, 171, 175], [176, 171, 175], [176, 171, 175], [176, 171, 175], [176, 171, 175], [176, 171, 175], [176, 171, 175], [176, 171, 175], [176, 171, 175], [176, 171, 175], [176, 171, 175], [176, 171, 175], [176, 171, 175], [95, 103, 90], [176, 171, 175], [176, 171, 175], [176, 171, 175], [176, 171, 175], [176, 171, 175], [176, 171, 175], [149, 147, 150], [176, 171, 175], [176, 171, 175], [176, 171, 175], [176, 171, 175], [176, 171, 175], [176, 171, 175], [176, 171, 175], [176, 171, 175], [176, 171, 175], [176, 171, 175], [87, 76, 104], [176, 171, 175], [176, 171, 175], [176, 171, 175], [176, 171, 175], [176, 171, 175], [176, 171, 175], [176, 171, 175], [176, 171, 175], [176, 171, 175], [176, 171, 175], [176, 171, 175], [176, 171, 175], [176, 171, 175], [176, 171, 175], [176, 171, 175], [176, 171, 175], [176, 171, 175], [176, 171, 175], [176, 171, 175], [176, 171, 175], [176, 171, 175], [176, 171, 175], [176, 171, 175], [176, 171, 175], [176, 171, 175], [176, 171, 175], [176, 171, 175], [176, 171, 175], [176, 171, 175], [176, 171, 175], [176, 171, 175], [176, 171, 175], [176, 171, 175], [176, 171, 175], [176, 171, 175], [176, 171, 175], [176, 171, 175], [176, 171, 175], [176, 171, 175], [176, 171, 175], [51, 75, 107], [176, 171, 175], [176, 171, 175], [176, 171, 175], [176, 171, 175], [176, 171, 175], [174, 169, 173], [146, 142, 146], [171, 166, 170], [176, 171, 175], [176, 171, 175], [176, 171, 175], [43, 75, 82], [43, 75, 82], [176, 171, 175], [176, 171, 175], [176, 171, 175], [176, 171, 175], [176, 171, 175], [176, 171, 175], [176, 171, 175], [176, 171, 175], [176, 171, 175]], [[176, 171, 175], [176, 171, 175], [64, 91, 83], [64, 91, 83], [176, 171, 175], [176, 171, 175], [176, 171, 175], [176, 171, 175], [176, 171, 175], [176, 171, 175], [176, 171, 175], [176, 171, 175], [176, 171, 175], [176, 171, 175], [176, 171, 175], [176, 171, 175], [176, 171, 175], [176, 171, 175], [176, 171, 175], [176, 171, 175], [176, 171, 175], [176, 171, 175], [176, 171, 175], [176, 171, 175], [176, 171, 175], [176, 171, 175], [176, 171, 175], [176, 171, 175], [176, 171, 175], [176, 171, 175], [176, 171, 175], [176, 171, 175], [176, 171, 175], [176, 171, 175], [176, 171, 175], [176, 171, 175], [176, 171, 175], [176, 171, 175], [176, 171, 175], [176, 171, 175], [176, 171, 175], [169, 165, 168], [144, 140, 144], [167, 163, 166], [168, 164, 167], [148, 144, 147], [176, 171, 175], [176, 171, 175], [176, 171, 175], [176, 171, 175], [176, 171, 175], [176, 171, 175], [176, 171, 175], [176, 171, 175], [176, 171, 175], [176, 171, 175], [176, 171, 175], [176, 171, 175], [95, 103, 90], [176, 171, 175], [176, 171, 175], [176, 171, 175], [176, 171, 175], [176, 171, 175], [176, 171, 175], [176, 171, 175], [176, 171, 175], [176, 171, 175], [176, 171, 175], [176, 171, 175], [176, 171, 175], [176, 171, 175], [176, 171, 175], [176, 171, 175], [176, 171, 175], [176, 171, 175], [176, 171, 175], [176, 171, 175], [176, 171, 175], [176, 171, 175], [176, 171, 175], [176, 171, 175], [176, 171, 175], [87, 76, 104], [176, 171, 175], [176, 171, 175], [176, 171, 175], [176, 171, 175], [176, 171, 175], [176, 171, 175], [176, 171, 175], [176, 171, 175], [176, 171, 175], [176, 171, 175], [176, 171, 175], [176, 171, 175], [176, 171, 175], [176, 171, 175], [176, 171, 175], [176, 171, 175], [176, 171, 175], [176, 171, 175], [176, 171, 175], [176, 171, 175], [176, 171, 175], [176, 171, 175], [176, 171, 175], [176, 171, 175], [176, 171, 175], [176, 171, 175], [176, 171, 175], [176, 171, 175], [176, 171, 175], [176, 171, 175], [176, 171, 175], [176, 171, 175], [176, 171, 175], [51, 75, 107], [176, 171, 175], [176, 171, 175], [176, 171, 175], [176, 171, 175], [176, 171, 175], [176, 171, 175], [161, 156, 161], [153, 149, 154], [176, 171, 175], [176, 171, 175], [176, 171, 175], [176, 171, 175], [176, 171, 175], [43, 75, 82], [176, 171, 175], [176, 171, 175], [176, 171, 175], [176, 171, 175], [176, 171, 175], [176, 171, 175], [176, 171, 175], [176, 171, 175]], [[64, 91, 83], [64, 91, 83], [176, 171, 175], [176, 171, 175], [176, 171, 175], [176, 171, 175], [176, 171, 175], [176, 171, 175], [176, 171, 175], [176, 171, 175], [176, 171, 175], [176, 171, 175], [176, 171, 175], [176, 171, 175], [176, 171, 175], [176, 171, 175], [176, 171, 175], [176, 171, 175], [176, 171, 175], [176, 171, 175], [176, 171, 175], [176, 171, 175], [176, 171, 175], [176, 171, 175], [176, 171, 175], [176, 171, 175], [176, 171, 175], [176, 171, 175], [176, 171, 175], [176, 171, 175], [176, 171, 175], [176, 171, 175], [176, 171, 175], [176, 171, 175], [176, 171, 175], [176, 171, 175], [176, 171, 175], [176, 171, 175], [176, 171, 175], [176, 171, 175], [176, 171, 175], [159, 154, 158], [153, 149, 153], [176, 171, 175], [171, 166, 170], [142, 138, 140], [154, 150, 152], [176, 171, 175], [176, 171, 175], [176, 171, 175], [176, 171, 175], [176, 171, 175], [176, 171, 175], [176, 171, 175], [176, 171, 175], [176, 171, 175], [176, 171, 175], [176, 171, 175], [176, 171, 175], [176, 171, 175], [176, 171, 175], [176, 171, 175], [176, 171, 175], [176, 171, 175], [176, 171, 175], [176, 171, 175], [176, 171, 175], [176, 171, 175], [176, 171, 175], [176, 171, 175], [176, 171, 175], [176, 171, 175], [176, 171, 175], [176, 171, 175], [176, 171, 175], [176, 171, 175], [176, 171, 175], [176, 171, 175], [176, 171, 175], [176, 171, 175], [176, 171, 175], [176, 171, 175], [176, 171, 175], [176, 171, 175], [176, 171, 175], [176, 171, 175], [176, 171, 175], [176, 171, 175], [176, 171, 175], [176, 171, 175], [176, 171, 175], [176, 171, 175], [176, 171, 175], [176, 171, 175], [176, 171, 175], [176, 171, 175], [176, 171, 175], [176, 171, 175], [176, 171, 175], [176, 171, 175], [176, 171, 175], [176, 171, 175], [176, 171, 175], [176, 171, 175], [176, 171, 175], [176, 171, 175], [176, 171, 175], [176, 171, 175], [176, 171, 175], [176, 171, 175], [176, 171, 175], [176, 171, 175], [176, 171, 175], [176, 171, 175], [176, 171, 175], [176, 171, 175], [51, 75, 107], [176, 171, 175], [176, 171, 175], [176, 171, 175], [176, 171, 175], [176, 171, 175], [176, 171, 175], [176, 171, 175], [176, 171, 175], [149, 144, 148], [167, 162, 166], [176, 171, 175], [176, 171, 175], [176, 171, 175], [176, 171, 175], [176, 171, 175], [43, 75, 82], [176, 171, 175], [176, 171, 175], [176, 171, 175], [176, 171, 175], [176, 171, 175], [176, 171, 175], [176, 171, 175]], [[176, 171, 175], [176, 171, 175], [176, 171, 175], [176, 171, 175], [176, 171, 175], [176, 171, 175], [176, 171, 175], [176, 171, 175], [176, 171, 175], [176, 171, 175], [176, 171, 175], [176, 171, 175], [176, 171, 175], [176, 171, 175], [176, 171, 175], [176, 171, 175], [176, 171, 175], [176, 171, 175], [176, 171, 175], [176, 171, 175], [176, 171, 175], [176, 171, 175], [176, 171, 175], [176, 171, 175], [176, 171, 175], [176, 171, 175], [176, 171, 175], [176, 171, 175], [176, 171, 175], [176, 171, 175], [176, 171, 175], [176, 171, 175], [176, 171, 175], [176, 171, 175], [176, 171, 175], [176, 171, 175], [176, 171, 175], [176, 171, 175], [176, 171, 175], [176, 171, 175], [176, 171, 175], [173, 168, 172], [157, 152, 155], [153, 148, 152], [152, 147, 151], [136, 133, 135], [143, 139, 142], [152, 147, 151], [176, 171, 175], [176, 171, 175], [176, 171, 175], [176, 171, 175], [176, 171, 175], [176, 171, 175], [176, 171, 175], [176, 171, 175], [176, 171, 175], [176, 171, 175], [87, 76, 104], [176, 171, 175], [176, 171, 175], [176, 171, 175], [176, 171, 175], [176, 171, 175], [176, 171, 175], [176, 171, 175], [87, 76, 104], [176, 171, 175], [176, 171, 175], [176, 171, 175], [176, 171, 175], [176, 171, 175], [176, 171, 175], [176, 171, 175], [176, 171, 175], [176, 171, 175], [176, 171, 175], [176, 171, 175], [176, 171, 175], [176, 171, 175], [176, 171, 175], [176, 171, 175], [176, 171, 175], [87, 76, 104], [176, 171, 175], [176, 171, 175], [176, 171, 175], [176, 171, 175], [176, 171, 175], [176, 171, 175], [176, 171, 175], [176, 171, 175], [176, 171, 175], [176, 171, 175], [176, 171, 175], [176, 171, 175], [176, 171, 175], [176, 171, 175], [176, 171, 175], [176, 171, 175], [176, 171, 175], [176, 171, 175], [176, 171, 175], [176, 171, 175], [176, 171, 175], [176, 171, 175], [176, 171, 175], [176, 171, 175], [176, 171, 175], [176, 171, 175], [176, 171, 175], [176, 171, 175], [176, 171, 175], [176, 171, 175], [87, 76, 104], [176, 171, 175], [51, 75, 107], [176, 171, 175], [176, 171, 175], [176, 171, 175], [176, 171, 175], [176, 171, 175], [176, 171, 175], [176, 171, 175], [176, 171, 175], [164, 160, 163], [151, 147, 151], [176, 171, 175], [176, 171, 175], [176, 171, 175], [176, 171, 175], [176, 171, 175], [176, 171, 175], [43, 75, 82], [176, 171, 175], [176, 171, 175], [176, 171, 175], [176, 171, 175], [176, 171, 175], [176, 171, 175]], [[176, 171, 175], [176, 171, 175], [176, 171, 175], [176, 171, 175], [176, 171, 175], [176, 171, 175], [176, 171, 175], [176, 171, 175], [176, 171, 175], [176, 171, 175], [176, 171, 175], [176, 171, 175], [176, 171, 175], [176, 171, 175], [176, 171, 175], [176, 171, 175], [176, 171, 175], [176, 171, 175], [176, 171, 175], [176, 171, 175], [176, 171, 175], [176, 171, 175], [176, 171, 175], [176, 171, 175], [176, 171, 175], [176, 171, 175], [176, 171, 175], [176, 171, 175], [176, 171, 175], [176, 171, 175], [176, 171, 175], [176, 171, 175], [176, 171, 175], [176, 171, 175], [176, 171, 175], [176, 171, 175], [176, 171, 175], [176, 171, 175], [176, 171, 175], [176, 171, 175], [176, 171, 175], [175, 170, 174], [171, 166, 170], [161, 157, 161], [147, 143, 147], [149, 144, 148], [168, 164, 167], [163, 159, 162], [161, 157, 161], [176, 171, 175], [176, 171, 175], [176, 171, 175], [176, 171, 175], [176, 171, 175], [176, 171, 175], [176, 171, 175], [176, 171, 175], [87, 76, 104], [176, 171, 175], [176, 171, 175], [176, 171, 175], [176, 171, 175], [176, 171, 175], [176, 171, 175], [176, 171, 175], [176, 171, 175], [176, 171, 175], [176, 171, 175], [176, 171, 175], [176, 171, 175], [176, 171, 175], [176, 171, 175], [176, 171, 175], [176, 171, 175], [176, 171, 175], [176, 171, 175], [176, 171, 175], [176, 171, 175], [176, 171, 175], [176, 171, 175], [176, 171, 175], [176, 171, 175], [176, 171, 175], [176, 171, 175], [176, 171, 175], [176, 171, 175], [176, 171, 175], [176, 171, 175], [176, 171, 175], [176, 171, 175], [176, 171, 175], [176, 171, 175], [176, 171, 175], [176, 171, 175], [176, 171, 175], [176, 171, 175], [176, 171, 175], [176, 171, 175], [176, 171, 175], [176, 171, 175], [176, 171, 175], [176, 171, 175], [176, 171, 175], [176, 171, 175], [176, 171, 175], [176, 171, 175], [176, 171, 175], [176, 171, 175], [176, 171, 175], [176, 171, 175], [176, 171, 175], [176, 171, 175], [176, 171, 175], [176, 171, 175], [176, 171, 175], [51, 75, 107], [176, 171, 175], [176, 171, 175], [176, 171, 175], [176, 171, 175], [176, 171, 175], [176, 171, 175], [176, 171, 175], [176, 171, 175], [176, 171, 175], [175, 170, 174], [170, 166, 170], [176, 171, 175], [176, 171, 175], [176, 171, 175], [176, 171, 175], [176, 171, 175], [176, 171, 175], [176, 171, 175], [43, 75, 82], [176, 171, 175], [176, 171, 175], [176, 171, 175], [176, 171, 175], [176, 171, 175]]])]"
      ]
     },
     "execution_count": 239,
     "metadata": {},
     "output_type": "execute_result"
    }
   ],
   "source": [
    "sqlContext.sql(\"SELECT * FROM images3\").take(2)"
   ]
  },
  {
   "cell_type": "code",
   "execution_count": 242,
   "metadata": {
    "collapsed": false
   },
   "outputs": [],
   "source": [
    "row = sqlContext.sql(\"SELECT * FROM images3\").take(2)[1]"
   ]
  },
  {
   "cell_type": "code",
   "execution_count": 250,
   "metadata": {
    "collapsed": false
   },
   "outputs": [
    {
     "data": {
      "text/plain": [
       "Row(id=u'1', mat=[[[176, 171, 175], [176, 171, 175], [176, 171, 175], [176, 171, 175], [176, 171, 175], [176, 171, 175], [176, 171, 175], [176, 171, 175], [176, 171, 175], [176, 171, 175], [87, 76, 104], [176, 171, 175], [176, 171, 175], [176, 171, 175], [176, 171, 175], [176, 171, 175], [176, 171, 175], [176, 171, 175], [176, 171, 175], [176, 171, 175], [176, 171, 175], [176, 171, 175], [176, 171, 175], [176, 171, 175], [176, 171, 175], [176, 171, 175], [176, 171, 175], [176, 171, 175], [176, 171, 175], [176, 171, 175], [176, 171, 175], [176, 171, 175], [176, 171, 175], [176, 171, 175], [176, 171, 175], [176, 171, 175], [176, 171, 175], [176, 171, 175], [176, 171, 175], [176, 171, 175], [176, 171, 175], [176, 171, 175], [176, 171, 175], [176, 171, 175], [176, 171, 175], [176, 171, 175], [176, 171, 175], [176, 171, 175], [176, 171, 175], [176, 171, 175], [176, 171, 175], [176, 171, 175], [176, 171, 175], [136, 129, 134], [149, 144, 148], [176, 171, 175], [176, 171, 175], [176, 171, 175], [176, 171, 175], [176, 171, 175], [176, 171, 175], [176, 171, 175], [176, 171, 175], [176, 171, 175], [176, 171, 175], [176, 171, 175], [176, 171, 175], [176, 171, 175], [176, 171, 175], [176, 171, 175], [176, 171, 175], [176, 171, 175], [176, 171, 175], [176, 171, 175], [176, 171, 175], [176, 171, 175], [176, 171, 175], [176, 171, 175], [176, 171, 175], [176, 171, 175], [176, 171, 175], [176, 171, 175], [176, 171, 175], [176, 171, 175], [176, 171, 175], [176, 171, 175], [176, 171, 175], [176, 171, 175], [176, 171, 175], [176, 171, 175], [176, 171, 175], [176, 171, 175], [176, 171, 175], [176, 171, 175], [176, 171, 175], [176, 171, 175], [176, 171, 175], [176, 171, 175], [176, 171, 175], [176, 171, 175], [176, 171, 175], [176, 171, 175], [176, 171, 175], [176, 171, 175], [176, 171, 175], [176, 171, 175], [176, 171, 175], [176, 171, 175], [176, 171, 175], [176, 171, 175], [176, 171, 175], [176, 171, 175], [176, 171, 175], [176, 171, 175], [176, 171, 175], [176, 171, 175], [176, 171, 175], [176, 171, 175], [176, 171, 175], [176, 171, 175], [176, 171, 175], [176, 171, 175], [176, 171, 175], [176, 171, 175], [176, 171, 175], [176, 171, 175], [176, 171, 175], [176, 171, 175], [176, 171, 175], [176, 171, 175], [176, 171, 175], [176, 171, 175], [176, 171, 175], [176, 171, 175], [47, 73, 103], [47, 73, 103], [47, 73, 103], [176, 171, 175], [176, 171, 175], [176, 171, 175]], [[176, 171, 175], [176, 171, 175], [176, 171, 175], [176, 171, 175], [176, 171, 175], [176, 171, 175], [176, 171, 175], [176, 171, 175], [176, 171, 175], [176, 171, 175], [176, 171, 175], [176, 171, 175], [176, 171, 175], [176, 171, 175], [176, 171, 175], [176, 171, 175], [176, 171, 175], [176, 171, 175], [176, 171, 175], [176, 171, 175], [176, 171, 175], [176, 171, 175], [176, 171, 175], [176, 171, 175], [176, 171, 175], [176, 171, 175], [176, 171, 175], [176, 171, 175], [176, 171, 175], [176, 171, 175], [176, 171, 175], [176, 171, 175], [176, 171, 175], [176, 171, 175], [176, 171, 175], [176, 171, 175], [176, 171, 175], [176, 171, 175], [176, 171, 175], [176, 171, 175], [176, 171, 175], [176, 171, 175], [176, 171, 175], [176, 171, 175], [176, 171, 175], [176, 171, 175], [176, 171, 175], [176, 171, 175], [176, 171, 175], [176, 171, 175], [176, 171, 175], [176, 171, 175], [124, 115, 121], [124, 117, 122], [176, 171, 175], [176, 171, 175], [176, 171, 175], [176, 171, 175], [176, 171, 175], [176, 171, 175], [176, 171, 175], [176, 171, 175], [176, 171, 175], [176, 171, 175], [176, 171, 175], [176, 171, 175], [176, 171, 175], [176, 171, 175], [176, 171, 175], [87, 76, 104], [176, 171, 175], [176, 171, 175], [87, 76, 104], [176, 171, 175], [176, 171, 175], [176, 171, 175], [176, 171, 175], [176, 171, 175], [176, 171, 175], [176, 171, 175], [176, 171, 175], [176, 171, 175], [176, 171, 175], [176, 171, 175], [176, 171, 175], [176, 171, 175], [176, 171, 175], [176, 171, 175], [176, 171, 175], [176, 171, 175], [176, 171, 175], [176, 171, 175], [176, 171, 175], [176, 171, 175], [176, 171, 175], [176, 171, 175], [176, 171, 175], [176, 171, 175], [176, 171, 175], [176, 171, 175], [176, 171, 175], [176, 171, 175], [176, 171, 175], [176, 171, 175], [87, 76, 104], [176, 171, 175], [176, 171, 175], [176, 171, 175], [176, 171, 175], [176, 171, 175], [176, 171, 175], [176, 171, 175], [176, 171, 175], [176, 171, 175], [176, 171, 175], [176, 171, 175], [176, 171, 175], [176, 171, 175], [176, 171, 175], [176, 171, 175], [176, 171, 175], [176, 171, 175], [176, 171, 175], [176, 171, 175], [176, 171, 175], [176, 171, 175], [176, 171, 175], [176, 171, 175], [176, 171, 175], [176, 171, 175], [47, 73, 103], [47, 73, 103], [47, 73, 103], [47, 73, 103], [176, 171, 175], [176, 171, 175], [176, 171, 175], [176, 171, 175], [176, 171, 175], [176, 171, 175]], [[176, 171, 175], [176, 171, 175], [176, 171, 175], [176, 171, 175], [176, 171, 175], [176, 171, 175], [176, 171, 175], [176, 171, 175], [176, 171, 175], [176, 171, 175], [176, 171, 175], [176, 171, 175], [87, 76, 104], [176, 171, 175], [176, 171, 175], [176, 171, 175], [176, 171, 175], [176, 171, 175], [176, 171, 175], [176, 171, 175], [176, 171, 175], [176, 171, 175], [176, 171, 175], [176, 171, 175], [176, 171, 175], [176, 171, 175], [176, 171, 175], [176, 171, 175], [176, 171, 175], [176, 171, 175], [176, 171, 175], [176, 171, 175], [176, 171, 175], [176, 171, 175], [176, 171, 175], [176, 171, 175], [176, 171, 175], [176, 171, 175], [176, 171, 175], [176, 171, 175], [176, 171, 175], [176, 171, 175], [176, 171, 175], [176, 171, 175], [176, 171, 175], [176, 171, 175], [176, 171, 175], [176, 171, 175], [176, 171, 175], [176, 171, 175], [169, 165, 168], [117, 109, 115], [130, 123, 128], [176, 171, 175], [176, 171, 175], [176, 171, 175], [176, 171, 175], [176, 171, 175], [176, 171, 175], [176, 171, 175], [176, 171, 175], [176, 171, 175], [176, 171, 175], [176, 171, 175], [176, 171, 175], [176, 171, 175], [176, 171, 175], [176, 171, 175], [176, 171, 175], [176, 171, 175], [176, 171, 175], [176, 171, 175], [176, 171, 175], [176, 171, 175], [176, 171, 175], [176, 171, 175], [176, 171, 175], [176, 171, 175], [176, 171, 175], [176, 171, 175], [176, 171, 175], [176, 171, 175], [176, 171, 175], [176, 171, 175], [176, 171, 175], [176, 171, 175], [176, 171, 175], [176, 171, 175], [176, 171, 175], [176, 171, 175], [176, 171, 175], [176, 171, 175], [176, 171, 175], [176, 171, 175], [176, 171, 175], [176, 171, 175], [176, 171, 175], [176, 171, 175], [176, 171, 175], [176, 171, 175], [176, 171, 175], [176, 171, 175], [176, 171, 175], [176, 171, 175], [176, 171, 175], [176, 171, 175], [176, 171, 175], [176, 171, 175], [176, 171, 175], [176, 171, 175], [176, 171, 175], [176, 171, 175], [176, 171, 175], [176, 171, 175], [176, 171, 175], [176, 171, 175], [176, 171, 175], [176, 171, 175], [176, 171, 175], [176, 171, 175], [176, 171, 175], [176, 171, 175], [176, 171, 175], [176, 171, 175], [176, 171, 175], [47, 73, 103], [47, 73, 103], [47, 73, 103], [47, 73, 103], [47, 73, 103], [176, 171, 175], [165, 160, 164], [176, 171, 175], [176, 171, 175], [176, 171, 175], [176, 171, 175], [176, 171, 175], [176, 171, 175], [176, 171, 175], [176, 171, 175]], [[176, 171, 175], [176, 171, 175], [176, 171, 175], [176, 171, 175], [176, 171, 175], [176, 171, 175], [176, 171, 175], [176, 171, 175], [176, 171, 175], [176, 171, 175], [176, 171, 175], [176, 171, 175], [176, 171, 175], [176, 171, 175], [176, 171, 175], [176, 171, 175], [176, 171, 175], [176, 171, 175], [176, 171, 175], [176, 171, 175], [176, 171, 175], [176, 171, 175], [176, 171, 175], [176, 171, 175], [176, 171, 175], [176, 171, 175], [176, 171, 175], [176, 171, 175], [176, 171, 175], [176, 171, 175], [176, 171, 175], [176, 171, 175], [176, 171, 175], [176, 171, 175], [176, 171, 175], [176, 171, 175], [176, 171, 175], [176, 171, 175], [176, 171, 175], [176, 171, 175], [176, 171, 175], [176, 171, 175], [176, 171, 175], [176, 171, 175], [176, 171, 175], [176, 171, 175], [176, 171, 175], [176, 171, 175], [176, 171, 175], [162, 157, 161], [106, 96, 103], [135, 129, 134], [176, 171, 175], [176, 171, 175], [176, 171, 175], [176, 171, 175], [176, 171, 175], [176, 171, 175], [176, 171, 175], [176, 171, 175], [176, 171, 175], [176, 171, 175], [176, 171, 175], [176, 171, 175], [176, 171, 175], [176, 171, 175], [176, 171, 175], [176, 171, 175], [176, 171, 175], [176, 171, 175], [176, 171, 175], [176, 171, 175], [176, 171, 175], [176, 171, 175], [176, 171, 175], [176, 171, 175], [176, 171, 175], [176, 171, 175], [176, 171, 175], [176, 171, 175], [176, 171, 175], [176, 171, 175], [176, 171, 175], [176, 171, 175], [176, 171, 175], [176, 171, 175], [176, 171, 175], [176, 171, 175], [176, 171, 175], [176, 171, 175], [176, 171, 175], [176, 171, 175], [176, 171, 175], [176, 171, 175], [176, 171, 175], [176, 171, 175], [176, 171, 175], [176, 171, 175], [176, 171, 175], [176, 171, 175], [176, 171, 175], [176, 171, 175], [176, 171, 175], [176, 171, 175], [176, 171, 175], [176, 171, 175], [176, 171, 175], [176, 171, 175], [163, 159, 161], [141, 139, 138], [162, 158, 159], [176, 171, 175], [176, 171, 175], [176, 171, 175], [176, 171, 175], [176, 171, 175], [176, 171, 175], [176, 171, 175], [176, 171, 175], [176, 171, 175], [176, 171, 175], [47, 73, 103], [47, 73, 103], [47, 73, 103], [47, 73, 103], [176, 171, 175], [176, 171, 175], [176, 171, 175], [176, 171, 175], [176, 171, 175], [175, 170, 174], [144, 142, 144], [126, 127, 125], [170, 165, 169], [176, 171, 175], [176, 171, 175], [176, 171, 175], [176, 171, 175], [176, 171, 175], [176, 171, 175]], [[176, 171, 175], [176, 171, 175], [176, 171, 175], [176, 171, 175], [176, 171, 175], [176, 171, 175], [176, 171, 175], [176, 171, 175], [176, 171, 175], [176, 171, 175], [176, 171, 175], [176, 171, 175], [176, 171, 175], [176, 171, 175], [176, 171, 175], [176, 171, 175], [141, 145, 139], [138, 143, 136], [176, 171, 175], [176, 171, 175], [176, 171, 175], [176, 171, 175], [176, 171, 175], [176, 171, 175], [176, 171, 175], [176, 171, 175], [176, 171, 175], [176, 171, 175], [176, 171, 175], [176, 171, 175], [176, 171, 175], [176, 171, 175], [176, 171, 175], [176, 171, 175], [176, 171, 175], [176, 171, 175], [176, 171, 175], [176, 171, 175], [176, 171, 175], [176, 171, 175], [176, 171, 175], [176, 171, 175], [176, 171, 175], [176, 171, 175], [176, 171, 175], [176, 171, 175], [176, 171, 175], [176, 171, 175], [157, 150, 156], [92, 79, 88], [118, 109, 115], [168, 163, 167], [176, 171, 175], [176, 171, 175], [176, 171, 175], [176, 171, 175], [176, 171, 175], [176, 171, 175], [176, 171, 175], [176, 171, 175], [176, 171, 175], [176, 171, 175], [176, 171, 175], [176, 171, 175], [176, 171, 175], [176, 171, 175], [176, 171, 175], [176, 171, 175], [176, 171, 175], [176, 171, 175], [176, 171, 175], [87, 76, 104], [176, 171, 175], [176, 171, 175], [176, 171, 175], [176, 171, 175], [176, 171, 175], [176, 171, 175], [176, 171, 175], [176, 171, 175], [176, 171, 175], [176, 171, 175], [176, 171, 175], [176, 171, 175], [176, 171, 175], [176, 171, 175], [176, 171, 175], [176, 171, 175], [176, 171, 175], [87, 76, 104], [176, 171, 175], [176, 171, 175], [176, 171, 175], [176, 171, 175], [176, 171, 175], [176, 171, 175], [176, 171, 175], [176, 171, 175], [176, 171, 175], [176, 171, 175], [176, 171, 175], [176, 171, 175], [176, 171, 175], [176, 171, 175], [176, 171, 175], [176, 171, 175], [176, 171, 175], [176, 171, 175], [176, 171, 175], [150, 146, 145], [115, 113, 106], [134, 132, 128], [166, 162, 164], [176, 171, 175], [176, 171, 175], [176, 171, 175], [47, 73, 103], [47, 73, 103], [47, 73, 103], [47, 73, 103], [47, 73, 103], [176, 171, 175], [176, 171, 175], [176, 171, 175], [176, 171, 175], [176, 171, 175], [176, 171, 175], [176, 171, 175], [176, 171, 175], [176, 171, 175], [176, 171, 175], [176, 171, 175], [137, 138, 137], [110, 115, 110], [156, 154, 155], [176, 171, 175], [176, 171, 175], [176, 171, 175], [176, 171, 175], [176, 171, 175]], [[176, 171, 175], [176, 171, 175], [176, 171, 175], [176, 171, 175], [176, 171, 175], [176, 171, 175], [176, 171, 175], [176, 171, 175], [176, 171, 175], [176, 171, 175], [176, 171, 175], [176, 171, 175], [176, 171, 175], [176, 171, 175], [176, 171, 175], [87, 76, 104], [99, 113, 97], [149, 151, 147], [176, 171, 175], [176, 171, 175], [176, 171, 175], [176, 171, 175], [176, 171, 175], [176, 171, 175], [176, 171, 175], [176, 171, 175], [176, 171, 175], [176, 171, 175], [176, 171, 175], [176, 171, 175], [176, 171, 175], [176, 171, 175], [176, 171, 175], [176, 171, 175], [176, 171, 175], [176, 171, 175], [176, 171, 175], [176, 171, 175], [176, 171, 175], [176, 171, 175], [176, 171, 175], [176, 171, 175], [176, 171, 175], [176, 171, 175], [176, 171, 175], [176, 171, 175], [176, 171, 175], [152, 146, 150], [100, 90, 98], [129, 121, 127], [104, 95, 102], [162, 156, 160], [176, 171, 175], [176, 171, 175], [176, 171, 175], [176, 171, 175], [176, 171, 175], [176, 171, 175], [176, 171, 175], [176, 171, 175], [176, 171, 175], [176, 171, 175], [176, 171, 175], [176, 171, 175], [176, 171, 175], [176, 171, 175], [176, 171, 175], [176, 171, 175], [176, 171, 175], [176, 171, 175], [176, 171, 175], [176, 171, 175], [176, 171, 175], [176, 171, 175], [176, 171, 175], [176, 171, 175], [176, 171, 175], [176, 171, 175], [176, 171, 175], [176, 171, 175], [176, 171, 175], [176, 171, 175], [176, 171, 175], [176, 171, 175], [176, 171, 175], [176, 171, 175], [176, 171, 175], [176, 171, 175], [176, 171, 175], [176, 171, 175], [176, 171, 175], [176, 171, 175], [176, 171, 175], [176, 171, 175], [176, 171, 175], [176, 171, 175], [176, 171, 175], [176, 171, 175], [176, 171, 175], [176, 171, 175], [176, 171, 175], [176, 171, 175], [176, 171, 175], [176, 171, 175], [176, 171, 175], [176, 171, 175], [176, 171, 175], [176, 171, 175], [176, 171, 175], [176, 171, 175], [174, 169, 173], [143, 139, 137], [47, 73, 103], [47, 73, 103], [47, 73, 103], [47, 73, 103], [176, 171, 175], [176, 171, 175], [69, 56, 108], [176, 171, 175], [176, 171, 175], [176, 171, 175], [176, 171, 175], [176, 171, 175], [176, 171, 175], [176, 171, 175], [176, 171, 175], [176, 171, 175], [176, 171, 175], [176, 171, 175], [176, 171, 175], [176, 171, 175], [176, 171, 175], [151, 150, 150], [94, 104, 93], [139, 142, 139], [176, 171, 175], [176, 171, 175], [176, 171, 175], [176, 171, 175]], [[176, 171, 175], [176, 171, 175], [176, 171, 175], [176, 171, 175], [176, 171, 175], [176, 171, 175], [176, 171, 175], [176, 171, 175], [176, 171, 175], [176, 171, 175], [176, 171, 175], [176, 171, 175], [176, 171, 175], [176, 171, 175], [176, 171, 175], [141, 144, 139], [108, 119, 105], [176, 171, 175], [176, 171, 175], [176, 171, 175], [176, 171, 175], [176, 171, 175], [176, 171, 175], [176, 171, 175], [176, 171, 175], [176, 171, 175], [176, 171, 175], [176, 171, 175], [176, 171, 175], [176, 171, 175], [176, 171, 175], [176, 171, 175], [176, 171, 175], [176, 171, 175], [176, 171, 175], [176, 171, 175], [176, 171, 175], [176, 171, 175], [176, 171, 175], [176, 171, 175], [176, 171, 175], [176, 171, 175], [176, 171, 175], [176, 171, 175], [176, 171, 175], [176, 171, 175], [146, 140, 145], [101, 92, 99], [154, 147, 152], [176, 171, 175], [139, 131, 137], [104, 94, 100], [169, 163, 167], [176, 171, 175], [176, 171, 175], [176, 171, 175], [176, 171, 175], [176, 171, 175], [176, 171, 175], [176, 171, 175], [176, 171, 175], [176, 171, 175], [176, 171, 175], [176, 171, 175], [176, 171, 175], [176, 171, 175], [176, 171, 175], [176, 171, 175], [176, 171, 175], [176, 171, 175], [176, 171, 175], [176, 171, 175], [176, 171, 175], [176, 171, 175], [176, 171, 175], [176, 171, 175], [176, 171, 175], [176, 171, 175], [176, 171, 175], [176, 171, 175], [176, 171, 175], [176, 171, 175], [176, 171, 175], [176, 171, 175], [176, 171, 175], [176, 171, 175], [176, 171, 175], [176, 171, 175], [176, 171, 175], [176, 171, 175], [176, 171, 175], [176, 171, 175], [176, 171, 175], [176, 171, 175], [176, 171, 175], [176, 171, 175], [176, 171, 175], [176, 171, 175], [176, 171, 175], [176, 171, 175], [176, 171, 175], [176, 171, 175], [176, 171, 175], [176, 171, 175], [176, 171, 175], [176, 171, 175], [176, 171, 175], [47, 73, 103], [47, 73, 103], [47, 73, 103], [47, 73, 103], [47, 73, 103], [155, 151, 151], [110, 111, 98], [130, 127, 126], [174, 169, 173], [176, 171, 175], [176, 171, 175], [69, 56, 108], [176, 171, 175], [176, 171, 175], [176, 171, 175], [176, 171, 175], [176, 171, 175], [176, 171, 175], [176, 171, 175], [176, 171, 175], [176, 171, 175], [176, 171, 175], [176, 171, 175], [176, 171, 175], [176, 171, 175], [176, 171, 175], [134, 134, 133], [117, 121, 117], [108, 114, 108], [131, 132, 130], [176, 171, 175], [176, 171, 175], [176, 171, 175]], [[176, 171, 175], [176, 171, 175], [176, 171, 175], [176, 171, 175], [176, 171, 175], [176, 171, 175], [176, 171, 175], [176, 171, 175], [176, 171, 175], [176, 171, 175], [176, 171, 175], [176, 171, 175], [176, 171, 175], [176, 171, 175], [176, 171, 175], [100, 114, 98], [147, 149, 146], [176, 171, 175], [176, 171, 175], [176, 171, 175], [176, 171, 175], [176, 171, 175], [176, 171, 175], [176, 171, 175], [176, 171, 175], [176, 171, 175], [176, 171, 175], [176, 171, 175], [176, 171, 175], [176, 171, 175], [176, 171, 175], [176, 171, 175], [176, 171, 175], [176, 171, 175], [176, 171, 175], [176, 171, 175], [176, 171, 175], [176, 171, 175], [176, 171, 175], [176, 171, 175], [176, 171, 175], [176, 171, 175], [176, 171, 175], [176, 171, 175], [176, 171, 175], [150, 144, 148], [111, 102, 108], [159, 153, 158], [176, 171, 175], [176, 171, 175], [176, 171, 175], [132, 125, 130], [117, 108, 115], [175, 170, 174], [176, 171, 175], [176, 171, 175], [176, 171, 175], [176, 171, 175], [176, 171, 175], [176, 171, 175], [176, 171, 175], [176, 171, 175], [176, 171, 175], [176, 171, 175], [176, 171, 175], [176, 171, 175], [176, 171, 175], [176, 171, 175], [176, 171, 175], [176, 171, 175], [176, 171, 175], [176, 171, 175], [176, 171, 175], [176, 171, 175], [176, 171, 175], [176, 171, 175], [176, 171, 175], [176, 171, 175], [176, 171, 175], [176, 171, 175], [176, 171, 175], [176, 171, 175], [176, 171, 175], [176, 171, 175], [176, 171, 175], [176, 171, 175], [176, 171, 175], [176, 171, 175], [176, 171, 175], [176, 171, 175], [176, 171, 175], [176, 171, 175], [176, 171, 175], [176, 171, 175], [87, 76, 104], [176, 171, 175], [176, 171, 175], [176, 171, 175], [176, 171, 175], [176, 171, 175], [176, 171, 175], [176, 171, 175], [176, 171, 175], [47, 73, 103], [47, 73, 103], [47, 73, 103], [47, 73, 103], [176, 171, 175], [176, 171, 175], [176, 171, 175], [50, 102, 93], [50, 102, 93], [50, 102, 93], [50, 102, 93], [50, 102, 93], [50, 102, 93], [50, 102, 93], [50, 102, 93], [50, 102, 93], [50, 102, 93], [50, 102, 93], [176, 171, 175], [176, 171, 175], [176, 171, 175], [176, 171, 175], [176, 171, 175], [176, 171, 175], [176, 171, 175], [176, 171, 175], [176, 171, 175], [176, 171, 175], [174, 169, 173], [144, 145, 144], [109, 115, 110], [165, 162, 164], [171, 166, 170], [131, 132, 130], [118, 121, 118], [164, 161, 164], [176, 171, 175]], [[176, 171, 175], [176, 171, 175], [176, 171, 175], [176, 171, 175], [176, 171, 175], [176, 171, 175], [176, 171, 175], [176, 171, 175], [176, 171, 175], [176, 171, 175], [176, 171, 175], [176, 171, 175], [176, 171, 175], [176, 171, 175], [144, 147, 142], [103, 117, 101], [176, 171, 175], [176, 171, 175], [176, 171, 175], [176, 171, 175], [176, 171, 175], [176, 171, 175], [176, 171, 175], [176, 171, 175], [176, 171, 175], [174, 169, 173], [170, 166, 170], [176, 171, 175], [176, 171, 175], [176, 171, 175], [176, 171, 175], [176, 171, 175], [176, 171, 175], [176, 171, 175], [176, 171, 175], [176, 171, 175], [176, 171, 175], [176, 171, 175], [176, 171, 175], [176, 171, 175], [176, 171, 175], [176, 171, 175], [176, 171, 175], [176, 171, 175], [176, 171, 175], [159, 153, 158], [167, 162, 166], [176, 171, 175], [176, 171, 175], [176, 171, 175], [176, 171, 175], [163, 158, 162], [124, 118, 123], [143, 137, 143], [176, 171, 175], [176, 171, 175], [176, 171, 175], [176, 171, 175], [176, 171, 175], [176, 171, 175], [176, 171, 175], [176, 171, 175], [176, 171, 175], [176, 171, 175], [176, 171, 175], [176, 171, 175], [176, 171, 175], [176, 171, 175], [176, 171, 175], [176, 171, 175], [176, 171, 175], [176, 171, 175], [176, 171, 175], [176, 171, 175], [176, 171, 175], [176, 171, 175], [176, 171, 175], [176, 171, 175], [176, 171, 175], [176, 171, 175], [176, 171, 175], [176, 171, 175], [176, 171, 175], [176, 171, 175], [176, 171, 175], [176, 171, 175], [176, 171, 175], [176, 171, 175], [176, 171, 175], [176, 171, 175], [50, 102, 93], [50, 102, 93], [50, 102, 93], [50, 102, 93], [50, 102, 93], [50, 102, 93], [50, 102, 93], [50, 102, 93], [50, 102, 93], [50, 102, 93], [50, 102, 93], [50, 102, 93], [50, 102, 93], [50, 102, 93], [50, 102, 93], [50, 102, 93], [50, 102, 93], [50, 102, 93], [50, 102, 93], [50, 102, 93], [173, 168, 172], [152, 148, 146], [119, 118, 107], [175, 170, 174], [176, 171, 175], [176, 171, 175], [176, 171, 175], [176, 171, 175], [176, 171, 175], [176, 171, 175], [69, 56, 108], [176, 171, 175], [176, 171, 175], [176, 171, 175], [176, 171, 175], [176, 171, 175], [176, 171, 175], [176, 171, 175], [87, 76, 104], [51, 75, 107], [162, 158, 161], [147, 145, 146], [99, 105, 99], [159, 156, 158], [176, 171, 175], [176, 171, 175], [176, 171, 175], [142, 143, 142], [126, 126, 126], [168, 165, 167]], [[176, 171, 175], [176, 171, 175], [176, 171, 175], [176, 171, 175], [176, 171, 175], [176, 171, 175], [176, 171, 175], [176, 171, 175], [176, 171, 175], [176, 171, 175], [176, 171, 175], [176, 171, 175], [176, 171, 175], [176, 171, 175], [109, 120, 107], [142, 145, 141], [175, 170, 174], [176, 171, 175], [176, 171, 175], [176, 171, 175], [176, 171, 175], [176, 171, 175], [176, 171, 175], [176, 171, 175], [176, 171, 175], [152, 148, 150], [122, 126, 120], [146, 147, 145], [176, 171, 175], [176, 171, 175], [176, 171, 175], [176, 171, 175], [176, 171, 175], [176, 171, 175], [176, 171, 175], [176, 171, 175], [176, 171, 175], [176, 171, 175], [176, 171, 175], [176, 171, 175], [176, 171, 175], [176, 171, 175], [176, 171, 175], [176, 171, 175], [176, 171, 175], [176, 171, 175], [176, 171, 175], [176, 171, 175], [176, 171, 175], [176, 171, 175], [176, 171, 175], [170, 165, 169], [128, 122, 127], [133, 128, 132], [170, 165, 169], [176, 171, 175], [176, 171, 175], [176, 171, 175], [176, 171, 175], [176, 171, 175], [176, 171, 175], [176, 171, 175], [176, 171, 175], [176, 171, 175], [176, 171, 175], [176, 171, 175], [176, 171, 175], [176, 171, 175], [176, 171, 175], [176, 171, 175], [50, 102, 93], [50, 102, 93], [50, 102, 93], [50, 102, 93], [50, 102, 93], [50, 102, 93], [50, 102, 93], [50, 102, 93], [50, 102, 93], [50, 102, 93], [50, 102, 93], [50, 102, 93], [50, 102, 93], [50, 102, 93], [50, 102, 93], [50, 102, 93], [50, 102, 93], [50, 102, 93], [50, 102, 93], [50, 102, 93], [176, 171, 175], [176, 171, 175], [176, 171, 175], [176, 171, 175], [47, 73, 103], [47, 73, 103], [47, 73, 103], [47, 73, 103], [47, 73, 103], [176, 171, 175], [176, 171, 175], [176, 171, 175], [176, 171, 175], [176, 171, 175], [176, 171, 175], [176, 171, 175], [176, 171, 175], [176, 171, 175], [176, 171, 175], [175, 170, 174], [155, 150, 153], [119, 118, 110], [152, 149, 148], [176, 171, 175], [176, 171, 175], [176, 171, 175], [176, 171, 175], [176, 171, 175], [176, 171, 175], [176, 171, 175], [69, 56, 108], [176, 171, 175], [176, 171, 175], [176, 171, 175], [176, 171, 175], [176, 171, 175], [176, 171, 175], [176, 171, 175], [176, 171, 175], [51, 75, 107], [125, 125, 124], [122, 121, 122], [150, 148, 149], [176, 171, 175], [176, 171, 175], [176, 171, 175], [176, 171, 175], [176, 171, 175], [169, 164, 168], [176, 171, 175]], [[176, 171, 175], [176, 171, 175], [176, 171, 175], [176, 171, 175], [176, 171, 175], [176, 171, 175], [176, 171, 175], [176, 171, 175], [176, 171, 175], [176, 171, 175], [176, 171, 175], [176, 171, 175], [176, 171, 175], [159, 157, 158], [116, 121, 114], [151, 148, 150], [176, 171, 175], [176, 171, 175], [176, 171, 175], [176, 171, 175], [176, 171, 175], [176, 171, 175], [176, 171, 175], [174, 169, 173], [158, 158, 157], [109, 117, 108], [120, 123, 118], [168, 165, 167], [176, 171, 175], [176, 171, 175], [176, 171, 175], [176, 171, 175], [176, 171, 175], [176, 171, 175], [176, 171, 175], [176, 171, 175], [176, 171, 175], [176, 171, 175], [176, 171, 175], [176, 171, 175], [176, 171, 175], [176, 171, 175], [176, 171, 175], [176, 171, 175], [176, 171, 175], [176, 171, 175], [176, 171, 175], [176, 171, 175], [176, 171, 175], [176, 171, 175], [50, 102, 93], [50, 102, 93], [50, 102, 93], [50, 102, 93], [50, 102, 93], [50, 102, 93], [50, 102, 93], [50, 102, 93], [50, 102, 93], [50, 102, 93], [50, 102, 93], [50, 102, 93], [50, 102, 93], [50, 102, 93], [50, 102, 93], [50, 102, 93], [50, 102, 93], [50, 102, 93], [50, 102, 93], [50, 102, 93], [176, 171, 175], [176, 171, 175], [176, 171, 175], [176, 171, 175], [176, 171, 175], [176, 171, 175], [176, 171, 175], [176, 171, 175], [176, 171, 175], [176, 171, 175], [176, 171, 175], [176, 171, 175], [176, 171, 175], [176, 171, 175], [176, 171, 175], [176, 171, 175], [176, 171, 175], [176, 171, 175], [176, 171, 175], [176, 171, 175], [47, 73, 103], [47, 73, 103], [47, 73, 103], [47, 73, 103], [176, 171, 175], [176, 171, 175], [176, 171, 175], [176, 171, 175], [176, 171, 175], [176, 171, 175], [176, 171, 175], [176, 171, 175], [176, 171, 175], [176, 171, 175], [176, 171, 175], [176, 171, 175], [176, 171, 175], [176, 171, 175], [176, 171, 175], [150, 146, 146], [129, 127, 126], [134, 131, 128], [176, 171, 175], [176, 171, 175], [176, 171, 175], [176, 171, 175], [176, 171, 175], [176, 171, 175], [176, 171, 175], [176, 171, 175], [176, 171, 175], [69, 56, 108], [176, 171, 175], [176, 171, 175], [176, 171, 175], [176, 171, 175], [176, 171, 175], [176, 171, 175], [51, 75, 107], [109, 113, 109], [137, 135, 136], [154, 151, 153], [176, 171, 175], [176, 171, 175], [176, 171, 175], [176, 171, 175], [176, 171, 175], [176, 171, 175], [176, 171, 175], [176, 171, 175]], [[176, 171, 175], [176, 171, 175], [176, 171, 175], [176, 171, 175], [176, 171, 175], [176, 171, 175], [176, 171, 175], [176, 171, 175], [176, 171, 175], [176, 171, 175], [176, 171, 175], [176, 171, 175], [176, 171, 175], [156, 153, 154], [119, 123, 118], [152, 150, 151], [176, 171, 175], [176, 171, 175], [176, 171, 175], [176, 171, 175], [176, 171, 175], [176, 171, 175], [176, 171, 175], [149, 148, 147], [114, 122, 113], [130, 135, 129], [168, 163, 167], [176, 171, 175], [176, 171, 175], [176, 171, 175], [50, 102, 93], [50, 102, 93], [50, 102, 93], [50, 102, 93], [50, 102, 93], [50, 102, 93], [50, 102, 93], [50, 102, 93], [50, 102, 93], [50, 102, 93], [50, 102, 93], [50, 102, 93], [50, 102, 93], [50, 102, 93], [50, 102, 93], [50, 102, 93], [50, 102, 93], [50, 102, 93], [50, 102, 93], [50, 102, 93], [176, 171, 175], [176, 171, 175], [157, 152, 156], [123, 116, 121], [81, 70, 77], [159, 152, 157], [176, 171, 175], [176, 171, 175], [176, 171, 175], [176, 171, 175], [176, 171, 175], [176, 171, 175], [176, 171, 175], [176, 171, 175], [176, 171, 175], [176, 171, 175], [176, 171, 175], [176, 171, 175], [176, 171, 175], [176, 171, 175], [176, 171, 175], [176, 171, 175], [176, 171, 175], [176, 171, 175], [176, 171, 175], [176, 171, 175], [176, 171, 175], [176, 171, 175], [176, 171, 175], [176, 171, 175], [176, 171, 175], [176, 171, 175], [176, 171, 175], [176, 171, 175], [176, 171, 175], [47, 73, 103], [47, 73, 103], [47, 73, 103], [47, 73, 103], [47, 73, 103], [176, 171, 175], [176, 171, 175], [176, 171, 175], [176, 171, 175], [176, 171, 175], [176, 171, 175], [176, 171, 175], [176, 171, 175], [176, 171, 175], [176, 171, 175], [176, 171, 175], [176, 171, 175], [176, 171, 175], [176, 171, 175], [176, 171, 175], [176, 171, 175], [176, 171, 175], [176, 171, 175], [171, 166, 169], [112, 112, 103], [141, 138, 138], [165, 160, 163], [176, 171, 175], [176, 171, 175], [176, 171, 175], [176, 171, 175], [176, 171, 175], [176, 171, 175], [176, 171, 175], [176, 171, 175], [176, 171, 175], [176, 171, 175], [69, 56, 108], [176, 171, 175], [176, 171, 175], [176, 171, 175], [175, 170, 174], [174, 169, 173], [51, 75, 107], [134, 135, 133], [171, 166, 170], [176, 171, 175], [176, 171, 175], [176, 171, 175], [176, 171, 175], [176, 171, 175], [176, 171, 175], [176, 171, 175], [176, 171, 175], [176, 171, 175]], [[176, 171, 175], [176, 171, 175], [176, 171, 175], [108, 109, 83], [108, 109, 83], [176, 171, 175], [176, 171, 175], [176, 171, 175], [176, 171, 175], [176, 171, 175], [176, 171, 175], [176, 171, 175], [176, 171, 175], [153, 152, 152], [96, 110, 93], [175, 170, 174], [176, 171, 175], [176, 171, 175], [176, 171, 175], [50, 102, 93], [50, 102, 93], [50, 102, 93], [50, 102, 93], [50, 102, 93], [50, 102, 93], [50, 102, 93], [50, 102, 93], [50, 102, 93], [50, 102, 93], [50, 102, 93], [176, 171, 175], [176, 171, 175], [176, 171, 175], [176, 171, 175], [176, 171, 175], [176, 171, 175], [176, 171, 175], [176, 171, 175], [176, 171, 175], [176, 171, 175], [176, 171, 175], [176, 171, 175], [176, 171, 175], [176, 171, 175], [176, 171, 175], [176, 171, 175], [176, 171, 175], [176, 171, 175], [176, 171, 175], [176, 171, 175], [176, 171, 175], [176, 171, 175], [176, 171, 175], [170, 165, 169], [114, 108, 111], [101, 93, 99], [164, 159, 163], [176, 171, 175], [176, 171, 175], [176, 171, 175], [176, 171, 175], [176, 171, 175], [176, 171, 175], [176, 171, 175], [176, 171, 175], [176, 171, 175], [176, 171, 175], [176, 171, 175], [176, 171, 175], [176, 171, 175], [176, 171, 175], [176, 171, 175], [176, 171, 175], [176, 171, 175], [176, 171, 175], [176, 171, 175], [176, 171, 175], [176, 171, 175], [176, 171, 175], [176, 171, 175], [176, 171, 175], [47, 73, 103], [47, 73, 103], [47, 73, 103], [47, 73, 103], [176, 171, 175], [176, 171, 175], [176, 171, 175], [176, 171, 175], [176, 171, 175], [176, 171, 175], [176, 171, 175], [176, 171, 175], [176, 171, 175], [176, 171, 175], [176, 171, 175], [176, 171, 175], [176, 171, 175], [176, 171, 175], [176, 171, 175], [176, 171, 175], [176, 171, 175], [176, 171, 175], [168, 163, 167], [176, 171, 175], [176, 171, 175], [176, 171, 175], [176, 171, 175], [136, 135, 127], [133, 132, 125], [170, 165, 169], [176, 171, 175], [176, 171, 175], [176, 171, 175], [176, 171, 175], [176, 171, 175], [176, 171, 175], [176, 171, 175], [176, 171, 175], [176, 171, 175], [176, 171, 175], [176, 171, 175], [69, 56, 108], [176, 171, 175], [176, 171, 175], [176, 171, 175], [150, 148, 151], [51, 75, 107], [123, 125, 122], [165, 160, 164], [154, 149, 153], [155, 149, 153], [176, 171, 175], [176, 171, 175], [176, 171, 175], [176, 171, 175], [176, 171, 175], [176, 171, 175], [176, 171, 175], [176, 171, 175]], [[176, 171, 175], [176, 171, 175], [176, 171, 175], [176, 171, 175], [176, 171, 175], [108, 109, 83], [108, 109, 83], [176, 171, 175], [176, 171, 175], [176, 171, 175], [176, 171, 175], [176, 171, 175], [176, 171, 175], [115, 125, 114], [130, 137, 129], [176, 171, 175], [176, 171, 175], [176, 171, 175], [176, 171, 175], [176, 171, 175], [163, 159, 162], [105, 117, 103], [122, 128, 121], [141, 142, 140], [152, 146, 149], [143, 136, 138], [132, 125, 127], [120, 112, 112], [115, 106, 105], [144, 138, 141], [170, 165, 169], [176, 171, 175], [176, 171, 175], [176, 171, 175], [176, 171, 175], [176, 171, 175], [176, 171, 175], [176, 171, 175], [176, 171, 175], [176, 171, 175], [176, 171, 175], [176, 171, 175], [176, 171, 175], [176, 171, 175], [176, 171, 175], [176, 171, 175], [176, 171, 175], [176, 171, 175], [176, 171, 175], [176, 171, 175], [174, 169, 173], [166, 161, 165], [173, 168, 172], [161, 157, 161], [138, 134, 137], [109, 103, 108], [118, 114, 116], [172, 167, 171], [176, 171, 175], [176, 171, 175], [176, 171, 175], [176, 171, 175], [176, 171, 175], [176, 171, 175], [176, 171, 175], [176, 171, 175], [176, 171, 175], [176, 171, 175], [176, 171, 175], [175, 170, 174], [158, 156, 158], [175, 170, 174], [176, 171, 175], [176, 171, 175], [176, 171, 175], [176, 171, 175], [47, 73, 103], [47, 73, 103], [47, 73, 103], [47, 73, 103], [47, 73, 103], [176, 171, 175], [176, 171, 175], [176, 171, 175], [176, 171, 175], [176, 171, 175], [176, 171, 175], [176, 171, 175], [176, 171, 175], [176, 171, 175], [176, 171, 175], [176, 171, 175], [176, 171, 175], [176, 171, 175], [176, 171, 175], [176, 171, 175], [176, 171, 175], [176, 171, 175], [176, 171, 175], [176, 171, 175], [176, 171, 175], [43, 75, 82], [157, 151, 155], [153, 149, 152], [149, 145, 149], [176, 171, 175], [170, 166, 170], [157, 152, 154], [105, 105, 91], [169, 164, 167], [176, 171, 175], [176, 171, 175], [176, 171, 175], [176, 171, 175], [176, 171, 175], [176, 171, 175], [176, 171, 175], [176, 171, 175], [176, 171, 175], [176, 171, 175], [176, 171, 175], [176, 171, 175], [176, 171, 175], [69, 56, 108], [176, 171, 175], [139, 138, 138], [119, 119, 118], [51, 75, 107], [140, 136, 139], [152, 147, 151], [162, 158, 161], [173, 168, 172], [176, 171, 175], [176, 171, 175], [176, 171, 175], [176, 171, 175], [176, 171, 175], [176, 171, 175], [176, 171, 175], [176, 171, 175]], [[176, 171, 175], [176, 171, 175], [176, 171, 175], [176, 171, 175], [176, 171, 175], [176, 171, 175], [176, 171, 175], [108, 109, 83], [108, 109, 83], [176, 171, 175], [176, 171, 175], [176, 171, 175], [163, 160, 162], [92, 106, 89], [171, 167, 170], [176, 171, 175], [176, 171, 175], [176, 171, 175], [173, 168, 172], [139, 143, 138], [115, 117, 111], [88, 84, 78], [168, 163, 167], [154, 147, 151], [127, 119, 122], [136, 128, 130], [145, 139, 142], [154, 148, 151], [155, 149, 152], [103, 95, 94], [129, 123, 125], [176, 171, 175], [176, 171, 175], [176, 171, 175], [176, 171, 175], [176, 171, 175], [176, 171, 175], [176, 171, 175], [176, 171, 175], [176, 171, 175], [176, 171, 175], [176, 171, 175], [176, 171, 175], [176, 171, 175], [176, 171, 175], [176, 171, 175], [176, 171, 175], [176, 171, 175], [176, 171, 175], [173, 168, 172], [154, 150, 153], [159, 154, 158], [167, 162, 166], [152, 148, 151], [163, 158, 162], [127, 120, 125], [113, 107, 111], [144, 140, 144], [168, 163, 167], [176, 171, 175], [176, 171, 175], [176, 171, 175], [176, 171, 175], [176, 171, 175], [176, 171, 175], [176, 171, 175], [167, 164, 166], [143, 143, 144], [117, 121, 120], [88, 97, 93], [113, 115, 116], [119, 123, 121], [47, 73, 103], [47, 73, 103], [47, 73, 103], [47, 73, 103], [176, 171, 175], [176, 171, 175], [176, 171, 175], [176, 171, 175], [176, 171, 175], [176, 171, 175], [176, 171, 175], [176, 171, 175], [176, 171, 175], [176, 171, 175], [176, 171, 175], [176, 171, 175], [176, 171, 175], [176, 171, 175], [176, 171, 175], [176, 171, 175], [176, 171, 175], [173, 168, 172], [176, 171, 175], [176, 171, 175], [176, 171, 175], [176, 171, 175], [176, 171, 175], [176, 171, 175], [147, 143, 147], [160, 154, 158], [43, 75, 82], [176, 171, 175], [156, 152, 155], [150, 145, 149], [145, 141, 143], [128, 126, 123], [143, 140, 137], [176, 171, 175], [176, 171, 175], [176, 171, 175], [176, 171, 175], [176, 171, 175], [176, 171, 175], [176, 171, 175], [176, 171, 175], [176, 171, 175], [176, 171, 175], [176, 171, 175], [176, 171, 175], [176, 171, 175], [176, 171, 175], [175, 170, 174], [69, 56, 108], [95, 100, 95], [132, 128, 131], [51, 75, 107], [173, 168, 172], [176, 171, 175], [176, 171, 175], [176, 171, 175], [176, 171, 175], [176, 171, 175], [176, 171, 175], [176, 171, 175], [176, 171, 175], [176, 171, 175], [176, 171, 175], [176, 171, 175]], [[176, 171, 175], [176, 171, 175], [176, 171, 175], [176, 171, 175], [176, 171, 175], [176, 171, 175], [176, 171, 175], [176, 171, 175], [176, 171, 175], [108, 109, 83], [108, 109, 83], [176, 171, 175], [139, 140, 138], [124, 127, 123], [164, 159, 163], [176, 171, 175], [175, 170, 174], [167, 164, 166], [121, 123, 119], [103, 114, 102], [145, 146, 144], [97, 87, 87], [151, 146, 149], [116, 107, 108], [160, 156, 159], [176, 171, 175], [176, 171, 175], [176, 171, 175], [176, 171, 175], [173, 168, 172], [101, 90, 89], [161, 156, 159], [175, 170, 174], [176, 171, 175], [87, 76, 104], [176, 171, 175], [176, 171, 175], [176, 171, 175], [176, 171, 175], [176, 171, 175], [176, 171, 175], [176, 171, 175], [176, 171, 175], [176, 171, 175], [176, 171, 175], [176, 171, 175], [176, 171, 175], [176, 171, 175], [176, 171, 175], [176, 171, 175], [170, 165, 169], [156, 152, 155], [145, 142, 144], [144, 140, 144], [157, 152, 156], [149, 143, 147], [89, 80, 86], [115, 108, 114], [154, 150, 152], [175, 170, 174], [176, 171, 175], [176, 171, 175], [176, 171, 175], [176, 171, 175], [169, 164, 168], [123, 125, 126], [94, 101, 98], [47, 73, 103], [47, 73, 103], [47, 73, 103], [47, 73, 103], [47, 73, 103], [117, 120, 119], [138, 139, 139], [176, 171, 175], [176, 171, 175], [176, 171, 175], [176, 171, 175], [176, 171, 175], [176, 171, 175], [176, 171, 175], [176, 171, 175], [176, 171, 175], [176, 171, 175], [176, 171, 175], [176, 171, 175], [176, 171, 175], [176, 171, 175], [176, 171, 175], [176, 171, 175], [176, 171, 175], [176, 171, 175], [109, 110, 99], [155, 151, 152], [175, 170, 174], [176, 171, 175], [176, 171, 175], [176, 171, 175], [176, 171, 175], [145, 141, 144], [163, 159, 163], [173, 168, 172], [176, 171, 175], [43, 75, 82], [167, 162, 166], [133, 131, 130], [121, 119, 115], [136, 133, 133], [173, 168, 172], [176, 171, 175], [176, 171, 175], [176, 171, 175], [176, 171, 175], [176, 171, 175], [176, 171, 175], [176, 171, 175], [176, 171, 175], [176, 171, 175], [176, 171, 175], [176, 171, 175], [176, 171, 175], [176, 171, 175], [170, 165, 169], [155, 153, 154], [69, 56, 108], [132, 131, 131], [51, 75, 107], [158, 154, 157], [87, 76, 104], [170, 165, 169], [163, 158, 162], [166, 161, 165], [173, 168, 172], [176, 171, 175], [176, 171, 175], [176, 171, 175], [176, 171, 175], [176, 171, 175], [176, 171, 175], [176, 171, 175]], [[176, 171, 175], [176, 171, 175], [176, 171, 175], [176, 171, 175], [176, 171, 175], [176, 171, 175], [176, 171, 175], [176, 171, 175], [176, 171, 175], [176, 171, 175], [176, 171, 175], [108, 109, 83], [108, 109, 83], [118, 121, 116], [168, 165, 167], [175, 170, 174], [140, 142, 139], [120, 128, 118], [119, 129, 118], [155, 152, 154], [152, 148, 151], [107, 97, 98], [109, 100, 101], [168, 162, 166], [176, 171, 175], [176, 171, 175], [176, 171, 175], [176, 171, 175], [176, 171, 175], [176, 171, 175], [130, 124, 126], [132, 126, 129], [166, 161, 165], [176, 171, 175], [176, 171, 175], [176, 171, 175], [176, 171, 175], [176, 171, 175], [176, 171, 175], [176, 171, 175], [176, 171, 175], [176, 171, 175], [176, 171, 175], [176, 171, 175], [176, 171, 175], [176, 171, 175], [176, 171, 175], [176, 171, 175], [176, 171, 175], [176, 171, 175], [170, 166, 170], [141, 138, 141], [143, 139, 142], [161, 156, 160], [164, 159, 163], [167, 162, 166], [156, 150, 154], [89, 79, 87], [125, 119, 123], [176, 171, 175], [176, 171, 175], [176, 171, 175], [176, 171, 175], [47, 73, 103], [47, 73, 103], [47, 73, 103], [47, 73, 103], [176, 171, 175], [176, 171, 175], [176, 171, 175], [176, 171, 175], [168, 164, 167], [144, 143, 144], [99, 107, 104], [176, 171, 175], [176, 171, 175], [176, 171, 175], [176, 171, 175], [176, 171, 175], [176, 171, 175], [176, 171, 175], [176, 171, 175], [176, 171, 175], [176, 171, 175], [176, 171, 175], [176, 171, 175], [176, 171, 175], [176, 171, 175], [176, 171, 175], [176, 171, 175], [176, 171, 175], [176, 171, 175], [127, 125, 121], [158, 153, 156], [176, 171, 175], [176, 171, 175], [176, 171, 175], [176, 171, 175], [145, 141, 144], [163, 159, 163], [176, 171, 175], [176, 171, 175], [176, 171, 175], [164, 159, 162], [43, 75, 82], [112, 111, 101], [142, 139, 137], [166, 161, 164], [176, 171, 175], [176, 171, 175], [176, 171, 175], [176, 171, 175], [176, 171, 175], [176, 171, 175], [176, 171, 175], [176, 171, 175], [176, 171, 175], [176, 171, 175], [176, 171, 175], [176, 171, 175], [176, 171, 175], [163, 159, 162], [139, 136, 138], [114, 117, 113], [141, 141, 141], [69, 56, 108], [51, 75, 107], [160, 156, 159], [162, 158, 162], [149, 144, 148], [158, 154, 157], [159, 154, 158], [147, 143, 146], [176, 171, 175], [176, 171, 175], [176, 171, 175], [176, 171, 175], [176, 171, 175], [176, 171, 175], [176, 171, 175]], [[176, 171, 175], [176, 171, 175], [176, 171, 175], [176, 171, 175], [176, 171, 175], [176, 171, 175], [176, 171, 175], [176, 171, 175], [176, 171, 175], [176, 171, 175], [176, 171, 175], [175, 170, 174], [128, 133, 126], [108, 109, 83], [108, 109, 83], [108, 109, 83], [94, 109, 92], [141, 140, 139], [168, 165, 167], [176, 171, 175], [139, 133, 135], [99, 87, 85], [149, 141, 143], [175, 170, 174], [176, 171, 175], [176, 171, 175], [176, 171, 175], [176, 171, 175], [176, 171, 175], [176, 171, 175], [152, 147, 150], [125, 118, 121], [154, 149, 151], [176, 171, 175], [176, 171, 175], [176, 171, 175], [176, 171, 175], [176, 171, 175], [176, 171, 175], [176, 171, 175], [176, 171, 175], [176, 171, 175], [176, 171, 175], [176, 171, 175], [176, 171, 175], [176, 171, 175], [176, 171, 175], [176, 171, 175], [176, 171, 175], [176, 171, 175], [171, 166, 170], [168, 163, 167], [167, 162, 166], [146, 142, 145], [164, 160, 163], [176, 171, 175], [175, 170, 174], [149, 143, 148], [47, 73, 103], [47, 73, 103], [47, 73, 103], [47, 73, 103], [47, 73, 103], [156, 152, 156], [116, 119, 118], [95, 103, 90], [176, 171, 175], [176, 171, 175], [176, 171, 175], [176, 171, 175], [176, 171, 175], [176, 171, 175], [176, 171, 175], [84, 95, 91], [165, 161, 164], [176, 171, 175], [176, 171, 175], [176, 171, 175], [176, 171, 175], [176, 171, 175], [176, 171, 175], [176, 171, 175], [176, 171, 175], [176, 171, 175], [176, 171, 175], [176, 171, 175], [176, 171, 175], [176, 171, 175], [176, 171, 175], [176, 171, 175], [176, 171, 175], [165, 160, 163], [119, 118, 110], [158, 155, 155], [176, 171, 175], [175, 170, 174], [176, 171, 175], [165, 160, 164], [152, 146, 150], [173, 168, 172], [176, 171, 175], [176, 171, 175], [162, 158, 161], [145, 141, 144], [142, 139, 136], [43, 75, 82], [175, 170, 174], [176, 171, 175], [176, 171, 175], [176, 171, 175], [176, 171, 175], [176, 171, 175], [176, 171, 175], [176, 171, 175], [163, 160, 162], [166, 162, 165], [176, 171, 175], [176, 171, 175], [176, 171, 175], [176, 171, 175], [170, 166, 169], [119, 122, 119], [129, 128, 128], [145, 144, 144], [176, 171, 175], [176, 171, 175], [51, 75, 107], [176, 171, 175], [175, 170, 174], [176, 171, 175], [176, 171, 175], [173, 168, 172], [176, 171, 175], [176, 171, 175], [176, 171, 175], [176, 171, 175], [176, 171, 175], [176, 171, 175], [176, 171, 175], [176, 171, 175]], [[176, 171, 175], [176, 171, 175], [176, 171, 175], [176, 171, 175], [176, 171, 175], [176, 171, 175], [176, 171, 175], [176, 171, 175], [176, 171, 175], [176, 171, 175], [176, 171, 175], [174, 169, 173], [87, 105, 85], [145, 145, 143], [112, 121, 110], [126, 128, 124], [108, 109, 83], [108, 109, 83], [176, 171, 175], [176, 171, 175], [133, 127, 128], [112, 104, 105], [153, 148, 151], [176, 171, 175], [176, 171, 175], [176, 171, 175], [176, 171, 175], [176, 171, 175], [176, 171, 175], [176, 171, 175], [162, 157, 161], [128, 123, 125], [144, 139, 141], [176, 171, 175], [176, 171, 175], [176, 171, 175], [176, 171, 175], [176, 171, 175], [176, 171, 175], [176, 171, 175], [176, 171, 175], [176, 171, 175], [176, 171, 175], [176, 171, 175], [176, 171, 175], [176, 171, 175], [176, 171, 175], [176, 171, 175], [176, 171, 175], [176, 171, 175], [176, 171, 175], [64, 91, 83], [64, 91, 83], [170, 164, 168], [47, 73, 103], [47, 73, 103], [47, 73, 103], [47, 73, 103], [129, 123, 128], [139, 134, 138], [173, 168, 172], [176, 171, 175], [173, 168, 172], [132, 131, 132], [95, 103, 90], [176, 171, 175], [176, 171, 175], [176, 171, 175], [176, 171, 175], [176, 171, 175], [176, 171, 175], [176, 171, 175], [176, 171, 175], [113, 119, 116], [136, 137, 138], [176, 171, 175], [176, 171, 175], [176, 171, 175], [176, 171, 175], [176, 171, 175], [176, 171, 175], [176, 171, 175], [176, 171, 175], [176, 171, 175], [176, 171, 175], [176, 171, 175], [176, 171, 175], [176, 171, 175], [176, 171, 175], [176, 171, 175], [176, 171, 175], [155, 150, 153], [110, 108, 103], [134, 131, 131], [151, 147, 150], [164, 159, 163], [176, 171, 175], [176, 171, 175], [160, 154, 159], [150, 145, 149], [168, 163, 167], [161, 156, 160], [146, 142, 145], [144, 141, 142], [119, 117, 109], [157, 152, 152], [43, 75, 82], [43, 75, 82], [176, 171, 175], [176, 171, 175], [176, 171, 175], [176, 171, 175], [176, 171, 175], [176, 171, 175], [160, 157, 159], [109, 114, 109], [149, 147, 148], [176, 171, 175], [176, 171, 175], [176, 171, 175], [119, 123, 119], [132, 134, 132], [160, 156, 159], [176, 171, 175], [176, 171, 175], [51, 75, 107], [69, 56, 108], [176, 171, 175], [176, 171, 175], [176, 171, 175], [176, 171, 175], [176, 171, 175], [176, 171, 175], [176, 171, 175], [176, 171, 175], [176, 171, 175], [176, 171, 175], [176, 171, 175], [176, 171, 175], [176, 171, 175]], [[89, 94, 85], [89, 94, 85], [89, 94, 85], [89, 94, 85], [89, 94, 85], [89, 94, 85], [89, 94, 85], [176, 171, 175], [176, 171, 175], [176, 171, 175], [176, 171, 175], [137, 140, 135], [85, 102, 83], [111, 119, 108], [121, 128, 120], [174, 169, 173], [175, 170, 174], [176, 171, 175], [108, 109, 83], [108, 109, 83], [137, 129, 130], [124, 115, 116], [169, 164, 168], [176, 171, 175], [176, 171, 175], [176, 171, 175], [176, 171, 175], [176, 171, 175], [176, 171, 175], [176, 171, 175], [162, 158, 161], [131, 126, 128], [140, 135, 137], [176, 171, 175], [176, 171, 175], [176, 171, 175], [176, 171, 175], [176, 171, 175], [176, 171, 175], [176, 171, 175], [176, 171, 175], [176, 171, 175], [176, 171, 175], [176, 171, 175], [176, 171, 175], [176, 171, 175], [176, 171, 175], [176, 171, 175], [176, 171, 175], [47, 73, 103], [47, 73, 103], [47, 73, 103], [47, 73, 103], [47, 73, 103], [153, 148, 152], [167, 163, 166], [176, 171, 175], [176, 171, 175], [135, 129, 134], [125, 117, 122], [170, 165, 169], [176, 171, 175], [174, 169, 173], [98, 106, 103], [95, 103, 90], [176, 171, 175], [176, 171, 175], [176, 171, 175], [171, 166, 170], [158, 154, 158], [161, 157, 160], [176, 171, 175], [175, 170, 174], [140, 141, 141], [112, 118, 116], [176, 171, 175], [176, 171, 175], [176, 171, 175], [176, 171, 175], [176, 171, 175], [176, 171, 175], [176, 171, 175], [176, 171, 175], [176, 171, 175], [176, 171, 175], [176, 171, 175], [176, 171, 175], [176, 171, 175], [176, 171, 175], [165, 161, 164], [132, 129, 132], [139, 136, 139], [125, 123, 121], [130, 128, 125], [152, 148, 152], [141, 137, 140], [176, 171, 175], [176, 171, 175], [176, 171, 175], [160, 155, 159], [157, 152, 156], [152, 147, 151], [136, 134, 131], [129, 127, 124], [139, 136, 135], [176, 171, 175], [176, 171, 175], [176, 171, 175], [43, 75, 82], [176, 171, 175], [176, 171, 175], [176, 171, 175], [176, 171, 175], [176, 171, 175], [176, 171, 175], [159, 156, 158], [112, 117, 112], [135, 136, 134], [164, 160, 163], [131, 133, 132], [120, 124, 121], [176, 171, 175], [175, 170, 174], [176, 171, 175], [176, 171, 175], [51, 75, 107], [176, 171, 175], [69, 56, 108], [176, 171, 175], [176, 171, 175], [176, 171, 175], [176, 171, 175], [176, 171, 175], [176, 171, 175], [176, 171, 175], [176, 171, 175], [176, 171, 175], [176, 171, 175], [176, 171, 175], [176, 171, 175]], [[89, 94, 85], [89, 94, 85], [89, 94, 85], [89, 94, 85], [89, 94, 85], [89, 94, 85], [89, 94, 85], [89, 94, 85], [89, 94, 85], [174, 169, 173], [89, 94, 85], [96, 110, 94], [101, 112, 100], [146, 147, 145], [170, 165, 169], [176, 171, 175], [176, 171, 175], [176, 171, 175], [176, 171, 175], [176, 171, 175], [108, 109, 83], [108, 109, 83], [176, 171, 175], [176, 171, 175], [176, 171, 175], [176, 171, 175], [176, 171, 175], [176, 171, 175], [176, 171, 175], [176, 171, 175], [163, 158, 162], [125, 120, 122], [144, 139, 142], [176, 171, 175], [176, 171, 175], [176, 171, 175], [176, 171, 175], [176, 171, 175], [176, 171, 175], [176, 171, 175], [176, 171, 175], [176, 171, 175], [176, 171, 175], [176, 171, 175], [176, 171, 175], [47, 73, 103], [47, 73, 103], [47, 73, 103], [47, 73, 103], [176, 171, 175], [176, 171, 175], [176, 171, 175], [176, 171, 175], [176, 171, 175], [165, 161, 164], [143, 139, 142], [166, 161, 165], [176, 171, 175], [176, 171, 175], [115, 105, 112], [131, 123, 130], [176, 171, 175], [154, 152, 154], [123, 123, 124], [95, 103, 90], [176, 171, 175], [176, 171, 175], [176, 171, 175], [174, 169, 173], [154, 149, 153], [157, 152, 156], [87, 76, 104], [173, 168, 172], [129, 129, 130], [124, 125, 125], [175, 170, 174], [176, 171, 175], [176, 171, 175], [176, 171, 175], [176, 171, 175], [176, 171, 175], [176, 171, 175], [176, 171, 175], [176, 171, 175], [176, 171, 175], [176, 171, 175], [176, 171, 175], [176, 171, 175], [176, 171, 175], [173, 168, 172], [144, 140, 143], [176, 171, 175], [161, 157, 158], [121, 120, 112], [126, 124, 119], [138, 134, 134], [172, 167, 171], [176, 171, 175], [176, 171, 175], [172, 167, 171], [163, 159, 161], [145, 142, 141], [104, 104, 89], [157, 153, 155], [170, 166, 170], [176, 171, 175], [176, 171, 175], [176, 171, 175], [176, 171, 175], [43, 75, 82], [176, 171, 175], [176, 171, 175], [176, 171, 175], [176, 171, 175], [176, 171, 175], [176, 171, 175], [172, 167, 171], [122, 127, 122], [105, 111, 104], [111, 116, 111], [171, 167, 170], [176, 171, 175], [176, 171, 175], [176, 171, 175], [51, 75, 107], [176, 171, 175], [176, 171, 175], [176, 171, 175], [69, 56, 108], [176, 171, 175], [176, 171, 175], [176, 171, 175], [176, 171, 175], [176, 171, 175], [176, 171, 175], [176, 171, 175], [176, 171, 175], [176, 171, 175], [176, 171, 175], [176, 171, 175]], [[89, 94, 85], [89, 94, 85], [89, 94, 85], [89, 94, 85], [89, 94, 85], [89, 94, 85], [89, 94, 85], [89, 94, 85], [89, 94, 85], [142, 144, 141], [122, 126, 122], [118, 127, 117], [168, 164, 167], [89, 94, 85], [89, 94, 85], [89, 94, 85], [89, 94, 85], [89, 94, 85], [89, 94, 85], [175, 170, 174], [153, 146, 149], [116, 107, 108], [108, 109, 83], [108, 109, 83], [176, 171, 175], [176, 171, 175], [176, 171, 175], [176, 171, 175], [176, 171, 175], [176, 171, 175], [168, 163, 166], [112, 104, 105], [159, 154, 158], [176, 171, 175], [176, 171, 175], [176, 171, 175], [176, 171, 175], [176, 171, 175], [176, 171, 175], [176, 171, 175], [176, 171, 175], [47, 73, 103], [47, 73, 103], [47, 73, 103], [47, 73, 103], [64, 91, 83], [64, 91, 83], [176, 171, 175], [176, 171, 175], [176, 171, 175], [176, 171, 175], [176, 171, 175], [176, 171, 175], [176, 171, 175], [176, 171, 175], [162, 158, 161], [158, 152, 156], [175, 170, 174], [176, 171, 175], [170, 164, 168], [106, 94, 103], [141, 134, 139], [166, 163, 165], [150, 147, 150], [95, 103, 90], [87, 76, 104], [176, 171, 175], [176, 171, 175], [176, 171, 175], [157, 152, 156], [161, 157, 161], [176, 171, 175], [175, 170, 174], [105, 112, 109], [148, 147, 148], [175, 170, 174], [176, 171, 175], [176, 171, 175], [176, 171, 175], [176, 171, 175], [176, 171, 175], [176, 171, 175], [176, 171, 175], [176, 171, 175], [176, 171, 175], [176, 171, 175], [176, 171, 175], [176, 171, 175], [176, 171, 175], [176, 171, 175], [149, 145, 148], [166, 161, 165], [174, 169, 173], [176, 171, 175], [151, 147, 146], [108, 106, 98], [125, 122, 117], [159, 155, 155], [140, 137, 135], [140, 137, 136], [121, 119, 113], [132, 129, 127], [149, 146, 146], [176, 171, 175], [176, 171, 175], [176, 171, 175], [176, 171, 175], [176, 171, 175], [176, 171, 175], [176, 171, 175], [43, 75, 82], [176, 171, 175], [176, 171, 175], [176, 171, 175], [176, 171, 175], [176, 171, 175], [176, 171, 175], [176, 171, 175], [131, 136, 132], [104, 110, 104], [155, 153, 154], [176, 171, 175], [176, 171, 175], [176, 171, 175], [51, 75, 107], [176, 171, 175], [176, 171, 175], [176, 171, 175], [176, 171, 175], [69, 56, 108], [176, 171, 175], [176, 171, 175], [176, 171, 175], [176, 171, 175], [176, 171, 175], [176, 171, 175], [176, 171, 175], [176, 171, 175], [176, 171, 175], [176, 171, 175]], [[89, 94, 85], [89, 94, 85], [89, 94, 85], [89, 94, 85], [89, 94, 85], [89, 94, 85], [89, 94, 85], [167, 163, 165], [139, 139, 138], [91, 107, 87], [150, 150, 149], [166, 162, 165], [89, 94, 85], [89, 94, 85], [89, 94, 85], [89, 94, 85], [89, 94, 85], [172, 167, 171], [173, 168, 172], [174, 169, 173], [143, 137, 140], [119, 112, 113], [157, 154, 157], [160, 155, 159], [108, 109, 83], [108, 109, 83], [108, 109, 83], [89, 94, 85], [89, 94, 85], [89, 94, 85], [89, 94, 85], [100, 89, 89], [171, 166, 170], [176, 171, 175], [176, 171, 175], [176, 171, 175], [47, 73, 103], [47, 73, 103], [47, 73, 103], [47, 73, 103], [47, 73, 103], [176, 171, 175], [64, 91, 83], [64, 91, 83], [64, 91, 83], [176, 171, 175], [176, 171, 175], [176, 171, 175], [176, 171, 175], [176, 171, 175], [176, 171, 175], [176, 171, 175], [176, 171, 175], [176, 171, 175], [171, 166, 170], [145, 141, 144], [166, 161, 164], [176, 171, 175], [176, 171, 175], [176, 171, 175], [153, 148, 153], [112, 104, 109], [156, 150, 154], [95, 103, 90], [176, 171, 175], [176, 171, 175], [176, 171, 175], [176, 171, 175], [176, 171, 175], [156, 150, 155], [164, 160, 163], [176, 171, 175], [153, 150, 153], [116, 119, 119], [157, 153, 156], [176, 171, 175], [176, 171, 175], [176, 171, 175], [176, 171, 175], [176, 171, 175], [176, 171, 175], [176, 171, 175], [176, 171, 175], [176, 171, 175], [176, 171, 175], [176, 171, 175], [176, 171, 175], [176, 171, 175], [176, 171, 175], [176, 171, 175], [160, 155, 159], [152, 148, 151], [161, 156, 160], [157, 152, 156], [150, 146, 150], [149, 145, 148], [138, 135, 132], [129, 127, 123], [140, 136, 135], [134, 133, 127], [154, 151, 150], [176, 171, 175], [175, 170, 174], [176, 171, 175], [176, 171, 175], [176, 171, 175], [176, 171, 175], [176, 171, 175], [176, 171, 175], [176, 171, 175], [176, 171, 175], [43, 75, 82], [176, 171, 175], [176, 171, 175], [176, 171, 175], [176, 171, 175], [176, 171, 175], [176, 171, 175], [176, 171, 175], [151, 150, 150], [105, 109, 104], [142, 142, 141], [176, 171, 175], [176, 171, 175], [51, 75, 107], [176, 171, 175], [176, 171, 175], [176, 171, 175], [176, 171, 175], [69, 56, 108], [176, 171, 175], [176, 171, 175], [176, 171, 175], [176, 171, 175], [176, 171, 175], [176, 171, 175], [176, 171, 175], [176, 171, 175], [176, 171, 175], [176, 171, 175]], [[176, 171, 175], [176, 171, 175], [176, 171, 175], [176, 171, 175], [176, 171, 175], [176, 171, 175], [176, 171, 175], [119, 127, 117], [126, 130, 125], [147, 146, 145], [175, 170, 174], [89, 94, 85], [89, 94, 85], [89, 94, 85], [89, 94, 85], [89, 94, 85], [173, 168, 172], [138, 134, 137], [163, 159, 163], [175, 170, 174], [125, 118, 121], [116, 112, 114], [154, 149, 153], [166, 163, 166], [89, 94, 85], [89, 94, 85], [89, 94, 85], [108, 109, 83], [108, 109, 83], [89, 94, 85], [89, 94, 85], [111, 101, 100], [47, 73, 103], [47, 73, 103], [47, 73, 103], [47, 73, 103], [89, 94, 85], [89, 94, 85], [89, 94, 85], [89, 94, 85], [64, 91, 83], [64, 91, 83], [176, 171, 175], [176, 171, 175], [176, 171, 175], [176, 171, 175], [176, 171, 175], [176, 171, 175], [176, 171, 175], [176, 171, 175], [176, 171, 175], [176, 171, 175], [176, 171, 175], [176, 171, 175], [176, 171, 175], [161, 157, 161], [176, 171, 175], [176, 171, 175], [176, 171, 175], [176, 171, 175], [162, 157, 162], [130, 125, 130], [161, 155, 159], [95, 103, 90], [176, 171, 175], [176, 171, 175], [176, 171, 175], [176, 171, 175], [166, 161, 165], [156, 151, 155], [168, 164, 167], [172, 167, 171], [131, 132, 133], [127, 127, 129], [176, 171, 175], [176, 171, 175], [176, 171, 175], [176, 171, 175], [176, 171, 175], [176, 171, 175], [176, 171, 175], [176, 171, 175], [176, 171, 175], [176, 171, 175], [176, 171, 175], [176, 171, 175], [176, 171, 175], [176, 171, 175], [176, 171, 175], [176, 171, 175], [175, 170, 174], [171, 166, 170], [155, 150, 154], [176, 171, 175], [176, 171, 175], [176, 171, 175], [176, 171, 175], [175, 170, 174], [174, 169, 173], [176, 171, 175], [175, 170, 174], [176, 171, 175], [176, 171, 175], [176, 171, 175], [176, 171, 175], [176, 171, 175], [176, 171, 175], [176, 171, 175], [176, 171, 175], [176, 171, 175], [176, 171, 175], [176, 171, 175], [43, 75, 82], [176, 171, 175], [176, 171, 175], [176, 171, 175], [176, 171, 175], [176, 171, 175], [176, 171, 175], [176, 171, 175], [165, 161, 164], [131, 132, 130], [158, 155, 157], [51, 75, 107], [176, 171, 175], [176, 171, 175], [176, 171, 175], [176, 171, 175], [176, 171, 175], [176, 171, 175], [69, 56, 108], [176, 171, 175], [176, 171, 175], [176, 171, 175], [176, 171, 175], [176, 171, 175], [176, 171, 175], [176, 171, 175], [176, 171, 175], [176, 171, 175]], [[176, 171, 175], [176, 171, 175], [176, 171, 175], [176, 171, 175], [176, 171, 175], [175, 170, 174], [162, 160, 161], [88, 105, 87], [169, 165, 168], [176, 171, 175], [176, 171, 175], [176, 171, 175], [176, 171, 175], [176, 171, 175], [176, 171, 175], [87, 76, 104], [89, 94, 85], [167, 162, 166], [147, 143, 147], [161, 158, 161], [101, 94, 94], [133, 128, 131], [174, 169, 173], [89, 94, 85], [89, 94, 85], [89, 94, 85], [89, 94, 85], [47, 73, 103], [47, 73, 103], [108, 109, 83], [108, 109, 83], [47, 73, 103], [153, 146, 149], [89, 94, 85], [89, 94, 85], [89, 94, 85], [89, 94, 85], [89, 94, 85], [64, 91, 83], [64, 91, 83], [89, 94, 85], [89, 94, 85], [89, 94, 85], [89, 94, 85], [89, 94, 85], [89, 94, 85], [89, 94, 85], [89, 94, 85], [89, 94, 85], [89, 94, 85], [89, 94, 85], [89, 94, 85], [176, 171, 175], [176, 171, 175], [176, 171, 175], [176, 171, 175], [176, 171, 175], [176, 171, 175], [175, 170, 174], [172, 167, 171], [171, 166, 170], [170, 166, 170], [176, 171, 175], [95, 103, 90], [176, 171, 175], [176, 171, 175], [176, 171, 175], [176, 171, 175], [154, 149, 154], [165, 160, 164], [175, 170, 174], [162, 159, 162], [115, 119, 118], [158, 155, 158], [176, 171, 175], [176, 171, 175], [176, 171, 175], [176, 171, 175], [176, 171, 175], [176, 171, 175], [176, 171, 175], [176, 171, 175], [176, 171, 175], [176, 171, 175], [176, 171, 175], [176, 171, 175], [176, 171, 175], [176, 171, 175], [176, 171, 175], [176, 171, 175], [176, 171, 175], [176, 171, 175], [176, 171, 175], [176, 171, 175], [176, 171, 175], [176, 171, 175], [176, 171, 175], [176, 171, 175], [176, 171, 175], [176, 171, 175], [176, 171, 175], [176, 171, 175], [176, 171, 175], [176, 171, 175], [176, 171, 175], [176, 171, 175], [176, 171, 175], [176, 171, 175], [176, 171, 175], [176, 171, 175], [176, 171, 175], [176, 171, 175], [176, 171, 175], [43, 75, 82], [176, 171, 175], [176, 171, 175], [176, 171, 175], [176, 171, 175], [176, 171, 175], [176, 171, 175], [176, 171, 175], [176, 171, 175], [175, 170, 174], [51, 75, 107], [176, 171, 175], [176, 171, 175], [176, 171, 175], [176, 171, 175], [176, 171, 175], [176, 171, 175], [176, 171, 175], [69, 56, 108], [176, 171, 175], [176, 171, 175], [176, 171, 175], [176, 171, 175], [176, 171, 175], [176, 171, 175], [176, 171, 175], [176, 171, 175]], [[176, 171, 175], [176, 171, 175], [176, 171, 175], [176, 171, 175], [176, 171, 175], [175, 170, 174], [162, 158, 161], [156, 153, 154], [176, 171, 175], [176, 171, 175], [176, 171, 175], [176, 171, 175], [176, 171, 175], [176, 171, 175], [176, 171, 175], [176, 171, 175], [176, 171, 175], [176, 171, 175], [168, 163, 167], [143, 140, 143], [113, 104, 105], [147, 140, 142], [176, 171, 175], [47, 73, 103], [47, 73, 103], [47, 73, 103], [47, 73, 103], [89, 94, 85], [89, 94, 85], [89, 94, 85], [157, 151, 155], [108, 109, 83], [108, 109, 83], [89, 94, 85], [89, 94, 85], [89, 94, 85], [64, 91, 83], [64, 91, 83], [89, 94, 85], [89, 94, 85], [89, 94, 85], [89, 94, 85], [89, 94, 85], [89, 94, 85], [89, 94, 85], [89, 94, 85], [89, 94, 85], [89, 94, 85], [89, 94, 85], [89, 94, 85], [89, 94, 85], [89, 94, 85], [89, 94, 85], [89, 94, 85], [89, 94, 85], [89, 94, 85], [147, 143, 146], [159, 155, 158], [158, 152, 156], [146, 142, 146], [151, 147, 150], [89, 94, 85], [95, 103, 90], [89, 94, 85], [176, 171, 175], [176, 171, 175], [176, 171, 175], [176, 171, 175], [148, 144, 147], [171, 166, 170], [164, 160, 163], [105, 110, 107], [140, 139, 140], [172, 167, 171], [176, 171, 175], [176, 171, 175], [176, 171, 175], [176, 171, 175], [176, 171, 175], [176, 171, 175], [176, 171, 175], [176, 171, 175], [176, 171, 175], [176, 171, 175], [176, 171, 175], [176, 171, 175], [176, 171, 175], [176, 171, 175], [176, 171, 175], [176, 171, 175], [176, 171, 175], [176, 171, 175], [176, 171, 175], [176, 171, 175], [176, 171, 175], [176, 171, 175], [176, 171, 175], [176, 171, 175], [176, 171, 175], [176, 171, 175], [176, 171, 175], [176, 171, 175], [176, 171, 175], [176, 171, 175], [176, 171, 175], [176, 171, 175], [176, 171, 175], [176, 171, 175], [176, 171, 175], [176, 171, 175], [176, 171, 175], [176, 171, 175], [176, 171, 175], [176, 171, 175], [43, 75, 82], [176, 171, 175], [176, 171, 175], [176, 171, 175], [176, 171, 175], [176, 171, 175], [176, 171, 175], [176, 171, 175], [51, 75, 107], [176, 171, 175], [176, 171, 175], [176, 171, 175], [176, 171, 175], [176, 171, 175], [176, 171, 175], [176, 171, 175], [176, 171, 175], [69, 56, 108], [176, 171, 175], [176, 171, 175], [176, 171, 175], [176, 171, 175], [176, 171, 175], [176, 171, 175], [176, 171, 175], [176, 171, 175]], [[176, 171, 175], [176, 171, 175], [176, 171, 175], [176, 171, 175], [176, 171, 175], [176, 171, 175], [176, 171, 175], [176, 171, 175], [176, 171, 175], [176, 171, 175], [176, 171, 175], [176, 171, 175], [176, 171, 175], [176, 171, 175], [176, 171, 175], [176, 171, 175], [176, 171, 175], [176, 171, 175], [47, 73, 103], [47, 73, 103], [47, 73, 103], [47, 73, 103], [47, 73, 103], [176, 171, 175], [176, 171, 175], [176, 171, 175], [176, 171, 175], [176, 171, 175], [176, 171, 175], [176, 171, 175], [151, 146, 148], [125, 119, 121], [155, 151, 153], [108, 109, 83], [108, 109, 83], [64, 91, 83], [89, 94, 85], [89, 94, 85], [89, 94, 85], [89, 94, 85], [89, 94, 85], [89, 94, 85], [89, 94, 85], [89, 94, 85], [89, 94, 85], [89, 94, 85], [89, 94, 85], [89, 94, 85], [89, 94, 85], [89, 94, 85], [89, 94, 85], [89, 94, 85], [89, 94, 85], [89, 94, 85], [145, 140, 144], [146, 141, 145], [161, 156, 160], [170, 166, 170], [163, 157, 161], [174, 169, 173], [153, 148, 152], [159, 155, 158], [95, 103, 90], [89, 94, 85], [89, 94, 85], [89, 94, 85], [89, 94, 85], [89, 94, 85], [157, 153, 156], [143, 140, 143], [108, 111, 110], [112, 113, 114], [172, 167, 171], [89, 94, 85], [89, 94, 85], [89, 94, 85], [89, 94, 85], [89, 94, 85], [89, 94, 85], [89, 94, 85], [176, 171, 175], [176, 171, 175], [176, 171, 175], [176, 171, 175], [176, 171, 175], [176, 171, 175], [176, 171, 175], [176, 171, 175], [176, 171, 175], [176, 171, 175], [176, 171, 175], [176, 171, 175], [176, 171, 175], [176, 171, 175], [176, 171, 175], [176, 171, 175], [176, 171, 175], [176, 171, 175], [176, 171, 175], [176, 171, 175], [176, 171, 175], [176, 171, 175], [176, 171, 175], [176, 171, 175], [176, 171, 175], [176, 171, 175], [176, 171, 175], [176, 171, 175], [176, 171, 175], [87, 76, 104], [176, 171, 175], [176, 171, 175], [176, 171, 175], [176, 171, 175], [176, 171, 175], [43, 75, 82], [176, 171, 175], [176, 171, 175], [176, 171, 175], [176, 171, 175], [176, 171, 175], [176, 171, 175], [51, 75, 107], [176, 171, 175], [176, 171, 175], [176, 171, 175], [176, 171, 175], [176, 171, 175], [176, 171, 175], [176, 171, 175], [176, 171, 175], [176, 171, 175], [69, 56, 108], [176, 171, 175], [176, 171, 175], [176, 171, 175], [176, 171, 175], [176, 171, 175], [176, 171, 175], [176, 171, 175]], [[176, 171, 175], [176, 171, 175], [176, 171, 175], [176, 171, 175], [176, 171, 175], [176, 171, 175], [176, 171, 175], [176, 171, 175], [176, 171, 175], [176, 171, 175], [176, 171, 175], [176, 171, 175], [176, 171, 175], [176, 171, 175], [47, 73, 103], [47, 73, 103], [47, 73, 103], [47, 73, 103], [176, 171, 175], [176, 171, 175], [141, 134, 136], [131, 124, 125], [176, 171, 175], [176, 171, 175], [176, 171, 175], [176, 171, 175], [176, 171, 175], [176, 171, 175], [176, 171, 175], [176, 171, 175], [155, 148, 152], [64, 91, 83], [64, 91, 83], [176, 171, 175], [176, 171, 175], [108, 109, 83], [108, 109, 83], [108, 109, 83], [176, 171, 175], [176, 171, 175], [176, 171, 175], [89, 94, 85], [89, 94, 85], [89, 94, 85], [89, 94, 85], [89, 94, 85], [89, 94, 85], [89, 94, 85], [89, 94, 85], [89, 94, 85], [89, 94, 85], [89, 94, 85], [174, 169, 173], [156, 151, 155], [158, 154, 157], [174, 169, 173], [89, 94, 85], [89, 94, 85], [89, 94, 85], [89, 94, 85], [165, 161, 164], [141, 137, 140], [95, 103, 90], [89, 94, 85], [89, 94, 85], [89, 94, 85], [89, 94, 85], [89, 94, 85], [166, 161, 165], [124, 126, 125], [120, 120, 122], [163, 158, 162], [89, 94, 85], [89, 94, 85], [89, 94, 85], [89, 94, 85], [89, 94, 85], [89, 94, 85], [89, 94, 85], [89, 94, 85], [89, 94, 85], [89, 94, 85], [89, 94, 85], [89, 94, 85], [89, 94, 85], [89, 94, 85], [89, 94, 85], [89, 94, 85], [89, 94, 85], [89, 94, 85], [89, 94, 85], [89, 94, 85], [89, 94, 85], [89, 94, 85], [89, 94, 85], [89, 94, 85], [89, 94, 85], [89, 94, 85], [89, 94, 85], [89, 94, 85], [89, 94, 85], [89, 94, 85], [89, 94, 85], [89, 94, 85], [89, 94, 85], [89, 94, 85], [89, 94, 85], [89, 94, 85], [89, 94, 85], [176, 171, 175], [176, 171, 175], [176, 171, 175], [176, 171, 175], [176, 171, 175], [176, 171, 175], [176, 171, 175], [43, 75, 82], [176, 171, 175], [176, 171, 175], [176, 171, 175], [176, 171, 175], [87, 76, 104], [51, 75, 107], [176, 171, 175], [176, 171, 175], [176, 171, 175], [176, 171, 175], [176, 171, 175], [176, 171, 175], [176, 171, 175], [176, 171, 175], [176, 171, 175], [89, 94, 85], [69, 56, 108], [89, 94, 85], [89, 94, 85], [89, 94, 85], [89, 94, 85], [89, 94, 85], [89, 94, 85]], [[176, 171, 175], [176, 171, 175], [176, 171, 175], [176, 171, 175], [176, 171, 175], [176, 171, 175], [176, 171, 175], [176, 171, 175], [176, 171, 175], [176, 171, 175], [176, 171, 175], [47, 73, 103], [47, 73, 103], [47, 73, 103], [176, 171, 175], [176, 171, 175], [176, 171, 175], [176, 171, 175], [176, 171, 175], [176, 171, 175], [133, 128, 130], [134, 128, 130], [176, 171, 175], [176, 171, 175], [176, 171, 175], [176, 171, 175], [176, 171, 175], [176, 171, 175], [176, 171, 175], [64, 91, 83], [64, 91, 83], [106, 96, 94], [176, 171, 175], [176, 171, 175], [176, 171, 175], [176, 171, 175], [176, 171, 175], [176, 171, 175], [108, 109, 83], [108, 109, 83], [176, 171, 175], [176, 171, 175], [176, 171, 175], [176, 171, 175], [176, 171, 175], [176, 171, 175], [176, 171, 175], [176, 171, 175], [176, 171, 175], [176, 171, 175], [176, 171, 175], [176, 171, 175], [89, 94, 85], [161, 157, 161], [158, 153, 157], [89, 94, 85], [89, 94, 85], [89, 94, 85], [169, 164, 168], [158, 153, 157], [157, 152, 156], [95, 103, 90], [89, 94, 85], [89, 94, 85], [89, 94, 85], [89, 94, 85], [89, 94, 85], [89, 94, 85], [144, 141, 143], [117, 121, 119], [159, 156, 159], [89, 94, 85], [89, 94, 85], [89, 94, 85], [89, 94, 85], [89, 94, 85], [89, 94, 85], [89, 94, 85], [89, 94, 85], [89, 94, 85], [89, 94, 85], [89, 94, 85], [89, 94, 85], [89, 94, 85], [89, 94, 85], [89, 94, 85], [89, 94, 85], [89, 94, 85], [87, 76, 104], [89, 94, 85], [89, 94, 85], [89, 94, 85], [89, 94, 85], [89, 94, 85], [89, 94, 85], [89, 94, 85], [89, 94, 85], [89, 94, 85], [89, 94, 85], [89, 94, 85], [89, 94, 85], [89, 94, 85], [89, 94, 85], [103, 57, 77], [103, 57, 77], [103, 57, 77], [103, 57, 77], [89, 94, 85], [89, 94, 85], [89, 94, 85], [89, 94, 85], [89, 94, 85], [89, 94, 85], [89, 94, 85], [89, 94, 85], [89, 94, 85], [89, 94, 85], [43, 75, 82], [43, 75, 82], [89, 94, 85], [89, 94, 85], [51, 75, 107], [89, 94, 85], [89, 94, 85], [89, 94, 85], [89, 94, 85], [89, 94, 85], [89, 94, 85], [89, 94, 85], [89, 94, 85], [89, 94, 85], [89, 94, 85], [89, 94, 85], [69, 56, 108], [89, 94, 85], [89, 94, 85], [89, 94, 85], [89, 94, 85], [89, 94, 85], [89, 94, 85]], [[176, 171, 175], [176, 171, 175], [176, 171, 175], [176, 171, 175], [176, 171, 175], [176, 171, 175], [176, 171, 175], [176, 171, 175], [176, 171, 175], [176, 171, 175], [176, 171, 175], [176, 171, 175], [176, 171, 175], [176, 171, 175], [176, 171, 175], [176, 171, 175], [176, 171, 175], [176, 171, 175], [176, 171, 175], [176, 171, 175], [120, 113, 115], [147, 142, 145], [176, 171, 175], [176, 171, 175], [176, 171, 175], [176, 171, 175], [64, 91, 83], [64, 91, 83], [64, 91, 83], [176, 171, 175], [176, 171, 175], [107, 97, 97], [175, 170, 174], [176, 171, 175], [176, 171, 175], [176, 171, 175], [176, 171, 175], [176, 171, 175], [176, 171, 175], [176, 171, 175], [108, 109, 83], [108, 109, 83], [176, 171, 175], [176, 171, 175], [176, 171, 175], [176, 171, 175], [176, 171, 175], [176, 171, 175], [176, 171, 175], [176, 171, 175], [176, 171, 175], [176, 171, 175], [170, 165, 169], [151, 146, 149], [146, 142, 146], [165, 161, 164], [169, 164, 168], [155, 150, 154], [147, 143, 146], [161, 157, 161], [164, 160, 163], [95, 103, 90], [176, 171, 175], [176, 171, 175], [165, 160, 164], [171, 167, 170], [89, 94, 85], [139, 138, 139], [103, 107, 106], [154, 152, 154], [89, 94, 85], [89, 94, 85], [89, 94, 85], [89, 94, 85], [89, 94, 85], [89, 94, 85], [89, 94, 85], [89, 94, 85], [89, 94, 85], [89, 94, 85], [89, 94, 85], [89, 94, 85], [89, 94, 85], [89, 94, 85], [89, 94, 85], [89, 94, 85], [89, 94, 85], [89, 94, 85], [89, 94, 85], [89, 94, 85], [89, 94, 85], [89, 94, 85], [89, 94, 85], [89, 94, 85], [89, 94, 85], [89, 94, 85], [103, 57, 77], [103, 57, 77], [103, 57, 77], [103, 57, 77], [103, 57, 77], [103, 57, 77], [103, 57, 77], [89, 94, 85], [89, 94, 85], [89, 94, 85], [89, 94, 85], [89, 94, 85], [89, 94, 85], [89, 94, 85], [89, 94, 85], [89, 94, 85], [89, 94, 85], [89, 94, 85], [89, 94, 85], [89, 94, 85], [89, 94, 85], [89, 94, 85], [89, 94, 85], [43, 75, 82], [89, 94, 85], [51, 75, 107], [89, 94, 85], [89, 94, 85], [89, 94, 85], [89, 94, 85], [89, 94, 85], [89, 94, 85], [89, 94, 85], [89, 94, 85], [89, 94, 85], [89, 94, 85], [89, 94, 85], [89, 94, 85], [69, 56, 108], [89, 94, 85], [89, 94, 85], [89, 94, 85], [89, 94, 85], [89, 94, 85]], [[176, 171, 175], [176, 171, 175], [176, 171, 175], [176, 171, 175], [176, 171, 175], [176, 171, 175], [176, 171, 175], [176, 171, 175], [176, 171, 175], [176, 171, 175], [176, 171, 175], [176, 171, 175], [176, 171, 175], [176, 171, 175], [176, 171, 175], [176, 171, 175], [176, 171, 175], [176, 171, 175], [176, 171, 175], [176, 171, 175], [103, 93, 94], [164, 159, 162], [176, 171, 175], [176, 171, 175], [64, 91, 83], [64, 91, 83], [176, 171, 175], [176, 171, 175], [176, 171, 175], [176, 171, 175], [176, 171, 175], [176, 171, 175], [176, 171, 175], [176, 171, 175], [176, 171, 175], [176, 171, 175], [176, 171, 175], [176, 171, 175], [176, 171, 175], [176, 171, 175], [176, 171, 175], [176, 171, 175], [108, 109, 83], [108, 109, 83], [176, 171, 175], [176, 171, 175], [176, 171, 175], [176, 171, 175], [176, 171, 175], [176, 171, 175], [176, 171, 175], [176, 171, 175], [167, 161, 165], [167, 162, 166], [162, 157, 161], [159, 155, 158], [146, 142, 145], [161, 156, 160], [176, 171, 175], [176, 171, 175], [176, 171, 175], [95, 103, 90], [167, 163, 166], [152, 148, 151], [146, 142, 145], [156, 152, 155], [150, 149, 150], [118, 122, 121], [153, 149, 152], [176, 171, 175], [176, 171, 175], [176, 171, 175], [176, 171, 175], [176, 171, 175], [176, 171, 175], [176, 171, 175], [176, 171, 175], [176, 171, 175], [176, 171, 175], [176, 171, 175], [89, 94, 85], [89, 94, 85], [89, 94, 85], [89, 94, 85], [89, 94, 85], [89, 94, 85], [89, 94, 85], [89, 94, 85], [89, 94, 85], [87, 76, 104], [103, 57, 77], [103, 57, 77], [103, 57, 77], [103, 57, 77], [103, 57, 77], [103, 57, 77], [89, 94, 85], [89, 94, 85], [89, 94, 85], [89, 94, 85], [89, 94, 85], [89, 94, 85], [89, 94, 85], [89, 94, 85], [89, 94, 85], [89, 94, 85], [89, 94, 85], [89, 94, 85], [89, 94, 85], [89, 94, 85], [89, 94, 85], [89, 94, 85], [89, 94, 85], [89, 94, 85], [89, 94, 85], [89, 94, 85], [89, 94, 85], [89, 94, 85], [89, 94, 85], [89, 94, 85], [51, 75, 107], [89, 94, 85], [89, 94, 85], [89, 94, 85], [89, 94, 85], [89, 94, 85], [89, 94, 85], [89, 94, 85], [89, 94, 85], [89, 94, 85], [89, 94, 85], [89, 94, 85], [89, 94, 85], [89, 94, 85], [89, 94, 85], [69, 56, 108], [89, 94, 85], [89, 94, 85], [89, 94, 85], [89, 94, 85]], [[176, 171, 175], [176, 171, 175], [176, 171, 175], [176, 171, 175], [176, 171, 175], [176, 171, 175], [176, 171, 175], [176, 171, 175], [176, 171, 175], [176, 171, 175], [176, 171, 175], [176, 171, 175], [176, 171, 175], [176, 171, 175], [176, 171, 175], [176, 171, 175], [176, 171, 175], [176, 171, 175], [176, 171, 175], [176, 171, 175], [144, 136, 138], [171, 166, 170], [64, 91, 83], [64, 91, 83], [176, 171, 175], [176, 171, 175], [176, 171, 175], [176, 171, 175], [176, 171, 175], [176, 171, 175], [176, 171, 175], [176, 171, 175], [176, 171, 175], [176, 171, 175], [176, 171, 175], [176, 171, 175], [176, 171, 175], [176, 171, 175], [176, 171, 175], [176, 171, 175], [176, 171, 175], [176, 171, 175], [176, 171, 175], [176, 171, 175], [108, 109, 83], [108, 109, 83], [176, 171, 175], [176, 171, 175], [176, 171, 175], [176, 171, 175], [176, 171, 175], [176, 171, 175], [176, 171, 175], [176, 171, 175], [176, 171, 175], [176, 171, 175], [175, 170, 174], [176, 171, 175], [176, 171, 175], [176, 171, 175], [176, 171, 175], [95, 103, 90], [157, 153, 156], [165, 160, 164], [175, 170, 174], [144, 140, 144], [128, 130, 130], [136, 136, 137], [174, 169, 173], [176, 171, 175], [176, 171, 175], [176, 171, 175], [176, 171, 175], [176, 171, 175], [176, 171, 175], [176, 171, 175], [176, 171, 175], [176, 171, 175], [176, 171, 175], [176, 171, 175], [176, 171, 175], [176, 171, 175], [176, 171, 175], [103, 57, 77], [103, 57, 77], [103, 57, 77], [103, 57, 77], [103, 57, 77], [103, 57, 77], [103, 57, 77], [176, 171, 175], [176, 171, 175], [176, 171, 175], [176, 171, 175], [176, 171, 175], [176, 171, 175], [176, 171, 175], [176, 171, 175], [176, 171, 175], [176, 171, 175], [176, 171, 175], [176, 171, 175], [176, 171, 175], [176, 171, 175], [176, 171, 175], [176, 171, 175], [176, 171, 175], [176, 171, 175], [176, 171, 175], [89, 94, 85], [89, 94, 85], [89, 94, 85], [89, 94, 85], [89, 94, 85], [89, 94, 85], [89, 94, 85], [89, 94, 85], [89, 94, 85], [89, 94, 85], [89, 94, 85], [102, 60, 94], [102, 60, 94], [102, 60, 94], [102, 60, 94], [102, 60, 94], [102, 60, 94], [102, 60, 94], [89, 94, 85], [89, 94, 85], [89, 94, 85], [89, 94, 85], [89, 94, 85], [176, 171, 175], [176, 171, 175], [176, 171, 175], [69, 56, 108], [176, 171, 175], [176, 171, 175], [176, 171, 175], [176, 171, 175]], [[176, 171, 175], [176, 171, 175], [176, 171, 175], [176, 171, 175], [176, 171, 175], [176, 171, 175], [176, 171, 175], [176, 171, 175], [176, 171, 175], [176, 171, 175], [176, 171, 175], [176, 171, 175], [176, 171, 175], [176, 171, 175], [176, 171, 175], [176, 171, 175], [176, 171, 175], [176, 171, 175], [176, 171, 175], [176, 171, 175], [64, 91, 83], [64, 91, 83], [176, 171, 175], [176, 171, 175], [176, 171, 175], [176, 171, 175], [176, 171, 175], [176, 171, 175], [176, 171, 175], [176, 171, 175], [176, 171, 175], [176, 171, 175], [176, 171, 175], [176, 171, 175], [176, 171, 175], [176, 171, 175], [176, 171, 175], [176, 171, 175], [176, 171, 175], [176, 171, 175], [176, 171, 175], [176, 171, 175], [176, 171, 175], [176, 171, 175], [176, 171, 175], [176, 171, 175], [108, 109, 83], [108, 109, 83], [108, 109, 83], [176, 171, 175], [176, 171, 175], [176, 171, 175], [176, 171, 175], [176, 171, 175], [176, 171, 175], [176, 171, 175], [176, 171, 175], [176, 171, 175], [176, 171, 175], [176, 171, 175], [95, 103, 90], [176, 171, 175], [159, 154, 158], [173, 168, 172], [176, 171, 175], [144, 139, 143], [106, 111, 109], [162, 158, 161], [176, 171, 175], [176, 171, 175], [176, 171, 175], [176, 171, 175], [176, 171, 175], [176, 171, 175], [176, 171, 175], [176, 171, 175], [103, 57, 77], [103, 57, 77], [103, 57, 77], [103, 57, 77], [103, 57, 77], [103, 57, 77], [103, 57, 77], [176, 171, 175], [176, 171, 175], [176, 171, 175], [176, 171, 175], [176, 171, 175], [176, 171, 175], [176, 171, 175], [176, 171, 175], [176, 171, 175], [176, 171, 175], [176, 171, 175], [176, 171, 175], [176, 171, 175], [176, 171, 175], [176, 171, 175], [176, 171, 175], [176, 171, 175], [176, 171, 175], [176, 171, 175], [176, 171, 175], [176, 171, 175], [176, 171, 175], [176, 171, 175], [176, 171, 175], [102, 60, 94], [102, 60, 94], [102, 60, 94], [102, 60, 94], [102, 60, 94], [102, 60, 94], [102, 60, 94], [102, 60, 94], [102, 60, 94], [102, 60, 94], [102, 60, 94], [102, 60, 94], [102, 60, 94], [51, 75, 107], [176, 171, 175], [43, 75, 82], [176, 171, 175], [176, 171, 175], [176, 171, 175], [176, 171, 175], [176, 171, 175], [176, 171, 175], [176, 171, 175], [176, 171, 175], [176, 171, 175], [176, 171, 175], [176, 171, 175], [176, 171, 175], [176, 171, 175], [69, 56, 108], [176, 171, 175], [176, 171, 175], [167, 162, 166]], [[176, 171, 175], [176, 171, 175], [176, 171, 175], [176, 171, 175], [176, 171, 175], [176, 171, 175], [176, 171, 175], [176, 171, 175], [176, 171, 175], [176, 171, 175], [176, 171, 175], [176, 171, 175], [176, 171, 175], [176, 171, 175], [176, 171, 175], [176, 171, 175], [176, 171, 175], [64, 91, 83], [64, 91, 83], [64, 91, 83], [176, 171, 175], [176, 171, 175], [176, 171, 175], [176, 171, 175], [176, 171, 175], [176, 171, 175], [176, 171, 175], [176, 171, 175], [176, 171, 175], [176, 171, 175], [176, 171, 175], [176, 171, 175], [176, 171, 175], [176, 171, 175], [176, 171, 175], [176, 171, 175], [176, 171, 175], [176, 171, 175], [176, 171, 175], [176, 171, 175], [176, 171, 175], [176, 171, 175], [176, 171, 175], [176, 171, 175], [176, 171, 175], [176, 171, 175], [176, 171, 175], [176, 171, 175], [176, 171, 175], [108, 109, 83], [108, 109, 83], [176, 171, 175], [176, 171, 175], [176, 171, 175], [176, 171, 175], [176, 171, 175], [176, 171, 175], [176, 171, 175], [176, 171, 175], [176, 171, 175], [95, 103, 90], [176, 171, 175], [176, 171, 175], [173, 168, 172], [148, 144, 147], [99, 105, 103], [114, 114, 114], [169, 164, 168], [176, 171, 175], [103, 57, 77], [103, 57, 77], [103, 57, 77], [103, 57, 77], [103, 57, 77], [103, 57, 77], [103, 57, 77], [176, 171, 175], [176, 171, 175], [176, 171, 175], [176, 171, 175], [176, 171, 175], [176, 171, 175], [176, 171, 175], [176, 171, 175], [176, 171, 175], [176, 171, 175], [176, 171, 175], [176, 171, 175], [176, 171, 175], [176, 171, 175], [176, 171, 175], [176, 171, 175], [176, 171, 175], [102, 60, 94], [102, 60, 94], [102, 60, 94], [102, 60, 94], [102, 60, 94], [102, 60, 94], [102, 60, 94], [102, 60, 94], [102, 60, 94], [102, 60, 94], [102, 60, 94], [102, 60, 94], [102, 60, 94], [102, 60, 94], [176, 171, 175], [176, 171, 175], [176, 171, 175], [176, 171, 175], [176, 171, 175], [176, 171, 175], [176, 171, 175], [176, 171, 175], [176, 171, 175], [176, 171, 175], [176, 171, 175], [176, 171, 175], [51, 75, 107], [176, 171, 175], [176, 171, 175], [176, 171, 175], [43, 75, 82], [176, 171, 175], [176, 171, 175], [176, 171, 175], [176, 171, 175], [176, 171, 175], [176, 171, 175], [176, 171, 175], [176, 171, 175], [176, 171, 175], [176, 171, 175], [176, 171, 175], [176, 171, 175], [176, 171, 175], [69, 56, 108], [176, 171, 175], [162, 158, 162]], [[176, 171, 175], [176, 171, 175], [176, 171, 175], [176, 171, 175], [176, 171, 175], [176, 171, 175], [176, 171, 175], [176, 171, 175], [176, 171, 175], [176, 171, 175], [176, 171, 175], [176, 171, 175], [176, 171, 175], [176, 171, 175], [176, 171, 175], [64, 91, 83], [64, 91, 83], [176, 171, 175], [176, 171, 175], [176, 171, 175], [176, 171, 175], [176, 171, 175], [176, 171, 175], [176, 171, 175], [176, 171, 175], [176, 171, 175], [176, 171, 175], [176, 171, 175], [176, 171, 175], [176, 171, 175], [176, 171, 175], [176, 171, 175], [176, 171, 175], [176, 171, 175], [176, 171, 175], [176, 171, 175], [176, 171, 175], [176, 171, 175], [176, 171, 175], [176, 171, 175], [176, 171, 175], [176, 171, 175], [176, 171, 175], [176, 171, 175], [176, 171, 175], [176, 171, 175], [176, 171, 175], [176, 171, 175], [176, 171, 175], [176, 171, 175], [176, 171, 175], [108, 109, 83], [108, 109, 83], [176, 171, 175], [176, 171, 175], [176, 171, 175], [176, 171, 175], [176, 171, 175], [176, 171, 175], [176, 171, 175], [95, 103, 90], [176, 171, 175], [176, 171, 175], [103, 57, 77], [103, 57, 77], [103, 57, 77], [103, 57, 77], [103, 57, 77], [103, 57, 77], [176, 171, 175], [176, 171, 175], [176, 171, 175], [176, 171, 175], [176, 171, 175], [176, 171, 175], [176, 171, 175], [175, 170, 174], [176, 171, 175], [176, 171, 175], [176, 171, 175], [102, 60, 94], [102, 60, 94], [102, 60, 94], [102, 60, 94], [102, 60, 94], [102, 60, 94], [102, 60, 94], [102, 60, 94], [102, 60, 94], [102, 60, 94], [102, 60, 94], [102, 60, 94], [102, 60, 94], [176, 171, 175], [176, 171, 175], [176, 171, 175], [176, 171, 175], [176, 171, 175], [176, 171, 175], [176, 171, 175], [176, 171, 175], [176, 171, 175], [176, 171, 175], [176, 171, 175], [176, 171, 175], [176, 171, 175], [176, 171, 175], [176, 171, 175], [176, 171, 175], [176, 171, 175], [176, 171, 175], [176, 171, 175], [176, 171, 175], [176, 171, 175], [176, 171, 175], [176, 171, 175], [176, 171, 175], [176, 171, 175], [176, 171, 175], [51, 75, 107], [176, 171, 175], [176, 171, 175], [176, 171, 175], [176, 171, 175], [43, 75, 82], [172, 167, 171], [176, 171, 175], [176, 171, 175], [176, 171, 175], [176, 171, 175], [176, 171, 175], [176, 171, 175], [176, 171, 175], [176, 171, 175], [176, 171, 175], [176, 171, 175], [176, 171, 175], [69, 56, 108], [166, 162, 165], [142, 137, 141]], [[176, 171, 175], [176, 171, 175], [176, 171, 175], [176, 171, 175], [176, 171, 175], [176, 171, 175], [176, 171, 175], [176, 171, 175], [176, 171, 175], [176, 171, 175], [176, 171, 175], [176, 171, 175], [176, 171, 175], [64, 91, 83], [64, 91, 83], [176, 171, 175], [176, 171, 175], [176, 171, 175], [176, 171, 175], [176, 171, 175], [176, 171, 175], [176, 171, 175], [176, 171, 175], [176, 171, 175], [176, 171, 175], [176, 171, 175], [176, 171, 175], [176, 171, 175], [176, 171, 175], [176, 171, 175], [176, 171, 175], [176, 171, 175], [176, 171, 175], [176, 171, 175], [176, 171, 175], [176, 171, 175], [176, 171, 175], [176, 171, 175], [176, 171, 175], [176, 171, 175], [176, 171, 175], [176, 171, 175], [176, 171, 175], [176, 171, 175], [176, 171, 175], [176, 171, 175], [176, 171, 175], [176, 171, 175], [176, 171, 175], [176, 171, 175], [176, 171, 175], [176, 171, 175], [176, 171, 175], [108, 109, 83], [108, 109, 83], [176, 171, 175], [103, 57, 77], [103, 57, 77], [103, 57, 77], [103, 57, 77], [103, 57, 77], [103, 57, 77], [103, 57, 77], [176, 171, 175], [171, 167, 171], [87, 97, 93], [167, 162, 166], [146, 142, 145], [175, 170, 174], [176, 171, 175], [176, 171, 175], [176, 171, 175], [176, 171, 175], [102, 60, 94], [102, 60, 94], [102, 60, 94], [102, 60, 94], [102, 60, 94], [102, 60, 94], [102, 60, 94], [176, 171, 175], [176, 171, 175], [176, 171, 175], [176, 171, 175], [176, 171, 175], [176, 171, 175], [176, 171, 175], [176, 171, 175], [176, 171, 175], [176, 171, 175], [176, 171, 175], [176, 171, 175], [176, 171, 175], [176, 171, 175], [176, 171, 175], [176, 171, 175], [176, 171, 175], [176, 171, 175], [176, 171, 175], [176, 171, 175], [176, 171, 175], [176, 171, 175], [176, 171, 175], [176, 171, 175], [176, 171, 175], [176, 171, 175], [176, 171, 175], [176, 171, 175], [176, 171, 175], [176, 171, 175], [176, 171, 175], [176, 171, 175], [176, 171, 175], [176, 171, 175], [176, 171, 175], [176, 171, 175], [176, 171, 175], [176, 171, 175], [176, 171, 175], [51, 75, 107], [176, 171, 175], [176, 171, 175], [176, 171, 175], [159, 154, 159], [150, 145, 150], [43, 75, 82], [175, 170, 174], [176, 171, 175], [176, 171, 175], [176, 171, 175], [176, 171, 175], [176, 171, 175], [176, 171, 175], [176, 171, 175], [176, 171, 175], [176, 171, 175], [176, 171, 175], [173, 168, 172], [69, 56, 108], [140, 135, 139]], [[176, 171, 175], [176, 171, 175], [176, 171, 175], [176, 171, 175], [176, 171, 175], [176, 171, 175], [176, 171, 175], [176, 171, 175], [176, 171, 175], [176, 171, 175], [176, 171, 175], [64, 91, 83], [64, 91, 83], [176, 171, 175], [176, 171, 175], [176, 171, 175], [176, 171, 175], [176, 171, 175], [176, 171, 175], [176, 171, 175], [176, 171, 175], [176, 171, 175], [176, 171, 175], [176, 171, 175], [176, 171, 175], [176, 171, 175], [176, 171, 175], [176, 171, 175], [176, 171, 175], [176, 171, 175], [176, 171, 175], [176, 171, 175], [176, 171, 175], [176, 171, 175], [176, 171, 175], [176, 171, 175], [176, 171, 175], [176, 171, 175], [176, 171, 175], [176, 171, 175], [176, 171, 175], [176, 171, 175], [176, 171, 175], [176, 171, 175], [176, 171, 175], [176, 171, 175], [176, 171, 175], [176, 171, 175], [176, 171, 175], [176, 171, 175], [176, 171, 175], [176, 171, 175], [103, 57, 77], [103, 57, 77], [103, 57, 77], [108, 109, 83], [108, 109, 83], [176, 171, 175], [176, 171, 175], [95, 103, 90], [176, 171, 175], [176, 171, 175], [176, 171, 175], [172, 167, 171], [162, 157, 161], [112, 115, 115], [138, 137, 138], [161, 157, 160], [176, 171, 175], [175, 170, 174], [149, 148, 150], [123, 126, 125], [98, 105, 102], [104, 110, 108], [130, 132, 132], [157, 154, 157], [176, 171, 175], [176, 171, 175], [176, 171, 175], [176, 171, 175], [176, 171, 175], [176, 171, 175], [176, 171, 175], [176, 171, 175], [176, 171, 175], [176, 171, 175], [176, 171, 175], [176, 171, 175], [176, 171, 175], [176, 171, 175], [176, 171, 175], [176, 171, 175], [176, 171, 175], [176, 171, 175], [176, 171, 175], [176, 171, 175], [176, 171, 175], [176, 171, 175], [176, 171, 175], [176, 171, 175], [176, 171, 175], [176, 171, 175], [176, 171, 175], [176, 171, 175], [176, 171, 175], [176, 171, 175], [176, 171, 175], [176, 171, 175], [176, 171, 175], [176, 171, 175], [176, 171, 175], [176, 171, 175], [176, 171, 175], [176, 171, 175], [176, 171, 175], [176, 171, 175], [176, 171, 175], [176, 171, 175], [51, 75, 107], [176, 171, 175], [176, 171, 175], [173, 168, 172], [158, 153, 157], [142, 137, 142], [151, 146, 150], [176, 171, 175], [43, 75, 82], [176, 171, 175], [176, 171, 175], [176, 171, 175], [176, 171, 175], [176, 171, 175], [176, 171, 175], [176, 171, 175], [176, 171, 175], [176, 171, 175], [176, 171, 175], [176, 171, 175], [168, 163, 167], [69, 56, 108]], [[176, 171, 175], [176, 171, 175], [176, 171, 175], [176, 171, 175], [176, 171, 175], [176, 171, 175], [176, 171, 175], [176, 171, 175], [64, 91, 83], [64, 91, 83], [64, 91, 83], [176, 171, 175], [176, 171, 175], [176, 171, 175], [87, 76, 104], [176, 171, 175], [176, 171, 175], [176, 171, 175], [176, 171, 175], [176, 171, 175], [176, 171, 175], [176, 171, 175], [176, 171, 175], [176, 171, 175], [176, 171, 175], [176, 171, 175], [176, 171, 175], [176, 171, 175], [176, 171, 175], [176, 171, 175], [176, 171, 175], [176, 171, 175], [176, 171, 175], [176, 171, 175], [176, 171, 175], [176, 171, 175], [176, 171, 175], [176, 171, 175], [176, 171, 175], [176, 171, 175], [176, 171, 175], [176, 171, 175], [176, 171, 175], [176, 171, 175], [176, 171, 175], [176, 171, 175], [176, 171, 175], [176, 171, 175], [176, 171, 175], [176, 171, 175], [176, 171, 175], [176, 171, 175], [176, 171, 175], [176, 171, 175], [176, 171, 175], [176, 171, 175], [176, 171, 175], [108, 109, 83], [108, 109, 83], [95, 103, 90], [176, 171, 175], [176, 171, 175], [176, 171, 175], [148, 144, 147], [154, 150, 153], [106, 106, 107], [132, 129, 133], [137, 138, 139], [117, 120, 119], [91, 99, 95], [111, 116, 114], [136, 138, 137], [163, 159, 163], [176, 171, 175], [176, 171, 175], [176, 171, 175], [176, 171, 175], [176, 171, 175], [176, 171, 175], [176, 171, 175], [176, 171, 175], [176, 171, 175], [176, 171, 175], [176, 171, 175], [176, 171, 175], [176, 171, 175], [176, 171, 175], [176, 171, 175], [176, 171, 175], [176, 171, 175], [176, 171, 175], [176, 171, 175], [176, 171, 175], [176, 171, 175], [176, 171, 175], [176, 171, 175], [176, 171, 175], [176, 171, 175], [176, 171, 175], [176, 171, 175], [176, 171, 175], [176, 171, 175], [176, 171, 175], [176, 171, 175], [176, 171, 175], [176, 171, 175], [176, 171, 175], [176, 171, 175], [176, 171, 175], [176, 171, 175], [176, 171, 175], [176, 171, 175], [176, 171, 175], [176, 171, 175], [176, 171, 175], [176, 171, 175], [176, 171, 175], [176, 171, 175], [51, 75, 107], [176, 171, 175], [176, 171, 175], [172, 167, 171], [169, 164, 168], [173, 168, 172], [151, 147, 151], [172, 167, 171], [176, 171, 175], [43, 75, 82], [176, 171, 175], [176, 171, 175], [176, 171, 175], [176, 171, 175], [176, 171, 175], [176, 171, 175], [176, 171, 175], [176, 171, 175], [176, 171, 175], [176, 171, 175], [176, 171, 175], [69, 56, 108]], [[176, 171, 175], [176, 171, 175], [176, 171, 175], [176, 171, 175], [176, 171, 175], [176, 171, 175], [64, 91, 83], [64, 91, 83], [176, 171, 175], [176, 171, 175], [176, 171, 175], [176, 171, 175], [176, 171, 175], [176, 171, 175], [176, 171, 175], [176, 171, 175], [176, 171, 175], [176, 171, 175], [176, 171, 175], [176, 171, 175], [176, 171, 175], [176, 171, 175], [176, 171, 175], [176, 171, 175], [176, 171, 175], [176, 171, 175], [176, 171, 175], [176, 171, 175], [176, 171, 175], [176, 171, 175], [176, 171, 175], [176, 171, 175], [176, 171, 175], [176, 171, 175], [176, 171, 175], [176, 171, 175], [176, 171, 175], [176, 171, 175], [176, 171, 175], [176, 171, 175], [176, 171, 175], [176, 171, 175], [176, 171, 175], [160, 156, 159], [176, 171, 175], [176, 171, 175], [176, 171, 175], [176, 171, 175], [176, 171, 175], [176, 171, 175], [176, 171, 175], [176, 171, 175], [176, 171, 175], [176, 171, 175], [176, 171, 175], [176, 171, 175], [176, 171, 175], [176, 171, 175], [176, 171, 175], [95, 103, 90], [176, 171, 175], [176, 171, 175], [176, 171, 175], [176, 171, 175], [160, 156, 159], [87, 95, 92], [91, 99, 95], [118, 122, 121], [144, 144, 145], [169, 165, 168], [176, 171, 175], [176, 171, 175], [176, 171, 175], [176, 171, 175], [176, 171, 175], [176, 171, 175], [176, 171, 175], [176, 171, 175], [176, 171, 175], [176, 171, 175], [176, 171, 175], [176, 171, 175], [176, 171, 175], [176, 171, 175], [176, 171, 175], [176, 171, 175], [176, 171, 175], [176, 171, 175], [176, 171, 175], [176, 171, 175], [176, 171, 175], [176, 171, 175], [176, 171, 175], [176, 171, 175], [176, 171, 175], [176, 171, 175], [176, 171, 175], [176, 171, 175], [176, 171, 175], [176, 171, 175], [176, 171, 175], [176, 171, 175], [176, 171, 175], [176, 171, 175], [176, 171, 175], [176, 171, 175], [176, 171, 175], [176, 171, 175], [176, 171, 175], [176, 171, 175], [176, 171, 175], [176, 171, 175], [176, 171, 175], [176, 171, 175], [176, 171, 175], [176, 171, 175], [176, 171, 175], [51, 75, 107], [176, 171, 175], [176, 171, 175], [176, 171, 175], [176, 171, 175], [176, 171, 175], [168, 164, 167], [159, 154, 158], [175, 170, 174], [176, 171, 175], [176, 171, 175], [43, 75, 82], [176, 171, 175], [176, 171, 175], [176, 171, 175], [176, 171, 175], [176, 171, 175], [176, 171, 175], [176, 171, 175], [176, 171, 175], [176, 171, 175], [176, 171, 175], [176, 171, 175]], [[176, 171, 175], [176, 171, 175], [176, 171, 175], [176, 171, 175], [64, 91, 83], [64, 91, 83], [176, 171, 175], [176, 171, 175], [176, 171, 175], [176, 171, 175], [176, 171, 175], [176, 171, 175], [176, 171, 175], [176, 171, 175], [176, 171, 175], [176, 171, 175], [176, 171, 175], [176, 171, 175], [176, 171, 175], [176, 171, 175], [176, 171, 175], [176, 171, 175], [176, 171, 175], [176, 171, 175], [176, 171, 175], [176, 171, 175], [176, 171, 175], [176, 171, 175], [176, 171, 175], [176, 171, 175], [176, 171, 175], [176, 171, 175], [176, 171, 175], [176, 171, 175], [176, 171, 175], [176, 171, 175], [176, 171, 175], [176, 171, 175], [176, 171, 175], [176, 171, 175], [87, 76, 104], [176, 171, 175], [166, 161, 165], [145, 141, 143], [163, 159, 162], [176, 171, 175], [176, 171, 175], [176, 171, 175], [176, 171, 175], [176, 171, 175], [176, 171, 175], [176, 171, 175], [176, 171, 175], [176, 171, 175], [176, 171, 175], [176, 171, 175], [176, 171, 175], [176, 171, 175], [95, 103, 90], [176, 171, 175], [176, 171, 175], [176, 171, 175], [176, 171, 175], [176, 171, 175], [176, 171, 175], [149, 147, 150], [176, 171, 175], [176, 171, 175], [176, 171, 175], [176, 171, 175], [176, 171, 175], [176, 171, 175], [176, 171, 175], [176, 171, 175], [176, 171, 175], [176, 171, 175], [87, 76, 104], [176, 171, 175], [176, 171, 175], [176, 171, 175], [176, 171, 175], [176, 171, 175], [176, 171, 175], [176, 171, 175], [176, 171, 175], [176, 171, 175], [176, 171, 175], [176, 171, 175], [176, 171, 175], [176, 171, 175], [176, 171, 175], [176, 171, 175], [176, 171, 175], [176, 171, 175], [176, 171, 175], [176, 171, 175], [176, 171, 175], [176, 171, 175], [176, 171, 175], [176, 171, 175], [176, 171, 175], [176, 171, 175], [176, 171, 175], [176, 171, 175], [176, 171, 175], [176, 171, 175], [176, 171, 175], [176, 171, 175], [176, 171, 175], [176, 171, 175], [176, 171, 175], [176, 171, 175], [176, 171, 175], [176, 171, 175], [176, 171, 175], [176, 171, 175], [176, 171, 175], [51, 75, 107], [176, 171, 175], [176, 171, 175], [176, 171, 175], [176, 171, 175], [176, 171, 175], [174, 169, 173], [146, 142, 146], [171, 166, 170], [176, 171, 175], [176, 171, 175], [176, 171, 175], [43, 75, 82], [43, 75, 82], [176, 171, 175], [176, 171, 175], [176, 171, 175], [176, 171, 175], [176, 171, 175], [176, 171, 175], [176, 171, 175], [176, 171, 175], [176, 171, 175]], [[176, 171, 175], [176, 171, 175], [64, 91, 83], [64, 91, 83], [176, 171, 175], [176, 171, 175], [176, 171, 175], [176, 171, 175], [176, 171, 175], [176, 171, 175], [176, 171, 175], [176, 171, 175], [176, 171, 175], [176, 171, 175], [176, 171, 175], [176, 171, 175], [176, 171, 175], [176, 171, 175], [176, 171, 175], [176, 171, 175], [176, 171, 175], [176, 171, 175], [176, 171, 175], [176, 171, 175], [176, 171, 175], [176, 171, 175], [176, 171, 175], [176, 171, 175], [176, 171, 175], [176, 171, 175], [176, 171, 175], [176, 171, 175], [176, 171, 175], [176, 171, 175], [176, 171, 175], [176, 171, 175], [176, 171, 175], [176, 171, 175], [176, 171, 175], [176, 171, 175], [176, 171, 175], [169, 165, 168], [144, 140, 144], [167, 163, 166], [168, 164, 167], [148, 144, 147], [176, 171, 175], [176, 171, 175], [176, 171, 175], [176, 171, 175], [176, 171, 175], [176, 171, 175], [176, 171, 175], [176, 171, 175], [176, 171, 175], [176, 171, 175], [176, 171, 175], [176, 171, 175], [95, 103, 90], [176, 171, 175], [176, 171, 175], [176, 171, 175], [176, 171, 175], [176, 171, 175], [176, 171, 175], [176, 171, 175], [176, 171, 175], [176, 171, 175], [176, 171, 175], [176, 171, 175], [176, 171, 175], [176, 171, 175], [176, 171, 175], [176, 171, 175], [176, 171, 175], [176, 171, 175], [176, 171, 175], [176, 171, 175], [176, 171, 175], [176, 171, 175], [176, 171, 175], [176, 171, 175], [176, 171, 175], [87, 76, 104], [176, 171, 175], [176, 171, 175], [176, 171, 175], [176, 171, 175], [176, 171, 175], [176, 171, 175], [176, 171, 175], [176, 171, 175], [176, 171, 175], [176, 171, 175], [176, 171, 175], [176, 171, 175], [176, 171, 175], [176, 171, 175], [176, 171, 175], [176, 171, 175], [176, 171, 175], [176, 171, 175], [176, 171, 175], [176, 171, 175], [176, 171, 175], [176, 171, 175], [176, 171, 175], [176, 171, 175], [176, 171, 175], [176, 171, 175], [176, 171, 175], [176, 171, 175], [176, 171, 175], [176, 171, 175], [176, 171, 175], [176, 171, 175], [176, 171, 175], [51, 75, 107], [176, 171, 175], [176, 171, 175], [176, 171, 175], [176, 171, 175], [176, 171, 175], [176, 171, 175], [161, 156, 161], [153, 149, 154], [176, 171, 175], [176, 171, 175], [176, 171, 175], [176, 171, 175], [176, 171, 175], [43, 75, 82], [176, 171, 175], [176, 171, 175], [176, 171, 175], [176, 171, 175], [176, 171, 175], [176, 171, 175], [176, 171, 175], [176, 171, 175]], [[64, 91, 83], [64, 91, 83], [176, 171, 175], [176, 171, 175], [176, 171, 175], [176, 171, 175], [176, 171, 175], [176, 171, 175], [176, 171, 175], [176, 171, 175], [176, 171, 175], [176, 171, 175], [176, 171, 175], [176, 171, 175], [176, 171, 175], [176, 171, 175], [176, 171, 175], [176, 171, 175], [176, 171, 175], [176, 171, 175], [176, 171, 175], [176, 171, 175], [176, 171, 175], [176, 171, 175], [176, 171, 175], [176, 171, 175], [176, 171, 175], [176, 171, 175], [176, 171, 175], [176, 171, 175], [176, 171, 175], [176, 171, 175], [176, 171, 175], [176, 171, 175], [176, 171, 175], [176, 171, 175], [176, 171, 175], [176, 171, 175], [176, 171, 175], [176, 171, 175], [176, 171, 175], [159, 154, 158], [153, 149, 153], [176, 171, 175], [171, 166, 170], [142, 138, 140], [154, 150, 152], [176, 171, 175], [176, 171, 175], [176, 171, 175], [176, 171, 175], [176, 171, 175], [176, 171, 175], [176, 171, 175], [176, 171, 175], [176, 171, 175], [176, 171, 175], [176, 171, 175], [176, 171, 175], [176, 171, 175], [176, 171, 175], [176, 171, 175], [176, 171, 175], [176, 171, 175], [176, 171, 175], [176, 171, 175], [176, 171, 175], [176, 171, 175], [176, 171, 175], [176, 171, 175], [176, 171, 175], [176, 171, 175], [176, 171, 175], [176, 171, 175], [176, 171, 175], [176, 171, 175], [176, 171, 175], [176, 171, 175], [176, 171, 175], [176, 171, 175], [176, 171, 175], [176, 171, 175], [176, 171, 175], [176, 171, 175], [176, 171, 175], [176, 171, 175], [176, 171, 175], [176, 171, 175], [176, 171, 175], [176, 171, 175], [176, 171, 175], [176, 171, 175], [176, 171, 175], [176, 171, 175], [176, 171, 175], [176, 171, 175], [176, 171, 175], [176, 171, 175], [176, 171, 175], [176, 171, 175], [176, 171, 175], [176, 171, 175], [176, 171, 175], [176, 171, 175], [176, 171, 175], [176, 171, 175], [176, 171, 175], [176, 171, 175], [176, 171, 175], [176, 171, 175], [176, 171, 175], [176, 171, 175], [176, 171, 175], [176, 171, 175], [176, 171, 175], [176, 171, 175], [51, 75, 107], [176, 171, 175], [176, 171, 175], [176, 171, 175], [176, 171, 175], [176, 171, 175], [176, 171, 175], [176, 171, 175], [176, 171, 175], [149, 144, 148], [167, 162, 166], [176, 171, 175], [176, 171, 175], [176, 171, 175], [176, 171, 175], [176, 171, 175], [43, 75, 82], [176, 171, 175], [176, 171, 175], [176, 171, 175], [176, 171, 175], [176, 171, 175], [176, 171, 175], [176, 171, 175]], [[176, 171, 175], [176, 171, 175], [176, 171, 175], [176, 171, 175], [176, 171, 175], [176, 171, 175], [176, 171, 175], [176, 171, 175], [176, 171, 175], [176, 171, 175], [176, 171, 175], [176, 171, 175], [176, 171, 175], [176, 171, 175], [176, 171, 175], [176, 171, 175], [176, 171, 175], [176, 171, 175], [176, 171, 175], [176, 171, 175], [176, 171, 175], [176, 171, 175], [176, 171, 175], [176, 171, 175], [176, 171, 175], [176, 171, 175], [176, 171, 175], [176, 171, 175], [176, 171, 175], [176, 171, 175], [176, 171, 175], [176, 171, 175], [176, 171, 175], [176, 171, 175], [176, 171, 175], [176, 171, 175], [176, 171, 175], [176, 171, 175], [176, 171, 175], [176, 171, 175], [176, 171, 175], [173, 168, 172], [157, 152, 155], [153, 148, 152], [152, 147, 151], [136, 133, 135], [143, 139, 142], [152, 147, 151], [176, 171, 175], [176, 171, 175], [176, 171, 175], [176, 171, 175], [176, 171, 175], [176, 171, 175], [176, 171, 175], [176, 171, 175], [176, 171, 175], [176, 171, 175], [87, 76, 104], [176, 171, 175], [176, 171, 175], [176, 171, 175], [176, 171, 175], [176, 171, 175], [176, 171, 175], [176, 171, 175], [87, 76, 104], [176, 171, 175], [176, 171, 175], [176, 171, 175], [176, 171, 175], [176, 171, 175], [176, 171, 175], [176, 171, 175], [176, 171, 175], [176, 171, 175], [176, 171, 175], [176, 171, 175], [176, 171, 175], [176, 171, 175], [176, 171, 175], [176, 171, 175], [176, 171, 175], [87, 76, 104], [176, 171, 175], [176, 171, 175], [176, 171, 175], [176, 171, 175], [176, 171, 175], [176, 171, 175], [176, 171, 175], [176, 171, 175], [176, 171, 175], [176, 171, 175], [176, 171, 175], [176, 171, 175], [176, 171, 175], [176, 171, 175], [176, 171, 175], [176, 171, 175], [176, 171, 175], [176, 171, 175], [176, 171, 175], [176, 171, 175], [176, 171, 175], [176, 171, 175], [176, 171, 175], [176, 171, 175], [176, 171, 175], [176, 171, 175], [176, 171, 175], [176, 171, 175], [176, 171, 175], [176, 171, 175], [87, 76, 104], [176, 171, 175], [51, 75, 107], [176, 171, 175], [176, 171, 175], [176, 171, 175], [176, 171, 175], [176, 171, 175], [176, 171, 175], [176, 171, 175], [176, 171, 175], [164, 160, 163], [151, 147, 151], [176, 171, 175], [176, 171, 175], [176, 171, 175], [176, 171, 175], [176, 171, 175], [176, 171, 175], [43, 75, 82], [176, 171, 175], [176, 171, 175], [176, 171, 175], [176, 171, 175], [176, 171, 175], [176, 171, 175]], [[176, 171, 175], [176, 171, 175], [176, 171, 175], [176, 171, 175], [176, 171, 175], [176, 171, 175], [176, 171, 175], [176, 171, 175], [176, 171, 175], [176, 171, 175], [176, 171, 175], [176, 171, 175], [176, 171, 175], [176, 171, 175], [176, 171, 175], [176, 171, 175], [176, 171, 175], [176, 171, 175], [176, 171, 175], [176, 171, 175], [176, 171, 175], [176, 171, 175], [176, 171, 175], [176, 171, 175], [176, 171, 175], [176, 171, 175], [176, 171, 175], [176, 171, 175], [176, 171, 175], [176, 171, 175], [176, 171, 175], [176, 171, 175], [176, 171, 175], [176, 171, 175], [176, 171, 175], [176, 171, 175], [176, 171, 175], [176, 171, 175], [176, 171, 175], [176, 171, 175], [176, 171, 175], [175, 170, 174], [171, 166, 170], [161, 157, 161], [147, 143, 147], [149, 144, 148], [168, 164, 167], [163, 159, 162], [161, 157, 161], [176, 171, 175], [176, 171, 175], [176, 171, 175], [176, 171, 175], [176, 171, 175], [176, 171, 175], [176, 171, 175], [176, 171, 175], [87, 76, 104], [176, 171, 175], [176, 171, 175], [176, 171, 175], [176, 171, 175], [176, 171, 175], [176, 171, 175], [176, 171, 175], [176, 171, 175], [176, 171, 175], [176, 171, 175], [176, 171, 175], [176, 171, 175], [176, 171, 175], [176, 171, 175], [176, 171, 175], [176, 171, 175], [176, 171, 175], [176, 171, 175], [176, 171, 175], [176, 171, 175], [176, 171, 175], [176, 171, 175], [176, 171, 175], [176, 171, 175], [176, 171, 175], [176, 171, 175], [176, 171, 175], [176, 171, 175], [176, 171, 175], [176, 171, 175], [176, 171, 175], [176, 171, 175], [176, 171, 175], [176, 171, 175], [176, 171, 175], [176, 171, 175], [176, 171, 175], [176, 171, 175], [176, 171, 175], [176, 171, 175], [176, 171, 175], [176, 171, 175], [176, 171, 175], [176, 171, 175], [176, 171, 175], [176, 171, 175], [176, 171, 175], [176, 171, 175], [176, 171, 175], [176, 171, 175], [176, 171, 175], [176, 171, 175], [176, 171, 175], [176, 171, 175], [176, 171, 175], [176, 171, 175], [176, 171, 175], [51, 75, 107], [176, 171, 175], [176, 171, 175], [176, 171, 175], [176, 171, 175], [176, 171, 175], [176, 171, 175], [176, 171, 175], [176, 171, 175], [176, 171, 175], [175, 170, 174], [170, 166, 170], [176, 171, 175], [176, 171, 175], [176, 171, 175], [176, 171, 175], [176, 171, 175], [176, 171, 175], [176, 171, 175], [43, 75, 82], [176, 171, 175], [176, 171, 175], [176, 171, 175], [176, 171, 175], [176, 171, 175]]])"
      ]
     },
     "execution_count": 250,
     "metadata": {},
     "output_type": "execute_result"
    }
   ],
   "source": [
    "row"
   ]
  },
  {
   "cell_type": "code",
   "execution_count": 249,
   "metadata": {
    "collapsed": false
   },
   "outputs": [
    {
     "data": {
      "text/plain": [
       "list"
      ]
     },
     "execution_count": 249,
     "metadata": {},
     "output_type": "execute_result"
    }
   ],
   "source": [
    "type(row['mat'])"
   ]
  },
  {
   "cell_type": "code",
   "execution_count": 256,
   "metadata": {
    "collapsed": false
   },
   "outputs": [
    {
     "data": {
      "text/plain": [
       "DataFrame[]"
      ]
     },
     "execution_count": 256,
     "metadata": {},
     "output_type": "execute_result"
    }
   ],
   "source": [
    "sqlContext.sql(\"DROP TABLE images3\")"
   ]
  },
  {
   "cell_type": "code",
   "execution_count": 257,
   "metadata": {
    "collapsed": false
   },
   "outputs": [
    {
     "name": "stdout",
     "output_type": "stream",
     "text": [
      "+--------+--------------------+-------------+\n",
      "|col_name|           data_type|      comment|\n",
      "+--------+--------------------+-------------+\n",
      "|      id|              string| id of images|\n",
      "|     mat|array<array<array...|array of list|\n",
      "+--------+--------------------+-------------+\n",
      "\n"
     ]
    }
   ],
   "source": [
    "sqlContext.sql(\"CREATE EXTERNAL TABLE images3 (id STRING COMMENT 'id of images', mat ARRAY<ARRAY<ARRAY<BIGINT>>> \\\n",
    "COMMENT 'array of list') COMMENT \\\n",
    "'This is used to store images' ROW FORMAT DELIMITED \\\n",
    "FIELDS TERMINATED BY '\\t' STORED AS TEXTFILE LOCATION 'hdfs://master:9000/user/hive/images'\")\n",
    "sqlContext.sql(\"DESCRIBE TABLE images3\").show()\n",
    "for i, x in enumerate(X):\n",
    "    newimage = sqlContext.createDataFrame([(i, x.tolist())], ['id', 'mat'])\n",
    "    newimage.write.mode('append').insertInto('images3')"
   ]
  },
  {
   "cell_type": "code",
   "execution_count": 260,
   "metadata": {
    "collapsed": true
   },
   "outputs": [],
   "source": [
    "import time"
   ]
  },
  {
   "cell_type": "code",
   "execution_count": null,
   "metadata": {
    "collapsed": true
   },
   "outputs": [],
   "source": [
    "start_time = time.time()\n",
    "num = 0\n",
    "image = gen(width=width, height=height)\n",
    "while num < 999:\n",
    "    X, y = image.next()\n",
    "    for i, x in enumerate(X):\n",
    "        newimage = sqlContext.createDataFrame([(64*num+i, x.tolist())], ['id', 'mat'])\n",
    "        newimage.write.mode('append').insertInto('images3')\n",
    "    num += 1\n",
    "end_time = time.time()\n",
    "print 'the total time is', end_time - start_time\n",
    "print 'the average time is', (end_time - start_time)/1000.0/64"
   ]
  },
  {
   "cell_type": "code",
   "execution_count": null,
   "metadata": {
    "collapsed": true
   },
   "outputs": [],
   "source": []
  }
 ],
 "metadata": {
  "kernelspec": {
   "display_name": "Python 2",
   "language": "python",
   "name": "python2"
  },
  "language_info": {
   "codemirror_mode": {
    "name": "ipython",
    "version": 2
   },
   "file_extension": ".py",
   "mimetype": "text/x-python",
   "name": "python",
   "nbconvert_exporter": "python",
   "pygments_lexer": "ipython2",
   "version": "2.7.13"
  }
 },
 "nbformat": 4,
 "nbformat_minor": 1
}
