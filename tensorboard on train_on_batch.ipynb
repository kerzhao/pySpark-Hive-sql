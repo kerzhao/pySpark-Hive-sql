{
 "cells": [
  {
   "cell_type": "markdown",
   "metadata": {},
   "source": [
    "运行下列代码"
   ]
  },
  {
   "cell_type": "code",
   "execution_count": 1,
   "metadata": {
    "collapsed": false
   },
   "outputs": [
    {
     "name": "stderr",
     "output_type": "stream",
     "text": [
      "Using TensorFlow backend.\n"
     ]
    }
   ],
   "source": [
    "import numpy as np\n",
    "import tensorflow as tf\n",
    "from keras.callbacks import TensorBoard\n",
    "from keras.layers import Input, Dense\n",
    "from keras.models import Model\n",
    "\n",
    "\n",
    "def write_log(callback, names, logs, batch_no):\n",
    "    for name, value in zip(names, logs):\n",
    "        summary = tf.Summary()\n",
    "        summary_value = summary.value.add()\n",
    "        summary_value.simple_value = value\n",
    "        summary_value.tag = name\n",
    "        callback.writer.add_summary(summary, batch_no)\n",
    "        callback.writer.flush()\n",
    "    \n",
    "net_in = Input(shape=(3,))\n",
    "net_out = Dense(1)(net_in)\n",
    "model = Model(net_in, net_out)\n",
    "model.compile(loss='mse', optimizer='sgd', metrics=['mae'])\n",
    "\n",
    "log_path = './graph'\n",
    "callback = TensorBoard(log_path)\n",
    "callback.set_model(model)\n",
    "train_names = ['train_loss', 'train_mae']\n",
    "val_names = ['val_loss', 'val_mae']\n",
    "for batch_no in range(100):\n",
    "    X_train, Y_train = np.random.rand(32, 3), np.random.rand(32, 1)\n",
    "    logs = model.train_on_batch(X_train, Y_train)\n",
    "    write_log(callback, train_names, logs, batch_no)\n",
    "    \n",
    "    if batch_no % 10 == 0:\n",
    "        X_val, Y_val = np.random.rand(32, 3), np.random.rand(32, 1)\n",
    "        logs = model.train_on_batch(X_val, Y_val)\n",
    "        write_log(callback, val_names, logs, batch_no//10)"
   ]
  },
  {
   "cell_type": "markdown",
   "metadata": {},
   "source": [
    "可以在浏览器中打开tensorboard界面，如下显示，\n",
    "这样就可以监视批训练过程中的收敛情况\n",
    "<img src=\"images/tensorboard.png\">"
   ]
  },
  {
   "cell_type": "code",
   "execution_count": null,
   "metadata": {
    "collapsed": true
   },
   "outputs": [],
   "source": []
  }
 ],
 "metadata": {
  "kernelspec": {
   "display_name": "Python 2",
   "language": "python",
   "name": "python2"
  },
  "language_info": {
   "codemirror_mode": {
    "name": "ipython",
    "version": 2
   },
   "file_extension": ".py",
   "mimetype": "text/x-python",
   "name": "python",
   "nbconvert_exporter": "python",
   "pygments_lexer": "ipython2",
   "version": "2.7.13"
  }
 },
 "nbformat": 4,
 "nbformat_minor": 2
}
