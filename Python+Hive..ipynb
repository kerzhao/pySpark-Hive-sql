{
 "cells": [
  {
   "cell_type": "code",
   "execution_count": 1,
   "metadata": {
    "collapsed": false,
    "scrolled": false
   },
   "outputs": [
    {
     "name": "stdout",
     "output_type": "stream",
     "text": [
      "Starting Spark application\n"
     ]
    },
    {
     "data": {
      "text/html": [
       "<table>\n",
       "<tr><th>ID</th><th>YARN Application ID</th><th>Kind</th><th>State</th><th>Spark UI</th><th>Driver log</th><th>Current session?</th></tr><tr><td>1</td><td>application_1481543399241_0006</td><td>pyspark</td><td>idle</td><td><a target=\"_blank\" href=\"http://hn1-mysia.4q0vnhdvcavehkveh1r0ceg34e.cx.internal.cloudapp.net:8088/proxy/application_1481543399241_0006/\">Link</a></td><td><a target=\"_blank\" href=\"http://10.0.0.11:30060/node/containerlogs/container_1481543399241_0006_01_000001/livy\">Link</a></td><td>✔</td></tr></table>"
      ],
      "text/plain": [
       "<IPython.core.display.HTML object>"
      ]
     },
     "metadata": {},
     "output_type": "display_data"
    },
    {
     "name": "stdout",
     "output_type": "stream",
     "text": [
      "SparkContext available as 'sc'.\n",
      "HiveContext available as 'sqlContext'.\n",
      "+----------------+-----+\n",
      "|     devicemodel|calls|\n",
      "+----------------+-----+\n",
      "|        SCH-i500|11739|\n",
      "|    iPhone 4.3.x| 6504|\n",
      "|           VS660| 6087|\n",
      "|iPod Touch 4.3.x| 3045|\n",
      "|iPod Touch 4.2.1| 2695|\n",
      "|    iPhone 4.2.1| 2690|\n",
      "|    iPhone 4.2.x| 2418|\n",
      "|        SCH-i400| 2238|\n",
      "|            9650| 1742|\n",
      "|     Android 2.3| 1552|\n",
      "|            9330| 1336|\n",
      "|           VS910| 1212|\n",
      "|            C771|  996|\n",
      "|      iPhone 4.1|  986|\n",
      "|        SCH-i800|  937|\n",
      "|  iPod Touch 4.1|  925|\n",
      "|      Incredible|  683|\n",
      "|      iPhone 4.0|  640|\n",
      "|     Android 2.2|  553|\n",
      "|         Droid 2|  484|\n",
      "+----------------+-----+\n",
      "only showing top 20 rows"
     ]
    }
   ],
   "source": [
    "calls = sqlContext.sql(\"\"\"SELECT devicemodel, COUNT(*) AS calls\n",
    "                        FROM hivesampletable\n",
    "                        GROUP BY devicemodel\n",
    "                        ORDER BY calls DESC\"\"\")\n",
    "calls.show()"
   ]
  }
 ],
 "metadata": {
  "kernelspec": {
   "display_name": "Python 2",
   "language": "python",
   "name": "python2"
  },
  "language_info": {
   "codemirror_mode": {
    "name": "ipython",
    "version": 2
   },
   "file_extension": ".py",
   "mimetype": "text/x-python",
   "name": "python",
   "nbconvert_exporter": "python",
   "pygments_lexer": "ipython2",
   "version": "2.7.13"
  }
 },
 "nbformat": 4,
 "nbformat_minor": 1
}
