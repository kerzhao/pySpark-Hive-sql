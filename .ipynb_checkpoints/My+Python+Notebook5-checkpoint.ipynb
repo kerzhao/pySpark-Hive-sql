{
 "cells": [
  {
   "cell_type": "code",
   "execution_count": 1,
   "metadata": {
    "collapsed": false
   },
   "outputs": [
    {
     "data": {
      "text/plain": [
       "<pyspark.context.SparkContext at 0x7f501a39bdd0>"
      ]
     },
     "execution_count": 1,
     "metadata": {},
     "output_type": "execute_result"
    }
   ],
   "source": [
    "sc"
   ]
  },
  {
   "cell_type": "code",
   "execution_count": 2,
   "metadata": {
    "collapsed": true
   },
   "outputs": [],
   "source": [
    "import urllib2\n",
    "import json"
   ]
  },
  {
   "cell_type": "code",
   "execution_count": 3,
   "metadata": {
    "collapsed": false
   },
   "outputs": [
    {
     "name": "stdout",
     "output_type": "stream",
     "text": [
      "derby.log\t\t   My+Python+Notebook3.ipynb  README.md\r\n",
      "fonts\t\t\t   My+Python+Notebook4.ipynb  result.out\r\n",
      "generator_images.py\t   My+Python+Notebook5.ipynb  result.png\r\n",
      "generator_images.pyc\t   My+Python+Notebook..ipynb  result.txt\r\n",
      "gprof2dot.py\t\t   nohup2.out\t\t      savetest.py\r\n",
      "hive heathrow weather\t   nohup.out\t\t      test.py\r\n",
      "insertData.py\t\t   Python+Hive..ipynb\t      ulysses+word+count.ipynb\r\n",
      "metastore_db\t\t   Python+SQL..ipynb\t      Untitled.ipynb\r\n",
      "My+Python+Notebook2.ipynb  Python+Stream.ipynb\r\n"
     ]
    }
   ],
   "source": [
    "!ls"
   ]
  },
  {
   "cell_type": "code",
   "execution_count": 4,
   "metadata": {
    "collapsed": false
   },
   "outputs": [],
   "source": [
    "with open('generator_images.py') as f:\n",
    "    lines = f.readlines()"
   ]
  },
  {
   "cell_type": "code",
   "execution_count": 5,
   "metadata": {
    "collapsed": false,
    "scrolled": true
   },
   "outputs": [
    {
     "data": {
      "text/plain": [
       "['#coding:utf-8\\n',\n",
       " 'import random\\n',\n",
       " 'import os\\n',\n",
       " 'from itertools import product\\n',\n",
       " 'from PIL import Image, ImageDraw, ImageFont\\n',\n",
       " 'import cv2\\n',\n",
       " 'import numpy as np\\n',\n",
       " '\\n',\n",
       " '\"\"\"\\n',\n",
       " '\\xe5\\x9f\\xba\\xe6\\x9c\\xac\\xef\\xbc\\x9a\\n',\n",
       " '1 \\xe5\\x9b\\xbe\\xe7\\x89\\x87size\\n',\n",
       " '2 \\xe5\\xad\\x97\\xe7\\xac\\xa6\\xe4\\xb8\\xaa\\xe6\\x95\\xb0\\n',\n",
       " '3 \\xe5\\xad\\x97\\xe7\\xac\\xa6\\xe5\\x8c\\xba\\xe5\\x9f\\x9f\\xef\\xbc\\x88\\xe9\\x87\\x8d\\xe5\\x8f\\xa0\\xe3\\x80\\x81\\xe7\\xad\\x89\\xe5\\x88\\x86\\xef\\xbc\\x89\\n',\n",
       " '4 \\xe5\\xad\\x97\\xe7\\xac\\xa6\\xe4\\xbd\\x8d\\xe7\\xbd\\xae\\xef\\xbc\\x88\\xe5\\x9b\\xba\\xe5\\xae\\x9a\\xe3\\x80\\x81\\xe9\\x9a\\x8f\\xe6\\x9c\\xba\\xef\\xbc\\x89\\n',\n",
       " '5 \\xe5\\xad\\x97\\xe7\\xac\\xa6size\\xef\\xbc\\x88\\xe6\\x89\\x80\\xe5\\x8d\\xa0\\xe5\\x8c\\xba\\xe5\\x9f\\x9f\\xe5\\xa4\\xa7\\xe5\\xb0\\x8f\\xe7\\x9a\\x84\\xe7\\x99\\xbe\\xe5\\x88\\x86\\xe6\\xaf\\x94\\xef\\xbc\\x89\\n',\n",
       " '6 \\xe5\\xad\\x97\\xe7\\xac\\xa6fonts\\n',\n",
       " '7 \\xe5\\xad\\x97\\xe7\\xac\\xa6 type \\xef\\xbc\\x88\\xe6\\x95\\xb0\\xe5\\xad\\x97\\xe3\\x80\\x81\\xe5\\xad\\x97\\xe6\\xaf\\x8d\\xe3\\x80\\x81\\xe6\\xb1\\x89\\xe5\\xad\\x97\\xe3\\x80\\x81\\xe6\\x95\\xb0\\xe5\\xad\\xa6\\xe7\\xac\\xa6\\xe5\\x8f\\xb7\\xef\\xbc\\x89\\n',\n",
       " '8 \\xe5\\xad\\x97\\xe7\\xac\\xa6\\xe9\\xa2\\x9c\\xe8\\x89\\xb2\\n',\n",
       " '9 \\xe8\\x83\\x8c\\xe6\\x99\\xaf\\xe9\\xa2\\x9c\\xe8\\x89\\xb2\\n',\n",
       " '\\n',\n",
       " '\\xe9\\xab\\x98\\xe7\\xba\\xa7\\xef\\xbc\\x9a\\n',\n",
       " '10 \\xe5\\xad\\x97\\xe7\\xac\\xa6\\xe6\\x97\\x8b\\xe8\\xbd\\xac\\n',\n",
       " '11 \\xe5\\xad\\x97\\xe7\\xac\\xa6\\xe6\\x89\\xad\\xe6\\x9b\\xb2\\n',\n",
       " '12 \\xe5\\x99\\xaa\\xe9\\x9f\\xb3\\xef\\xbc\\x88\\xe7\\x82\\xb9\\xe3\\x80\\x81\\xe7\\xba\\xbf\\xe6\\xae\\xb5\\xe3\\x80\\x81\\xe5\\x9c\\x88\\xef\\xbc\\x89\\n',\n",
       " '\"\"\"\\n',\n",
       " 'chars = \"0123456789ABCDEFGHIJKLMNOPQRSTUVWXYZabdefghijlmnqrtuwxy\"\\n',\n",
       " '\\n',\n",
       " 'def decode(y):\\n',\n",
       " '    y = np.argmax(np.array(y), axis=2)[:,0]\\n',\n",
       " \"    return ''.join([chars[x] for x in y])\\n\",\n",
       " '\\n',\n",
       " '#----------------------------------------------------------------------\\n',\n",
       " 'def sin(x, height):\\n',\n",
       " '    \"\"\"\"\"\"\\n',\n",
       " '    a = float(random.choice([5, 12, 24, 48, 128]))\\n',\n",
       " '    d = random.choice([2, 4])\\n',\n",
       " '    c = random.randint(1, 100)\\n',\n",
       " '    b = 2 * random.random()\\n',\n",
       " '    return np.array(map(int, height / d * (np.sin((x+c)/a) + b)))\\n',\n",
       " '\\n',\n",
       " 'def randRGB():\\n',\n",
       " '    return (random.randint(40, 110), random.randint(40, 110), random.randint(40, 110))\\n',\n",
       " '\\n',\n",
       " 'def cha_draw(cha, text_color, font, rotate,size_cha, max_angle=45):\\n',\n",
       " \"    im = Image.new(mode='RGBA', size=(size_cha*2, size_cha*2))\\n\",\n",
       " '    drawer = ImageDraw.Draw(im) \\n',\n",
       " '    drawer.text(xy=(0, 0), text=cha, fill=text_color, font=font) #text \\xe5\\x86\\x85\\xe5\\xae\\xb9\\xef\\xbc\\x8cfill \\xe9\\xa2\\x9c\\xe8\\x89\\xb2\\xef\\xbc\\x8c font \\xe5\\xad\\x97\\xe4\\xbd\\x93\\xef\\xbc\\x88\\xe5\\x8c\\x85\\xe6\\x8b\\xac\\xe5\\xa4\\xa7\\xe5\\xb0\\x8f\\xef\\xbc\\x89\\n',\n",
       " '    if rotate:\\n',\n",
       " '        #max_angle = 45 # to be tuned\\n',\n",
       " '        angle = random.randint(-max_angle, max_angle)\\n',\n",
       " '        im = im.rotate(angle, Image.BILINEAR, expand=1)\\n',\n",
       " '    im = im.crop(im.getbbox())\\n',\n",
       " '    return im\\n',\n",
       " '\\n',\n",
       " 'def captcha_draw(size_im, nb_cha, set_cha, fonts=None, overlap=0.1, \\n',\n",
       " '        rd_bg_color=False, rd_text_color=False, rd_text_pos=False, rd_text_size=False,\\n',\n",
       " \"        rotate=False, noise=None, dir_path=''):\\n\",\n",
       " '    \"\"\"\\n',\n",
       " '        overlap: \\xe5\\xad\\x97\\xe7\\xac\\xa6\\xe4\\xb9\\x8b\\xe9\\x97\\xb4\\xe5\\x8c\\xba\\xe5\\x9f\\x9f\\xe5\\x8f\\xaf\\xe9\\x87\\x8d\\xe5\\x8f\\xa0\\xe7\\x99\\xbe\\xe5\\x88\\x86\\xe6\\xaf\\x94, \\xe9\\x87\\x8d\\xe5\\x8f\\xa0\\xe6\\x95\\x88\\xe6\\x9e\\x9c\\xe5\\x92\\x8c\\xe5\\x9b\\xbe\\xe7\\x89\\x87\\xe5\\xae\\xbd\\xe5\\xba\\xa6\\xe5\\xad\\x97\\xe7\\xac\\xa6\\xe5\\xae\\xbd\\xe5\\xba\\xa6\\xe6\\x9c\\x89\\xe5\\x85\\xb3\\n',\n",
       " '        \\xe5\\xad\\x97\\xe4\\xbd\\x93\\xe5\\xa4\\xa7\\xe5\\xb0\\x8f \\xe7\\x9b\\xae\\xe5\\x89\\x8d\\xe9\\x95\\xbf\\xe5\\xae\\xbd\\xe8\\xae\\xa4\\xe4\\xb8\\xba\\xe4\\xb8\\x80\\xe8\\x87\\xb4\\xef\\xbc\\x81\\xef\\xbc\\x81\\xef\\xbc\\x81\\n',\n",
       " '        \\xe6\\x89\\x80\\xe6\\x9c\\x89\\xe5\\xad\\x97\\xe5\\xa4\\xa7\\xe5\\xb0\\x8f\\xe4\\xb8\\x80\\xe8\\x87\\xb4\\n',\n",
       " '        \\xe6\\x89\\xad\\xe6\\x9b\\xb2\\xe6\\x9a\\x82\\xe6\\x9c\\xaa\\xe5\\xae\\x9e\\xe7\\x8e\\xb0\\n',\n",
       " '        noise \\xe5\\x8f\\xaf\\xe9\\x80\\x89\\xef\\xbc\\x9apoint, line , circle\\n',\n",
       " '        fonts \\xe4\\xb8\\xad\\xe5\\x88\\x86\\xe4\\xb8\\xad\\xe6\\x96\\x87\\xe5\\x92\\x8c\\xe8\\x8b\\xb1\\xe6\\x96\\x87\\xe5\\xad\\x97\\xe4\\xbd\\x93\\n',\n",
       " '        label\\xe5\\x85\\xa8\\xe4\\xbf\\x9d\\xe5\\xad\\x98\\xe5\\x9c\\xa8label.txt \\xe4\\xb8\\xad\\xef\\xbc\\x8c\\xe6\\x96\\x87\\xe4\\xbb\\xb6\\xe7\\xac\\xaci\\xe8\\xa1\\x8c\\xe5\\xaf\\xb9\\xe5\\xba\\x94\"i.jpg\"\\xe7\\x9a\\x84\\xe5\\x9b\\xbe\\xe7\\x89\\x87\\xe6\\xa0\\x87\\xe7\\xad\\xbe\\xef\\xbc\\x8ci\\xe4\\xbb\\x8e1\\xe5\\xbc\\x80\\xe5\\xa7\\x8b\\n',\n",
       " '    \"\"\"\\n',\n",
       " '    rate_cha = 1.3 # rate to be tuned\\n',\n",
       " '    rate_noise = 0.25 # rate of noise\\n',\n",
       " '    cnt_noise = random.randint(10, 20)\\n',\n",
       " '    width_im, height_im = size_im\\n',\n",
       " '    width_cha = int(width_im / max(nb_cha-overlap, 1)) # \\xe5\\xad\\x97\\xe7\\xac\\xa6\\xe5\\x8c\\xba\\xe5\\x9f\\x9f\\xe5\\xae\\xbd\\xe5\\xba\\xa6\\n',\n",
       " '    height_cha = height_im # \\xe5\\xad\\x97\\xe7\\xac\\xa6\\xe5\\x8c\\xba\\xe5\\x9f\\x9f\\xe9\\xab\\x98\\xe5\\xba\\xa6\\n',\n",
       " '    width_noise = width_im\\n',\n",
       " '    height_noise = height_im\\n',\n",
       " \"    bg_color = 'white'\\n\",\n",
       " \"    text_color = 'black'\\n\",\n",
       " '    derx = 0\\n',\n",
       " '    dery = 0\\n',\n",
       " '\\n',\n",
       " '    if rd_text_size:\\n',\n",
       " '        rate_cha = random.uniform(rate_cha-0.1, rate_cha+0.1) # to be tuned\\n',\n",
       " '    size_cha = int(rate_cha*min(width_cha, height_cha)) # \\xe5\\xad\\x97\\xe7\\xac\\xa6\\xe5\\xa4\\xa7\\xe5\\xb0\\x8f\\n',\n",
       " '    size_noise = int(rate_noise*height_noise) # \\xe5\\xad\\x97\\xe7\\xac\\xa6\\xe5\\xa4\\xa7\\xe5\\xb0\\x8f\\n',\n",
       " '    \\n',\n",
       " '    #if rd_bg_color:\\n',\n",
       " '        #bg_color = randRGB()\\n',\n",
       " '    bg_color = (random.randint(165, 176), random.randint(165, 176), random.randint(165, 176))\\n',\n",
       " \"    im = Image.new(mode='RGB', size=size_im, color=bg_color) # color \\xe8\\x83\\x8c\\xe6\\x99\\xaf\\xe9\\xa2\\x9c\\xe8\\x89\\xb2\\xef\\xbc\\x8csize \\xe5\\x9b\\xbe\\xe7\\x89\\x87\\xe5\\xa4\\xa7\\xe5\\xb0\\x8f\\n\",\n",
       " '\\n',\n",
       " '    drawer = ImageDraw.Draw(im)\\n',\n",
       " '    contents = []\\n',\n",
       " '    \\n',\n",
       " '    for i in range(cnt_noise):\\n',\n",
       " '        text_color = (random.randint(120, 140), random.randint(120, 140), random.randint(120, 140))\\n',\n",
       " '        #text_color = (random.randint(14, 50), random.randint(14, 50), random.randint(14, 50))\\n',\n",
       " '        \\n',\n",
       " '        derx = random.randint(0, max(width_noise-size_noise, 0))\\n',\n",
       " '        dery = random.randint(0, max(height_noise-size_noise, 0))\\n',\n",
       " '\\n',\n",
       " '        cha_noise = random.choice(set_cha)\\n',\n",
       " \"        font_noise = ImageFont.truetype(fonts['eng'], size_noise)\\n\",\n",
       " '        im_noise = cha_draw(cha_noise, text_color, font_noise, rotate, size_noise, max_angle=180)\\n',\n",
       " '        im.paste(im_noise, \\n',\n",
       " '                 (derx+random.randint(0, 10), dery++random.randint(0, 10)), \\n',\n",
       " '                 im_noise) # \\xe5\\xad\\x97\\xe7\\xac\\xa6\\xe5\\xb7\\xa6\\xe4\\xb8\\x8a\\xe8\\xa7\\x92\\xe4\\xbd\\x8d\\xe7\\xbd\\xae   \\n',\n",
       " '        \\n',\n",
       " '    for i in range(nb_cha):\\n',\n",
       " '        if rd_text_color:\\n',\n",
       " '            text_color = randRGB()\\n',\n",
       " '        if rd_text_pos:\\n',\n",
       " '            derx = random.randint(0, max(width_cha-size_cha-5, 0))\\n',\n",
       " '            dery = random.randint(0, max(height_cha-size_cha-5, 0))\\n',\n",
       " '\\n',\n",
       " '        # font = ImageFont.truetype(\"arial.ttf\", size_cha)\\n',\n",
       " '        cha = random.choice(set_cha)\\n',\n",
       " \"        font = ImageFont.truetype(fonts['eng'], size_cha)\\n\",\n",
       " '        contents.append(cha) \\n',\n",
       " '        im_cha = cha_draw(cha, text_color, font, rotate, size_cha)\\n',\n",
       " '        im.paste(im_cha, \\n',\n",
       " '                 (int(max(i-overlap, 0)*width_cha)+derx+random.randint(0, 10), dery++random.randint(0, 10)), \\n',\n",
       " '                 im_cha) # \\xe5\\xad\\x97\\xe7\\xac\\xa6\\xe5\\xb7\\xa6\\xe4\\xb8\\x8a\\xe8\\xa7\\x92\\xe4\\xbd\\x8d\\xe7\\xbd\\xae\\n',\n",
       " '        \\n',\n",
       " \"    if 'point' in noise:\\n\",\n",
       " '        nb_point = 30\\n',\n",
       " '        color_point = randRGB()\\n',\n",
       " '        for i in range(nb_point):\\n',\n",
       " '            x = random.randint(0, width_im)\\n',\n",
       " '            y = random.randint(0, height_im)\\n',\n",
       " '            drawer.point(xy=(x, y), fill=color_point)\\n',\n",
       " \"    if 'sin' in noise:\\n\",\n",
       " '        img = np.asarray(im)\\n',\n",
       " '        color_sine = randRGB()\\n',\n",
       " '        x = np.arange(0, width_im)\\n',\n",
       " '        y = sin(x, height_im)\\n',\n",
       " '        for k in range(4):\\n',\n",
       " '            for i, j in zip(x, y+k):\\n',\n",
       " '                if j >= 0 and j < height_im and all(img[j, i]==bg_color):\\n',\n",
       " '                    drawer.point(xy=(i, j), fill=color_sine)\\n',\n",
       " \"    if 'line' in noise:\\n\",\n",
       " '        nb_line = 10\\n',\n",
       " '        for i in range(nb_line):\\n',\n",
       " '            color_line = randRGB()\\n',\n",
       " '            sx = random.randint(0, width_im)\\n',\n",
       " '            sy = random.randint(0, height_im)\\n',\n",
       " '            ex = random.randint(0, width_im)\\n',\n",
       " '            ey = random.randint(0, height_im)\\n',\n",
       " '            drawer.line(xy=(sx, sy, ex, ey), fill=color_line)\\n',\n",
       " \"    if 'circle' in noise:\\n\",\n",
       " '        nb_circle = 5\\n',\n",
       " '        color_circle = randRGB()\\n',\n",
       " '        for i in range(nb_circle):\\n',\n",
       " '            sx = random.randint(0, width_im-50)\\n',\n",
       " '            sy = random.randint(0, height_im-20)\\n',\n",
       " '            ex = sx+random.randint(15, 25)\\n',\n",
       " '            ey = sy+random.randint(10, 15)\\n',\n",
       " '            drawer.arc((sx, sy, ex, ey), 0, 360, fill=color_circle)\\n',\n",
       " '            \\n',\n",
       " '    return np.asarray(im), contents\\n',\n",
       " '\\n',\n",
       " 'def captcha_generator(width, \\n',\n",
       " '                      height, \\n',\n",
       " '                      batch_size=64,\\n',\n",
       " '                      set_cha=chars\\n',\n",
       " '                      ):\\n',\n",
       " '    size_im = (width, height)\\n',\n",
       " '    overlaps = [0.0, 0.3, 0.6]\\n',\n",
       " '    rd_text_poss = [True, True]\\n',\n",
       " '    rd_text_sizes = [True, True]\\n',\n",
       " '    rd_text_colors = [True, True] # false \\xe4\\xbb\\xa3\\xe8\\xa1\\xa8\\xe5\\xad\\x97\\xe4\\xbd\\x93\\xe9\\xa2\\x9c\\xe8\\x89\\xb2\\xe5\\x85\\xa8\\xe4\\xb8\\x80\\xe8\\x87\\xb4\\xef\\xbc\\x8c\\xe4\\xbd\\x86\\xe9\\x83\\xbd\\xe6\\x98\\xaf\\xe9\\xbb\\x91\\xe8\\x89\\xb2\\n',\n",
       " '    rd_bg_color = True \\n',\n",
       " \"    noises = [['line', 'point', 'sin']]\\n\",\n",
       " '    rotates = [True, True]\\n',\n",
       " '    nb_chas = [4, 6]\\n',\n",
       " \"    font_dir = 'fonts/english'\\n\",\n",
       " '    font_paths = []\\n',\n",
       " '    for dirpath, dirnames, filenames in os.walk(font_dir):\\n',\n",
       " '        for filename in filenames:\\n',\n",
       " '            filepath = dirpath + os.sep + filename\\n',\n",
       " \"            font_paths.append({'eng':filepath})\\n\",\n",
       " '            \\n',\n",
       " '    n_len = 6\\n',\n",
       " '    n_class = len(set_cha)\\n',\n",
       " '    X = np.zeros((batch_size, height, width, 3), dtype=np.uint8)\\n',\n",
       " '    y = [np.zeros((batch_size, n_class), dtype=np.uint8) for i in range(n_len)]    \\n',\n",
       " '    while True:\\n',\n",
       " '        for i in range(batch_size):\\n',\n",
       " '            overlap = random.choice(overlaps)\\n',\n",
       " '            rd_text_pos = random.choice(rd_text_poss)\\n',\n",
       " '            rd_text_size = random.choice(rd_text_sizes)\\n',\n",
       " '            rd_text_color = random.choice(rd_text_colors)\\n',\n",
       " '            noise = random.choice(noises)\\n',\n",
       " '            rotate = random.choice(rotates)\\n',\n",
       " '            nb_cha = 6\\n',\n",
       " '            font_path = random.choice(font_paths)\\n',\n",
       " \"            dir_name = 'all'\\n\",\n",
       " \"            dir_path = 'img_data/'+dir_name+'/'\\n\",\n",
       " '            im, contents = captcha_draw(size_im=size_im, nb_cha=nb_cha, set_cha=set_cha, \\n',\n",
       " '                                        overlap=overlap, rd_text_pos=rd_text_pos, rd_text_size=False, \\n',\n",
       " '                                        rd_text_color=rd_text_color, rd_bg_color=rd_bg_color, noise=noise, \\n',\n",
       " '                                        rotate=rotate, dir_path=dir_path, fonts=font_path)\\n',\n",
       " \"            contents = ''.join(contents)\\n\",\n",
       " '            X[i] = im\\n',\n",
       " '            for j, ch in enumerate(contents):\\n',\n",
       " '                y[j][i, :] = 0\\n',\n",
       " '                y[j][i, set_cha.find(ch)] = 1\\n',\n",
       " '        yield X, y  \\n',\n",
       " '        \\n',\n",
       " '#----------------------------------------------------------------------\\n',\n",
       " 'def captcha_save():\\n',\n",
       " '    \"\"\"\"\"\"\\n',\n",
       " '    a = captcha_generator(140, 44)\\n',\n",
       " \"    dir_path = 'img_data/all/'\\n\",\n",
       " '    X, y = a.next()\\n',\n",
       " '    for x in X:\\n',\n",
       " '        if os.path.exists(dir_path) == False: # \\xe5\\xa6\\x82\\xe6\\x9e\\x9c\\xe6\\x96\\x87\\xe4\\xbb\\xb6\\xe5\\xa4\\xb9\\xe4\\xb8\\x8d\\xe5\\xad\\x98\\xe5\\x9c\\xa8\\xef\\xbc\\x8c\\xe5\\x88\\x99\\xe5\\x88\\x9b\\xe5\\xbb\\xba\\xe5\\xaf\\xb9\\xe5\\xba\\x94\\xe7\\x9a\\x84\\xe6\\x96\\x87\\xe4\\xbb\\xb6\\xe5\\xa4\\xb9\\n',\n",
       " '            os.makedirs(dir_path)\\n',\n",
       " '            pic_id = 1\\n',\n",
       " '        else:\\n',\n",
       " \"            pic_names = map(lambda x: x.split('.')[0], os.listdir(dir_path))\\n\",\n",
       " \"            #pic_names.remove('label')\\n\",\n",
       " '            pic_id = max(map(int, pic_names))+1 # \\xe6\\x89\\xbe\\xe5\\x88\\xb0\\xe6\\x89\\x80\\xe6\\x9c\\x89\\xe5\\x9b\\xbe\\xe7\\x89\\x87\\xe7\\x9a\\x84\\xe6\\x9c\\x80\\xe5\\xa4\\xa7\\xe6\\xa0\\x87\\xe5\\x8f\\xb7\\xef\\xbc\\x8c\\xe6\\x96\\xb9\\xe4\\xbe\\xbf\\xe5\\x91\\xbd\\xe5\\x90\\x8d\\n',\n",
       " '    \\n',\n",
       " \"        img_name = str(pic_id) + '.jpg'\\n\",\n",
       " '        img_path = dir_path + img_name\\n',\n",
       " \"        label_path = dir_path + 'label.txt'\\n\",\n",
       " \"        #with open(label_path, 'a') as f:\\n\",\n",
       " \"            #f.write(''.join(pic_id)+'\\\\n') # \\xe5\\x9c\\xa8label\\xe6\\x96\\x87\\xe4\\xbb\\xb6\\xe6\\x9c\\xab\\xe5\\xb0\\xbe\\xe6\\xb7\\xbb\\xe5\\x8a\\xa0\\xe6\\x96\\xb0\\xe5\\x9b\\xbe\\xe7\\x89\\x87\\xe7\\x9a\\x84text\\xe5\\x86\\x85\\xe5\\xae\\xb9\\n\",\n",
       " '        print img_path\\n',\n",
       " '        img = Image.fromarray(np.uint8(x))\\n',\n",
       " '        img.save(img_path)            \\n',\n",
       " '\\n',\n",
       " 'if __name__ == \"__main__\":\\n',\n",
       " '    # test()\\n',\n",
       " '    #captcha_generator(140, 44)\\n',\n",
       " '    for _ in range(100):\\n',\n",
       " '        captcha_save()\\n']"
      ]
     },
     "execution_count": 5,
     "metadata": {},
     "output_type": "execute_result"
    }
   ],
   "source": [
    "lines"
   ]
  },
  {
   "cell_type": "code",
   "execution_count": 6,
   "metadata": {
    "collapsed": false
   },
   "outputs": [
    {
     "data": {
      "text/plain": [
       "list"
      ]
     },
     "execution_count": 6,
     "metadata": {},
     "output_type": "execute_result"
    }
   ],
   "source": [
    "type(lines)"
   ]
  },
  {
   "cell_type": "code",
   "execution_count": 15,
   "metadata": {
    "collapsed": true
   },
   "outputs": [],
   "source": [
    "with open('savetest.py', 'wb') as f:\n",
    "    f.writelines(lines)"
   ]
  },
  {
   "cell_type": "code",
   "execution_count": 16,
   "metadata": {
    "collapsed": false
   },
   "outputs": [
    {
     "name": "stdout",
     "output_type": "stream",
     "text": [
      "#coding:utf-8\r\n",
      "import random\r\n",
      "import os\r\n",
      "from itertools import product\r\n",
      "from PIL import Image, ImageDraw, ImageFont\r\n",
      "import cv2\r\n",
      "import numpy as np\r\n",
      "\r\n",
      "\"\"\"\r\n",
      "基本：\r\n",
      "1 图片size\r\n",
      "2 字符个数\r\n",
      "3 字符区域（重叠、等分）\r\n",
      "4 字符位置（固定、随机）\r\n",
      "5 字符size（所占区域大小的百分比）\r\n",
      "6 字符fonts\r\n",
      "7 字符 type （数字、字母、汉字、数学符号）\r\n",
      "8 字符颜色\r\n",
      "9 背景颜色\r\n",
      "\r\n",
      "高级：\r\n",
      "10 字符旋转\r\n",
      "11 字符扭曲\r\n",
      "12 噪音（点、线段、圈）\r\n",
      "\"\"\"\r\n",
      "chars = \"0123456789ABCDEFGHIJKLMNOPQRSTUVWXYZabdefghijlmnqrtuwxy\"\r\n",
      "\r\n",
      "def decode(y):\r\n",
      "    y = np.argmax(np.array(y), axis=2)[:,0]\r\n",
      "    return ''.join([chars[x] for x in y])\r\n",
      "\r\n",
      "#----------------------------------------------------------------------\r\n",
      "def sin(x, height):\r\n",
      "    \"\"\"\"\"\"\r\n",
      "    a = float(random.choice([5, 12, 24, 48, 128]))\r\n",
      "    d = random.choice([2, 4])\r\n",
      "    c = random.randint(1, 100)\r\n",
      "    b = 2 * random.random()\r\n",
      "    return np.array(map(int, height / d * (np.sin((x+c)/a) + b)))\r\n",
      "\r\n",
      "def randRGB():\r\n",
      "    return (random.randint(40, 110), random.randint(40, 110), random.randint(40, 110))\r\n",
      "\r\n",
      "def cha_draw(cha, text_color, font, rotate,size_cha, max_angle=45):\r\n",
      "    im = Image.new(mode='RGBA', size=(size_cha*2, size_cha*2))\r\n",
      "    drawer = ImageDraw.Draw(im) \r\n",
      "    drawer.text(xy=(0, 0), text=cha, fill=text_color, font=font) #text 内容，fill 颜色， font 字体（包括大小）\r\n",
      "    if rotate:\r\n",
      "        #max_angle = 45 # to be tuned\r\n",
      "        angle = random.randint(-max_angle, max_angle)\r\n",
      "        im = im.rotate(angle, Image.BILINEAR, expand=1)\r\n",
      "    im = im.crop(im.getbbox())\r\n",
      "    return im\r\n",
      "\r\n",
      "def captcha_draw(size_im, nb_cha, set_cha, fonts=None, overlap=0.1, \r\n",
      "        rd_bg_color=False, rd_text_color=False, rd_text_pos=False, rd_text_size=False,\r\n",
      "        rotate=False, noise=None, dir_path=''):\r\n",
      "    \"\"\"\r\n",
      "        overlap: 字符之间区域可重叠百分比, 重叠效果和图片宽度字符宽度有关\r\n",
      "        字体大小 目前长宽认为一致！！！\r\n",
      "        所有字大小一致\r\n",
      "        扭曲暂未实现\r\n",
      "        noise 可选：point, line , circle\r\n",
      "        fonts 中分中文和英文字体\r\n",
      "        label全保存在label.txt 中，文件第i行对应\"i.jpg\"的图片标签，i从1开始\r\n",
      "    \"\"\"\r\n",
      "    rate_cha = 1.3 # rate to be tuned\r\n",
      "    rate_noise = 0.25 # rate of noise\r\n",
      "    cnt_noise = random.randint(10, 20)\r\n",
      "    width_im, height_im = size_im\r\n",
      "    width_cha = int(width_im / max(nb_cha-overlap, 1)) # 字符区域宽度\r\n",
      "    height_cha = height_im # 字符区域高度\r\n",
      "    width_noise = width_im\r\n",
      "    height_noise = height_im\r\n",
      "    bg_color = 'white'\r\n",
      "    text_color = 'black'\r\n",
      "    derx = 0\r\n",
      "    dery = 0\r\n",
      "\r\n",
      "    if rd_text_size:\r\n",
      "        rate_cha = random.uniform(rate_cha-0.1, rate_cha+0.1) # to be tuned\r\n",
      "    size_cha = int(rate_cha*min(width_cha, height_cha)) # 字符大小\r\n",
      "    size_noise = int(rate_noise*height_noise) # 字符大小\r\n",
      "    \r\n",
      "    #if rd_bg_color:\r\n",
      "        #bg_color = randRGB()\r\n",
      "    bg_color = (random.randint(165, 176), random.randint(165, 176), random.randint(165, 176))\r\n",
      "    im = Image.new(mode='RGB', size=size_im, color=bg_color) # color 背景颜色，size 图片大小\r\n",
      "\r\n",
      "    drawer = ImageDraw.Draw(im)\r\n",
      "    contents = []\r\n",
      "    \r\n",
      "    for i in range(cnt_noise):\r\n",
      "        text_color = (random.randint(120, 140), random.randint(120, 140), random.randint(120, 140))\r\n",
      "        #text_color = (random.randint(14, 50), random.randint(14, 50), random.randint(14, 50))\r\n",
      "        \r\n",
      "        derx = random.randint(0, max(width_noise-size_noise, 0))\r\n",
      "        dery = random.randint(0, max(height_noise-size_noise, 0))\r\n",
      "\r\n",
      "        cha_noise = random.choice(set_cha)\r\n",
      "        font_noise = ImageFont.truetype(fonts['eng'], size_noise)\r\n",
      "        im_noise = cha_draw(cha_noise, text_color, font_noise, rotate, size_noise, max_angle=180)\r\n",
      "        im.paste(im_noise, \r\n",
      "                 (derx+random.randint(0, 10), dery++random.randint(0, 10)), \r\n",
      "                 im_noise) # 字符左上角位置   \r\n",
      "        \r\n",
      "    for i in range(nb_cha):\r\n",
      "        if rd_text_color:\r\n",
      "            text_color = randRGB()\r\n",
      "        if rd_text_pos:\r\n",
      "            derx = random.randint(0, max(width_cha-size_cha-5, 0))\r\n",
      "            dery = random.randint(0, max(height_cha-size_cha-5, 0))\r\n",
      "\r\n",
      "        # font = ImageFont.truetype(\"arial.ttf\", size_cha)\r\n",
      "        cha = random.choice(set_cha)\r\n",
      "        font = ImageFont.truetype(fonts['eng'], size_cha)\r\n",
      "        contents.append(cha) \r\n",
      "        im_cha = cha_draw(cha, text_color, font, rotate, size_cha)\r\n",
      "        im.paste(im_cha, \r\n",
      "                 (int(max(i-overlap, 0)*width_cha)+derx+random.randint(0, 10), dery++random.randint(0, 10)), \r\n",
      "                 im_cha) # 字符左上角位置\r\n",
      "        \r\n",
      "    if 'point' in noise:\r\n",
      "        nb_point = 30\r\n",
      "        color_point = randRGB()\r\n",
      "        for i in range(nb_point):\r\n",
      "            x = random.randint(0, width_im)\r\n",
      "            y = random.randint(0, height_im)\r\n",
      "            drawer.point(xy=(x, y), fill=color_point)\r\n",
      "    if 'sin' in noise:\r\n",
      "        img = np.asarray(im)\r\n",
      "        color_sine = randRGB()\r\n",
      "        x = np.arange(0, width_im)\r\n",
      "        y = sin(x, height_im)\r\n",
      "        for k in range(4):\r\n",
      "            for i, j in zip(x, y+k):\r\n",
      "                if j >= 0 and j < height_im and all(img[j, i]==bg_color):\r\n",
      "                    drawer.point(xy=(i, j), fill=color_sine)\r\n",
      "    if 'line' in noise:\r\n",
      "        nb_line = 10\r\n",
      "        for i in range(nb_line):\r\n",
      "            color_line = randRGB()\r\n",
      "            sx = random.randint(0, width_im)\r\n",
      "            sy = random.randint(0, height_im)\r\n",
      "            ex = random.randint(0, width_im)\r\n",
      "            ey = random.randint(0, height_im)\r\n",
      "            drawer.line(xy=(sx, sy, ex, ey), fill=color_line)\r\n",
      "    if 'circle' in noise:\r\n",
      "        nb_circle = 5\r\n",
      "        color_circle = randRGB()\r\n",
      "        for i in range(nb_circle):\r\n",
      "            sx = random.randint(0, width_im-50)\r\n",
      "            sy = random.randint(0, height_im-20)\r\n",
      "            ex = sx+random.randint(15, 25)\r\n",
      "            ey = sy+random.randint(10, 15)\r\n",
      "            drawer.arc((sx, sy, ex, ey), 0, 360, fill=color_circle)\r\n",
      "            \r\n",
      "    return np.asarray(im), contents\r\n",
      "\r\n",
      "def captcha_generator(width, \r\n",
      "                      height, \r\n",
      "                      batch_size=64,\r\n",
      "                      set_cha=chars\r\n",
      "                      ):\r\n",
      "    size_im = (width, height)\r\n",
      "    overlaps = [0.0, 0.3, 0.6]\r\n",
      "    rd_text_poss = [True, True]\r\n",
      "    rd_text_sizes = [True, True]\r\n",
      "    rd_text_colors = [True, True] # false 代表字体颜色全一致，但都是黑色\r\n",
      "    rd_bg_color = True \r\n",
      "    noises = [['line', 'point', 'sin']]\r\n",
      "    rotates = [True, True]\r\n",
      "    nb_chas = [4, 6]\r\n",
      "    font_dir = 'fonts/english'\r\n",
      "    font_paths = []\r\n",
      "    for dirpath, dirnames, filenames in os.walk(font_dir):\r\n",
      "        for filename in filenames:\r\n",
      "            filepath = dirpath + os.sep + filename\r\n",
      "            font_paths.append({'eng':filepath})\r\n",
      "            \r\n",
      "    n_len = 6\r\n",
      "    n_class = len(set_cha)\r\n",
      "    X = np.zeros((batch_size, height, width, 3), dtype=np.uint8)\r\n",
      "    y = [np.zeros((batch_size, n_class), dtype=np.uint8) for i in range(n_len)]    \r\n",
      "    while True:\r\n",
      "        for i in range(batch_size):\r\n",
      "            overlap = random.choice(overlaps)\r\n",
      "            rd_text_pos = random.choice(rd_text_poss)\r\n",
      "            rd_text_size = random.choice(rd_text_sizes)\r\n",
      "            rd_text_color = random.choice(rd_text_colors)\r\n",
      "            noise = random.choice(noises)\r\n",
      "            rotate = random.choice(rotates)\r\n",
      "            nb_cha = 6\r\n",
      "            font_path = random.choice(font_paths)\r\n",
      "            dir_name = 'all'\r\n",
      "            dir_path = 'img_data/'+dir_name+'/'\r\n",
      "            im, contents = captcha_draw(size_im=size_im, nb_cha=nb_cha, set_cha=set_cha, \r\n",
      "                                        overlap=overlap, rd_text_pos=rd_text_pos, rd_text_size=False, \r\n",
      "                                        rd_text_color=rd_text_color, rd_bg_color=rd_bg_color, noise=noise, \r\n",
      "                                        rotate=rotate, dir_path=dir_path, fonts=font_path)\r\n",
      "            contents = ''.join(contents)\r\n",
      "            X[i] = im\r\n",
      "            for j, ch in enumerate(contents):\r\n",
      "                y[j][i, :] = 0\r\n",
      "                y[j][i, set_cha.find(ch)] = 1\r\n",
      "        yield X, y  \r\n",
      "        \r\n",
      "#----------------------------------------------------------------------\r\n",
      "def captcha_save():\r\n",
      "    \"\"\"\"\"\"\r\n",
      "    a = captcha_generator(140, 44)\r\n",
      "    dir_path = 'img_data/all/'\r\n",
      "    X, y = a.next()\r\n",
      "    for x in X:\r\n",
      "        if os.path.exists(dir_path) == False: # 如果文件夹不存在，则创建对应的文件夹\r\n",
      "            os.makedirs(dir_path)\r\n",
      "            pic_id = 1\r\n",
      "        else:\r\n",
      "            pic_names = map(lambda x: x.split('.')[0], os.listdir(dir_path))\r\n",
      "            #pic_names.remove('label')\r\n",
      "            pic_id = max(map(int, pic_names))+1 # 找到所有图片的最大标号，方便命名\r\n",
      "    \r\n",
      "        img_name = str(pic_id) + '.jpg'\r\n",
      "        img_path = dir_path + img_name\r\n",
      "        label_path = dir_path + 'label.txt'\r\n",
      "        #with open(label_path, 'a') as f:\r\n",
      "            #f.write(''.join(pic_id)+'\\n') # 在label文件末尾添加新图片的text内容\r\n",
      "        print img_path\r\n",
      "        img = Image.fromarray(np.uint8(x))\r\n",
      "        img.save(img_path)            \r\n",
      "\r\n",
      "if __name__ == \"__main__\":\r\n",
      "    # test()\r\n",
      "    #captcha_generator(140, 44)\r\n",
      "    for _ in range(100):\r\n",
      "        captcha_save()\r\n"
     ]
    }
   ],
   "source": [
    "!cat savetest.py"
   ]
  },
  {
   "cell_type": "code",
   "execution_count": 17,
   "metadata": {
    "collapsed": true
   },
   "outputs": [],
   "source": [
    "data = {}\n",
    "data['file'] = lines"
   ]
  },
  {
   "cell_type": "code",
   "execution_count": null,
   "metadata": {
    "collapsed": true
   },
   "outputs": [],
   "source": [
    "request = urllib2.Request('http://ec2-13-124-101-233.ap-northeast-2.compute.amazonaws.com:8004' + '/api/submit')"
   ]
  },
  {
   "cell_type": "code",
   "execution_count": null,
   "metadata": {
    "collapsed": true
   },
   "outputs": [],
   "source": [
    "request.add_header('Content-Type', 'application/json')"
   ]
  },
  {
   "cell_type": "code",
   "execution_count": null,
   "metadata": {
    "collapsed": false
   },
   "outputs": [],
   "source": [
    "urllib2.urlopen(request, json.dumps(data))"
   ]
  },
  {
   "cell_type": "code",
   "execution_count": null,
   "metadata": {
    "collapsed": false,
    "scrolled": true
   },
   "outputs": [],
   "source": [
    "json.dumps(data)"
   ]
  },
  {
   "cell_type": "code",
   "execution_count": null,
   "metadata": {
    "collapsed": false
   },
   "outputs": [],
   "source": [
    "lines"
   ]
  },
  {
   "cell_type": "code",
   "execution_count": null,
   "metadata": {
    "collapsed": false
   },
   "outputs": [],
   "source": [
    "d = json.dumps(data)"
   ]
  },
  {
   "cell_type": "code",
   "execution_count": null,
   "metadata": {
    "collapsed": false
   },
   "outputs": [],
   "source": [
    "json.loads(d)"
   ]
  },
  {
   "cell_type": "code",
   "execution_count": null,
   "metadata": {
    "collapsed": true
   },
   "outputs": [],
   "source": []
  }
 ],
 "metadata": {
  "kernelspec": {
   "display_name": "Python 2",
   "language": "python",
   "name": "python2"
  },
  "language_info": {
   "codemirror_mode": {
    "name": "ipython",
    "version": 2
   },
   "file_extension": ".py",
   "mimetype": "text/x-python",
   "name": "python",
   "nbconvert_exporter": "python",
   "pygments_lexer": "ipython2",
   "version": "2.7.13"
  }
 },
 "nbformat": 4,
 "nbformat_minor": 2
}
